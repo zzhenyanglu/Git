{
 "cells": [
  {
   "cell_type": "markdown",
   "metadata": {},
   "source": [
    "# MPCS 58020 - Homework 3 \n",
    "\n",
    "Name: Zhenyang Lu \n",
    "    \n",
    "    \n",
    "# Question 1\n",
    "\n",
    "(1) \n",
    "\n",
    "according to formula (3.6) in P85 in textbook, \n",
    "\n",
    "$x_t = \\sum_{i=0}^\\infty \\phi^j \\omega_{t-j}$ . \n",
    "\n",
    "So $E(x_t) = E(\\sum_{i=0}^\\infty \\phi^j \\omega_{t-j})$, because each $E(\\omega_{t-j})=0$, thus  \n",
    "\n",
    "$E(x_t) = E(\\sum_{i=0}^\\infty \\phi^j *0)=0$\n",
    "\n",
    "\n",
    "\n",
    "$\\gamma_x(h) = cov(x_{t+h},x_t) = cov(-\\sum_{j=1}^\\infty \\phi^{-j}\\omega_{t+h+j},-\\sum_{k=1}^\\infty \\phi^{-k}\\omega_{t+k}) = cov(\\phi^{-1}\\omega_{t+h+1},\\phi^{-1}\\omega_{t+1}) = cov(\\phi^{-2}\\omega_{t+h+2},\\phi^{-2}\\omega_{t+2})+...... +cov(\\phi^{-\\infty}\\omega_{t+h+\\infty},\\phi^{-\\infty}\\omega_{t+\\infty}) = \\phi^{-2}* cov(\\omega_{t+h+1},\\omega_{t+1}) + \\phi^{-2}* cov(\\omega_{t+h+2},\\omega_{t+2})...... = \\sigma_{\\omega}^2 *\\sum^\\infty_{j=1}\\phi^{j+h}*\\phi^{j} = \\frac{\\omega^2*\\phi^{-2}*\\phi^{-h}}{1-\\phi^{-2}}$\n",
    "\n",
    "Notice that this equation is very similar to formula (3.7) in textbook, P86. the difference is that first the two coefficient: $\\omega^{-j}$ and  $\\omega^{-k}$ get a negative sign and second within the two summation spread out by $x_t$, subscript i and l starts with 1, rather than 0, resulting a $\\phi^{-2}*\\phi^{-h}$ that can be taken out as a common term throughout the calculation of covariance, and the denominator should be $1-\\phi^{-2}$ rather than $1-\\phi^{2}$.\n",
    "\n",
    "(b) \n",
    "\n",
    "according to formula (3.6). \n",
    "\n",
    "$y_t = \\sum_{i=0}^\\infty \\phi^{-j}*v_{t-j}$.\n",
    "\n",
    "So $E(y_t) = 0$, because E(v) = 0. \n",
    "\n",
    "$\\gamma_y(h) = cov(y_{t+h},y_t) = cov(-\\sum_{j=1}^\\infty \\phi^{j}\\omega_{t+h+j},-\\sum_{k=1}^\\infty \\phi^{k}\\omega_{t+k}) =\\frac{\\omega^2*\\phi^{2}*\\phi^{h}}{1-\\phi^{2}} $, \n",
    "\n",
    "which is the same as the property of $x_t$, if you use $\\phi^{-1}$ . \n",
    "\n",
    "Because $y_t$ does not depend on future value. So it's causal as well. "
   ]
  },
  {
   "cell_type": "markdown",
   "metadata": {},
   "source": [
    "# Question 2 \n",
    "\n",
    "(1) \n",
    "\n",
    "Getting rid of redundancy, the original model can be written as: \n",
    "$(1-0.5B) X_t = \\omega_t$, \n",
    "\n",
    "so $\\phi(z) = 1-0.5z $ and \n",
    "\n",
    "$ \\theta(z) = 1$. \n",
    "\n",
    "This model is causal because when $\\phi(z)=0$, z = 2. \n",
    "this model is invertible because $ \\theta(z) $ is always not equal to 0. \n",
    "\n",
    "(2) \n",
    "\n",
    "$\\phi(z) = 1-z+0.5*z^2$\n",
    "\n",
    "$\\theta(z) = 1-z$\n",
    "\n",
    "which does not contain redundancy. \n",
    "\n",
    "This model is causal because $\\phi(z)$ is always larger than 0. \n",
    "\n",
    "This model is not invertible because $\\theta(z)$ equals to 0, when z = 1. \n"
   ]
  },
  {
   "cell_type": "markdown",
   "metadata": {},
   "source": [
    "# Question 3\n",
    "\n",
    "Rearranging the original model, we get:\n",
    "\n",
    "$x_t + 0.9x_{t-2} - \\omega_t $, whose characteristic equations is $0.9z^2 + 1 = 0$. This equation has complex characteristic root, +1.05i,-1.05i. \n",
    "\n",
    "whose general solutions is: \n",
    "\n",
    "$x_n = c_1*(1.05i)^{-n} + c_2*(-1.05i)^{-n}$\n",
    "\n",
    "Multiple each side of the model by $x_{t-h}$ and take expectation, we have: \n",
    "\n",
    "$ E(x_t*x_{t-h} = -0.9E(x_{t-2}*x_{t-h}) + 0$  So, \n",
    "\n",
    "$\\gamma(h) = -0.9\\gamma(h-1)$ whose difference equation:  \n",
    "\n",
    "$\\rho(h) + 0.9\\rho(h-1) =0$, h = 1,2,...\n",
    "\n",
    "According to part 1, the solution to the above equation is $\\rho(h) =  \\overline c_1*\\overline z_1^{-h} + \\overline c_2*\\overline z_2^{-h}$\n",
    "\n",
    "\n",
    "Plotting of ACF is given below: \n",
    "\n",
    "initial conditions: \n",
    "\n",
    "$\\rho(0) = 1 $\n",
    "\n",
    "$\\rho(1) =  \\frac{\\phi_1}{1-\\phi_2} = 0$\n",
    "\n",
    "The rest will be given by the following function:"
   ]
  },
  {
   "cell_type": "code",
   "execution_count": 784,
   "metadata": {
    "collapsed": false
   },
   "outputs": [
    {
     "data": {
      "image/png": "[encoded data removed]",
      "text/plain": [
       "<matplotlib.figure.Figure at 0x1027a8105c0>"
      ]
     },
     "metadata": {},
     "output_type": "display_data"
    }
   ],
   "source": [
    "# Question 3 Plotting: \n",
    "# initial_condition: a list that contains \n",
    "# pho_0 and pho_1, however many initial condition \n",
    "# you want.  \n",
    "import numpy as np\n",
    "import matplotlib.pyplot as plt\n",
    "\n",
    "def sequence(initial_condition,function,num_seq):\n",
    "    # contains ACF sequence\n",
    "    sequence = []\n",
    "    \n",
    "    for i in initial_condition:\n",
    "        sequence.append(i)\n",
    "    \n",
    "    for i in range(num_seq):\n",
    "        sequence.append(funct(sequence[i-1],sequence[i-2]))\n",
    "    \n",
    "    return sequence\n",
    "    \n",
    "# the time series sequence\n",
    "# x1, x2 are x_{t-1} and x_{t-2}\n",
    "def funct(x1,x2):\n",
    "    return 0*x1-0.9*x2\n",
    "\n",
    "#a is a sequence\n",
    "a = sequence([1,0],funct,num_seq=20)\n",
    "    \n",
    "plt.plot(a)\n",
    "plt.show()"
   ]
  },
  {
   "cell_type": "markdown",
   "metadata": {},
   "source": [
    "# Question 4\n",
    "\n",
    "I will use the normal equation from last homework for this quesiton. Please keep in mind that there is no intercept term for the model.\n",
    "\n",
    "Notice that the result given below should be close to the result given by the following R code, which is 0.4930  0.5056: \n",
    "coef(arima(cmort,order=c(2,0,0),include.mean = FALSE))\n",
    "\n",
    "Notice: instead of 95% predict intervals, I'm giving the standard error of coefficient and the standard error of the two coefficient given by R are (0.0382  0.0383) "
   ]
  },
  {
   "cell_type": "code",
   "execution_count": 792,
   "metadata": {
    "collapsed": false
   },
   "outputs": [
    {
     "name": "stdout",
     "output_type": "stream",
     "text": [
      "coefficients returned by Linear Regression: \n",
      "[ 0.49256377  0.50644756]\n",
      "standard error of coefficients returned by Linear Regression: \n",
      "0.0384429759542 \n",
      "\n",
      "coefficients returned by R package: \n",
      "[0.4930  0.5056]\n",
      "standard error of coefficients returned by R package: \n",
      "0.0382\n",
      "\n",
      "Forecast:\n",
      "1 period ahead prediction: 87.4008817417\n",
      "2 period ahead prediction: 86.3467094646\n",
      "3 period ahead prediction: 86.7952237921\n",
      "4 period ahead prediction: 86.4822627213\n"
     ]
    }
   ],
   "source": [
    "# PART(A)\n",
    "\n",
    "# raw data\n",
    "cmort = np.loadtxt(\"C:\\\\Users\\\\zheny\\\\Dropbox\\\\courses\\\\timeseries (58020)\\\\lecture4\\\\cmort_series.txt\")\n",
    "\n",
    "# dependent variables, which is x_t\n",
    "x = cmort[:-2]\n",
    "\n",
    "z_0 = cmort[1:-1]\n",
    "z_1 = cmort[2:]\n",
    "z_0 = np.array([z_0]).T\n",
    "z_1 = np.array([z_1]).T\n",
    "\n",
    "# independent variables, which is x_{t-1} and x_{t-2}\n",
    "z = np.concatenate((z_0,z_1),axis=1)\n",
    "\n",
    "# z is independent variables\n",
    "# x is dependent variables\n",
    "\n",
    "\n",
    "def linear_regression(z,x):\n",
    "\n",
    "    # this is the coefficient of AR(2) model\n",
    "    coefficient = np.dot(np.dot(np.linalg.inv(np.dot(z.transpose(),z)),z.transpose()),x)\n",
    "    \n",
    "    # formular(2.8)\n",
    "    z_t_z_inv = np.linalg.inv(np.dot(z.T,z))\n",
    "    x_t_z_z_t_z_inv_z_t=np.dot(np.dot(x.T,z),z_t_z_inv)\n",
    "    \n",
    "    sse = np.dot(x.T,x)-np.dot(np.dot(x_t_z_z_t_z_inv_z_t,z.T),x)\n",
    "    mse = sse/(z.shape[0]-z.shape[1])\n",
    "    \n",
    "    return coefficient, mse*np.linalg.inv(np.dot(z.T,z))[0][0]\n",
    "\n",
    "\n",
    "# PART(B) # PART(B) # PART(B) # PART(B)\n",
    "\n",
    "# call the function\n",
    "coef,var = linear_regression(z,x)\n",
    "\n",
    "print(\"coefficients returned by Linear Regression: \")\n",
    "print(coef)\n",
    "print(\"standard error of coefficients returned by Linear Regression: \")\n",
    "print(np.sqrt(var),\"\\n\")\n",
    "print(\"coefficients returned by R package: \")\n",
    "print(\"[0.4930  0.5056]\")\n",
    "print(\"standard error of coefficients returned by R package: \")\n",
    "print(\"0.0382\\n\")\n",
    "# Prediction is based on formular(3.65) and (3.66)\n",
    "\n",
    "# prediction m = 1 \n",
    "predict_m_1 = np.dot([cmort[-1],cmort[-2]],coef)\n",
    "# prediction m = 2\n",
    "predict_m_2 =  np.dot([predict_m_1,cmort[-1]],coef)\n",
    "# prediction m = 3\n",
    "predict_m_3 =  np.dot([predict_m_2,predict_m_1],coef)\n",
    "# prediction m = 4\n",
    "predict_m_4 =  np.dot([predict_m_3,predict_m_2],coef)\n",
    "\n",
    "print(\"Forecast:\")\n",
    "print(\"1 period ahead prediction:\",predict_m_1)\n",
    "print(\"2 period ahead prediction:\",predict_m_2)\n",
    "print(\"3 period ahead prediction:\",predict_m_3)\n",
    "print(\"4 period ahead prediction:\",predict_m_4)"
   ]
  },
  {
   "cell_type": "markdown",
   "metadata": {},
   "source": [
    "# Question 5\n",
    "\n",
    "Let me first define a function that returns yule-walker coefficient and variance of yule-walker coefficient. "
   ]
  },
  {
   "cell_type": "code",
   "execution_count": 793,
   "metadata": {
    "collapsed": false
   },
   "outputs": [],
   "source": [
    "# Question 5 \n",
    "# PART (a)\n",
    "\n",
    "# home cooked acf function\n",
    "# acf function, return autocorrelation\n",
    "# series is your time series data\n",
    "# h is number of lag\n",
    "\n",
    "# result has been tested against R\n",
    "def acf(series, h):\n",
    "    \n",
    "    series_mean = series.mean()\n",
    "    r_0 = series.var()    \n",
    "    return sum((series[h:]-series_mean)*(series[:len(series)-h]-series_mean))/(len(series))/series.var()\n",
    "\n",
    "# this function return a p*1 vector\n",
    "# which contains coefficients \n",
    "# AR(p) model, p is the term of AR models\n",
    "\n",
    "def yule_walker(series,p):\n",
    "\n",
    "    # ACF matrix(R_hat in formula (3.102) in textbook): \n",
    "    acf_matrix = np.zeros([p,p])\n",
    "    acf_vector = np.zeros([p])\n",
    "    \n",
    "    for i in range(1,p+1):\n",
    "        for j in range(1,p+1):\n",
    "            acf_matrix[i-1][j-1]=(acf(series,np.abs(j-i)))\n",
    "\n",
    "    for i in range(p):\n",
    "        acf_vector[i]=(acf(series,i+1))\n",
    "    \n",
    "    # coefficient = \\tao^(-1)*\\gamma\n",
    "    coefficient =np.dot(np.linalg.inv(acf_matrix),acf_vector)\n",
    "    \n",
    "    var = series.var()*(1-np.dot(acf_vector,coefficient)) \n",
    "    covar_matrix = (1.0/len(series))*(var/series.var())*np.linalg.inv(acf_matrix)\n",
    "         \n",
    "    return coefficient,covar_matrix[0][0]\n",
    "    "
   ]
  },
  {
   "cell_type": "markdown",
   "metadata": {},
   "source": [
    "So Let's try to call that function.\n",
    "Below you will find the outputs from both linear_regression() and yule_walker() "
   ]
  },
  {
   "cell_type": "code",
   "execution_count": 794,
   "metadata": {
    "collapsed": false
   },
   "outputs": [
    {
     "name": "stdout",
     "output_type": "stream",
     "text": [
      "0.00159158770097\n",
      "coefficients returned by Yule-Walker: \n",
      "coefficients   std error :\n",
      "0.433948113266 0.0398947076812\n",
      "0.437576790869 0.0398947076812\n",
      "\n",
      "\n",
      "coefficients returned by Linear Regression: \n",
      "coefficients   std error :\n",
      "0.492563767119 0.0384429759542\n",
      "0.506447559999 0.0384429759542\n"
     ]
    }
   ],
   "source": [
    "# try a AR(2) model with cmort data\n",
    "\n",
    "# raw data\n",
    "cmort = np.loadtxt(\"C:\\\\Users\\\\zheny\\\\Dropbox\\\\courses\\\\timeseries (58020)\\\\lecture4\\\\cmort_series.txt\")\n",
    "\n",
    "# call yule_walker function\n",
    "coef, var= yule_walker(cmort,2)\n",
    "\n",
    "# call linear regression function \n",
    "coef_linear,var_linear = linear_regression(z,x)\n",
    "print(var)\n",
    "print(\"coefficients returned by Yule-Walker: \")\n",
    "print(\"coefficients   std error :\")\n",
    "print(coef[0],np.sqrt(var))\n",
    "print(coef[1],np.sqrt(var))\n",
    "print(\"\\n\")\n",
    "print(\"coefficients returned by Linear Regression: \")\n",
    "print(\"coefficients   std error :\")\n",
    "print(coef_linear[0],np.sqrt(var_linear))\n",
    "print(coef_linear[1],np.sqrt(var_linear))"
   ]
  },
  {
   "cell_type": "markdown",
   "metadata": {},
   "source": [
    "# Question 6\n",
    "\n",
    "simulate_once returns a simulated ARMA sequence."
   ]
  },
  {
   "cell_type": "code",
   "execution_count": 796,
   "metadata": {
    "collapsed": false
   },
   "outputs": [
    {
     "data": {
      "text/plain": [
       "(500,)"
      ]
     },
     "execution_count": 796,
     "metadata": {},
     "output_type": "execute_result"
    }
   ],
   "source": [
    "# generate a random ARMA sequence as given \n",
    "# n is number of observations\n",
    "\n",
    "def simulate_once(n=500):\n",
    "\n",
    "    # sequence x_t\n",
    "    # notice: the initial value x_1 = 1.  \n",
    "    x = [1]\n",
    "    # w is noise\n",
    "    w = [np.random.normal()]\n",
    "\n",
    "    for i in range(n-1):\n",
    "        w.append(np.random.normal())\n",
    "        x.append(0.9*x[-1]+w[-1]-0.9*w[-2])\n",
    "\n",
    "    return np.array(x),np.array(w)\n",
    "\n",
    "# simulate 3 times \n",
    "x_t,w = simulate_once()\n",
    "x_t,w = simulate_once()\n",
    "x_t,w = simulate_once()\n",
    "\n",
    "x_t.shape"
   ]
  },
  {
   "cell_type": "markdown",
   "metadata": {},
   "source": [
    "Next I will define a PACF function that return PACF value,$\\phi_{hh}$, of the specified lag, hh, in textbook. Please don't compared it with the result given by this python library(statsmodels.tsa.stattools.pacf), whose results seems very off. I will provide R code for you to compare later. Let's take a look at PACF first:"
   ]
  },
  {
   "cell_type": "code",
   "execution_count": 797,
   "metadata": {
    "collapsed": false
   },
   "outputs": [
    {
     "name": "stdout",
     "output_type": "stream",
     "text": [
      "[0.70000000000000007, -0.15270350564468235, -0.15490666705224027]\n"
     ]
    }
   ],
   "source": [
    "# notice: the following function need to use my own version of acf() defined previously.\n",
    "\n",
    "# sequence is your input sequence data. \n",
    "# hh is the number of lag. \n",
    "# returns PACF value of sequence data on hh lag.\n",
    "\n",
    "def pacf(sequence,hh):\n",
    "    \n",
    "    if hh ==0:\n",
    "        print(\"invalid input for hh, must be larger than 0!\")\n",
    "        return\n",
    "    \n",
    "    acf_matrix = np.zeros([hh,hh])\n",
    "    acf_vector = np.zeros([hh])\n",
    "\n",
    "    for i in range(1,hh+1):\n",
    "        for j in range(1,hh+1):\n",
    "            acf_matrix[i-1][j-1]=(acf(sequence,np.abs(j-i)))\n",
    "\n",
    "    for i in range(hh):\n",
    "        acf_vector[i]=(acf(sequence,i+1))\n",
    "\n",
    "    return np.dot(acf_vector,np.linalg.inv(acf_matrix))[-1]\n",
    "\n",
    "# let's compare result with R \n",
    "\n",
    "haha = np.array([1,2,3,4,5,6,7,8,9,10])\n",
    "\n",
    "# try the first three PACF\n",
    "print([pacf(haha,1),pacf(haha,2),pacf(haha,3)])"
   ]
  },
  {
   "cell_type": "markdown",
   "metadata": {},
   "source": [
    "Please use the following R code to compare with the above results: \n",
    "\n",
    "a =c(1,2,3,4,5,6,7,8,9,10);\n",
    "print(pacf(a,3));"
   ]
  },
  {
   "cell_type": "code",
   "execution_count": 798,
   "metadata": {
    "collapsed": false
   },
   "outputs": [
    {
     "data": {
      "image/png": "[encoded data removed]",
      "text/plain": [
       "<matplotlib.figure.Figure at 0x1027ba904e0>"
      ]
     },
     "metadata": {},
     "output_type": "display_data"
    },
    {
     "data": {
      "image/png": "[encoded data removed]",
      "text/plain": [
       "<matplotlib.figure.Figure at 0x1027a652748>"
      ]
     },
     "metadata": {},
     "output_type": "display_data"
    }
   ],
   "source": [
    "# Finally plot ACF and PACF of our ARMA sequence: \n",
    "\n",
    "# input data is x_t from previouls \n",
    "x_t,w_t = simulate_once() \n",
    "\n",
    "# plotting config:\n",
    "nlag = 20 \n",
    "\n",
    "# contains ACF and PACF values \n",
    "acf_value = []\n",
    "pacf_value = []\n",
    "\n",
    "# please go to question 5 foe definition of acf function\n",
    "\n",
    "for i in range(1,nlag+1):\n",
    "    acf_value.append(acf(x_t,i))\n",
    "    pacf_value.append(pacf(x_t,i))\n",
    "    \n",
    "plt.plot(acf_value,label=\"ACF Plotting\")\n",
    "plt.legend()\n",
    "plt.show()\n",
    "\n",
    "plt.plot(pacf_value,label=\"PACF Plotting\")\n",
    "plt.legend()\n",
    "plt.show()"
   ]
  },
  {
   "cell_type": "markdown",
   "metadata": {},
   "source": [
    "###  Fitting ARMA(1,1)\n",
    "\n",
    "As before, I will first linear regression this time, and then use MLE for the next question. In order to do it, let's redefine simulate_once() to generate appropriate independent and dependent variables"
   ]
  },
  {
   "cell_type": "code",
   "execution_count": 799,
   "metadata": {
    "collapsed": false
   },
   "outputs": [
    {
     "name": "stdout",
     "output_type": "stream",
     "text": [
      "[ 1.11111111  1.         -1.11111111]\n"
     ]
    }
   ],
   "source": [
    "x_t,w_t = simulate_once(500)\n",
    "\n",
    "x_t_lag_1 = x_t[1:]\n",
    "w_t_lag_1 = w_t[1:]\n",
    "w_t = w_t[:-1]\n",
    "\n",
    "x_t_lag_1 = np.array([x_t_lag_1]).T\n",
    "w_t_lag_1 = np.array([w_t_lag_1]).T\n",
    "w_t = np.array([w_t]).T\n",
    "\n",
    "# z is independent variables, which is x_{t-1}, w_t and w_{t-1} \n",
    "z = np.concatenate((x_t_lag_1,w_t, w_t_lag_1),axis=1)\n",
    "\n",
    "# x is dependent variable\n",
    "x = x_t[:-1]\n",
    "\n",
    "# please go to question 4 for definition of linear_regression()\n",
    "coef, w_t = linear_regression(z,x)\n",
    "print(coef)"
   ]
  },
  {
   "cell_type": "markdown",
   "metadata": {},
   "source": [
    "The following is printing the predicting error. As can be seen, the predicting error is fairly small, yet the coefficient shifts away from the original ones. Well, not sure how to explain it with math language but, this coefficients given by linear regression or maybe any method are an estimation based on some assumption. I would not expect it to be exactly same as the originals.     "
   ]
  },
  {
   "cell_type": "code",
   "execution_count": 800,
   "metadata": {
    "collapsed": false
   },
   "outputs": [
    {
     "name": "stdout",
     "output_type": "stream",
     "text": [
      "Total Predicting Error: \n",
      "1.08364706097e-13\n"
     ]
    }
   ],
   "source": [
    "# prediction is a vector containing predicted value \n",
    "prediction = [] \n",
    "\n",
    "for i in coef*z:\n",
    "    prediction.append(sum(i))\n",
    "\n",
    "print(\"Total Predicting Error: \")\n",
    "# sum of predicted value - observed value(x_t)\n",
    "print(sum(np.array(prediction)-x_t[0:len(prediction)]))"
   ]
  },
  {
   "cell_type": "markdown",
   "metadata": {},
   "source": [
    "# Question 7"
   ]
  },
  {
   "cell_type": "code",
   "execution_count": 801,
   "metadata": {
    "collapsed": false
   },
   "outputs": [],
   "source": [
    "# Question 7\n",
    "\n",
    "# simulate a sequence with phi = 0.9, theta = 0.5 and variance = 1\n",
    "# return simuated x_t and w_t\n",
    "\n",
    "def simulate_once(n=200):\n",
    "\n",
    "    # sequence x_t\n",
    "    # notice: the initial value x_1 = 1.  \n",
    "    x = [1]\n",
    "    # w is noise\n",
    "    w = [np.random.normal()]\n",
    "\n",
    "    for i in range(n-1):\n",
    "        w.append(np.random.normal())\n",
    "        x.append(0.9*x[-1]+w[-1]+0.5*w[-2])\n",
    "\n",
    "    return np.array(x),np.array(w)\n"
   ]
  },
  {
   "cell_type": "code",
   "execution_count": 802,
   "metadata": {
    "collapsed": false
   },
   "outputs": [],
   "source": [
    "# preparing for independent and dependent variables\n",
    "\n",
    "# get simulatedd data\n",
    "x_t,w_t = simulate_once(500)\n",
    "\n",
    "x_t_lag_1 = x_t[1:]\n",
    "w_t_lag_1 = w_t[1:]\n",
    "w_t = w_t[:-1]\n",
    "\n",
    "x_t_lag_1 = np.array([x_t_lag_1]).T\n",
    "w_t_lag_1 = np.array([w_t_lag_1]).T\n",
    "w_t = np.array([w_t]).T\n",
    "\n",
    "# z is independent variables, which is x_{t-1}, w_t and w_{t-1} \n",
    "z = np.concatenate((x_t_lag_1,w_t, w_t_lag_1),axis=1)\n",
    "\n",
    "# x is dependent variable\n",
    "x = x_t[:-1]"
   ]
  },
  {
   "cell_type": "code",
   "execution_count": 803,
   "metadata": {
    "collapsed": false
   },
   "outputs": [],
   "source": [
    "# simulate_once() iteration for 10 times and return \n",
    "# estimated beta\n",
    "\n",
    "def simulate_once(print_converge=False):\n",
    "    # 10 iterations\n",
    "    iteration = 10\n",
    "\n",
    "    # beta is initial guess of coefficients of ARIMA(1,1)\n",
    "    phi = 0.9\n",
    "    theta = 0.8\n",
    "    beta = np.array([phi,theta])\n",
    "\n",
    "    for j in range(iteration):\n",
    "\n",
    "        derivative_phi = np.array([0])\n",
    "        derivative_theta = np.array([0])\n",
    "        z_t = np.array([[0,0]])\n",
    "        omega = np.array([0])\n",
    "\n",
    "        for i in range(1,len(x)):\n",
    "\n",
    "            derivative_phi=np.append(derivative_phi,x[-2]+beta[0]*derivative_phi[-1])\n",
    "            derivative_theta=np.append(derivative_theta,omega[-1]+beta[1]*derivative_theta[-1])\n",
    "            omega=np.append(omega,x[i] - beta[0]*z[i][0] - beta[1]*z[i][2])\n",
    "            new_z_t = np.array([[derivative_phi[-1],derivative_theta[-1]]])\n",
    "            z_t = np.concatenate([z_t,new_z_t],axis=0)\n",
    "\n",
    "        z_z_prime = np.array([[0,0],[0,0]])\n",
    "        z_omega = omega[0]\n",
    "\n",
    "        for i in range(len(z_t)):\n",
    "            z_z_prime = z_z_prime + np.dot(np.array([z_t[i]]).T,np.array([z_t[i]]))\n",
    "\n",
    "        for i in range(len(z_t)):\n",
    "            z_omega = z_omega + np.dot(z_t[i].T,omega[i])\n",
    "\n",
    "        delta = np.dot(np.linalg.inv(z_z_prime/len(z_t)),z_omega/len(z_t))\n",
    "\n",
    "        beta = beta + delta\n",
    "\n",
    "        if print_converge == True:\n",
    "            print(\"after the\",j+1,\"iteration, coefficient are\", beta)\n",
    "            \n",
    "    return beta"
   ]
  },
  {
   "cell_type": "code",
   "execution_count": 804,
   "metadata": {
    "collapsed": false
   },
   "outputs": [
    {
     "name": "stdout",
     "output_type": "stream",
     "text": [
      "Expected coefficient for AR(1) and MA(1): [ 0.91364809  0.88637592]\n"
     ]
    }
   ],
   "source": [
    "# realization calls simulate_once() for 10 times \n",
    "# and returns the average of coefficients for ARMA(1,1)\n",
    "\n",
    "def realization(times=10):\n",
    "    beta = simulate_once(print_converge=False)\n",
    "    \n",
    "    for i in range(times-1):\n",
    "        beta = beta + simulate_once(print_converge=False)\n",
    "        \n",
    "    return (beta/10) \n",
    "\n",
    "print(\"Expected coefficient for AR(1) and MA(1):\",realization())"
   ]
  },
  {
   "cell_type": "markdown",
   "metadata": {},
   "source": [
    "So this is the coefficient, which is way off from the true value."
   ]
  }
 ],
 "metadata": {
  "anaconda-cloud": {},
  "kernelspec": {
   "display_name": "Python [conda root]",
   "language": "python",
   "name": "conda-root-py"
  },
  "language_info": {
   "codemirror_mode": {
    "name": "ipython",
    "version": 3
   },
   "file_extension": ".py",
   "mimetype": "text/x-python",
   "name": "python",
   "nbconvert_exporter": "python",
   "pygments_lexer": "ipython3",
   "version": "3.5.2"
  }
 },
 "nbformat": 4,
 "nbformat_minor": 1
}
