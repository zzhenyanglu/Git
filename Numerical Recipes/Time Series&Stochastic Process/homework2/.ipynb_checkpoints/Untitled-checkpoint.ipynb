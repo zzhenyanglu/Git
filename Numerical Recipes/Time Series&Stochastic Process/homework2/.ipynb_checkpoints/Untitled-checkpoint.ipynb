{
 "cells": [
  {
   "cell_type": "markdown",
   "metadata": {},
   "source": [
    "# NOTICE: PLEASE ISE PYTHON (CONDA ROOT) AS YOUR COMPILER. \n",
    "\n",
    "# MPCS 58020 homework 2\n",
    "\n",
    "## Question 1 \n",
    "\n",
    "Let A denote chances that Charlie would die\n",
    "\n",
    "Let B denote chances that neighbor will feed him\n",
    "\n",
    "(1) \n",
    "\n",
    "P(A) = 0.1 \\* 0.8 + 0.9 \\* 0.15 =  0.215 \n",
    "\n",
    "P($\\neg A $) = 1 - P(A) = 0.785\n",
    "\n",
    "(2) \n",
    "\n",
    "\n",
    "P($\\neg$B) = 1 - P(B) = 1 - 0.9 = 0.1\n",
    "\n",
    "\n",
    "P(B | A) = P(A$\\neg$B)/P(A) =  = 0.1*0.8 / 0.215 = 0.372"
   ]
  },
  {
   "cell_type": "markdown",
   "metadata": {
    "collapsed": false
   },
   "source": [
    "## Question 2 \n",
    "\n",
    "(1) F(x) = $\\int f(X) = \\int _{x_m}^x \\frac{\\alpha x_m^{\\alpha}}{x^{\\alpha +1}} dx = \\alpha x_m^{\\alpha} * \\int _{x_m}^x \\frac{1}{x^{\\alpha +1}} dx = \\alpha x_m^{\\alpha} * (\\frac{-x^{-\\alpha}}{\\alpha} | ^{x}_{x_m}) = 1 - x^\\alpha _m*x^{-\\alpha}$, if x > x_m, otherwise 0. \n",
    "\n",
    "(2) E(x) = $\\int f(X)*x *dx  = \\int _{x_m}^\\infty \\frac{\\alpha x_m^{\\alpha}}{x^{\\alpha}} dx = \\alpha*x_m^\\alpha * \\frac{x^{1-\\alpha}}{1-\\alpha} | ^{\\infty}_{x_m} = \\alpha*x_m^\\alpha (- \\frac{x_m^{1-\\alpha}}{1-\\alpha}) = \\frac{\\alpha*x_m}{\\alpha-1}$\n",
    "\n",
    "(3) \n",
    "E($x^2$) =  $\\int f(X)*x^2 *dx = \\int _{x_m}^\\infty \\frac{\\alpha x_m^{\\alpha}}{x^{\\alpha-1}} dx  =  \\frac{\\alpha*x_m^2}{\\alpha-2}$\n",
    "\n",
    "Var(x) = E($ x^2 $) - E(x)$^2 = \\frac{\\alpha*x_m^2}{\\alpha-2}-(\\frac{\\alpha*x_m}{\\alpha-1})^2 = \\frac{\\alpha*x_m^2}{\\alpha-2} - \\frac{\\alpha^2*x_m^2}{(\\alpha-1)^2} = \\frac{\\alpha*x^2_m}{(\\alpha-1)^2(\\alpha-2)}$ "
   ]
  },
  {
   "cell_type": "markdown",
   "metadata": {
    "collapsed": true
   },
   "source": [
    "# Question 3 \n",
    "\n",
    "Let x denote the lifetime of a radio tube.\n",
    "\n",
    "F(x) = $\\int \\frac{100}{x^2} dx = 1-\\frac{100}{x} $\n",
    "\n",
    "P(x $\\ge$ 150) = 1 - P(x $\\lt$ 150) = $\\frac{100}{150} = \\frac{2}{3}$\n",
    "\n",
    "P(at least one tube will need to be replaced within the first 150 hours of operation) = $1 - \\frac{2}{3}^5$ = 0.8683127572016461"
   ]
  },
  {
   "cell_type": "markdown",
   "metadata": {},
   "source": [
    "# Question 4\n",
    "\n",
    "Analytical solution: \n",
    "\n",
    "P (X < Y) = $\\int \\int f(x,y)*dx*dy = 2*\\int ^{\\infty} _0 e^{-2y} dy \\int _0 ^y e^{-x} dx  =  2*\\int ^{\\infty} _0 e^{-2y}*(1-e^{-y}) dy = (\\frac{2}{3e^{3y}} - \\frac{1}{e^{2y}})|^\\infty_0 = \\frac{1}{3}$\n",
    "\n",
    "Simluation : \n",
    "\n",
    "I'm ignoring some intermediate steps, and the following formula is needed for the simulation: \n",
    "\n",
    "f(x) = $e^{-x}$\n",
    "\n",
    "$f_y(y|x) = 2e^{-2y} $\n",
    "\n",
    "$ F_y(y|x) = 1 - e^{2y}$ \n",
    "\n",
    "$F(x) = 1 - e^{-x}$\n",
    "\n",
    "So x can be simulated by the following formula: $x = -log_e(1-F(x)) $       formula - 1\n",
    "\n",
    "y can be simulated by the following formula: $y=\\frac{-log_e(1-F_y(y|x))}{2}$  formula -2\n",
    "\n",
    "$F_y(y|x)$ is indepedent of F(x) because it does not contain x. So both of them can be simulated by a uniform distribution [0,1)\n",
    "\n",
    "So as you could see by running the following script, the accuracy rate is around 0.33, which is close to my analytical solution.  "
   ]
  },
  {
   "cell_type": "code",
   "execution_count": 3,
   "metadata": {
    "collapsed": false
   },
   "outputs": [
    {
     "name": "stdout",
     "output_type": "stream",
     "text": [
      "probability that Y>X is:   0.3302\n"
     ]
    }
   ],
   "source": [
    "# Simulation: \n",
    "\n",
    "from random import random \n",
    "from math import log\n",
    "\n",
    "# this function simulates x and y based on question 4's PDF\n",
    "# and return probability of Y>X, P(Y>X). \n",
    "\n",
    "# return s probability that Y>X\n",
    "def simulation(times = 100000): # simulate 10k times\n",
    "\n",
    "    count = 0\n",
    "\n",
    "    for i in range(times):\n",
    "    \n",
    "        y = -log(1-random())/2  # formula - 2\n",
    "        x = -log(1-random())    # formula - 1\n",
    "        \n",
    "        if y>x:\n",
    "            count = count +1 \n",
    "        \n",
    "    print ('probability that Y>X is:  ',float(count)/times)\n",
    "    \n",
    "simulation()\n"
   ]
  },
  {
   "cell_type": "markdown",
   "metadata": {},
   "source": [
    "# Question 5\n",
    "\n",
    "f(x) = $ \\int f(x,y) dy = \\int _0^1 (\\frac{9}{10} xy^2 + \\frac{1}{5}) = \\frac{3x}{10} + \\frac{1}{5}$\n",
    "\n",
    "f(y) = $ \\int f(x,y)dx = \\int _0^2 (\\frac{9}{10} xy^2 + \\frac{1}{5}) = \\frac{9y^2}{5} + \\frac{2}{5} $\n",
    "\n",
    "E(x) = $\\int_0^2 (\\frac{3x^2}{10} + \\frac{x}{5}) dx = (\\frac{x^3}{10}+\\frac{x^2}{10})|^0_2 = \\frac{6}{5}$\n",
    "\n",
    "E(y) = $\\int \\frac{9y^3}{5} + \\frac{2y}{5} = (\\frac{9y^4}{20}+ \\frac{y^2}{5})|^1_0=\\frac{13}{20}$\n",
    "\n",
    "E(xy) = $\\int \\int f(x,y) dydx = \\int^1_0 dy \\int^2_0 (\\frac{9}{10}*x^2*y^3+\\frac{xy}{5})dx = \\int_0^1 (\\frac{24*y^3}{5} + \\frac{4y}{10})dy = (\\frac{6y^4}{10} + \\frac{2y^2}{10} )|^1_0 = \\frac{4}{5}$\n",
    "\n",
    "Cov(x,y) = $E(xy) - E(x)E(y) = \\frac{4}{5} - \\frac{6}{5}*\\frac{13}{20} =  \\frac{1}{50} $"
   ]
  },
  {
   "cell_type": "markdown",
   "metadata": {
    "collapsed": true
   },
   "source": [
    "# Question 6\n",
    "\n",
    "# (a)\n",
    "\n",
    "Let $X_i$ be the random variable with $X_i$ = 1 if the ith turnover is a hit and $X_i$ = 0 otherwise. It follows that\n",
    "\n",
    "X = $X_1 + X_2 +· · ·+X_{50}$.\n",
    "\n",
    "$ E(X_i) = E(X_i) = 1 · p(X_i = 1) + 0 · p(X_i = 0) = 1 · 1/n + 0 = 1/n. $\n",
    "\n",
    "By the linearity of expectations, it follows that $E(X) = E(X_1) + E(X_2)+· · ·+E(X_n) = n · 1/n = 1. $\n",
    "\n",
    "$ E(X^2) = E((X_1 + X_2 + .... X_n)^2) = \\sum E(X_i)^2 + \\sum E(X_i*X_j) $, 0 $<=$ i,j $<=$100. \n",
    "\n",
    "Because $\\sum E(X_i^2) =   1^2 · p(X_i = 1) + 0^2 · p(X_i = 0) = n *\\frac{1}{n} = 1$\n",
    "\n",
    "$E(X_i =1 \\cap X_j = 1) = 1*\\frac{1}{n}·\\frac{1}{n−1} + 0* (1-\\frac{1}{n}·\\frac{1}{n−1}) = \\frac{1}{n}·\\frac{1}{n−1} $\n",
    "\n",
    "$\\sum E(X_i*X_j) = (\\frac{1}{n}·\\frac{1}{n−1})*(n*(n-1)) = 1$, because there are $n^2 - n$ terms of $X_i*X_j$ totally, so  $ \\sum E(X_i*X_j) $ = $(n^2 - n)*\\frac{1}{n}·\\frac{1}{n−1} = 1 $\n",
    "\n",
    "So $ E(X^2) = E((X_1 + X_2 + .... X_n)^2) = \\sum E(X_i)^2 + \\sum E(X_i*X_j) = 1+ 1 =2$\n",
    "\n",
    "So Var(x) = $E(x^2) - E(x)^2$ = 2 - 1 = 1\n",
    "\n",
    "# (b) "
   ]
  },
  {
   "cell_type": "code",
   "execution_count": 15,
   "metadata": {
    "collapsed": false
   },
   "outputs": [
    {
     "name": "stdout",
     "output_type": "stream",
     "text": [
      "simulated 10000 times\n",
      "On average, each simulation got 0.9961 times of hit.\n",
      "variance is 1.00008479\n"
     ]
    }
   ],
   "source": [
    "# (b) \n",
    "\n",
    "from random import random \n",
    "from math import log\n",
    "import numpy as np\n",
    "\n",
    "# this funtion generate random a random\n",
    "# permutation of n,\n",
    "# for example, if you call random_n(10),\n",
    "# it will give you a list of 5 distinct\n",
    "# numbers from 1 to 5, with a random order.\n",
    "# say [1,4,3,2,5].\n",
    "\n",
    "def random_list(n = 50):\n",
    "\n",
    "    deck = [i for i in range(1,n+1)]\n",
    "\n",
    "    for i in range(len(deck)):\n",
    "        \n",
    "        position = int((n-i)*random()) # position of the list to swap with n-i\n",
    "\n",
    "        temp = deck[n-i-1] \n",
    "        deck[n-i-1] = deck[position]\n",
    "        deck[position] = temp\n",
    "\n",
    "    return deck\n",
    "\n",
    "# simulate hit experiment once\n",
    "def simulate_once():\n",
    "\n",
    "    count = 0\n",
    "\n",
    "    deck = random_list()\n",
    "        \n",
    "    for j in range(len(deck)):\n",
    "\n",
    "        if j+1 == deck[j]:\n",
    "            count = count + 1\n",
    "\n",
    "    return count\n",
    "\n",
    "                           \n",
    "# simulate n times\n",
    "# return expected times of a hit\n",
    "def simulate_many(n=10000):\n",
    "\n",
    "    result = []\n",
    "\n",
    "    for i in range(n):\n",
    "        result.append(simulate_once())\n",
    "\n",
    "    print ('simulated',n,'times')\n",
    "    print ('On average, each simulation got', np.sum(result)/len(result), 'times of hit.' )\n",
    "    print ('variance is', np.var(result))\n",
    "\n",
    "simulate_many()"
   ]
  },
  {
   "cell_type": "markdown",
   "metadata": {},
   "source": [
    "# Question 7\n",
    "\n",
    "Formula: x = $-\\frac{log(1-F(x))}{\\mu}$, where F(x) ~ U[0,1). \n",
    "\n",
    "\n",
    "with the following code, it's fair to say that the probability is around 10%"
   ]
  },
  {
   "cell_type": "code",
   "execution_count": 19,
   "metadata": {
    "collapsed": false
   },
   "outputs": [
    {
     "name": "stdout",
     "output_type": "stream",
     "text": [
      "the probability that total claim is larger than 50000 is 0.1052\n"
     ]
    }
   ],
   "source": [
    "from random import random \n",
    "from math import log\n",
    "\n",
    "# return a exponential random number\n",
    "\n",
    "def exponential(mu=1):\n",
    "    \n",
    "    return -(log(1-random()))/mu\n",
    "\n",
    "\n",
    "# simulate each individual's chance to claim\n",
    "# how much is the claim, if claims.\n",
    "# mean is the average amount of claim\n",
    "# prob is the chance of a claim\n",
    "# return claim of each individual\n",
    "\n",
    "def individual(mean=800, prob = 0.05):\n",
    "\n",
    "    if random() >= 1 - prob:\n",
    "\n",
    "        return exponential(mu=1.0/mean)\n",
    "\n",
    "    return 0.0\n",
    "\n",
    "# simulate insurance company's total\n",
    "# claim.\n",
    "# policy is the number of policyholders\n",
    "# return total amount of claim\n",
    "\n",
    "def simulate_once(policy=1000):\n",
    "\n",
    "    total_claim = 0.0\n",
    "\n",
    "    for i in range(policy):\n",
    "\n",
    "        total_claim = total_claim + individual()\n",
    "        \n",
    "    return total_claim\n",
    "\n",
    "\n",
    "# n is the number of times to simulate\n",
    "# threshold is the sum of claim exceeding \n",
    "# which we are calculating probability. \n",
    " \n",
    "def simulate_many(n=10000, threshold=50000):\n",
    "\n",
    "    total_claim = 0.0\n",
    "\n",
    "    for i in range(n):\n",
    "        if simulate_once() > 50000:\n",
    "            total_claim = total_claim + 1\n",
    "\n",
    "    return total_claim/n\n",
    "\n",
    "print (\"the probability that total claim is larger than 50000 is\", simulate_many())\n"
   ]
  },
  {
   "cell_type": "markdown",
   "metadata": {
    "collapsed": true
   },
   "source": [
    "# Question 8\n",
    "\n",
    "## (a)\n",
    "\n",
    "f(x) / h(x) = $\\frac{3x}{2}$, where $0<x<1$, so $\\frac{d(f(x)/g(x))}{dx} = \\frac{3}{2}$, which is monotonically increasing, so f(x) / h(x) is biggest when x = 1, s0 max(f(x) / h(x)) = 3/2, which is our c. \n",
    "\n",
    "h(x) = 2x"
   ]
  },
  {
   "cell_type": "code",
   "execution_count": 245,
   "metadata": {
    "collapsed": false
   },
   "outputs": [
    {
     "data": {
      "text/plain": [
       "(0.7623905494028823, 1.0)"
      ]
     },
     "execution_count": 245,
     "metadata": {},
     "output_type": "execute_result"
    }
   ],
   "source": [
    "from random import random \n",
    "from math import log\n",
    "\n",
    "# return random number and number of times it iterates\n",
    "# h(x) = 2x\n",
    "def sample_f(count=0.0):\n",
    "    \n",
    "    count = count + 1.0\n",
    "    \n",
    "    x = random()\n",
    "    \n",
    "    #fx =  3.0*x**2\n",
    "    #gx = 2.0*x\n",
    "    #c = 3.0/2.0\n",
    "    \n",
    "    threshold = x #fx/(gx*c)\n",
    "    \n",
    "    if random() <= threshold:\n",
    "        return x, count\n",
    "    else:\n",
    "        return sample_f(count=count)\n",
    "\n",
    "sample_f()"
   ]
  },
  {
   "cell_type": "markdown",
   "metadata": {},
   "source": [
    "# (b)\n",
    "\n",
    "my own h(x) = $x^2$"
   ]
  },
  {
   "cell_type": "code",
   "execution_count": 246,
   "metadata": {
    "collapsed": false
   },
   "outputs": [
    {
     "data": {
      "text/plain": [
       "(0.8617930317282836, 1.0)"
      ]
     },
     "execution_count": 246,
     "metadata": {},
     "output_type": "execute_result"
    }
   ],
   "source": [
    "# return random number and number of times it iterates\n",
    "# h(x) = x^2\n",
    "\n",
    "def sample_my_own_f(count=0.0):\n",
    "    \n",
    "    count = count+ 1\n",
    "    \n",
    "    x = random()\n",
    "    \n",
    "    #fx =  3.0*x**2 \n",
    "    #gx = x**2\n",
    "    #c = 3.0\n",
    "    \n",
    "    threshold = 1\n",
    "    \n",
    "    if random() <= threshold:\n",
    "        return x, count\n",
    "    else:\n",
    "        return sample_my_own_f(count=count)\n",
    "\n",
    "sample_my_own_f()"
   ]
  },
  {
   "cell_type": "markdown",
   "metadata": {},
   "source": [
    "# (c)\n",
    "\n",
    "as you would see at the end of the following script. my own function h(x) = $x^2$ is generally better than h(x) = 2*x in part b. Of course, this is an extreme case. In terms of performance, So f(x)= $x^2$ is the best. f(x)=$2x$ is the second. "
   ]
  },
  {
   "cell_type": "code",
   "execution_count": 255,
   "metadata": {
    "collapsed": false
   },
   "outputs": [
    {
     "data": {
      "text/plain": [
       "(2.0261, 2.0828187900000001, 1.0, 0.0, 3.0167, 6.3172211100000002)"
      ]
     },
     "execution_count": 255,
     "metadata": {},
     "output_type": "execute_result"
    }
   ],
   "source": [
    "import numpy as np\n",
    "\n",
    "# return h(x)=1\n",
    "# return random number and number of times it iterates\n",
    "\n",
    "def sample_1(count=0.0):\n",
    "    \n",
    "    count = count+ 1\n",
    "    \n",
    "    x = random()\n",
    "    \n",
    "    #fx =  3*x**2\n",
    "    #gx = 1.0\n",
    "    #c = 3.0\n",
    "    \n",
    "    threshold = x**2\n",
    "    \n",
    "    if random() <= threshold:\n",
    "        return x, count\n",
    "    else:\n",
    "        return sample_1(count=count)\n",
    "\n",
    "sample_1()\n",
    "\n",
    "\n",
    "\n",
    "def simulate_many(n=10000):\n",
    "    \n",
    "    # record number of iteration in part(a)\n",
    "    result_1 = []\n",
    "    \n",
    "    # record number of iteration in part(b)\n",
    "    result_2 = []\n",
    "    \n",
    "    # record number of iteration when h(x) = 1\n",
    "    result_3 = []\n",
    "    \n",
    "    for i in range(n):\n",
    "        a,b = sample_f()\n",
    "        c,d= sample_my_own_f()\n",
    "        e,f = sample_1()\n",
    "        \n",
    "        result_1.append(b)\n",
    "        result_2.append(d)\n",
    "        result_3.append(f)\n",
    "    \n",
    "    return sum(result_1)/len(result_1), np.var(result_1),sum(result_2)/len(result_2),np.var(result_2),sum(result_3)/len(result_3),np.var(result_3)\n",
    "\n",
    "\n",
    "# first two numbers are expected number and variance of iteration of function in part a\n",
    "# second two numbers are expected number and variance of iteration of function in part b\n",
    "# last two numbers are expected number and variance of iteration of function g(x) =1 \n",
    "\n",
    "simulate_many()"
   ]
  },
  {
   "cell_type": "markdown",
   "metadata": {},
   "source": [
    "# (D)\n",
    "\n",
    "The expected number and variance of iteration is at the end of part C. \n",
    "\n",
    "for g(x) = 1, it's about 3 and 6 respectively with elapsed time around .03\n",
    "\n",
    "for g(x) = 2x, it's about 2 and 2 with elapsed time around .01\n",
    "\n",
    "Derivation of the performance model by hand is too hard for me. But by the looks of it, it seems like: \n",
    "\n",
    "expected number of iteration is floor(M), variance is $floor(M)^2 - floor(M) $, where M $>=\\frac{f(x)}{g(x)}$\n",
    "\n"
   ]
  },
  {
   "cell_type": "code",
   "execution_count": 256,
   "metadata": {
    "collapsed": false
   },
   "outputs": [
    {
     "data": {
      "text/plain": [
       "(0.00900721549987793, 0.028013944625854492)"
      ]
     },
     "execution_count": 256,
     "metadata": {},
     "output_type": "execute_result"
    }
   ],
   "source": [
    "import time\n",
    "\n",
    "# return time elapsed by running f=2x and f=x**2\n",
    "\n",
    "def simulate_many_timer(n=10000):\n",
    "    \n",
    "    # record number of iteration in part(a)\n",
    "    result_1 = []\n",
    "    \n",
    "    # record number of iteration in part(b)\n",
    "    result_2 = []\n",
    "    \n",
    "    # simulate function f = 2*x\n",
    "    \n",
    "    start = time.time()\n",
    "    \n",
    "    for i in range(n):\n",
    "        a,b = sample_f()\n",
    "        \n",
    "        result_1.append(b)\n",
    "\n",
    "    sum(result_1)/len(result_1), np.var(result_1)\n",
    "    \n",
    "    duration_1 = time.time() - start\n",
    "    \n",
    "    \n",
    "    # simulate function f = x**2\n",
    "    start = time.time()\n",
    "    \n",
    "    for i in range(n):\n",
    "        a,b = sample_1()\n",
    "        \n",
    "        result_2.append(b)\n",
    "\n",
    "    sum(result_2)/len(result_2), np.var(result_2)\n",
    "    \n",
    "    duration_2 = time.time() - start\n",
    "\n",
    "    return duration_1, duration_2\n",
    "\n",
    "\n",
    "\n",
    "a = simulate_many_timer()[0]\n",
    "b = simulate_many_timer()[1]\n",
    "\n",
    "\n",
    "# time elaps for h(x)=2x and h(x)=1\n",
    "a,b"
   ]
  },
  {
   "cell_type": "markdown",
   "metadata": {
    "collapsed": true
   },
   "source": [
    "# Question 9 Time Series \n",
    "\n",
    "# (a)"
   ]
  },
  {
   "cell_type": "code",
   "execution_count": 12,
   "metadata": {
    "collapsed": false
   },
   "outputs": [
    {
     "name": "stdout",
     "output_type": "stream",
     "text": [
      "fitted coefficients:\n",
      "[ 0.04179304 -0.66072154 -0.6325988  -0.56249051 -0.83124819]\n"
     ]
    }
   ],
   "source": [
    "import pandas as pd\n",
    "import numpy as np\n",
    "import math\n",
    "from numpy.linalg import inv\n",
    "import matplotlib.pyplot as plot\n",
    "\n",
    "# read in files\n",
    "x = np.loadtxt(\"C:\\\\Users\\\\zheny\\\\Dropbox\\\\courses\\\\timeseries (58020)\\\\lecture2\\\\jj_series.txt\", delimiter=\"\\t\",skiprows=0)\n",
    "\n",
    "# x is dependent variable\n",
    "x = np.log(x)\n",
    "\n",
    "# a is independent variables, which is indicator variables that signals quarters\n",
    "# Z = np.loadtxt(\"C:\\\\Users\\\\zheny\\\\Dropbox\\\\courses\\\\timeseries (58020)\\\\lecture2\\\\jj_table.txt\", delimiter=\"\\t\",skiprows=1)\n",
    "# Z[:,0] = Z[:,0] - 1959\n",
    "\n",
    "Z = np.zeros((len(x),5))\n",
    "\n",
    "for i in range(len(Z[:,1])):\n",
    "    Z[i,0] = i+1\n",
    "\n",
    "for i in range(len(Z[:,1])):\n",
    "    if np.mod(i,4) == 0:\n",
    "        Z[i,1] = 1\n",
    "    else:\n",
    "        Z[i,1] = 0\n",
    "\n",
    "for i in range(len(Z[:,2])):\n",
    "    if np.mod(i,4)-1 == 0:\n",
    "        Z[i,2] = 1\n",
    "    else:\n",
    "        Z[i,2] = 0 \n",
    "\n",
    "for i in range(len(Z[:,3])):\n",
    "    if np.mod(i,4)-2 == 0:\n",
    "        Z[i,3] = 1\n",
    "    else:\n",
    "        Z[i,3] = 0 \n",
    "\n",
    "for i in range(len(Z[:,4])):\n",
    "    if np.mod(i,4)-3 == 0:\n",
    "        Z[i,4] = 1\n",
    "    else:\n",
    "        Z[i,4] = 0  \n",
    "\n",
    "beta = np.dot(np.dot(inv(np.dot(Z.transpose(),Z)),Z.transpose()),x)\n",
    "print(\"fitted coefficients:\")\n",
    "print(beta)"
   ]
  },
  {
   "cell_type": "markdown",
   "metadata": {},
   "source": [
    "# (b) \n",
    "\n",
    "If we include an intercept term, then one of (Q1,Q2,Q3,Q4) will be gone, because it can be measured by setting three of Q1, Q2, Q3, Q4 = 0. Also estimated coefficient is smaller than the case if there is no intercept by the amount of intercept, so for example, the coefficient of Q2 is the differece between Q1 and Q2, Like say, when Q2 =1, t=1,  y = 0.16 + 1.05 + 0.028 = 1.238. but when Q2 = 0, aka measuring Q1, y = 1.21, so the difference , 1.238 - 1.21 = 0.028 is the difference between Q2 and Q1. "
   ]
  },
  {
   "cell_type": "markdown",
   "metadata": {},
   "source": [
    "# (C)\n",
    "\n",
    "first graph is \"predicted vs actual\"\n",
    "Second is plotting residual. "
   ]
  },
  {
   "cell_type": "code",
   "execution_count": 8,
   "metadata": {
    "collapsed": false
   },
   "outputs": [
    {
     "data": {
      "image/png": "[encoded data removed]",
      "text/plain": [
       "<matplotlib.figure.Figure at 0x1c71d5e0358>"
      ]
     },
     "metadata": {},
     "output_type": "display_data"
    }
   ],
   "source": [
    "predicted_value = np.dot(Z,beta)\n",
    "\n",
    "plot.plot(predicted_value,Z[:,0],x,Z[:,0],)\n",
    "plot.show()"
   ]
  },
  {
   "cell_type": "code",
   "execution_count": 10,
   "metadata": {
    "collapsed": false
   },
   "outputs": [
    {
     "data": {
      "image/png": "[encoded data removed]",
      "text/plain": [
       "<matplotlib.figure.Figure at 0x1c71d635dd8>"
      ]
     },
     "metadata": {},
     "output_type": "display_data"
    }
   ],
   "source": [
    "plot.plot(Z[:,0],predicted_value-x)\n",
    "plot.show()"
   ]
  },
  {
   "cell_type": "code",
   "execution_count": null,
   "metadata": {
    "collapsed": true
   },
   "outputs": [],
   "source": []
  }
 ],
 "metadata": {
  "anaconda-cloud": {},
  "kernelspec": {
   "display_name": "Python [conda root]",
   "language": "python",
   "name": "conda-root-py"
  },
  "language_info": {
   "codemirror_mode": {
    "name": "ipython",
    "version": 3
   },
   "file_extension": ".py",
   "mimetype": "text/x-python",
   "name": "python",
   "nbconvert_exporter": "python",
   "pygments_lexer": "ipython3",
   "version": "3.5.2"
  }
 },
 "nbformat": 4,
 "nbformat_minor": 1
}
