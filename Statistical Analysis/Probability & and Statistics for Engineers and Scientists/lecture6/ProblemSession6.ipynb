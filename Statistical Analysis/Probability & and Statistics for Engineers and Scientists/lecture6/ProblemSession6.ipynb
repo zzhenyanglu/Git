{
 "cells": [
  {
   "cell_type": "markdown",
   "metadata": {},
   "source": [
    "# MPCS53110 Problem Session 4\n",
    "\n",
    "### 2/11/2017"
   ]
  },
  {
   "cell_type": "markdown",
   "metadata": {},
   "source": [
    "Today :\n",
    "* \"HW\" in assignment 5\n",
    "* \"DO\" in assigment 6"
   ]
  },
  {
   "cell_type": "markdown",
   "metadata": {},
   "source": [
    "## HW5"
   ]
  },
  {
   "cell_type": "markdown",
   "metadata": {},
   "source": [
    "### Q3\n",
    "\n",
    "##### Part 1"
   ]
  },
  {
   "cell_type": "markdown",
   "metadata": {},
   "source": [
    "$X_1, \\dots, X_{30} \\sim \\text{Pois}(1)$, need to find $P(X_1 + \\dots +X_{30} \\leq 35)$.\n",
    "\n",
    "By central limit theorem, $X_1 + \\dots +X_{30} \\dot{\\sim} \\mathcal{N}(30, 30)$.\n",
    "\n",
    "* With continuity correction:\n",
    "\n",
    "$P(X_1 + \\dots +X_{30} \\leq 35) = \\Phi(\\frac{35.5 - 30}{\\sqrt{30}})=$ ```pnorm((35.5-30)/sqrt(30))```"
   ]
  },
  {
   "cell_type": "code",
   "execution_count": 1,
   "metadata": {
    "collapsed": false
   },
   "outputs": [
    {
     "data": {
      "text/html": [
       "0.842348773959127"
      ],
      "text/latex": [
       "0.842348773959127"
      ],
      "text/markdown": [
       "0.842348773959127"
      ],
      "text/plain": [
       "[1] 0.8423488"
      ]
     },
     "metadata": {},
     "output_type": "display_data"
    }
   ],
   "source": [
    "pnorm((35.5-30)/sqrt(30))"
   ]
  },
  {
   "cell_type": "markdown",
   "metadata": {},
   "source": [
    "Alternatively,"
   ]
  },
  {
   "cell_type": "code",
   "execution_count": 2,
   "metadata": {
    "collapsed": false
   },
   "outputs": [
    {
     "data": {
      "text/html": [
       "0.842348773959127"
      ],
      "text/latex": [
       "0.842348773959127"
      ],
      "text/markdown": [
       "0.842348773959127"
      ],
      "text/plain": [
       "[1] 0.8423488"
      ]
     },
     "metadata": {},
     "output_type": "display_data"
    }
   ],
   "source": [
    "pnorm(35.5, mean = 30, sd = sqrt(30))"
   ]
  },
  {
   "cell_type": "markdown",
   "metadata": {},
   "source": [
    "* Without continuity correction:\n",
    "\n",
    "$P(X_1 + \\dots +X_{30} \\leq 35) = \\Phi(\\frac{35 - 30}{\\sqrt{30}})=$ ```pnorm((35-30)/sqrt(30))```"
   ]
  },
  {
   "cell_type": "code",
   "execution_count": 3,
   "metadata": {
    "collapsed": false
   },
   "outputs": [
    {
     "data": {
      "text/html": [
       "0.819344785736911"
      ],
      "text/latex": [
       "0.819344785736911"
      ],
      "text/markdown": [
       "0.819344785736911"
      ],
      "text/plain": [
       "[1] 0.8193448"
      ]
     },
     "metadata": {},
     "output_type": "display_data"
    }
   ],
   "source": [
    "pnorm((35-30)/sqrt(30))"
   ]
  },
  {
   "cell_type": "markdown",
   "metadata": {},
   "source": [
    "Alternatively,"
   ]
  },
  {
   "cell_type": "code",
   "execution_count": 4,
   "metadata": {
    "collapsed": false
   },
   "outputs": [
    {
     "data": {
      "text/html": [
       "0.819344785736911"
      ],
      "text/latex": [
       "0.819344785736911"
      ],
      "text/markdown": [
       "0.819344785736911"
      ],
      "text/plain": [
       "[1] 0.8193448"
      ]
     },
     "metadata": {},
     "output_type": "display_data"
    }
   ],
   "source": [
    "pnorm(35, mean = 30, sd = sqrt(30))"
   ]
  },
  {
   "cell_type": "markdown",
   "metadata": {},
   "source": [
    "##### Part 2"
   ]
  },
  {
   "cell_type": "markdown",
   "metadata": {},
   "source": [
    "$X_1 + \\dots +X_{30} \\sim \\text{Pois}(30)$.\n",
    "\n",
    "$P(X_1 + \\dots +X_{30} \\leq 35)=$ ``` ppois(35, 30) ```"
   ]
  },
  {
   "cell_type": "code",
   "execution_count": 5,
   "metadata": {
    "collapsed": false
   },
   "outputs": [
    {
     "data": {
      "text/html": [
       "0.842616525569668"
      ],
      "text/latex": [
       "0.842616525569668"
      ],
      "text/markdown": [
       "0.842616525569668"
      ],
      "text/plain": [
       "[1] 0.8426165"
      ]
     },
     "metadata": {},
     "output_type": "display_data"
    }
   ],
   "source": [
    "ppois(35, 30)"
   ]
  },
  {
   "cell_type": "markdown",
   "metadata": {},
   "source": [
    "CLT with continuity correction has error:"
   ]
  },
  {
   "cell_type": "code",
   "execution_count": 6,
   "metadata": {
    "collapsed": false
   },
   "outputs": [
    {
     "data": {
      "text/html": [
       "0.000267751610541156"
      ],
      "text/latex": [
       "0.000267751610541156"
      ],
      "text/markdown": [
       "0.000267751610541156"
      ],
      "text/plain": [
       "[1] 0.0002677516"
      ]
     },
     "metadata": {},
     "output_type": "display_data"
    }
   ],
   "source": [
    "abs(pnorm((35.5-30)/sqrt(30))-ppois(35, 30))"
   ]
  },
  {
   "cell_type": "markdown",
   "metadata": {},
   "source": [
    "CLT without continuity correction has error:"
   ]
  },
  {
   "cell_type": "code",
   "execution_count": 7,
   "metadata": {
    "collapsed": false
   },
   "outputs": [
    {
     "data": {
      "text/html": [
       "0.0232717398327578"
      ],
      "text/latex": [
       "0.0232717398327578"
      ],
      "text/markdown": [
       "0.0232717398327578"
      ],
      "text/plain": [
       "[1] 0.02327174"
      ]
     },
     "metadata": {},
     "output_type": "display_data"
    }
   ],
   "source": [
    "abs(pnorm((35-30)/sqrt(30))-ppois(35, 30))"
   ]
  },
  {
   "cell_type": "markdown",
   "metadata": {},
   "source": [
    "### Q4"
   ]
  },
  {
   "cell_type": "markdown",
   "metadata": {},
   "source": [
    "$X_1, \\dots, X_{20}$ are independent random variables with density function $f(x)=2x$, $0 \\leq x \\leq 1$.\n",
    "\n",
    "$S=X_1 + \\dots + X_{20} \\dot{\\sim} \\mathcal{N}(20 \\mu, 20 \\sigma^2)$,\n",
    "\n",
    "where $\\mu=\\mathbf{E} x=\\int_0^1 x 2x \\,dx = \\cdots$, $\\sigma^2 = \\mathbf{E}x^2 - (\\mathbf{E}x)^2 = \\cdots$.\n",
    "\n",
    "$P(S \\leq 10) = \\Phi\\left( \\frac{10 - 20 \\mu}{\\sqrt{20} \\sigma} \\right) = \\cdots $"
   ]
  },
  {
   "cell_type": "code",
   "execution_count": 8,
   "metadata": {
    "collapsed": false
   },
   "outputs": [
    {
     "data": {
      "text/html": [
       "0.000782701129001278"
      ],
      "text/latex": [
       "0.000782701129001278"
      ],
      "text/markdown": [
       "0.000782701129001278"
      ],
      "text/plain": [
       "[1] 0.0007827011"
      ]
     },
     "metadata": {},
     "output_type": "display_data"
    }
   ],
   "source": [
    "mu=2/3\n",
    "sigma=sqrt(20)*sqrt(1/18)\n",
    "pnorm(10, mean = 20*mu, sd = sigma)"
   ]
  },
  {
   "cell_type": "markdown",
   "metadata": {},
   "source": [
    "### Q6"
   ]
  },
  {
   "cell_type": "markdown",
   "metadata": {},
   "source": [
    "$\\mathbf{E}Z=P(Z=1)=\\frac{\\text{area of the object}}{\\text{area of unit square}}=A$\n",
    "\n",
    "Let $\\{Z_1, Z_2 , \\dots, Z_n \\}$ be a sample of $Z$.  $A'=\\frac{1}{n}\\sum_{i=1}^n Z_i$ is and estimator of $A$.\n",
    "\n",
    "By central limit theorem, $A'=\\frac{1}{n}\\sum_{i=1}^n Z_i \\dot{ \\sim } \\mathcal{N}\\left(A, \\frac{A(1-A)}{n}\\right)$.\n",
    "\n",
    "Assume $A=0.2$.  How large does $n$ need to be such that $P(|A'-A|<-.01) \\approx 0.99$?\n",
    "\n",
    "$\\frac{A'-A}{\\sqrt{A(1-A)}{n}}$ is the standardized Gaussian.  We need to find $n$ such that\n",
    "\n",
    "$$P\\left(\\left| \\frac{A'-A}{\\sqrt{\\frac{A(1-A)}{n}}} \\right| < \\frac{0.01}{\\sqrt{\\frac{A(1-A)}{n}}} \\right) = 0.99$$\n",
    "\n",
    "Due to the symmetric of the standard Gaussian, this is the same as finding $n$ such that\n",
    "\n",
    "$$P\\left( \\frac{A'-A}{\\sqrt{\\frac{A(1-A)}{n}}} < \\frac{0.01}{\\sqrt{\\frac{A(1-A)}{n}}} \\right) = 0.99+\\frac{0.01}{2}=0.995$$\n",
    "\n",
    "which implies $\\Phi\\left( \\frac{0.01}{\\sqrt{\\frac{A(1-A)}{n}}} \\right)=0.995$.\n",
    "\n",
    "Further, $$\\frac{0.01}{\\sqrt{\\frac{A(1-A)}{n}}} = \\Phi^{-1}(0.995)=  \\text{qnorm(0.995)}  \\approx 2.5758293035489$$\n",
    "\n",
    "Solve for $n$ and we have $n\\approx 10616$."
   ]
  },
  {
   "cell_type": "markdown",
   "metadata": {},
   "source": [
    "## \"DO\"s in HW6"
   ]
  },
  {
   "cell_type": "code",
   "execution_count": 9,
   "metadata": {
    "collapsed": true
   },
   "outputs": [],
   "source": [
    "## re-size the plots.\n",
    "library(repr)\n",
    "options(repr.plot.width=7, repr.plot.height=5)"
   ]
  },
  {
   "cell_type": "markdown",
   "metadata": {},
   "source": [
    "### 6.2.9"
   ]
  },
  {
   "cell_type": "markdown",
   "metadata": {},
   "source": [
    "$X \\sim \\mathcal{N}(11, 4^2)$."
   ]
  },
  {
   "cell_type": "markdown",
   "metadata": {},
   "source": [
    "* Part (a): the true values"
   ]
  },
  {
   "cell_type": "markdown",
   "metadata": {},
   "source": [
    "$P(12 < X \\leq 16) = P(X \\leq 16) - P(X \\leq 12) =$"
   ]
  },
  {
   "cell_type": "code",
   "execution_count": 10,
   "metadata": {
    "collapsed": false
   },
   "outputs": [
    {
     "data": {
      "text/html": [
       "0.295643900650221"
      ],
      "text/latex": [
       "0.295643900650221"
      ],
      "text/markdown": [
       "0.295643900650221"
      ],
      "text/plain": [
       "[1] 0.2956439"
      ]
     },
     "metadata": {},
     "output_type": "display_data"
    }
   ],
   "source": [
    "pnorm(16, mean = 11, sd = 4) - pnorm(12, mean = 11, sd = 4)"
   ]
  },
  {
   "cell_type": "code",
   "execution_count": 11,
   "metadata": {
    "collapsed": false
   },
   "outputs": [
    {
     "data": {
      "text/html": [
       "'&gt;&gt;&gt; 15th percentile:'"
      ],
      "text/latex": [
       "'>>> 15th percentile:'"
      ],
      "text/markdown": [
       "'&gt;&gt;&gt; 15th percentile:'"
      ],
      "text/plain": [
       "[1] \">>> 15th percentile:\""
      ]
     },
     "metadata": {},
     "output_type": "display_data"
    },
    {
     "data": {
      "text/html": [
       "6.85426644202484"
      ],
      "text/latex": [
       "6.85426644202484"
      ],
      "text/markdown": [
       "6.85426644202484"
      ],
      "text/plain": [
       "[1] 6.854266"
      ]
     },
     "metadata": {},
     "output_type": "display_data"
    },
    {
     "data": {
      "text/html": [
       "'&gt;&gt;&gt; 25th percentile:'"
      ],
      "text/latex": [
       "'>>> 25th percentile:'"
      ],
      "text/markdown": [
       "'&gt;&gt;&gt; 25th percentile:'"
      ],
      "text/plain": [
       "[1] \">>> 25th percentile:\""
      ]
     },
     "metadata": {},
     "output_type": "display_data"
    },
    {
     "data": {
      "text/html": [
       "8.30204099921567"
      ],
      "text/latex": [
       "8.30204099921567"
      ],
      "text/markdown": [
       "8.30204099921567"
      ],
      "text/plain": [
       "[1] 8.302041"
      ]
     },
     "metadata": {},
     "output_type": "display_data"
    },
    {
     "data": {
      "text/html": [
       "'&gt;&gt;&gt; 55th percentile:'"
      ],
      "text/latex": [
       "'>>> 55th percentile:'"
      ],
      "text/markdown": [
       "'&gt;&gt;&gt; 55th percentile:'"
      ],
      "text/plain": [
       "[1] \">>> 55th percentile:\""
      ]
     },
     "metadata": {},
     "output_type": "display_data"
    },
    {
     "data": {
      "text/html": [
       "11.5026453874203"
      ],
      "text/latex": [
       "11.5026453874203"
      ],
      "text/markdown": [
       "11.5026453874203"
      ],
      "text/plain": [
       "[1] 11.50265"
      ]
     },
     "metadata": {},
     "output_type": "display_data"
    },
    {
     "data": {
      "text/html": [
       "'&gt;&gt;&gt; 95th percentile:'"
      ],
      "text/latex": [
       "'>>> 95th percentile:'"
      ],
      "text/markdown": [
       "'&gt;&gt;&gt; 95th percentile:'"
      ],
      "text/plain": [
       "[1] \">>> 95th percentile:\""
      ]
     },
     "metadata": {},
     "output_type": "display_data"
    },
    {
     "data": {
      "text/html": [
       "17.5794145078059"
      ],
      "text/latex": [
       "17.5794145078059"
      ],
      "text/markdown": [
       "17.5794145078059"
      ],
      "text/plain": [
       "[1] 17.57941"
      ]
     },
     "metadata": {},
     "output_type": "display_data"
    }
   ],
   "source": [
    "'>>> 15th percentile:'\n",
    "qnorm(0.15, mean = 11, sd = 4)\n",
    "\n",
    "'>>> 25th percentile:'\n",
    "qnorm(0.25, mean = 11, sd = 4)\n",
    "\n",
    "'>>> 55th percentile:'\n",
    "qnorm(0.55, mean = 11, sd = 4)\n",
    "\n",
    "'>>> 95th percentile:'\n",
    "qnorm(0.95, mean = 11, sd = 4)\n"
   ]
  },
  {
   "cell_type": "code",
   "execution_count": 12,
   "metadata": {
    "collapsed": false
   },
   "outputs": [
    {
     "data": {
      "image/png": "[encoded data removed]",
      "text/plain": [
       "Plot with title “PDF”"
      ]
     },
     "metadata": {},
     "output_type": "display_data"
    },
    {
     "data": {
      "image/png": "[encoded data removed]",
      "text/plain": [
       "Plot with title “CDF”"
      ]
     },
     "metadata": {},
     "output_type": "display_data"
    }
   ],
   "source": [
    "xspan <- seq(-7, 29, 0.1)\n",
    "plot( xspan, dnorm(xspan, mean = 11, sd = 4), ty='l', xlab = \"x\", ylab = \"f(x)\", main = \"PDF\")\n",
    "abline(v = c(12,16), col = 'green' )\n",
    "\n",
    "qs <- c(0.15, 0.25, 0.55, 0.95)\n",
    "pts <- qnorm(qs, mean = 11, sd = 4)\n",
    "points( pts, 0*pts, pch ='x', col = \"blue\")\n",
    "\n",
    "plot(xspan, pnorm(xspan, mean = 11, sd = 4), col = 'black', \n",
    "     main = \"CDF\", xlab = \"x\", ylab = \"F(x)\", lwd=3, ty=\"l\")\n",
    "abline( h = c(0.15, 0.25, 0.55, 0.95), col='black', lty=3)\n",
    "abline(v = c(12,16), col = 'green' )\n",
    "points( pts, 0*pts, pch ='x', col = \"blue\")\n",
    "for (i in 1:length(pts)) {\n",
    "    lines(c(pts[i], pts[i]), c(0, qs[i]), lty=2)\n",
    "    }"
   ]
  },
  {
   "cell_type": "markdown",
   "metadata": {},
   "source": [
    "Generate a random sample of 50 observations:"
   ]
  },
  {
   "cell_type": "code",
   "execution_count": 13,
   "metadata": {
    "collapsed": false
   },
   "outputs": [
    {
     "data": {
      "text/html": [
       "<ol class=list-inline>\n",
       "\t<li>11.9408828464548</li>\n",
       "\t<li>9.67705651349323</li>\n",
       "\t<li>9.75350470408495</li>\n",
       "\t<li>1.79061736628249</li>\n",
       "\t<li>10.3164958215445</li>\n",
       "\t<li>11.5611129004129</li>\n",
       "\t<li>5.01029337773953</li>\n",
       "\t<li>6.95924632379448</li>\n",
       "\t<li>7.20609758019021</li>\n",
       "\t<li>9.02415113105957</li>\n",
       "\t<li>10.3053034881177</li>\n",
       "\t<li>9.37360487983739</li>\n",
       "\t<li>18.3825450552283</li>\n",
       "\t<li>12.576216439898</li>\n",
       "\t<li>14.1901140050461</li>\n",
       "\t<li>4.73333855925769</li>\n",
       "\t<li>10.6565959647096</li>\n",
       "\t<li>9.56344207504887</li>\n",
       "\t<li>6.22556413374507</li>\n",
       "\t<li>12.4567469480889</li>\n",
       "\t<li>12.4466498063531</li>\n",
       "\t<li>12.3878574804543</li>\n",
       "\t<li>11.7589461067571</li>\n",
       "\t<li>10.3616927778449</li>\n",
       "\t<li>12.3061969537275</li>\n",
       "\t<li>13.393016809574</li>\n",
       "\t<li>3.63386279975021</li>\n",
       "\t<li>21.872222398167</li>\n",
       "\t<li>11.7649775618292</li>\n",
       "\t<li>5.79481573888672</li>\n",
       "\t<li>-1.45286920518047</li>\n",
       "\t<li>7.23457041888264</li>\n",
       "\t<li>16.6010351266694</li>\n",
       "\t<li>4.51811988660368</li>\n",
       "\t<li>1.93601617157593</li>\n",
       "\t<li>15.6519743567225</li>\n",
       "\t<li>10.535379837214</li>\n",
       "\t<li>12.3370240374991</li>\n",
       "\t<li>8.51656757452345</li>\n",
       "\t<li>5.76062036607653</li>\n",
       "\t<li>6.29709583318001</li>\n",
       "\t<li>6.51513786874477</li>\n",
       "\t<li>5.55238206538086</li>\n",
       "\t<li>12.9244983138749</li>\n",
       "\t<li>13.9678865021316</li>\n",
       "\t<li>11.1112985008613</li>\n",
       "\t<li>12.3255188432737</li>\n",
       "\t<li>13.5764565279655</li>\n",
       "\t<li>20.9426462457519</li>\n",
       "\t<li>18.8399268307849</li>\n",
       "</ol>\n"
      ],
      "text/latex": [
       "\\begin{enumerate*}\n",
       "\\item 11.9408828464548\n",
       "\\item 9.67705651349323\n",
       "\\item 9.75350470408495\n",
       "\\item 1.79061736628249\n",
       "\\item 10.3164958215445\n",
       "\\item 11.5611129004129\n",
       "\\item 5.01029337773953\n",
       "\\item 6.95924632379448\n",
       "\\item 7.20609758019021\n",
       "\\item 9.02415113105957\n",
       "\\item 10.3053034881177\n",
       "\\item 9.37360487983739\n",
       "\\item 18.3825450552283\n",
       "\\item 12.576216439898\n",
       "\\item 14.1901140050461\n",
       "\\item 4.73333855925769\n",
       "\\item 10.6565959647096\n",
       "\\item 9.56344207504887\n",
       "\\item 6.22556413374507\n",
       "\\item 12.4567469480889\n",
       "\\item 12.4466498063531\n",
       "\\item 12.3878574804543\n",
       "\\item 11.7589461067571\n",
       "\\item 10.3616927778449\n",
       "\\item 12.3061969537275\n",
       "\\item 13.393016809574\n",
       "\\item 3.63386279975021\n",
       "\\item 21.872222398167\n",
       "\\item 11.7649775618292\n",
       "\\item 5.79481573888672\n",
       "\\item -1.45286920518047\n",
       "\\item 7.23457041888264\n",
       "\\item 16.6010351266694\n",
       "\\item 4.51811988660368\n",
       "\\item 1.93601617157593\n",
       "\\item 15.6519743567225\n",
       "\\item 10.535379837214\n",
       "\\item 12.3370240374991\n",
       "\\item 8.51656757452345\n",
       "\\item 5.76062036607653\n",
       "\\item 6.29709583318001\n",
       "\\item 6.51513786874477\n",
       "\\item 5.55238206538086\n",
       "\\item 12.9244983138749\n",
       "\\item 13.9678865021316\n",
       "\\item 11.1112985008613\n",
       "\\item 12.3255188432737\n",
       "\\item 13.5764565279655\n",
       "\\item 20.9426462457519\n",
       "\\item 18.8399268307849\n",
       "\\end{enumerate*}\n"
      ],
      "text/markdown": [
       "1. 11.9408828464548\n",
       "2. 9.67705651349323\n",
       "3. 9.75350470408495\n",
       "4. 1.79061736628249\n",
       "5. 10.3164958215445\n",
       "6. 11.5611129004129\n",
       "7. 5.01029337773953\n",
       "8. 6.95924632379448\n",
       "9. 7.20609758019021\n",
       "10. 9.02415113105957\n",
       "11. 10.3053034881177\n",
       "12. 9.37360487983739\n",
       "13. 18.3825450552283\n",
       "14. 12.576216439898\n",
       "15. 14.1901140050461\n",
       "16. 4.73333855925769\n",
       "17. 10.6565959647096\n",
       "18. 9.56344207504887\n",
       "19. 6.22556413374507\n",
       "20. 12.4567469480889\n",
       "21. 12.4466498063531\n",
       "22. 12.3878574804543\n",
       "23. 11.7589461067571\n",
       "24. 10.3616927778449\n",
       "25. 12.3061969537275\n",
       "26. 13.393016809574\n",
       "27. 3.63386279975021\n",
       "28. 21.872222398167\n",
       "29. 11.7649775618292\n",
       "30. 5.79481573888672\n",
       "31. -1.45286920518047\n",
       "32. 7.23457041888264\n",
       "33. 16.6010351266694\n",
       "34. 4.51811988660368\n",
       "35. 1.93601617157593\n",
       "36. 15.6519743567225\n",
       "37. 10.535379837214\n",
       "38. 12.3370240374991\n",
       "39. 8.51656757452345\n",
       "40. 5.76062036607653\n",
       "41. 6.29709583318001\n",
       "42. 6.51513786874477\n",
       "43. 5.55238206538086\n",
       "44. 12.9244983138749\n",
       "45. 13.9678865021316\n",
       "46. 11.1112985008613\n",
       "47. 12.3255188432737\n",
       "48. 13.5764565279655\n",
       "49. 20.9426462457519\n",
       "50. 18.8399268307849\n",
       "\n",
       "\n"
      ],
      "text/plain": [
       " [1] 11.940883  9.677057  9.753505  1.790617 10.316496 11.561113  5.010293\n",
       " [8]  6.959246  7.206098  9.024151 10.305303  9.373605 18.382545 12.576216\n",
       "[15] 14.190114  4.733339 10.656596  9.563442  6.225564 12.456747 12.446650\n",
       "[22] 12.387857 11.758946 10.361693 12.306197 13.393017  3.633863 21.872222\n",
       "[29] 11.764978  5.794816 -1.452869  7.234570 16.601035  4.518120  1.936016\n",
       "[36] 15.651974 10.535380 12.337024  8.516568  5.760620  6.297096  6.515138\n",
       "[43]  5.552382 12.924498 13.967887 11.111299 12.325519 13.576457 20.942646\n",
       "[50] 18.839927"
      ]
     },
     "metadata": {},
     "output_type": "display_data"
    }
   ],
   "source": [
    "#set.seed = 111;  # no long work in this R version?\n",
    "set.seed(111)\n",
    "x = rnorm(50, 11, 4)\n",
    "x"
   ]
  },
  {
   "cell_type": "markdown",
   "metadata": {},
   "source": [
    "Compare empirical CDF with CDF."
   ]
  },
  {
   "cell_type": "code",
   "execution_count": 14,
   "metadata": {
    "collapsed": false
   },
   "outputs": [
    {
     "data": {
      "image/png": "[encoded data removed]",
      "text/plain": [
       "Plot with title “Empirical CDF vs CDF”"
      ]
     },
     "metadata": {},
     "output_type": "display_data"
    }
   ],
   "source": [
    "plot(xspan, pnorm(xspan, mean = 11, sd = 4), col = 'black', \n",
    "     main = \"Empirical CDF vs CDF\", xlab = \"x\", ylab = \"F(x)\", lwd=3, ty=\"l\")\n",
    "abline( h = c(0.15, 0.25, 0.55, 0.95), col='black', lty=3)\n",
    "plot(ecdf(x), add=T, cex=0.7, col=\"blue\")\n",
    "abline(v = c(12,16), col = 'green' )\n",
    "\n",
    "legend(\"bottomright\",c(\"CDF\",\"Empirical CDF\"), col = c(\"black\",\"blue\"), lty=c(1,1), lwd=c(3,2))"
   ]
  },
  {
   "cell_type": "markdown",
   "metadata": {},
   "source": [
    "* Empirical estimations:\n",
    "\n",
    "$P(12 < X \\leq 16) = $"
   ]
  },
  {
   "cell_type": "code",
   "execution_count": 15,
   "metadata": {
    "collapsed": false
   },
   "outputs": [
    {
     "data": {
      "text/html": [
       "0.26"
      ],
      "text/latex": [
       "0.26"
      ],
      "text/markdown": [
       "0.26"
      ],
      "text/plain": [
       "[1] 0.26"
      ]
     },
     "metadata": {},
     "output_type": "display_data"
    }
   ],
   "source": [
    "sum(12<x & x<=16) / length(x)"
   ]
  },
  {
   "cell_type": "code",
   "execution_count": 16,
   "metadata": {
    "collapsed": false
   },
   "outputs": [
    {
     "data": {
      "text/html": [
       "<dl class=dl-horizontal>\n",
       "\t<dt>15%</dt>\n",
       "\t\t<dd>5.62526547062434</dd>\n",
       "\t<dt>25%</dt>\n",
       "\t\t<dd>6.6261649825072</dd>\n",
       "\t<dt>55%</dt>\n",
       "\t\t<dd>11.0885633740537</dd>\n",
       "\t<dt>95%</dt>\n",
       "\t\t<dd>18.6341050317845</dd>\n",
       "</dl>\n"
      ],
      "text/latex": [
       "\\begin{description*}\n",
       "\\item[15\\textbackslash{}\\%] 5.62526547062434\n",
       "\\item[25\\textbackslash{}\\%] 6.6261649825072\n",
       "\\item[55\\textbackslash{}\\%] 11.0885633740537\n",
       "\\item[95\\textbackslash{}\\%] 18.6341050317845\n",
       "\\end{description*}\n"
      ],
      "text/markdown": [
       "15%\n",
       ":   5.6252654706243425%\n",
       ":   6.626164982507255%\n",
       ":   11.088563374053795%\n",
       ":   18.6341050317845\n",
       "\n"
      ],
      "text/plain": [
       "      15%       25%       55%       95% \n",
       " 5.625265  6.626165 11.088563 18.634105 "
      ]
     },
     "metadata": {},
     "output_type": "display_data"
    }
   ],
   "source": [
    "quantile(x, c(0.15, 0.25, 0.55, 0.95))"
   ]
  },
  {
   "cell_type": "markdown",
   "metadata": {},
   "source": [
    "* Model based estimation"
   ]
  },
  {
   "cell_type": "markdown",
   "metadata": {},
   "source": [
    "Estimate mean and variance by using sample mean and sample variance:"
   ]
  },
  {
   "cell_type": "code",
   "execution_count": 17,
   "metadata": {
    "collapsed": false
   },
   "outputs": [],
   "source": [
    "## sample mean\n",
    "x_bar <- mean(x)\n",
    "\n",
    "## sample variance\n",
    "S2 <- var(x)"
   ]
  },
  {
   "cell_type": "markdown",
   "metadata": {},
   "source": [
    "Compare the estimated CDF with the true CDF:"
   ]
  },
  {
   "cell_type": "code",
   "execution_count": 18,
   "metadata": {
    "collapsed": false
   },
   "outputs": [
    {
     "data": {
      "image/png": "[encoded data removed]",
      "text/plain": [
       "Plot with title “Estimated CDF vs CDF”"
      ]
     },
     "metadata": {},
     "output_type": "display_data"
    }
   ],
   "source": [
    "plot(xspan, pnorm(xspan, mean = 11, sd = 4), col = 'black', \n",
    "     main = \"Estimated CDF vs CDF\", xlab = \"x\", ylab = \"F(x)\", lwd=3, ty=\"l\")\n",
    "abline( h = c(0.15, 0.25, 0.55, 0.95), col='black', lty=3)\n",
    "lines(xspan, pnorm(xspan, mean = x_bar, sd = sqrt(S2)), lwd=3, col=\"blue\", lty=2)\n",
    "abline(v = c(12,16), col = 'green' )\n",
    "legend(\"bottomright\",c(\"CDF\",\"Estimated CDF\"), col = c(\"black\",\"blue\"), lty=c(1,2), lwd=c(3,3))"
   ]
  },
  {
   "cell_type": "markdown",
   "metadata": {},
   "source": [
    "$P(12 < X \\leq 16) = $"
   ]
  },
  {
   "cell_type": "code",
   "execution_count": 19,
   "metadata": {
    "collapsed": false
   },
   "outputs": [
    {
     "data": {
      "text/html": [
       "0.241810146072814"
      ],
      "text/latex": [
       "0.241810146072814"
      ],
      "text/markdown": [
       "0.241810146072814"
      ],
      "text/plain": [
       "[1] 0.2418101"
      ]
     },
     "metadata": {},
     "output_type": "display_data"
    }
   ],
   "source": [
    "pnorm(16, mean = x_bar, sd = sqrt(S2)) - pnorm(12, mean = x_bar, sd = sqrt(S2))"
   ]
  },
  {
   "cell_type": "code",
   "execution_count": 20,
   "metadata": {
    "collapsed": false
   },
   "outputs": [
    {
     "data": {
      "text/html": [
       "'&gt;&gt;&gt; 15th percentile:'"
      ],
      "text/latex": [
       "'>>> 15th percentile:'"
      ],
      "text/markdown": [
       "'&gt;&gt;&gt; 15th percentile:'"
      ],
      "text/plain": [
       "[1] \">>> 15th percentile:\""
      ]
     },
     "metadata": {},
     "output_type": "display_data"
    },
    {
     "data": {
      "text/html": [
       "5.27939306504328"
      ],
      "text/latex": [
       "5.27939306504328"
      ],
      "text/markdown": [
       "5.27939306504328"
      ],
      "text/plain": [
       "[1] 5.279393"
      ]
     },
     "metadata": {},
     "output_type": "display_data"
    },
    {
     "data": {
      "text/html": [
       "'&gt;&gt;&gt; 25th percentile:'"
      ],
      "text/latex": [
       "'>>> 25th percentile:'"
      ],
      "text/markdown": [
       "'&gt;&gt;&gt; 25th percentile:'"
      ],
      "text/plain": [
       "[1] \">>> 25th percentile:\""
      ]
     },
     "metadata": {},
     "output_type": "display_data"
    },
    {
     "data": {
      "text/html": [
       "7.00555298536582"
      ],
      "text/latex": [
       "7.00555298536582"
      ],
      "text/markdown": [
       "7.00555298536582"
      ],
      "text/plain": [
       "[1] 7.005553"
      ]
     },
     "metadata": {},
     "output_type": "display_data"
    },
    {
     "data": {
      "text/html": [
       "'&gt;&gt;&gt; 55th percentile:'"
      ],
      "text/latex": [
       "'>>> 55th percentile:'"
      ],
      "text/markdown": [
       "'&gt;&gt;&gt; 55th percentile:'"
      ],
      "text/plain": [
       "[1] \">>> 55th percentile:\""
      ]
     },
     "metadata": {},
     "output_type": "display_data"
    },
    {
     "data": {
      "text/html": [
       "10.8215856599883"
      ],
      "text/latex": [
       "10.8215856599883"
      ],
      "text/markdown": [
       "10.8215856599883"
      ],
      "text/plain": [
       "[1] 10.82159"
      ]
     },
     "metadata": {},
     "output_type": "display_data"
    },
    {
     "data": {
      "text/html": [
       "'&gt;&gt;&gt; 95th percentile:'"
      ],
      "text/latex": [
       "'>>> 95th percentile:'"
      ],
      "text/markdown": [
       "'&gt;&gt;&gt; 95th percentile:'"
      ],
      "text/plain": [
       "[1] \">>> 95th percentile:\""
      ]
     },
     "metadata": {},
     "output_type": "display_data"
    },
    {
     "data": {
      "text/html": [
       "18.0668264666898"
      ],
      "text/latex": [
       "18.0668264666898"
      ],
      "text/markdown": [
       "18.0668264666898"
      ],
      "text/plain": [
       "[1] 18.06683"
      ]
     },
     "metadata": {},
     "output_type": "display_data"
    }
   ],
   "source": [
    "'>>> 15th percentile:'\n",
    "qnorm(0.15, mean = x_bar, sd = sqrt(S2))\n",
    "\n",
    "'>>> 25th percentile:'\n",
    "qnorm(0.25, mean = x_bar, sd = sqrt(S2))\n",
    "\n",
    "'>>> 55th percentile:'\n",
    "qnorm(0.55, mean = x_bar, sd = sqrt(S2))\n",
    "\n",
    "'>>> 95th percentile:'\n",
    "qnorm(0.95, mean = x_bar, sd = sqrt(S2))"
   ]
  }
 ],
 "metadata": {
  "anaconda-cloud": {},
  "kernelspec": {
   "display_name": "R",
   "language": "R",
   "name": "ir"
  },
  "language_info": {
   "codemirror_mode": "r",
   "file_extension": ".r",
   "mimetype": "text/x-r-source",
   "name": "R",
   "pygments_lexer": "r",
   "version": "3.3.2"
  }
 },
 "nbformat": 4,
 "nbformat_minor": 0
}
