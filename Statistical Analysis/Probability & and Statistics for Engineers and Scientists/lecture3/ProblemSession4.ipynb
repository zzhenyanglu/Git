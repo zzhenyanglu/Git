{
 "cells": [
  {
   "cell_type": "markdown",
   "metadata": {},
   "source": [
    "# MPCS53110 Problem Session 4\n",
    "\n",
    "### 1/28/2017"
   ]
  },
  {
   "cell_type": "markdown",
   "metadata": {},
   "source": [
    "Today:\n",
    "* Exam 1\n",
    "* \"HW\" in assignment 3\n",
    "* \"DO\" in assignment 4"
   ]
  },
  {
   "cell_type": "code",
   "execution_count": 17,
   "metadata": {
    "collapsed": true
   },
   "outputs": [],
   "source": [
    "## re-size the plots.\n",
    "library(repr)\n",
    "options(repr.plot.width=5, repr.plot.height=3)"
   ]
  },
  {
   "cell_type": "markdown",
   "metadata": {},
   "source": [
    "## _Exam 1_\n",
    "***"
   ]
  },
  {
   "cell_type": "markdown",
   "metadata": {},
   "source": [
    "### Problem 1\n",
    "\n",
    "* 1(a)\n",
    "$$E[X]=\\int_{0}^{1} x f_X(x) dx = \\cdots$$\n",
    "\n",
    "* 1(b)\n",
    "$$E[X^2]=\\int_{0}^{1} x^2 f_X(x) dx = \\cdots \\\\\n",
    "Var[X] = E[X^2] - (E[X])^2\n",
    "$$"
   ]
  },
  {
   "cell_type": "markdown",
   "metadata": {},
   "source": [
    "### Problem 2\n",
    "\n",
    "(show some examples of traffice sequences.)\n",
    "\n",
    "\"Wait exactly 4 seconds\" implies:\n",
    "* <span style=\"color:blue\"> There is at least one car passing during the first three seconds. </span>\n",
    "* <span style=\"color:green\"> There is a car passing during the fourth second. </span>\n",
    "* <span style=\"color:darkred\">There is no car passing during the fifth, sixth and seventh second. </span>\n",
    "\n",
    "**Answer=<span style=\"color:blue\">$\\left[1 - (1-p)^3 \\right]$\n",
    "</span><span style=\"color:green\">$p$</span>\n",
    "<span style=\"color:darkred\">$(1-p)^3$</span>.**"
   ]
  },
  {
   "cell_type": "markdown",
   "metadata": {},
   "source": [
    "### Problem 3\n",
    "\n",
    "Assumptions:\n",
    " 1. \n",
    " $X=\\begin{cases}\n",
    " 1, & \\text{take vitamin C supplements} \\\\\n",
    " 0, & \\text{does not take}\n",
    " \\end{cases}\n",
    " $,  $P(X=1)=0.7$.\n",
    " \n",
    " 2. $Y$, number of colds.\n",
    " $$\n",
    " \\begin{align}\n",
    " Y | X=1 & \\sim \\text{Pois}(3) \\\\\n",
    " Y | X=0 & \\sim \\text{Pois}(5) \\\\\n",
    " \\end{align}\n",
    " $$\n",
    "\n",
    "* 3(a) $P(Y \\leq 2 | X=1)$=```ppois(2,3)```, $P(Y \\leq 2 | X=0)$= ```ppois(2,5)```\n",
    "\n",
    "* 3(b) Use law of total probability and conditional probability.  \n",
    "$$\n",
    "\\begin{align}\n",
    "P(Y \\leq 2)&=P(Y \\leq 2, X=1)+P(Y \\leq 2, X=0) \\\\\n",
    "&=P(Y \\leq 2 | X=1)P(X=1)+P(Y\\leq 2| X=0)P(X=0) \\\\\n",
    "&= \\cdots\n",
    "\\end{align}\n",
    "$$\n",
    "\n",
    "* 3(c) Use Baye's rule.  $$P(X=1 | Y \\leq 2)=\\frac{P(Y \\leq 2 | X=1)P(X=1)}{P(Y \\leq 2)}$$"
   ]
  },
  {
   "cell_type": "markdown",
   "metadata": {},
   "source": [
    "### Problem 4\n",
    "Let $X_1$ and $X_2$ be the demands in the first and second week. $X_1, X_2 \\sim \\mathcal{N}(1000, 200^2)$.\n",
    "* 4(a) Probability that each of the 2 weeks has demand less than 1100:\n",
    "\n",
    "$$P(X_1 < 1100 , \\, X_2 < 1100)=P(X_1 < 1100)P(X_2 < 1100)$$\n",
    "and\n",
    "$P(X_1<1100)=P(X_2<1100)$=```pnorm(1100, mean = 1000, sd = 200)```.\n",
    "\n",
    "* 4(b) Probability that total of the demands exceeds 2200:\n",
    "$$P(X_1 + X_2 > 2200)$$\n",
    "**This is different from $P(2X_1 > 2200)$.**\n",
    "We know that the linear combination of Gaussian random variables is still a Gaussian random variable. \n",
    "Assume that \n",
    "$$X_1 + X_2 \\sim \\mathcal{N}(\\mu, \\sigma^2)$$\n",
    "with some unknown $\\mu$, $\\sigma$. We can find out the value of $\\mu$ and $\\sigma$ by:\n",
    "  * using the linearity of expectation: $\\mu = E(X_1 + X_2)=E(X_1)+E(X_2)=1100+1100=2200$.\n",
    "  * using the fact that $X_1$ and $X_2$ are independent: $\\sigma^2 = Var(X_1+X_2)=Var(X_1)+Var(X_2)=200^2+200^2=2\\cdot 200^2$.\n",
    "\n",
    "Therefore, $P(X_1 + X_2 > 2200)=1-P(X_1 + X_2 \\leq 2200)$=```1-pnorm(2200, mean = 2200, sd = sqrt(2*200^2))```.\n",
    "\n",
    "* Extra: what is the distribution of $X_1 - X_2$ ?"
   ]
  },
  {
   "cell_type": "markdown",
   "metadata": {},
   "source": [
    "### Problem 5"
   ]
  },
  {
   "cell_type": "markdown",
   "metadata": {},
   "source": [
    "Similar problems: p163 example 4.2-3,   p191 excercise 4.4-8\n",
    "\n",
    "$f(x,y)=kxy^2$, for $0\\leq x \\leq 2$, $x\\leq y \\leq 3$.\n",
    "\n",
    "* 5(a) Find the constant $k$.\n",
    "Set $$\\int_{0}^{2} \\left( \\int_{x}^{3} kxy^2 \\, dy \\right) dx =1. $$\n",
    "\n",
    "* 5(b) Find the joint CDF of $X$ and $Y$. \n",
    "For $0\\leq x \\leq 2, \\, x\\leq y \\leq 3$:\n",
    "$$\n",
    "\\begin{aligned} F_{X,Y}(s,t) &=P(X \\leq s , \\, Y \\leq t) \\\\\n",
    "&=\\int_{0}^{s} \\left( \\int_{x}^{t} kxy^2 \\,dy \\right) \\, dx \n",
    "\\end{aligned}\n",
    "$$"
   ]
  },
  {
   "cell_type": "markdown",
   "metadata": {},
   "source": [
    "### Problem 6\n",
    "\n",
    "Use the command ```runif(1, min = a, max=b)``` to draw a number from [a,b] uniformly."
   ]
  },
  {
   "cell_type": "code",
   "execution_count": 1,
   "metadata": {
    "collapsed": false
   },
   "outputs": [],
   "source": [
    "my_sampler <- function(fx, M, a, b){\n",
    "\n",
    "    repeat {\n",
    "        x <- runif(1, min = a, max = b)\n",
    "        y <- runif(1, min = 0, max = M)\n",
    "        if (fx(x) >= y)\n",
    "            break\n",
    "        }\n",
    "    x\n",
    "    }"
   ]
  },
  {
   "cell_type": "code",
   "execution_count": 2,
   "metadata": {
    "collapsed": false
   },
   "outputs": [
    {
     "data": {
      "text/html": [
       "TRUE"
      ],
      "text/latex": [
       "TRUE"
      ],
      "text/markdown": [
       "TRUE"
      ],
      "text/plain": [
       "[1] TRUE"
      ]
     },
     "metadata": {},
     "output_type": "display_data"
    }
   ],
   "source": [
    "1 < 2 & 3 < 4"
   ]
  },
  {
   "cell_type": "markdown",
   "metadata": {},
   "source": [
    "Examples:"
   ]
  },
  {
   "cell_type": "markdown",
   "metadata": {},
   "source": [
    "* Define the pdf of a truncated Gaussian distribution:\n",
    "$$\n",
    "f_X(x)=\\begin{cases}\n",
    "\\frac{1}{Z}\\psi(x ; \\mu=1, \\sigma=1), & x \\in [a,b] \\\\\n",
    "0, & \\text{otherwise}.\n",
    "\\end{cases}\n",
    "$$\n",
    "where $\\psi(x ; \\mu=1, \\sigma=1)$ is the pdf of a Gaussian distribution with mean 1 and standard deviation 1; $Z$ is a normalizing constant that makes the integral of $f_X(x)$ over $[a,b]$ be equal to one."
   ]
  },
  {
   "cell_type": "code",
   "execution_count": 3,
   "metadata": {
    "collapsed": false
   },
   "outputs": [],
   "source": [
    "## define the pdf of a truncated Gaussian\n",
    "truncated_gaussian <- function(x) {\n",
    "    \n",
    "    # set the range\n",
    "    a <- -1\n",
    "    b <- 2\n",
    "    \n",
    "    # set the mean and sd of Gaussian\n",
    "    mean <- 1\n",
    "    sd <- 1\n",
    "    \n",
    "    # find the normalizing constant\n",
    "    Z <- pnorm(b, mean = mean, sd = sd)-pnorm(a, mean = mean, sd = sd) \n",
    "    \n",
    "    ret <- (dnorm(x, mean = mean, sd = sd) / Z)*(x >= a & x <=b)\n",
    "    ret\n",
    "    }"
   ]
  },
  {
   "cell_type": "markdown",
   "metadata": {},
   "source": [
    "Now, use the function my_sampler to draw a sample (of size 10000) from the truncated Gaussian distribution.  "
   ]
  },
  {
   "cell_type": "code",
   "execution_count": 4,
   "metadata": {
    "collapsed": true
   },
   "outputs": [],
   "source": [
    "samples <- replicate(10000, my_sampler( truncated_gaussian, 1, -1, 2))"
   ]
  },
  {
   "cell_type": "markdown",
   "metadata": {},
   "source": [
    "\n",
    "**Note**: The maximum of this pdf is $\\frac{1}{Z}\\psi(1) \\approx 0.487$.  But $M$ is set to 1 in this example.  In fact, as long as $M$ is greater than or equal to the maximum of the pdf, the algorithm will work.  However, the larger $M$ is, the smaller the rate of success is."
   ]
  },
  {
   "cell_type": "markdown",
   "metadata": {},
   "source": [
    "Plot the empirical distribution against the pdf:"
   ]
  },
  {
   "cell_type": "code",
   "execution_count": 16,
   "metadata": {
    "collapsed": false
   },
   "outputs": [
    {
     "data": {
      "image/png": "[encoded data removed]",
      "text/plain": [
       "Plot with title “Empirical distribution of samples”"
      ]
     },
     "metadata": {},
     "output_type": "display_data"
    }
   ],
   "source": [
    "xs <- seq(-1, 2, 0.01)\n",
    "ys <- truncated_gaussian(xs)\n",
    "hist(samples, probability = T, main = \"Empirical distribution of samples\")\n",
    "lines(xs, ys, col = \"red\")"
   ]
  },
  {
   "cell_type": "markdown",
   "metadata": {},
   "source": [
    "Another example, sampling Beta distribution (https://en.wikipedia.org/wiki/Beta_distribution):"
   ]
  },
  {
   "cell_type": "code",
   "execution_count": 20,
   "metadata": {
    "collapsed": false
   },
   "outputs": [
    {
     "data": {
      "image/png": "[encoded data removed]",
      "text/plain": [
       "Plot with title “Empirical distribution of samples”"
      ]
     },
     "metadata": {},
     "output_type": "display_data"
    }
   ],
   "source": [
    "my_beta <- function (x) { dbeta(x, 2, 5) }\n",
    "samples <- replicate(10000, my_sampler( my_beta, 2.5, 0, 1))\n",
    "xs <- seq(0, 1, 0.01)\n",
    "ys <- my_beta(xs)\n",
    "hist(samples, probability = T, main = \"Empirical distribution of samples\")\n",
    "lines(xs, ys, col = \"red\")"
   ]
  },
  {
   "cell_type": "markdown",
   "metadata": {},
   "source": [
    "* 6(b)  Let $T$ be the number of draws.  Then, $T\\sim \\text{Geometric(p)}$ where $p$ is the probability to obtain a success in a single draw.  Here, sucess means $f_X(x) \\geq y$ which is the same as the probability that $(x,y)$ falls under the curve $f_X$.  Therefore, \n",
    "\n",
    "$$p=\\frac{\\int_a^b f_X(x) dx}{M(b-1)}=\\frac{1}{M(b-1)}$$\n",
    "\n",
    "$E [T] = \\frac{1}{p} = \\cdots$"
   ]
  },
  {
   "cell_type": "markdown",
   "metadata": {},
   "source": [
    "Extra: what if $F_X(x)$ is non-zero for any $x$ between $-\\infty$ and $\\infty$?  Check out \"Inverse transform sampling\": https://en.wikipedia.org/wiki/Inverse_transform_sampling"
   ]
  },
  {
   "cell_type": "markdown",
   "metadata": {},
   "source": [
    "## \"HW\" in assignment 3"
   ]
  },
  {
   "cell_type": "markdown",
   "metadata": {},
   "source": [
    "### Q1\n",
    "We say that $\\chi_\\alpha$ is the $100(1-\\alpha)$ percentile of the CDF $F_X$ if $F_X(1-\\chi_\\alpha)=1-\\alpha$.\n",
    "Find $\\chi_\\alpha$ for the CDF having PDF $f_\\chi(x)=2\\exp(-2x)$ for $x\\geq 0$ and 0 otherwise."
   ]
  },
  {
   "cell_type": "markdown",
   "metadata": {},
   "source": [
    "\n",
    "1. Find the CDF of $x$.\n",
    "\n",
    "2. Solve $F_X(1-\\chi_\\alpha)=1-\\alpha$ for $\\chi_\\alpha$.\n",
    "Alternatively, solve $F_X(\\chi_\\alpha)= 1-\\alpha$ for $\\chi_\\alpha$."
   ]
  },
  {
   "cell_type": "markdown",
   "metadata": {},
   "source": [
    "### Q2\n",
    "\n",
    "Assumptions:\n",
    "* Innocent: $f_{X_{\\text{innocent}}}(x)=e^{-x}$\n",
    "* Guilty: $f_{X_{\\text{guilty}}}(x)=\\frac{1}{2}e^{-x/2}$\n",
    "\n",
    "2.1 Solve $P(X_{\\text{innocent}} \\leq c)=0.95$ for $c$.\n",
    "\n",
    "2.2 Calculate $P(X_{\\text{guilty}}>C)$"
   ]
  },
  {
   "cell_type": "markdown",
   "metadata": {},
   "source": [
    "### Q3\n",
    "\n",
    "$X_{\\text{algorithms}} \\sim \\mathcal{N}(60, 20^2)$,  $X_{\\text{data-analysis}} \\sim \\mathcal{N}(50, 10^2)$."
   ]
  },
  {
   "cell_type": "code",
   "execution_count": 6,
   "metadata": {
    "collapsed": false
   },
   "outputs": [
    {
     "name": "stdout",
     "output_type": "stream",
     "text": [
      "[1] \"proportion of students got lower grades then you on algorithms:\"\n"
     ]
    },
    {
     "data": {
      "text/html": [
       "0.691462461274013"
      ],
      "text/latex": [
       "0.691462461274013"
      ],
      "text/markdown": [
       "0.691462461274013"
      ],
      "text/plain": [
       "[1] 0.6914625"
      ]
     },
     "metadata": {},
     "output_type": "display_data"
    }
   ],
   "source": [
    "print(\"proportion of students got lower grades then you on algorithms:\")\n",
    "pnorm(70, mean = 60, sd = 20)"
   ]
  },
  {
   "cell_type": "code",
   "execution_count": 7,
   "metadata": {
    "collapsed": false
   },
   "outputs": [
    {
     "name": "stdout",
     "output_type": "stream",
     "text": [
      "[1] \"proportion of students got lower grades then you on data analysis:\"\n"
     ]
    },
    {
     "data": {
      "text/html": [
       "0.884930329778292"
      ],
      "text/latex": [
       "0.884930329778292"
      ],
      "text/markdown": [
       "0.884930329778292"
      ],
      "text/plain": [
       "[1] 0.8849303"
      ]
     },
     "metadata": {},
     "output_type": "display_data"
    }
   ],
   "source": [
    "print(\"proportion of students got lower grades then you on data analysis:\")\n",
    "pnorm(62, mean = 50, sd = 10)"
   ]
  },
  {
   "cell_type": "markdown",
   "metadata": {},
   "source": [
    "### Q5"
   ]
  },
  {
   "cell_type": "markdown",
   "metadata": {},
   "source": [
    "* 5(a) Binomial distribution, with parameters $n$ and $p$."
   ]
  },
  {
   "cell_type": "code",
   "execution_count": 9,
   "metadata": {
    "collapsed": true
   },
   "outputs": [],
   "source": [
    "sample_binomial<-function(n,p){\n",
    "    sum(sample(0:1, size = n, replace = TRUE, prob = c(1-p, p)))    \n",
    "    }"
   ]
  },
  {
   "cell_type": "code",
   "execution_count": 10,
   "metadata": {
    "collapsed": false
   },
   "outputs": [
    {
     "data": {
      "image/png": "[encoded data removed]",
      "text/plain": [
       "Plot with title “Empirical probability distribution”"
      ]
     },
     "metadata": {},
     "output_type": "display_data"
    }
   ],
   "source": [
    "n<-100\n",
    "p<-0.3\n",
    "my_sample<-replicate(10000, sample_binomial(n,p))\n",
    "hist(my_sample, breaks=0:n, prob=T, xlab = \"x\", main = \"Empirical probability distribution\")\n",
    "lines(0:n, dbinom(0:n, n, p), col = \"red\")"
   ]
  },
  {
   "cell_type": "markdown",
   "metadata": {},
   "source": [
    "* 5(b) Geometric distribution, with parameter $p$."
   ]
  },
  {
   "cell_type": "code",
   "execution_count": 11,
   "metadata": {
    "collapsed": true
   },
   "outputs": [],
   "source": [
    "sample_geometric<-function(p){\n",
    "    counter = 1\n",
    "    while (sample(0:1, size = 1, prob = c(1-p, p))==0){\n",
    "        counter <- counter+1\n",
    "        }\n",
    "    counter\n",
    "    }"
   ]
  },
  {
   "cell_type": "code",
   "execution_count": 12,
   "metadata": {
    "collapsed": false
   },
   "outputs": [
    {
     "data": {
      "text/html": [
       "0.25"
      ],
      "text/latex": [
       "0.25"
      ],
      "text/markdown": [
       "0.25"
      ],
      "text/plain": [
       "[1] 0.25"
      ]
     },
     "metadata": {},
     "output_type": "display_data"
    }
   ],
   "source": [
    "# dgeom(1,0.5) is the probability to get a \"success\" after one failure -- this is different from the \n",
    "# definition of geometric distribution in the book.\n",
    "dgeom(1, 0.5) "
   ]
  },
  {
   "cell_type": "code",
   "execution_count": 13,
   "metadata": {
    "collapsed": false
   },
   "outputs": [
    {
     "data": {
      "image/png": "[encoded data removed]",
      "text/plain": [
       "Plot with title “Empirical probability distribution”"
      ]
     },
     "metadata": {},
     "output_type": "display_data"
    }
   ],
   "source": [
    "p <- 0.2\n",
    "my_sample<-replicate(1000, sample_geometric(p))\n",
    "hist(my_sample, breaks = 0:100, prob = T, xlab = \"x\", main = \"Empirical probability distribution\")\n",
    "xs <- 1:100\n",
    "lines(xs, dgeom(xs-1, p), col = \"red\") # notice the range of x."
   ]
  },
  {
   "cell_type": "markdown",
   "metadata": {},
   "source": [
    "* 5(c) Hypergeometric distribution, with parameters $M_1$, $M_2$ and $N$."
   ]
  },
  {
   "cell_type": "code",
   "execution_count": 14,
   "metadata": {
    "collapsed": true
   },
   "outputs": [],
   "source": [
    "sample_hypergeom<-function(M1, M2, N){\n",
    "    urn <- c(rep(1,M1), rep(0,M2))\n",
    "    sum( sample( urn, size = N, replace = FALSE))\n",
    "    }"
   ]
  },
  {
   "cell_type": "code",
   "execution_count": 15,
   "metadata": {
    "collapsed": false
   },
   "outputs": [
    {
     "data": {
      "image/png": "[encoded data removed]",
      "text/plain": [
       "Plot with title “Empirical probability distribution”"
      ]
     },
     "metadata": {},
     "output_type": "display_data"
    }
   ],
   "source": [
    "M1 <- 100\n",
    "M2 <- 250\n",
    "N <- 80\n",
    "my_sample<-replicate(100000, sample_hypergeom(M1, M2, N))\n",
    "hist(my_sample, breaks = 0:N, prob = T, xlab = \"x\", main = \"Empirical probability distribution\")\n",
    "xs <- 0:N\n",
    "lines(xs, dhyper(xs, M1, M2, N), col = \"red\")"
   ]
  }
 ],
 "metadata": {
  "kernelspec": {
   "display_name": "R",
   "language": "R",
   "name": "ir"
  },
  "language_info": {
   "codemirror_mode": "r",
   "file_extension": ".r",
   "mimetype": "text/x-r-source",
   "name": "R",
   "pygments_lexer": "r",
   "version": "3.2.5"
  }
 },
 "nbformat": 4,
 "nbformat_minor": 0
}
