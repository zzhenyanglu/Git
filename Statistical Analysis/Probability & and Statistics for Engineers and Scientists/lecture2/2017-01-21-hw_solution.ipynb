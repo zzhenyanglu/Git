{
 "cells": [
  {
   "cell_type": "markdown",
   "metadata": {},
   "source": [
    "# 1a"
   ]
  },
  {
   "cell_type": "markdown",
   "metadata": {},
   "source": [
    "$f_X(x) = 0.1e^{-0.1x}$ for $x > 0$, $0$ otherwise\n",
    "\\begin{align}\n",
    "E[X] &= \\int_{-\\infty}^{\\infty} xf_X(x) dx \\\\\n",
    "&= \\int_0^{\\infty}0.1xe^{-0.1x} dx\n",
    "\\end{align}\n",
    "\n",
    "First, integrate by parts. Let $u = x, dv = 0.1e^{-0.1x}dx$. Then $du = dx$. To get $v$, we integrate $dv$ by substitution. Let $t = -0.1x$. Then $dt = -0.1dx$, and $-dt = 0.1dx$. We have\n",
    "\\begin{align}\n",
    "v = \\int 0.1e^{-0.1x}dx &= \\int (e^{-0.1x})(0.1dx) \\\\\n",
    "&= \\int e^t (-dt) \\\\\n",
    "&= -\\int e^t dt \\\\\n",
    "&= -e^t + C \\\\\n",
    "&= -e^{-0.1x} + C\n",
    "\\end{align}\n",
    "\n",
    "Now, for solving the rest of the integral, we can actually choose what we want $C$ to be. We'll make it $0$, since that's the only way we'll be able to get an answer for one of the parts. We therefore have\n",
    "\n",
    "\\begin{align}\n",
    "\\int_0^{\\infty}0.1xe^{-0.1x} dx &= \\int_0^{\\infty} u dv \\\\\n",
    "&= uv|_0^{\\infty} - \\int_0^{\\infty} v du \\\\\n",
    "&= -xe^{-0.1x}|_0^{\\infty} - \\int_0^{\\infty} -e^{-0.1x} dx \\\\\n",
    "&= 0 + \\int_0^{\\infty} e^{-0.1x} \\\\\n",
    "&= 10 \\int_0^{\\infty} 0.1 e^{-0.1x} dx \\\\\n",
    "&= 10(-e^{-0.1x}|_0^{\\infty}) \\\\\n",
    "&= 10(1 - 0) = 10,\n",
    "\\end{align}\n",
    "where we used L'Hopital's rule to evaluate $uv$ from $0$ to $\\infty$."
   ]
  },
  {
   "cell_type": "markdown",
   "metadata": {},
   "source": [
    "# 1b"
   ]
  },
  {
   "cell_type": "markdown",
   "metadata": {},
   "source": [
    "\\begin{align}\n",
    "E[X^2] &= \\int_{-\\infty}^{\\infty} x^2f_X(x) dx \\\\\n",
    "&= \\int_0^{\\infty}0.1x^2e^{-0.1x} dx\n",
    "\\end{align}\n",
    "\n",
    "We integrate by parts. Let $u = x, dv = 0.1xe^{-0.1x}dx$. Then $du = dx$, and we know how to integrate $dv$ from our work above: \n",
    "\\begin{equation}v = \\int 0.1xe^{-0.1x}dx = -xe^{-0.1x} - 10e^{-0.1x} + C\\end{equation}\n",
    "\n",
    "We will again choose $C = 0$.\n",
    "\n",
    "Then we have\n",
    "\\begin{align}\n",
    "\\int_0^{\\infty} u dv &= uv|_0^{\\infty} - \\int_0^{\\infty} v du \\\\\n",
    "&= x(-xe^{-0.1x} - 10e^{-0.1x})|_0^{\\infty} - \\int_0^{\\infty} (-xe^{-0.1x} - 10e^{-0.1x}) dx \\\\\n",
    "&= 0 + \\int_0^{\\infty} xe^{-0.1x} + 10\\int_0^{\\infty} e^{-0.1x} &&\\text{(L'Hopital's rule to solve for the first term)}\\\\\n",
    "&= 10\\int_0^{\\infty}0.1xe^{-0.1x} + 10\\cdot 10 &&\\text{(Using above work to solve for the second term)}\\\\\n",
    "&= 10\\cdot 10 + 100 &&\\text{(The first term is equal to 10 times the expected value)} \\\\\n",
    "&= 200\n",
    "\\end{align}\n",
    "\n",
    "Therefore, $V[X] = E[X^2] - E[X]^2 = 200 - 100 = 100$."
   ]
  },
  {
   "cell_type": "markdown",
   "metadata": {
    "collapsed": true
   },
   "source": [
    "# 2"
   ]
  },
  {
   "cell_type": "markdown",
   "metadata": {},
   "source": [
    "First, to solve this problem, we will need to use the formula for the sum of a finite geometric series. Namely, for any starting value $s$, common ratio $r$, and number of terms $n$, we have\n",
    "\\begin{equation}\\sum_{k=0}^{n-1} sr^k = \\frac{sr^n - s}{r - 1}.\\end{equation}\n",
    "\n",
    "$X$ is a uniform random variable, distributed over the sample space $\\{2^a, 2^{a+1}, \\dots, 2^b\\}$. The size of this sample space is $b-a+1$, so we have\n",
    "\\begin{align}\n",
    "E[X] &= \\sum_{k=a}^b \\frac{1}{b-a+1}2^k \\\\\n",
    "&= \\frac{1}{b-a+1}\\sum_{k=a}^b 2^k \\\\\n",
    "&= \\frac{1}{b-a+1} \\frac{2^a \\cdot 2^{b-a+1} - 2^a}{2 - 1} \\\\\n",
    "&= \\frac{2^{b+1} - 2^a}{b-a+1}.\n",
    "\\end{align}\n",
    "\n",
    "\\begin{align}\n",
    "E[X^2] &= \\sum_{k=a}^b \\frac{a}{b-a+1}(2^k)^2 \\\\\n",
    "&= \\frac{1}{b-a+1}\\sum_{k=a}^b 4^k \\\\\n",
    "&= \\frac{1}{b-a+1}\\frac{4^a \\cdot 4^{b-a+1} - 4^a}{4 - 1} \\\\\n",
    "&= \\frac{4^{b+1} - 4^a}{3(b-a+1)}.\n",
    "\\end{align}\n",
    "\n",
    "Therefore, $V[X] = E[X^2] - E[X]^2 =$ \\begin{equation}\\frac{4^{b+1} - 4^a}{3(b-a+1)} - \\frac{(2^{b+1} - 2^a)^2}{(b-a+1)^2}.\\end{equation}"
   ]
  },
  {
   "cell_type": "markdown",
   "metadata": {},
   "source": [
    "# 3a"
   ]
  },
  {
   "cell_type": "markdown",
   "metadata": {},
   "source": [
    "We first find the CDF $F_X$. For any $x$ with $0 \\le x \\le r$, $P(X \\le x)$ is equal to the area of a circle with radius $x$, divided by the area of a circle with radius $r$. This is simply $\\pi x^2/\\pi r^2 = x^2 / r^2$, so\n",
    "\\begin{equation}F_X(x) = \\begin{cases}0 & x < 0 \\\\ \\frac{x^2}{r^2} & 0 \\le x \\le r \\\\ 1 & x > r.\\end{cases}\\end{equation}\n",
    "\n",
    "Then we find the PDF $f_X$ by differentiating $F_X$. For $0 \\le x \\le r$, $F_X'(x) = 2x/r^2$. Now we find the expected value and variance.\n",
    "\\begin{align}\n",
    "E[X] &= \\int_{-\\infty}^{\\infty} x f_X(x) dx \\\\\n",
    "&= \\int_0^r \\frac{2x^2}{r^2} dx \\\\\n",
    "&= \\frac{2x^3}{3r^2} |_0^r \\\\\n",
    "&= \\frac{2r^3}{3r^2} - \\frac{2\\cdot 0^3}{3r^2} \\\\\n",
    "&= \\frac{2r}{3}.\n",
    "\\end{align}\n",
    "\n",
    "\\begin{align}\n",
    "E[X^2] &= \\int_{-\\infty}^{\\infty} x^2 f_X(x) dx \\\\\n",
    "&= \\int_0^r \\frac{2x^3}{r^2} dx \\\\\n",
    "&= \\frac{2x^4}{4r^2} |_0^r \\\\\n",
    "&= \\frac{r^4}{2r^2} - \\frac{0^4}{2r^2} \\\\\n",
    "&= \\frac{r^2}{2}.\n",
    "\\end{align}\n",
    "\n",
    "Therefore, $V[X] = E[X^2] - E[X]^2 = \\frac{r^2}{2} - \\frac{4r^2}{9} = \\frac{r^2}{18}$."
   ]
  },
  {
   "cell_type": "markdown",
   "metadata": {},
   "source": [
    "# 3b"
   ]
  },
  {
   "cell_type": "markdown",
   "metadata": {},
   "source": [
    "The random variable $S$ has the following piecewise definition:\n",
    "\\begin{equation} S = \\begin{cases}\\frac{1}{X} & X \\le t \\\\ 0 & X > t\\end{cases}.\\end{equation}\n",
    "\n",
    "We wish to find $f_S(s) = P(S \\le s)$. Normally, we would like to substitute $S$ with its definition in terms of $X$, but we cannot do so directly in this case because it is possible that $S$ is not equal to $\\frac{1}{X}$. We'd like to treat the two cases, where $S = \\frac{1}{X}$ and where $S = 0$, separately.\n",
    "\n",
    "$S$ is always nonnegative, so if $s < 0$, then $P(S \\le s) = 0$. So, let's assume that $s \\ge 0$. Then we can write\n",
    "\\begin{align}\n",
    "P(S \\le s) &= P(S = 0) + P(0 < S \\le s) \\\\\n",
    "&= P(X > t) + P(0 < S, S \\le s) &&(S = 0 \\Leftrightarrow X > t)\\\\\n",
    "&= (1 - P(X \\le t)) + P(X \\le t, S \\le s) &&(0 < S \\Leftrightarrow X \\le t) \\\\\n",
    "&= (1 - \\frac{t^2}{r^2}) + P(X \\le t, \\frac{1}{X} \\le s) &&(X \\le t \\Rightarrow S = \\frac{1}{X}) \\\\\n",
    "&= (1 - \\frac{t^2}{r^2}) + P(X \\le t, \\frac{1}{s} \\le X) \\\\\n",
    "&= (1 - \\frac{t^2}{r^2}) + P(\\frac{1}{s} \\le X \\le t) \\\\.\n",
    "\\end{align}\n",
    "\n",
    "Now, $\\frac{1}{s} \\le X \\le t$ is only possible if $\\frac{1}{s} \\le t$, if and only if $s \\ge \\frac{1}{t}$. If so, then we simply use $F_X$ to find that $P(\\frac{1}{s} \\le X \\le t) = \\frac{t^2}{r^2} - \\frac{1}{s^2r^2}$. Otherwise, $P(\\frac{1}{s} \\le X \\le t) = 0$. We therefore get\n",
    "\\begin{equation}f_S(s) = \\begin{cases}0 & s < 0 \\\\ 1 - \\frac{t^2}{r^2} & 0 \\le s < \\frac{1}{t} \\\\ 1 - \\frac{1}{s^2r^2} & s \\ge \\frac{1}{t}\\end{cases}.\\end{equation}\n",
    "\n",
    "Since $0 \\neq 1 - \\frac{t^2}{r^2}$, $f_S$ is discontinuous at $0$, so $S$ is not a continuous random variable."
   ]
  },
  {
   "cell_type": "markdown",
   "metadata": {},
   "source": [
    "# 4"
   ]
  },
  {
   "cell_type": "code",
   "execution_count": 4,
   "metadata": {
    "collapsed": false
   },
   "outputs": [
    {
     "data": {
      "image/png": "[encoded data removed]",
      "text/plain": [
       "plot without title"
      ]
     },
     "metadata": {},
     "output_type": "display_data"
    }
   ],
   "source": [
    "binomial <- dbinom(0:8, 8, 13/34)\n",
    "hyper <- function(x) dhyper(0:8, 13*x, 21*x, 8)\n",
    "dist <- function(x,y) sqrt(sum((x-y)^2))\n",
    "x <- 1:1000\n",
    "# sapply is a function that creates a vector by applying the function in the second input to each element of the vector\n",
    "# in the first input.\n",
    "y <- sapply(1:1000, function(x) dist(binomial, hyper(x)))\n",
    "plot(x,y)"
   ]
  },
  {
   "cell_type": "code",
   "execution_count": 3,
   "metadata": {
    "collapsed": false
   },
   "outputs": [
    {
     "data": {
      "text/plain": [
       "\n",
       "Call:\n",
       "lm(formula = log(y) ~ log(x))\n",
       "\n",
       "Residuals:\n",
       "      Min        1Q    Median        3Q       Max \n",
       "-0.004075 -0.001437  0.000188  0.001225  0.124588 \n",
       "\n",
       "Coefficients:\n",
       "              Estimate Std. Error t value Pr(>|t|)    \n",
       "(Intercept) -3.0564479  0.0009188   -3327   <2e-16 ***\n",
       "log(x)      -1.0028210  0.0001533   -6542   <2e-16 ***\n",
       "---\n",
       "Signif. codes:  0 ‘***’ 0.001 ‘**’ 0.01 ‘*’ 0.05 ‘.’ 0.1 ‘ ’ 1\n",
       "\n",
       "Residual standard error: 0.004775 on 998 degrees of freedom\n",
       "Multiple R-squared:      1,\tAdjusted R-squared:      1 \n",
       "F-statistic: 4.28e+07 on 1 and 998 DF,  p-value: < 2.2e-16\n"
      ]
     },
     "metadata": {},
     "output_type": "display_data"
    }
   ],
   "source": [
    "summary(lm(log(y) ~ log(x)))"
   ]
  },
  {
   "cell_type": "markdown",
   "metadata": {},
   "source": [
    "The $R^2$ value of 1 indicates that the model $\\log y = -3.056 -1.003\\log x$ is extremely good. Taking exponentials of both sides, we get the model $y = e^{-3.056}x^{-1.003}$."
   ]
  },
  {
   "cell_type": "code",
   "execution_count": 12,
   "metadata": {
    "collapsed": false
   },
   "outputs": [
    {
     "data": {
      "image/png": "[encoded data removed]",
      "text/plain": [
       "plot without title"
      ]
     },
     "metadata": {},
     "output_type": "display_data"
    }
   ],
   "source": [
    "plot(x,y)\n",
    "curve(exp(-3.056)*x^(-1.003), 1, 1000, col = \"red\", add = T)"
   ]
  },
  {
   "cell_type": "markdown",
   "metadata": {},
   "source": [
    "# 5"
   ]
  },
  {
   "cell_type": "code",
   "execution_count": 13,
   "metadata": {
    "collapsed": true
   },
   "outputs": [],
   "source": [
    "queuemodel <- function(lambda, b, c) {\n",
    "  items = 0\n",
    "  steps = 0\n",
    "  # This is just an arbitrary cutoff to make sure it doesn't run forever.\n",
    "  MAX_ITERS = 100*b\n",
    "  while (steps < MAX_ITERS) {\n",
    "    steps <- steps + 1\n",
    "    items <- items + rpois(1, lambda)\n",
    "    if (items > b) {\n",
    "      break\n",
    "    }\n",
    "    items <- items - min(items, c)\n",
    "  }\n",
    "  if (steps == MAX_ITERS) {\n",
    "    print(\"Never overflowed\")\n",
    "  }\n",
    "  steps\n",
    "}"
   ]
  },
  {
   "cell_type": "markdown",
   "metadata": {},
   "source": [
    "Let $X$ be the number of elements that try to enter the queue in Phase I. If $c = b$, then all elements are removed from the queue in Phase II. Therefore, the only way the queue can overflow is if $X > b$ at some iteration. $X$ is a Poisson random variable with parameter $\\lambda$, so the probability of an overflow is\n",
    "\\begin{equation}P(X > b) = 1 - P(X \\le b) = 1 - \\sum_{k = 0}^b e^{-\\lambda}\\frac{\\lambda^k}{k!}.\\end{equation}\n",
    "\n",
    "Let $Y$ be the number of iterations before an overflow. Then since each iteration is independently and equally likely to overflow, $Y$ is a geometric random variable with parameter $p = P(X > b)$. Therefore, we have\n",
    "\\begin{equation}E[Y] = \\frac{1}{P(X > b)} = \\frac{1}{1 - \\sum_{k = 0}^b e^{-\\lambda}\\frac{\\lambda^k}{k!}}.\\end{equation}\n",
    "\n",
    "We can test this ourselves with our function."
   ]
  },
  {
   "cell_type": "code",
   "execution_count": 14,
   "metadata": {
    "collapsed": false
   },
   "outputs": [
    {
     "data": {
      "text/html": [
       "73.0432"
      ],
      "text/latex": [
       "73.0432"
      ],
      "text/markdown": [
       "73.0432"
      ],
      "text/plain": [
       "[1] 73.0432"
      ]
     },
     "metadata": {},
     "output_type": "display_data"
    }
   ],
   "source": [
    "mean(replicate(10000, queuemodel(5, 10, 10)))"
   ]
  },
  {
   "cell_type": "code",
   "execution_count": 15,
   "metadata": {
    "collapsed": false
   },
   "outputs": [
    {
     "data": {
      "text/html": [
       "73.0179180361658"
      ],
      "text/latex": [
       "73.0179180361658"
      ],
      "text/markdown": [
       "73.0179180361658"
      ],
      "text/plain": [
       "[1] 73.01792"
      ]
     },
     "metadata": {},
     "output_type": "display_data"
    }
   ],
   "source": [
    "1 / ppois(10, 5, lower.tail = F)"
   ]
  },
  {
   "cell_type": "code",
   "execution_count": 16,
   "metadata": {
    "collapsed": false
   },
   "outputs": [
    {
     "data": {
      "text/html": [
       "14.8117"
      ],
      "text/latex": [
       "14.8117"
      ],
      "text/markdown": [
       "14.8117"
      ],
      "text/plain": [
       "[1] 14.8117"
      ]
     },
     "metadata": {},
     "output_type": "display_data"
    }
   ],
   "source": [
    "mean(replicate(10000, queuemodel(5, 8, 8)))"
   ]
  },
  {
   "cell_type": "code",
   "execution_count": 17,
   "metadata": {
    "collapsed": false
   },
   "outputs": [
    {
     "data": {
      "text/html": [
       "14.6856604745045"
      ],
      "text/latex": [
       "14.6856604745045"
      ],
      "text/markdown": [
       "14.6856604745045"
      ],
      "text/plain": [
       "[1] 14.68566"
      ]
     },
     "metadata": {},
     "output_type": "display_data"
    }
   ],
   "source": [
    "1 / ppois(8, 5, lower.tail = F)"
   ]
  },
  {
   "cell_type": "code",
   "execution_count": null,
   "metadata": {
    "collapsed": true
   },
   "outputs": [],
   "source": []
  }
 ],
 "metadata": {
  "kernelspec": {
   "display_name": "R",
   "language": "R",
   "name": "ir"
  },
  "language_info": {
   "codemirror_mode": "r",
   "file_extension": ".r",
   "mimetype": "text/x-r-source",
   "name": "R",
   "pygments_lexer": "r",
   "version": "3.3.2"
  }
 },
 "nbformat": 4,
 "nbformat_minor": 0
}
