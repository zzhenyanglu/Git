{
 "cells": [
  {
   "cell_type": "markdown",
   "metadata": {},
   "source": [
    "# MPCS 53110 - HOMEWORK 2\n",
    "\n",
    "# Student name: Zhenyang Lu\n"
   ]
  },
  {
   "cell_type": "markdown",
   "metadata": {},
   "source": [
    "# Question 1\n",
    "\n",
    "(1) \n",
    "\n",
    "E(X) =  $\\int_{0}^{ \\infty } 0.1e^{-0.1x} dx$, since d(uv) = d(v)u + d(u)v, $\\int u dv = uv - \\int v du $, So $$E(X) =  $\\int_{0}^{ \\infty } 0.1e^{-0.1x} dx = \\int 0.1te^{-0.1t} dt = \\int td(-e^{-0.1t})=-te^{-0.1t} + \\int e^{-0.1t} dt = -te^{-0.1t} + (-10)e^{-0.1t} |^{\\infty}_0 = 0 - (-10) = 10 $$ \n",
    "\n",
    "(2)\n",
    "\n",
    "$Var(X) = E(X^2) - E(X)^2 $. since d(uv) = d(v)u + d(u)v, $\\int u dv = uv - \\int v du $\n",
    "\n",
    "$ E(X^2) = \\int 0.1x^2e^{-0.1x} dx = \\int x^2 d(-e^{-0.1x}) = -x^2e^{-0.1x} + \\int e^{-0.1x} d(x^2) = -x^2e^{-0.1x} + 2\\int xe^{-0.1x} =-x^2e^{-0.1x} + 2(\\int -xe^{-0.1x} dx) = -x^2e^{-0.1x} + 2(\\int -xd(-10e^{-0.1x})) = -x^2e^{-0.1x} + 2( -10xe^{-0.1x} + \\int 10e^{-0.1x} dx) = (-x^2e^{-0.1x} - 20xe^{-0.1x}-200e^{-0.1x}) |^{\\infty}_0 = 200 $ \n",
    "\n",
    "$E(X)^2 = 10^2 = 100$\n",
    "\n",
    "$Var(X) = E(X^2) - E(X)^2 = 200 -100 = 100$"
   ]
  },
  {
   "cell_type": "markdown",
   "metadata": {},
   "source": [
    "# Question 2\n",
    "\n",
    "(1) \n",
    "\n",
    "X is a uniform distribution with a PDF as $ 1/(2^a - 2^b)$, for x within $ [2^a,2^b] $ \n",
    "\n",
    "E(x) = $\\int \\frac{x}{2^b-2^a} dx =  \\frac{1}{2^b-2^a} \\int x dx = \\frac{x^2}{2^{b+1}-2^{a+1}} | ^{2^b}_{2^a} = \\frac {2^{2b}-2^{2a}}{2^{b+1}-2^{a+1}} = \\frac{2^b + 2^a}{2}$\n",
    "\n",
    "(2)\n",
    "\n",
    "Var(x) = $E(x^2) - E(x)^2$.\n",
    "\n",
    "$E(x^2) = \\int \\frac{x^2}{2^b-2^a} = \\frac{1}{2^b-2^a} \\int x^2 = \\frac{1}{3(2^b-2^a)} x^3|^{2^b}_{2^a} = \\frac{2^{2b}+2^{2a}+2^{ab}}{3}$\n",
    "\n",
    "$E(x)^2 = \\frac{(2^b + 2^a)^2}{4}$\n",
    "\n",
    "Var(x) = $E(x^2) - E(x)^2 = \\frac{2^{2b}+2^{2a}+2^{ab}}{3} - \\frac{(2^b + 2^a)^2}{4} = \\frac{4*2^{2b}+4*2^{2a}+4*2^{ab}-3*2^{2b}-3*2^{2a}-6*2^{ab}}{12}=\\frac {(2^b-2^a)^2}{12} = \\frac {(2^a-2^b)^2}{12}$ "
   ]
  },
  {
   "cell_type": "markdown",
   "metadata": {},
   "source": [
    "# Question 3\n",
    "\n",
    "(1)\n",
    "\n",
    "CDF = Area of the circle that contains the point / Area of circular target = $ \\frac{\\pi x^2}{\\pi r^2} = \\frac{x^2}{r^2}= \\frac{2x}{r^2} $ \n",
    "\n",
    "PDF = $ (\\frac{\\pi x^2}{\\pi r^2})' = (\\frac{x^2}{r^2})'= \\frac{2x}{r^2} $\n",
    "\n",
    "$ E(x) = \\int \\frac {2x} {r^2} xdx =\\int \\frac {2x^2} {r^2} dx = \\frac{2x^3}{3r^2} |^r_0 = \\frac{2r}{3} $ \n",
    "\n",
    "$ E(x^2) = \\int \\frac{2x} {r^2} xdx = \\int \\frac{2x^3} {r^2} dx = \\frac {x^4}{2r^2}|^r_0 = \\frac{r^2}{2}$\n",
    "\n",
    "$ Var(x) = E(x^2)-E(x)^2 = \\frac{r^2}{2} - (\\frac{2r}{3})^2 = \\frac{r^2}{18}$ \n",
    "\n",
    "(2) \n",
    "\n",
    "First, let's define value range of s. x's value range is (0,r]. when x -> 0, S=(1/x) -> +infinity. When x -> T, S = 1/T, this is when the dart is outside the inner circle, S=0. So apparently, s is not a continuous variable, in the sense that s can not be within the range (0,1/T).  \n",
    "\n",
    "Now, work on CDF of s. Based on the previous analysis, s is defined with the following intervals/point of real number: \n",
    "\n",
    "       (1)  s=0 \n",
    "\n",
    "       (2)  s within [1/T, +infinity) \n",
    "\n",
    "When $ 0 \\leq s \\lt 1/T $, aka, when thr dart is outside the inner circle. $ F(x) = 1 - \\frac{T^2}{R^2} $\n",
    "\n",
    "when $ 1/T \\leq s \\leq +\\infty $, the score, S, is proportional to position of the dart.  $ F(x) = 1 - \\frac{x^2}{R^2} = 1 - \\frac{1}{R^2 s^2}$"
   ]
  },
  {
   "cell_type": "markdown",
   "metadata": {},
   "source": [
    "# Question 4"
   ]
  },
  {
   "cell_type": "code",
   "execution_count": 3,
   "metadata": {
    "collapsed": true
   },
   "outputs": [],
   "source": [
    "# (a)\n",
    "binomial_pmf = function(x){ dbinom(1:8,8,13/34)}\n",
    "hypergeometric_pmf = function(x){ dhyper(x=(1:8), m=13*x,n=21*x,k=8)}"
   ]
  },
  {
   "cell_type": "code",
   "execution_count": 7,
   "metadata": {
    "collapsed": false
   },
   "outputs": [
    {
     "data": {
      "image/png": "[encoded data removed]",
      "text/plain": [
       "plot without title"
      ]
     },
     "metadata": {},
     "output_type": "display_data"
    }
   ],
   "source": [
    "# (b)\n",
    "\n",
    "dist <- function(x,y) { if (length(x) != length(y)) stop(\"Inputs must have same length\"); sqrt(sum((x-y)^2)) }\n",
    "binomial_pmf = function(x){ dbinom(1:8,8,13/34)}\n",
    "hypergeometric_pmf = function(x){ dhyper(x=(1:8), m=13*x,n=21*x,k=8)}\n",
    "distance=vector('integer')\n",
    "for (i in c(1:1000)){distance=append(distance,dist(hypergeometric_pmf(i),binomial_pmf()))}\n",
    "plot(distance,type='l',xlab='X')"
   ]
  },
  {
   "cell_type": "code",
   "execution_count": 9,
   "metadata": {
    "collapsed": false
   },
   "outputs": [
    {
     "data": {
      "image/png": "[encoded data removed]",
      "text/plain": [
       "plot without title"
      ]
     },
     "metadata": {},
     "output_type": "display_data"
    },
    {
     "data": {
      "image/png": "[encoded data removed]",
      "text/plain": [
       "plot without title"
      ]
     },
     "metadata": {},
     "output_type": "display_data"
    }
   ],
   "source": [
    "#(c)\n",
    "\n",
    "# initiate dataset\n",
    "dist <- function(x,y) { if (length(x) != length(y)) stop(\"Inputs must have same length\"); sqrt(sum((x-y)^2)) }\n",
    "binomial_pmf = function(x){ dbinom(1:8,8,13/34)}\n",
    "hypergeometric_pmf = function(x){ dhyper(x=(1:8), m=13*x,n=21*x,k=8)}\n",
    "distance=vector('integer')\n",
    "for (i in c(1:1000)){distance=append(distance,dist(hypergeometric_pmf(i),binomial_pmf()))}\n",
    "\n",
    "# plotting\n",
    "plot(-log(distance,base=exp(10)),type='l',xlab='log of X base 10')\n",
    "plot(-distance^(1/100),type='l',xlab='X to power of 1/100')\n",
    "\n",
    "# initial impression:  \n",
    "# Upon trails on the previous plotting, it looks like a exponential \n",
    "# relationship. so we could try to log the distance vector or raise it \n",
    "# to smaller than 1 power, like 1/10 or 1/100. After several visual \n",
    "# experiments with different plots, I'm happy with x being -log(distance,10) \n",
    "# and -distance^(1/100), see below. "
   ]
  },
  {
   "cell_type": "code",
   "execution_count": 13,
   "metadata": {
    "collapsed": false
   },
   "outputs": [
    {
     "data": {
      "text/plain": [
       "\n",
       "Call:\n",
       "lm(formula = -log(distance, base = exp(100)) ~ log(c(1:1000)))\n",
       "\n",
       "Residuals:\n",
       "       Min         1Q     Median         3Q        Max \n",
       "-1.334e-03 -1.320e-05 -2.020e-06  1.542e-05  4.386e-05 \n",
       "\n",
       "Coefficients:\n",
       "                Estimate Std. Error t value Pr(>|t|)    \n",
       "(Intercept)    3.083e-02  9.863e-06    3126   <2e-16 ***\n",
       "log(c(1:1000)) 1.003e-02  1.646e-06    6095   <2e-16 ***\n",
       "---\n",
       "Signif. codes:  0 '***' 0.001 '**' 0.01 '*' 0.05 '.' 0.1 ' ' 1\n",
       "\n",
       "Residual standard error: 5.126e-05 on 998 degrees of freedom\n",
       "Multiple R-squared:      1,\tAdjusted R-squared:      1 \n",
       "F-statistic: 3.715e+07 on 1 and 998 DF,  p-value: < 2.2e-16\n"
      ]
     },
     "metadata": {},
     "output_type": "display_data"
    },
    {
     "data": {
      "text/plain": [
       "\n",
       "Call:\n",
       "lm(formula = -distance^(1/100) ~ log(c(1:1000)))\n",
       "\n",
       "Residuals:\n",
       "       Min         1Q     Median         3Q        Max \n",
       "-2.382e-03 -5.539e-05  5.370e-06  7.200e-05  1.137e-04 \n",
       "\n",
       "Coefficients:\n",
       "                 Estimate Std. Error t value Pr(>|t|)    \n",
       "(Intercept)    -9.686e-01  2.341e-05  -41364   <2e-16 ***\n",
       "log(c(1:1000))  9.252e-03  3.907e-06    2368   <2e-16 ***\n",
       "---\n",
       "Signif. codes:  0 '***' 0.001 '**' 0.01 '*' 0.05 '.' 0.1 ' ' 1\n",
       "\n",
       "Residual standard error: 0.0001217 on 998 degrees of freedom\n",
       "Multiple R-squared:  0.9998,\tAdjusted R-squared:  0.9998 \n",
       "F-statistic: 5.608e+06 on 1 and 998 DF,  p-value: < 2.2e-16\n"
      ]
     },
     "metadata": {},
     "output_type": "display_data"
    },
    {
     "data": {
      "image/png": "[encoded data removed]",
      "text/plain": [
       "plot without title"
      ]
     },
     "metadata": {},
     "output_type": "display_data"
    },
    {
     "data": {
      "image/png": "[encoded data removed]",
      "text/plain": [
       "plot without title"
      ]
     },
     "metadata": {},
     "output_type": "display_data"
    }
   ],
   "source": [
    "# continue with re regression model training: \n",
    "\n",
    "# creating dataset\n",
    "dist <- function(x,y) { if (length(x) != length(y)) stop(\"Inputs must have same length\"); sqrt(sum((x-y)^2)) }\n",
    "binomial_pmf = function(x){ dbinom(1:8,8,13/34)}\n",
    "hypergeometric_pmf = function(x){ dhyper(x=(1:8), m=13*x,n=21*x,k=8)}\n",
    "distance=vector('integer')\n",
    "for (i in c(1:1000)){distance=append(distance,dist(hypergeometric_pmf(i),binomial_pmf()))}\n",
    "\n",
    "# final liner model after trial-and-error based on residual, r-square, p-value.\n",
    "summary((lm(-log(distance,base=exp(100)) ~ log(c(1:1000)))))\n",
    "summary((lm(-distance^(1/100) ~ log(c(1:1000)))))\n",
    "\n",
    "# plot residuals\n",
    "plot(residuals(summary((lm(-log(distance,base=exp(100)) ~ log(c(1:1000)))))))\n",
    "plot(residuals(summary((lm(-distance^(1/100) ~ log(c(1:1000)))))))\n",
    "\n",
    "# CONCLUSION: judging on the residual plots, the first formular is better, \n",
    "#             though very marginally.\n",
    "\n",
    "# SO my formular is : -log(distance)=log(n). So the larger the n is, \n",
    "#                     the better the two models get close to each other.  "
   ]
  },
  {
   "cell_type": "markdown",
   "metadata": {},
   "source": [
    "# Question 5\n",
    "\n",
    "(a)"
   ]
  },
  {
   "cell_type": "code",
   "execution_count": 14,
   "metadata": {
    "collapsed": false
   },
   "outputs": [
    {
     "data": {
      "image/png": "[encoded data removed]",
      "text/plain": [
       "Plot with title \"Histogram of replicate(1000, mean(replicate(100, queuemodel(3, 10, 3))))\""
      ]
     },
     "metadata": {},
     "output_type": "display_data"
    }
   ],
   "source": [
    "queuemodel=function(lambda,b,c)\n",
    "{ \n",
    "  queue=0;\n",
    "  iteration=0;\n",
    "  \n",
    "  while(TRUE)\n",
    "  {\n",
    "    queue=queue+rpois(1,lambda);\n",
    "    iteration=iteration+1;\n",
    "    \n",
    "    if(queue>b)\n",
    "    {\n",
    "      return(iteration);\n",
    "    }\n",
    "    \n",
    "    else\n",
    "    {\n",
    "      queue=max(queue-c,0);\n",
    "    }\n",
    "  }\n",
    "}\n",
    "\n",
    "hist(replicate(1000,mean(replicate(100,queuemodel(3,10,3)))), freq = F, breaks = 20)"
   ]
  },
  {
   "cell_type": "markdown",
   "metadata": {},
   "source": [
    "(b)\n",
    "\n",
    "if b = c, as along as the input does not exceed b in PHRASE I, PHRASE II will handle all the process in memory out. Then whether its gonna overflow depends only on if the inputs would be larger than the length of memory. So each process becomes independent of each other with a overflow probability of $$ P(b <x) = 1 - P(b \\geq x)= 1 - (e^{-\\lambda} \\frac{\\lambda ^{1}}{1!} + e^{-\\lambda} \\frac{\\lambda ^{2}}{2!} + .... e^{-\\lambda} \\frac{\\lambda ^{b}}{b!} )$$, NOTE that it is not an overflow if inputs is b, it is only a overflow when inputs is larger than b, \n",
    "\n",
    "The overall probability of an overflow can be described as how many indepedent binomial trials each with a overflow possibility of $ P(b <x) = 1 - P(b \\geq x)= 1 - (e^{-\\lambda} \\frac{\\lambda ^{1}}{1!} + e^{-\\lambda} \\frac{\\lambda ^{2}}{2!} + .... e^{-\\lambda} \\frac{\\lambda ^{b}}{b!} )$ needed until an overflow happens, incusive. This behavior follows Geometric distribution, which can be expressd as \n",
    "\n",
    "$ PMF of geometric distribution: f(X=x) = (1-p)^{x-1}p $, where $p = 1 - (e^{-\\lambda} \\frac{\\lambda ^{1}}{1!} + e^{-\\lambda} \\frac{\\lambda ^{2}}{2!} + .... e^{-\\lambda} \\frac{\\lambda ^{b}}{b!} )$"
   ]
  },
  {
   "cell_type": "markdown",
   "metadata": {},
   "source": [
    "(c) \n",
    "\n",
    "Omitting the step-by-step calculation and taking E(X) of geometric distribution from textbook, $$ E(X) = \\frac{1}{p} = \\frac{1}{1 - (e^{-\\lambda} \\frac{\\lambda ^{1}}{1!} + e^{-\\lambda} \\frac{\\lambda ^{2}}{2!} + .... e^{-\\lambda} \\frac{\\lambda ^{b}}{b!} )}$$  "
   ]
  },
  {
   "cell_type": "code",
   "execution_count": null,
   "metadata": {
    "collapsed": true
   },
   "outputs": [],
   "source": []
  }
 ],
 "metadata": {
  "anaconda-cloud": {},
  "kernelspec": {
   "display_name": "R",
   "language": "R",
   "name": "ir"
  },
  "language_info": {
   "codemirror_mode": "r",
   "file_extension": ".r",
   "mimetype": "text/x-r-source",
   "name": "R",
   "pygments_lexer": "r",
   "version": "3.3.2"
  }
 },
 "nbformat": 4,
 "nbformat_minor": 1
}
