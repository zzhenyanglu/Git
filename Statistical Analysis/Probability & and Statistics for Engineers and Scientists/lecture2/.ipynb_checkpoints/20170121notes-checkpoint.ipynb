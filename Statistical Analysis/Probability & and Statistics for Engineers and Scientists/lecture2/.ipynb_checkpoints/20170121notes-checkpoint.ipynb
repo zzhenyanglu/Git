{
 "cells": [
  {
   "cell_type": "markdown",
   "metadata": {},
   "source": [
    "# 3.2.10a"
   ]
  },
  {
   "cell_type": "markdown",
   "metadata": {},
   "source": [
    "We wish to integrate $f(x)$ from 48 to 72. This is the same as integrating $0.02e^{-0.02x}$ from 0 to 24, which we know has an exponential distribution with parameter $\\lambda = 0.02$. Such a function has the CDF $F(x) = 1 - e^{-0.02x}$ for $x > 0$. Therefore, the answer is\n",
    "\\begin{align}\n",
    "F(24) - F(0) &= (1 - e^{-0.02 \\cdot 24}) - (1 - e^{-0.02 \\cdot 0}) \\\\\n",
    "= 1 - e^{-0.48}.\n",
    "\\end{align}\n",
    "\n",
    "We can confirm this with R:"
   ]
  },
  {
   "cell_type": "code",
   "execution_count": 1,
   "metadata": {
    "collapsed": false
   },
   "outputs": [
    {
     "data": {
      "text/html": [
       "0.381216608193859"
      ],
      "text/latex": [
       "0.381216608193859"
      ],
      "text/markdown": [
       "0.381216608193859"
      ],
      "text/plain": [
       "[1] 0.3812166"
      ]
     },
     "metadata": {},
     "output_type": "display_data"
    }
   ],
   "source": [
    "1 - exp(-0.48)"
   ]
  },
  {
   "cell_type": "code",
   "execution_count": 2,
   "metadata": {
    "collapsed": false
   },
   "outputs": [
    {
     "data": {
      "text/plain": [
       "0.3812166 with absolute error < 4.2e-15"
      ]
     },
     "metadata": {},
     "output_type": "display_data"
    }
   ],
   "source": [
    "integrate(f = function (x) 0.02*exp(-0.02*(x - 48)), lower = 48, upper = 72)"
   ]
  },
  {
   "cell_type": "markdown",
   "metadata": {},
   "source": [
    "# 3.2.10b"
   ]
  },
  {
   "cell_type": "markdown",
   "metadata": {},
   "source": [
    "We integrate $f(x)$ from 96 to 168, which is the same as integrating $0.02e^{-0.02x}$ from 48 to 120. Therefore, the answer is $(1 - e^{-0.02 \\cdot 120}) - (1 - e^{-0.02 \\cdot 48}) = e^{-0.96} - e^{-2.40}$. We can confirm this with R:"
   ]
  },
  {
   "cell_type": "code",
   "execution_count": 1,
   "metadata": {
    "collapsed": false
   },
   "outputs": [
    {
     "data": {
      "text/html": [
       "0.2921749326857"
      ],
      "text/latex": [
       "0.2921749326857"
      ],
      "text/markdown": [
       "0.2921749326857"
      ],
      "text/plain": [
       "[1] 0.2921749"
      ]
     },
     "metadata": {},
     "output_type": "display_data"
    }
   ],
   "source": [
    "exp(-0.96) - exp(-2.40)"
   ]
  },
  {
   "cell_type": "code",
   "execution_count": 2,
   "metadata": {
    "collapsed": false
   },
   "outputs": [
    {
     "data": {
      "text/plain": [
       "0.2921749 with absolute error < 3.2e-15"
      ]
     },
     "metadata": {},
     "output_type": "display_data"
    }
   ],
   "source": [
    "integrate(f = function (x) 0.02*exp(-0.02*(x - 48)), lower = 96, upper = 168)"
   ]
  },
  {
   "cell_type": "markdown",
   "metadata": {},
   "source": [
    "# 3.3.7a"
   ]
  },
  {
   "cell_type": "markdown",
   "metadata": {},
   "source": [
    "The median of a probability distribution with CDF $F$ is the value $x$ such that $F(x) = 1/2$. Therefore, we need only solve\n",
    "\\begin{align}\n",
    "F(x) &= 1/2 \\\\\n",
    "\\frac{x^2}{4} &= 1/2 \\\\\n",
    "x &= \\sqrt{2}\n",
    "\\end{align}\n",
    "\n",
    "To find the interquartile range, we need to find the first and third quartiles, which are the values $x_1, x_3$ such that $F(x_1) = 1/4, F(x_3) = 3/4$. By the same procedure above, we get $x_1 = 1, x_3 = \\sqrt{3}$. Therefore, the interquartile range is $\\sqrt{3} - 1$."
   ]
  },
  {
   "cell_type": "markdown",
   "metadata": {},
   "source": [
    "# 3.3.7b"
   ]
  },
  {
   "cell_type": "markdown",
   "metadata": {},
   "source": [
    "To find the mean and standard deviation, we need to find the PDF $f$ first. We just have to differentiate the CDF, so the $f(x) = F'(x) = x/2$ for $x$ between 0 and 2.\n",
    "\n",
    "\\begin{align}\n",
    "E[X] &= \\int_{-\\infty}^{\\infty} xf(x) dx \\\\\n",
    "&= \\int_0^2 \\frac{x^2}{2} dx \\\\\n",
    "&= \\frac{x^3}{6}|_0^2 = \\frac{4}{3}\n",
    "\\end{align}\n",
    "\n",
    "\\begin{align}\n",
    "E[X^2] &= \\int_{-\\infty}^{\\infty} x^2f(x) dx \\\\\n",
    "&= \\int_0^2 \\frac{x^3}{2} dx \\\\\n",
    "&= \\frac{x^4}{8}|_0^2 = \\frac{16}{8} = 2\n",
    "\\end{align}\n",
    "\n",
    "\\begin{align}\n",
    "V[X] &= E[X^2] - E[X]^2 \\\\\n",
    "&= 2 - (\\frac{4}{3})^2 = \\frac{18}{9} - \\frac{16}{9} = \\frac{2}{9}\n",
    "\\end{align}\n",
    "\n",
    "Therefore, $\\sigma_X = \\sqrt{V[X]} = \\sqrt{\\frac{2}{9}}$.\n",
    "\n",
    "We can confirm this with R:"
   ]
  },
  {
   "cell_type": "code",
   "execution_count": 20,
   "metadata": {
    "collapsed": false
   },
   "outputs": [
    {
     "data": {
      "text/plain": [
       "1.333333 with absolute error < 1.5e-14"
      ]
     },
     "metadata": {},
     "output_type": "display_data"
    }
   ],
   "source": [
    "integrate(function (x) x^2 / 2, lower = 0, upper = 2)"
   ]
  },
  {
   "cell_type": "code",
   "execution_count": 21,
   "metadata": {
    "collapsed": false
   },
   "outputs": [
    {
     "data": {
      "text/plain": [
       "2 with absolute error < 2.2e-14"
      ]
     },
     "metadata": {},
     "output_type": "display_data"
    }
   ],
   "source": [
    "integrate(function(x) x^3 / 2, lower = 0, upper = 2)"
   ]
  },
  {
   "cell_type": "markdown",
   "metadata": {},
   "source": [
    "# 3.4.2"
   ]
  },
  {
   "cell_type": "markdown",
   "metadata": {},
   "source": [
    "Since we are concerned with whether cars stop at the intersection when no other cars are visible, we can assume that the probability that any given car stops is independent of the probability that any other car stops. Therefore, the event that each car stops can be considered a Bernoulli trial with probability $p = 0.3$ of success. Since $X$ is the number of cars out of 15 that stop, we can consider $X$ to be a binomial random variable with parameters $n = 15$ and $p = 0.3$. The expected value $E[X]$ is $np = 4.5$, and the variance $V[X] = np(1-p) = 3.15$.\n",
    "\n",
    "\\begin{equation}P(X = 6) = \\binom{15}{6}0.3^60.7^9\\end{equation}\n",
    "\\begin{equation}P(X \\ge 6) = \\sum_{i = 6}^{15} \\binom{15}{i}0.3^i0.7^{15-i}\\end{equation}\n",
    "\n",
    "For more useful numbers, we can use R commands:"
   ]
  },
  {
   "cell_type": "code",
   "execution_count": 7,
   "metadata": {
    "collapsed": false
   },
   "outputs": [
    {
     "data": {
      "text/html": [
       "0.147235986412515"
      ],
      "text/latex": [
       "0.147235986412515"
      ],
      "text/markdown": [
       "0.147235986412515"
      ],
      "text/plain": [
       "[1] 0.147236"
      ]
     },
     "metadata": {},
     "output_type": "display_data"
    }
   ],
   "source": [
    "dbinom(6, 15, 0.3)"
   ]
  },
  {
   "cell_type": "code",
   "execution_count": 9,
   "metadata": {
    "collapsed": false
   },
   "outputs": [
    {
     "data": {
      "text/html": [
       "0.278378559795636"
      ],
      "text/latex": [
       "0.278378559795636"
      ],
      "text/markdown": [
       "0.278378559795636"
      ],
      "text/plain": [
       "[1] 0.2783786"
      ]
     },
     "metadata": {},
     "output_type": "display_data"
    }
   ],
   "source": [
    "pbinom(5, 15, 0.3, lower.tail = F) # set lower.tail = F to get P(X > x)"
   ]
  },
  {
   "cell_type": "markdown",
   "metadata": {},
   "source": [
    "# 3.4.12"
   ]
  },
  {
   "cell_type": "markdown",
   "metadata": {},
   "source": [
    "The buses belong to two categories, defective and non-defective, and we select a random subset without replacement from them. Since $X$ is equal to the number of buses in the subset belonging to the category of defective buses, $X$ is a hypergeometric variable with $M_1 = 6, M_2 = 9, n = 5$.\n",
    "\n",
    "The sample space is the set of possible numbers of buses in our subset that can be defective. Since $M_1 > n$ and $M_2 > n$, it is possible that all of the buses can be defective, or none of them can be defective. The sample space is therefore the set of all integers from 0 to $n$. The probability of selecting $k$ defective buses is equal to the number of ways to select $k$ defective buses, divided by the number of ways to select $n$ buses in general. This is\n",
    "\n",
    "\\begin{equation}\n",
    "\\frac{\\binom{M_1}{k}\\binom{M_2}{n-k}}{\\binom{N}{n}} = \\frac{\\binom{6}{k}\\binom{9}{5-k}}{\\binom{15}{5}}\n",
    "\\end{equation}\n",
    "\n",
    "The mean $E[X]$ is $n\\frac{M_1}{N} = 5\\frac{6}{6+9} = \\frac{30}{15} = 2$, and the variance $V[X]$ is\n",
    "\\begin{align}\n",
    "n\\frac{M_1}{N}(1 - \\frac{M_1}{N})\\frac{N - n}{N- 1} &= 5\\frac{6}{15}\\frac{9}{15}\\frac{10}{14} \\\\\n",
    "&= \\frac{6}{7}\n",
    "\\end{align}\n",
    "\n",
    "Finally, we can use R to find $P(2 \\le X \\le 4)$:"
   ]
  },
  {
   "cell_type": "code",
   "execution_count": 12,
   "metadata": {
    "collapsed": false
   },
   "outputs": [
    {
     "data": {
      "text/html": [
       "0.704295704295704"
      ],
      "text/latex": [
       "0.704295704295704"
      ],
      "text/markdown": [
       "0.704295704295704"
      ],
      "text/plain": [
       "[1] 0.7042957"
      ]
     },
     "metadata": {},
     "output_type": "display_data"
    }
   ],
   "source": [
    "phyper(4, 6, 9, 5) - phyper(1, 6, 9, 5)"
   ]
  },
  {
   "cell_type": "markdown",
   "metadata": {},
   "source": [
    "# 3.4.18"
   ]
  },
  {
   "cell_type": "markdown",
   "metadata": {},
   "source": [
    "We will assume that potholes on I80 occur uniformly at random with an average rate of 1.6 potholes per ten miles. (This is probably the least justified assumption we will be making today, but it's all we have to go on.) This means that the number of potholes in a 30-mile stretch of I80 is a Poisson random variable with parameter $\\lambda = 3 \\cdot 1.6 = 4.8$. Both the expected value and the variance are equal to $\\lambda = 4.8$.\n",
    "\n",
    "$Y = 5000X$. By linearity of expectation, $E[Y] = E[5000X] = 5000E[X] = 5000 \\cdot 4.8 = \\$24,000.$ The variance $V[Y]$ is $V[5000X] = 5000^2E[X] = 2.5 \\cdot 10^7 \\cdot 4.8 = 1.2 \\cdot 10^8$.\n",
    "\n",
    "\\begin{equation}P(4 < X \\le 9) = \\sum_{k=5}^9 e^{-4.8}\\frac{4.8^k}{k!}\\end{equation}\n",
    "\n",
    "For a more useful number, we use R:"
   ]
  },
  {
   "cell_type": "code",
   "execution_count": 11,
   "metadata": {
    "collapsed": false
   },
   "outputs": [
    {
     "data": {
      "text/html": [
       "0.498600076554649"
      ],
      "text/latex": [
       "0.498600076554649"
      ],
      "text/markdown": [
       "0.498600076554649"
      ],
      "text/plain": [
       "[1] 0.4986001"
      ]
     },
     "metadata": {},
     "output_type": "display_data"
    }
   ],
   "source": [
    "ppois(9, 4.8) - ppois(4, 4.8)"
   ]
  },
  {
   "cell_type": "markdown",
   "metadata": {},
   "source": [
    "# 3.4.19"
   ]
  },
  {
   "cell_type": "markdown",
   "metadata": {},
   "source": [
    "The variance of a Poisson random variable is equal to the mean, so $V[X_1] = 2.6$ and $V[X_2] = 3.8$.\n",
    "\n",
    "Let $A$ be the event that an article was handled by typesetter 1, and $B$ the event that an article has no errors. We have the following:\n",
    "\\begin{align}\n",
    "P(A) &= 0.6 \\\\\n",
    "P(B|A) &= P(X_1 = 0) = e^{-2.6} \\\\\n",
    "P(B|A^c) &= P(X_2 = 0) = e^{-3.8} \\\\\n",
    "\\end{align}\n",
    "\n",
    "We therefore have:\n",
    "\\begin{align}\n",
    "P(B) &= P((B \\cap A) \\cup (B \\cap A^c)) \\\\\n",
    "&= P(B \\cap A) + P(B \\cap A^c) \\\\\n",
    "&= P(B|A)P(A) + P(B|A^c)P(A^c) \\\\\n",
    "&= 0.6e^{-2.6} + 0.4e^{-3.8}\n",
    "\\end{align}"
   ]
  },
  {
   "cell_type": "code",
   "execution_count": 13,
   "metadata": {
    "collapsed": false
   },
   "outputs": [
    {
     "data": {
      "text/html": [
       "0.0535124556710666"
      ],
      "text/latex": [
       "0.0535124556710666"
      ],
      "text/markdown": [
       "0.0535124556710666"
      ],
      "text/plain": [
       "[1] 0.05351246"
      ]
     },
     "metadata": {},
     "output_type": "display_data"
    }
   ],
   "source": [
    "0.6*exp(-2.6) + 0.4*exp(-3.8)"
   ]
  },
  {
   "cell_type": "markdown",
   "metadata": {},
   "source": [
    "We can use Bayes's rule to solve part (c).\n",
    "\n",
    "\\begin{align}\n",
    "P(A^c|B) &= \\frac{P(B|A^c)P(A^c)}{P(B)} \\\\\n",
    "&= \\frac{0.4e^{-3.8}}{0.6e^{-2.6} + 0.4e^{-3.8}}\n",
    "\\end{align}"
   ]
  },
  {
   "cell_type": "code",
   "execution_count": 16,
   "metadata": {
    "collapsed": false
   },
   "outputs": [
    {
     "data": {
      "text/html": [
       "0.167219175989049"
      ],
      "text/latex": [
       "0.167219175989049"
      ],
      "text/markdown": [
       "0.167219175989049"
      ],
      "text/plain": [
       "[1] 0.1672192"
      ]
     },
     "metadata": {},
     "output_type": "display_data"
    }
   ],
   "source": [
    "(0.4*exp(-3.8))/(0.6*exp(-2.6) + 0.4*exp(-3.8))"
   ]
  },
  {
   "cell_type": "markdown",
   "metadata": {},
   "source": [
    "# 3.4.21"
   ]
  },
  {
   "cell_type": "markdown",
   "metadata": {},
   "source": [
    "$Y$ is the number of defective components in the sample, so $M_1$ is equal to the number of defective components in the population, which is 300. $M_2$ is the number of non-defective components in the population, which is $10000 - 300 = 9700$. $n$ is the size of the sample, which is 200.\n",
    "\n",
    "A hypergeometric distribution is a model of a sample drawn without replacement. The main difference between samples with replacement and samples without replacement is that in samples with replacement, it is possible to choose the same object more than once. However, in this case, because $n \\ll N$, the expected number of components that we draw more than once in a sample with replacement is small. Therefore, the properties of a sample with replacement are quite similar to the properties of a sample without replacement. Taking a sample with replacement is equivalent to drawing each component independently at random, so we can approximate $Y$ with a binomial distribution with parameters $n = 200$ and $p = 300/10000 = 0.03$.\n",
    "\n",
    "A Poisson distribution models the number of events that occur in a continuous space or time, where the expected number of events that occur in any fraction of the space or time is proportional to the area of that space or length of that time. If a binomial distribution has a large value for $n$, and a value for $p$ small enough that it is very unlikely that a Poisson process with mean $np$ would have more than one event occur in a region whose area is a $1/n$ fraction of the total, then the binomial distribution can be approximated with a Poisson distribution with parameter $\\lambda = np$. Since in this case $np = 200 \\cdot 0.03 = 6$ and $n = 200$, the binomial distribution satisfies these properties, and we can approximate $Y$ with a Poisson distribution with $\\lambda = 6$."
   ]
  },
  {
   "cell_type": "code",
   "execution_count": 17,
   "metadata": {
    "collapsed": false
   },
   "outputs": [
    {
     "data": {
      "text/html": [
       "0.961482014183019"
      ],
      "text/latex": [
       "0.961482014183019"
      ],
      "text/markdown": [
       "0.961482014183019"
      ],
      "text/plain": [
       "[1] 0.961482"
      ]
     },
     "metadata": {},
     "output_type": "display_data"
    }
   ],
   "source": [
    "phyper(10, 300, 9700, 200)"
   ]
  },
  {
   "cell_type": "code",
   "execution_count": 18,
   "metadata": {
    "collapsed": false
   },
   "outputs": [
    {
     "data": {
      "text/html": [
       "0.959872258415241"
      ],
      "text/latex": [
       "0.959872258415241"
      ],
      "text/markdown": [
       "0.959872258415241"
      ],
      "text/plain": [
       "[1] 0.9598723"
      ]
     },
     "metadata": {},
     "output_type": "display_data"
    }
   ],
   "source": [
    "pbinom(10, 200, 0.03)"
   ]
  },
  {
   "cell_type": "code",
   "execution_count": 19,
   "metadata": {
    "collapsed": false
   },
   "outputs": [
    {
     "data": {
      "text/html": [
       "0.957379076417462"
      ],
      "text/latex": [
       "0.957379076417462"
      ],
      "text/markdown": [
       "0.957379076417462"
      ],
      "text/plain": [
       "[1] 0.9573791"
      ]
     },
     "metadata": {},
     "output_type": "display_data"
    }
   ],
   "source": [
    "ppois(10, 6)"
   ]
  },
  {
   "cell_type": "markdown",
   "metadata": {},
   "source": [
    "# 3.5.1"
   ]
  },
  {
   "cell_type": "markdown",
   "metadata": {},
   "source": [
    "The mean of the exponential distribution is $6 = 1 / \\lambda$, so $\\lambda = 1/6$. The CDF of this distribution is $F(x) = 1 - e^{-1/6 \\cdot x}$, so $P(X > 4) = 1 - P(X \\le 4) = 1 - (1 - e^{-1/6 \\cdot 4}) = e^{-2/3}$."
   ]
  },
  {
   "cell_type": "code",
   "execution_count": 22,
   "metadata": {
    "collapsed": false
   },
   "outputs": [
    {
     "data": {
      "text/html": [
       "0.513417119032592"
      ],
      "text/latex": [
       "0.513417119032592"
      ],
      "text/markdown": [
       "0.513417119032592"
      ],
      "text/plain": [
       "[1] 0.5134171"
      ]
     },
     "metadata": {},
     "output_type": "display_data"
    }
   ],
   "source": [
    "exp(-2/3)"
   ]
  },
  {
   "cell_type": "code",
   "execution_count": 23,
   "metadata": {
    "collapsed": false
   },
   "outputs": [
    {
     "data": {
      "text/html": [
       "0.513417119032592"
      ],
      "text/latex": [
       "0.513417119032592"
      ],
      "text/markdown": [
       "0.513417119032592"
      ],
      "text/plain": [
       "[1] 0.5134171"
      ]
     },
     "metadata": {},
     "output_type": "display_data"
    }
   ],
   "source": [
    "pexp(4, 1/6, lower.tail = F)"
   ]
  },
  {
   "cell_type": "markdown",
   "metadata": {},
   "source": [
    "The variance of an exponential distribution is $1/\\lambda^2$, so the variance is 36. To find the 95th percentile, we set the CDF equal to .95:\n",
    "\n",
    "\\begin{align}\n",
    "1 - e^{-1/6 \\cdot x} &= .95 \\\\\n",
    "e^{-1/6 \\cdot x} &= .05 \\\\\n",
    "x &= -6 \\log .05\n",
    "\\end{align}"
   ]
  },
  {
   "cell_type": "code",
   "execution_count": 24,
   "metadata": {
    "collapsed": false
   },
   "outputs": [
    {
     "data": {
      "text/html": [
       "17.9743936413239"
      ],
      "text/latex": [
       "17.9743936413239"
      ],
      "text/markdown": [
       "17.9743936413239"
      ],
      "text/plain": [
       "[1] 17.97439"
      ]
     },
     "metadata": {},
     "output_type": "display_data"
    }
   ],
   "source": [
    "-6*log(.05)"
   ]
  },
  {
   "cell_type": "code",
   "execution_count": 25,
   "metadata": {
    "collapsed": false
   },
   "outputs": [
    {
     "data": {
      "text/html": [
       "17.9743936413239"
      ],
      "text/latex": [
       "17.9743936413239"
      ],
      "text/markdown": [
       "17.9743936413239"
      ],
      "text/plain": [
       "[1] 17.97439"
      ]
     },
     "metadata": {},
     "output_type": "display_data"
    }
   ],
   "source": [
    "qexp(.95, 1/6)"
   ]
  },
  {
   "cell_type": "markdown",
   "metadata": {},
   "source": [
    "Since exponential distributions are memoryless, it does not matter how long the battery has been running. The conditional probability that the battery lasts an additional five years is equal to the probability that it lasts at least five years starting from the beginning of its life. This is simply $1 - (1 - e^{-1/6 \\cdot 6}) = e^{-5/6}$.\n",
    "\n",
    "The additional expected lifetime of the battery is equal to the expected lifetime of the battery unconditionally, which is just $1/\\lambda = 6$ years."
   ]
  },
  {
   "cell_type": "code",
   "execution_count": 26,
   "metadata": {
    "collapsed": false
   },
   "outputs": [
    {
     "data": {
      "text/html": [
       "0.434598208507078"
      ],
      "text/latex": [
       "0.434598208507078"
      ],
      "text/markdown": [
       "0.434598208507078"
      ],
      "text/plain": [
       "[1] 0.4345982"
      ]
     },
     "metadata": {},
     "output_type": "display_data"
    }
   ],
   "source": [
    "exp(-5/6)"
   ]
  },
  {
   "cell_type": "code",
   "execution_count": 27,
   "metadata": {
    "collapsed": false
   },
   "outputs": [
    {
     "data": {
      "text/html": [
       "0.434598208507078"
      ],
      "text/latex": [
       "0.434598208507078"
      ],
      "text/markdown": [
       "0.434598208507078"
      ],
      "text/plain": [
       "[1] 0.4345982"
      ]
     },
     "metadata": {},
     "output_type": "display_data"
    }
   ],
   "source": [
    "pexp(5, 1/6, lower.tail = F)"
   ]
  },
  {
   "cell_type": "code",
   "execution_count": 28,
   "metadata": {
    "collapsed": false
   },
   "outputs": [
    {
     "data": {
      "text/html": [
       "0.434598208507078"
      ],
      "text/latex": [
       "0.434598208507078"
      ],
      "text/markdown": [
       "0.434598208507078"
      ],
      "text/plain": [
       "[1] 0.4345982"
      ]
     },
     "metadata": {},
     "output_type": "display_data"
    }
   ],
   "source": [
    "exp(-8/6) / exp(-3/6)"
   ]
  },
  {
   "cell_type": "code",
   "execution_count": 29,
   "metadata": {
    "collapsed": false
   },
   "outputs": [
    {
     "data": {
      "text/html": [
       "0.434598208507078"
      ],
      "text/latex": [
       "0.434598208507078"
      ],
      "text/markdown": [
       "0.434598208507078"
      ],
      "text/plain": [
       "[1] 0.4345982"
      ]
     },
     "metadata": {},
     "output_type": "display_data"
    }
   ],
   "source": [
    "pexp(8, 1/6, lower.tail = F) / pexp(3, 1/6, lower.tail = F)"
   ]
  },
  {
   "cell_type": "markdown",
   "metadata": {},
   "source": [
    "# 3.5.2"
   ]
  },
  {
   "cell_type": "markdown",
   "metadata": {},
   "source": [
    "In a Poisson process with rate $r$, the \"interarrival time\" (the time between successive events) is an exponential random variable with parameter $\\lambda = 1/r$. Let $X$ be the interarrival time. Then $X$ is an exponential random variable with parameter $\\lambda = 1/1 = 1$.\n",
    "\n",
    "Therefore, the probability that it will take between two and three weeks to get the first wrongly dialed phone call is $P(1/2 \\le X \\le 3/4) = (1 - e^{-3/4}) - (1 - e^{-1/2}) = e^{-1/2} - e^{-3/4}$."
   ]
  },
  {
   "cell_type": "code",
   "execution_count": 30,
   "metadata": {
    "collapsed": false
   },
   "outputs": [
    {
     "data": {
      "text/html": [
       "0.134164106971619"
      ],
      "text/latex": [
       "0.134164106971619"
      ],
      "text/markdown": [
       "0.134164106971619"
      ],
      "text/plain": [
       "[1] 0.1341641"
      ]
     },
     "metadata": {},
     "output_type": "display_data"
    }
   ],
   "source": [
    "exp(-1/2) - exp(-3/4)"
   ]
  },
  {
   "cell_type": "markdown",
   "metadata": {},
   "source": [
    "Since $X$ is an exponential random variable, it is memoryless, so it does not matter that we have not received a wrong number in two weeks. The expected value and variance of the time until the next wrong number is simply $1/\\lambda = 1$ month and $1/\\lambda^2 = 1$."
   ]
  },
  {
   "cell_type": "markdown",
   "metadata": {},
   "source": [
    "# 3.5.5"
   ]
  },
  {
   "cell_type": "markdown",
   "metadata": {},
   "source": [
    "Let $X$ be the yield strength of the steel. To find the 25th percentile, we can simply use the qnorm() function."
   ]
  },
  {
   "cell_type": "code",
   "execution_count": 31,
   "metadata": {
    "collapsed": false
   },
   "outputs": [
    {
     "data": {
      "text/html": [
       "39.9647961241176"
      ],
      "text/latex": [
       "39.9647961241176"
      ],
      "text/markdown": [
       "39.9647961241176"
      ],
      "text/plain": [
       "[1] 39.9648"
      ]
     },
     "metadata": {},
     "output_type": "display_data"
    }
   ],
   "source": [
    "qnorm(.25, 43, 4.5)"
   ]
  },
  {
   "cell_type": "markdown",
   "metadata": {},
   "source": [
    "We can also find the 25th percentile of the standard normal random variable and then transform the result."
   ]
  },
  {
   "cell_type": "code",
   "execution_count": 32,
   "metadata": {
    "collapsed": false
   },
   "outputs": [
    {
     "data": {
      "text/html": [
       "39.9647961241176"
      ],
      "text/latex": [
       "39.9647961241176"
      ],
      "text/markdown": [
       "39.9647961241176"
      ],
      "text/plain": [
       "[1] 39.9648"
      ]
     },
     "metadata": {},
     "output_type": "display_data"
    }
   ],
   "source": [
    "qnorm(.25)*4.5 + 43"
   ]
  },
  {
   "cell_type": "markdown",
   "metadata": {},
   "source": [
    "\"Separates the strongest 10% from the others\" means \"90th percentile\"."
   ]
  },
  {
   "cell_type": "code",
   "execution_count": 33,
   "metadata": {
    "collapsed": false
   },
   "outputs": [
    {
     "data": {
      "text/html": [
       "48.7669820449507"
      ],
      "text/latex": [
       "48.7669820449507"
      ],
      "text/markdown": [
       "48.7669820449507"
      ],
      "text/plain": [
       "[1] 48.76698"
      ]
     },
     "metadata": {},
     "output_type": "display_data"
    }
   ],
   "source": [
    "qnorm(.9, 43, 4.5)"
   ]
  },
  {
   "cell_type": "code",
   "execution_count": 34,
   "metadata": {
    "collapsed": false
   },
   "outputs": [
    {
     "data": {
      "text/html": [
       "48.7669820449507"
      ],
      "text/latex": [
       "48.7669820449507"
      ],
      "text/markdown": [
       "48.7669820449507"
      ],
      "text/plain": [
       "[1] 48.76698"
      ]
     },
     "metadata": {},
     "output_type": "display_data"
    }
   ],
   "source": [
    "qnorm(.9)*4.5 + 43"
   ]
  },
  {
   "cell_type": "markdown",
   "metadata": {},
   "source": [
    "We want to include 99% of all strength values in our interval. Equivalently, we wish to exclude 1% of all strength values from our interval. Since the interval is symmetric about the mean, we want .5% of strength values to be greater than our interval, and .5% to be less than our interval. If we find the 99.5th percentile and then subtract the mean, we can find the radius of our interval."
   ]
  },
  {
   "cell_type": "code",
   "execution_count": 35,
   "metadata": {
    "collapsed": false
   },
   "outputs": [
    {
     "data": {
      "text/html": [
       "11.5912318659701"
      ],
      "text/latex": [
       "11.5912318659701"
      ],
      "text/markdown": [
       "11.5912318659701"
      ],
      "text/plain": [
       "[1] 11.59123"
      ]
     },
     "metadata": {},
     "output_type": "display_data"
    }
   ],
   "source": [
    "qnorm(.995, 43, 4.5) - 43"
   ]
  },
  {
   "cell_type": "markdown",
   "metadata": {},
   "source": [
    "Therefore, $c \\approx 11.59$, and the \"99% confidence interval\" is approximately $(31.41, 54.59)$."
   ]
  },
  {
   "cell_type": "markdown",
   "metadata": {},
   "source": [
    "Let $Y$ be the number of A36 steels with strength less than 43. For each steel in the sample of 15, the probability that it has strength less than 43 is independent and identical to all the others, so $Y$ is a binomial random variable. We know the parameter $n$ is 15, but what is $p$? Since the strength of a steel is normally distributed, its probability distribution is symmetric about the mean 43. Therefore, the probability of the strength being less than 43 is exactly $0.5$. Thus, $p = 0.5$. We therefore want the probability that a binomial random variable with $n = 15, p = 0.5$ is less than or equal to 3."
   ]
  },
  {
   "cell_type": "code",
   "execution_count": 36,
   "metadata": {
    "collapsed": false
   },
   "outputs": [
    {
     "data": {
      "text/html": [
       "0.017578125"
      ],
      "text/latex": [
       "0.017578125"
      ],
      "text/markdown": [
       "0.017578125"
      ],
      "text/plain": [
       "[1] 0.01757813"
      ]
     },
     "metadata": {},
     "output_type": "display_data"
    }
   ],
   "source": [
    "pbinom(3, 15, 0.5)"
   ]
  },
  {
   "cell_type": "markdown",
   "metadata": {},
   "source": [
    "# 3.5.7"
   ]
  },
  {
   "cell_type": "markdown",
   "metadata": {},
   "source": [
    "We want $P(8.6 \\le X \\le 9.8)$. We can find this directly with pnorm()."
   ]
  },
  {
   "cell_type": "code",
   "execution_count": 37,
   "metadata": {
    "collapsed": false
   },
   "outputs": [
    {
     "data": {
      "text/html": [
       "0.818594614120364"
      ],
      "text/latex": [
       "0.818594614120364"
      ],
      "text/markdown": [
       "0.818594614120364"
      ],
      "text/plain": [
       "[1] 0.8185946"
      ]
     },
     "metadata": {},
     "output_type": "display_data"
    }
   ],
   "source": [
    "pnorm(9.8, 9, 0.4) - pnorm(8.6, 9, 0.4)"
   ]
  },
  {
   "cell_type": "markdown",
   "metadata": {},
   "source": [
    "We can also transform the standard normal random variable."
   ]
  },
  {
   "cell_type": "code",
   "execution_count": 38,
   "metadata": {
    "collapsed": false
   },
   "outputs": [
    {
     "data": {
      "text/html": [
       "0.818594614120364"
      ],
      "text/latex": [
       "0.818594614120364"
      ],
      "text/markdown": [
       "0.818594614120364"
      ],
      "text/plain": [
       "[1] 0.8185946"
      ]
     },
     "metadata": {},
     "output_type": "display_data"
    }
   ],
   "source": [
    "pnorm((9.8 - 9)/0.4) - pnorm((8.6 - 9)/0.4)"
   ]
  },
  {
   "cell_type": "markdown",
   "metadata": {},
   "source": [
    "If we randomly and independently select four resistors, the number that are acceptable is a binomial random variable with $n = 4, p \\approx 0.82$."
   ]
  },
  {
   "cell_type": "code",
   "execution_count": 39,
   "metadata": {
    "collapsed": false
   },
   "outputs": [
    {
     "data": {
      "text/html": [
       "0.13230899488128"
      ],
      "text/latex": [
       "0.13230899488128"
      ],
      "text/markdown": [
       "0.13230899488128"
      ],
      "text/plain": [
       "[1] 0.132309"
      ]
     },
     "metadata": {},
     "output_type": "display_data"
    }
   ],
   "source": [
    "dbinom(2, 4, pnorm(9.8, 9, 0.4) - pnorm(8.6, 9, 0.4))"
   ]
  },
  {
   "cell_type": "markdown",
   "metadata": {},
   "source": [
    "# 4.2.1a"
   ]
  },
  {
   "cell_type": "markdown",
   "metadata": {},
   "source": [
    "\\begin{align}\n",
    "P(X > 1, Y > 2) &= P(X = 2, Y = 3) + P(X = 3, Y = 3) \\\\\n",
    "&= 0.11 + 0.09 = 0.20\n",
    "\\end{align}\n",
    "\n",
    "We could solve for $P(X > 1 \\text{ or } Y > 2)$ directly, but it is easier to do complementary counting here.\n",
    "\\begin{align}\n",
    "P(X > 1 \\text{ or } Y > 2) &= 1 - P(X \\le 1, Y \\le 2) \\\\\n",
    "&= 1 - (P(X = 1, Y = 1) + P(X = 1, Y = 2)) \\\\\n",
    "&= 1 - (0.09 + 0.12) \\\\\n",
    "&= 1 - 0.21 = 0.79\n",
    "\\end{align}\n",
    "\n",
    "\\begin{equation}\n",
    "P(X > 2, Y > 2) = P(X = 3, Y = 3) = 0.09\n",
    "\\end{equation}"
   ]
  },
  {
   "cell_type": "markdown",
   "metadata": {},
   "source": [
    "# 4.2.1b"
   ]
  },
  {
   "cell_type": "markdown",
   "metadata": {},
   "source": [
    "To find the marginal PDFs of each variable, we sum over all possible values of the other variable.\n",
    "$P(X = 1) = P(X = 1, Y = 1) + P(X = 1, Y = 2) + P(X = 1, Y = 3) = 0.09 + 0.12 + 0.13 = 0.34$\n",
    "$P(X = 2) = P(X = 2, Y = 1) + P(X = 2, Y = 2) + P(X = 2, Y = 3) = 0.12 + 0.11 + 0.11 = 0.34$\n",
    "$P(X = 3) = P(X = 3, Y = 1) + P(X = 3, Y = 2) + P(X = 3, Y = 3) = 0.13 + 0.10 + 0.09 = 0.32$\n",
    "\n",
    "$P(Y = 1) = P(X = 1, Y = 1) + P(X = 2, Y = 1) + P(X = 3, Y = 1) = 0.09 + 0.12 + 0.13 = 0.34$\n",
    "$P(Y = 2) = P(X = 1, Y = 2) + P(X = 2, Y = 2) + P(X = 3, Y = 2) = 0.12 + 0.11 + 0.10 = 0.33$\n",
    "$P(Y = 3) = P(X = 1, Y = 3) + P(X = 2, Y = 3) + P(X = 3, Y = 3) = 0.13 + 0.11 + 0.09 = 0.33$"
   ]
  },
  {
   "cell_type": "markdown",
   "metadata": {},
   "source": [
    "# 4.2.3"
   ]
  },
  {
   "cell_type": "markdown",
   "metadata": {},
   "source": [
    "\\begin{align}\n",
    "P(X \\le 10, Y \\le 2) &= P(X = 8, Y = 1) + P(X = 8, Y = 2) + P(X = 10, Y = 1) + P(X = 10, Y = 2) \\\\\n",
    "&= 0.3 + 0.12 + 0.15 + 0.135 = 0.605\n",
    "\\end{align}\n",
    "\n",
    "\\begin{align}\n",
    "P(X \\le 10, Y = 2) &= P(X = 8, Y = 2) + P(X = 10, Y = 2) \\\\\n",
    "&= 0.12 + 0.135 = 0.255\n",
    "\\end{align}\n",
    "\n",
    "$P(X = 8) = 0.3 + 0.12 = 0.42$\n",
    "$P(X = 10) = 0.15 + 0.135 + 0.025 = 0.31$\n",
    "$P(X = 12) = 0.03 + 0.15 + 0.09 = 0.27$\n",
    "\n",
    "$P(Y = 1.5) = 0.3 + 0.15 + 0.03 = 0.48$\n",
    "$P(Y = 2) = 0.12 + 0.135 + 0.15 = 0.405$\n",
    "$P(Y = 2.5) = 0 + 0.025 + 0.09 = 0.115$\n",
    "\n",
    "$P(X \\le 10 | Y = 2) = P(X \\le 10, Y = 2) / P(Y = 2) = 0.255 / 0.405 \\approx 0.63$"
   ]
  },
  {
   "cell_type": "markdown",
   "metadata": {},
   "source": [
    "# 4.2.4"
   ]
  },
  {
   "cell_type": "markdown",
   "metadata": {},
   "source": [
    "|     |        |      | $y$  |      |\n",
    "|-----|--------|------|------|------|\n",
    "|     | F(x,y) | 1    | 2    | 3    |\n",
    "|     | 1      | 0.09 | 0.21 | 0.34 |\n",
    "| $x$ | 2      | 0.21 | 0.44 | 0.68 |\n",
    "|     | 3      | 0.34 | 0.67 | 1.00 |"
   ]
  },
  {
   "cell_type": "markdown",
   "metadata": {},
   "source": [
    "$F_X(1) = F(1, \\infty) = F(1, 3) = 0.34$  \n",
    "$F_X(2) = F(2, \\infty) = F(2, 3) = 0.68$  \n",
    "$F_X(3) = F(3, \\infty) = F(3, 3) = 1.00$  \n",
    "\n",
    "$F_Y(1) = F(\\infty, 1) = F(3, 1) = 0.34$  \n",
    "$F_Y(2) = F(\\infty, 2) = F(3, 2) = 0.67$  \n",
    "$F_Y(3) = F(\\infty, 3) = F(3, 3) = 1.00$  \n",
    "\n",
    "$P(X = 2, Y = 2) = F(2,2) - F(2,1) - F(1,2) + F(1,1) = 0.44 - 0.21 - 0.21 + 0.09 = 0.11$\n",
    "This matches the PMF in Excercise 1."
   ]
  },
  {
   "cell_type": "code",
   "execution_count": null,
   "metadata": {
    "collapsed": true
   },
   "outputs": [],
   "source": []
  }
 ],
 "metadata": {
  "anaconda-cloud": {},
  "kernelspec": {
   "display_name": "R",
   "language": "R",
   "name": "ir"
  },
  "language_info": {
   "codemirror_mode": "r",
   "file_extension": ".r",
   "mimetype": "text/x-r-source",
   "name": "R",
   "pygments_lexer": "r",
   "version": "3.3.2"
  }
 },
 "nbformat": 4,
 "nbformat_minor": 0
}
