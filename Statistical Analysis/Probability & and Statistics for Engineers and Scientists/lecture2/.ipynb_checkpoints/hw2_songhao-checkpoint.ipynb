{
 "cells": [
  {
   "cell_type": "markdown",
   "metadata": {},
   "source": [
    "# Homewok 1           Songhao Jiang"
   ]
  },
  {
   "cell_type": "markdown",
   "metadata": {},
   "source": [
    "## P1"
   ]
  },
  {
   "cell_type": "markdown",
   "metadata": {},
   "source": [
    "$E[X] = \\int_{-\\infty}^{\\infty}xf(x)dx = \\int_{-\\infty}^{0}0dx + \\int_{0}^{\\infty}0.1xe^{-0.1x}= \\int_{0}^{\\infty}0.1xe^{-0.1x} = \\left[e^{-0.1x}(-x-10)\\right]_0^\\infty = 0 - (-10) = 10$\n",
    "\n",
    "$E[X^2] = \\int_{-\\infty}^{\\infty}x^2f(x)dx = \\int_{-\\infty}^{0}0dx + \\int_{0}^{\\infty}0.1x^2e^{-0.1x}= \\int_{0}^{\\infty}0.1x^2e^{-0.1x} = \\left[e^{-0.1x}(-x^2-20x-200)\\right]_0^\\infty = 0 - (-200) = 200$\n",
    "\n",
    "$var(X) = E[X^2] - E[X]^2 = 200 - 10^2 = 100$\n",
    "\n",
    "or\n",
    "\n",
    "this is exponential distribution, so $E[X] = \\frac{1}{\\lambda} = 10, var(X) = \\frac{1}{\\lambda ^2} = 100$"
   ]
  },
  {
   "cell_type": "markdown",
   "metadata": {},
   "source": [
    "## P2"
   ]
  },
  {
   "cell_type": "markdown",
   "metadata": {},
   "source": [
    "$p(X = 2^k) = \\frac{1}{b-a+1}, k \\in [a,b]$\n",
    "\n",
    "$E[X] = \\sum_x xp(X=x) = \\sum_{k=a}^{b} \\frac{2^k}{b-a+1} = \\frac{1}{b-a+1} * 2^a * (2^0 + 2^1 + ... + 2^{b-1}) = \\frac{1}{b-a+1} * 2^a * \\frac{2^{b-a+1}-1}{2-1} = \\frac{2^{b+1}-2^a}{(b-a+1)}$\n",
    "\n",
    "$E[X^2] = \\sum_x x^2p(X=x) = \\sum_{k=a}^{b} \\frac{2^{2k}}{b-a+1} = \\frac{1}{b-a+1} * 4^a * (4^0 + 4^1 + ... + 4^{b-1}) = \\frac{1}{b-a+1} * 2^a * \\frac{4^{b-a+1}-1}{4-1} = \\frac{4^{b+1}-4^a}{3(b-a+1)}$\n",
    "\n",
    "$var(X) = E[X^2] - E[X]^2 = \\frac{4^{b+1}-4^a}{3(b-a+1)} - (\\frac{2^{b+1}-2^a}{(b-a+1})^2$"
   ]
  },
  {
   "cell_type": "markdown",
   "metadata": {},
   "source": [
    "## P3"
   ]
  },
  {
   "cell_type": "markdown",
   "metadata": {},
   "source": [
    "$CDF = F_X(x) = P(X \\leqslant x) = \\frac{\\pi x^2}{\\pi r^2} = \\frac{x^2}{r^2}, x \\in [0, r]$\n",
    "\n",
    "$PDF = \\frac{d}{dx}F_X(x) = \\frac{d}{dx} \\frac{x^2}{r^2} = \\frac{2x}{r^2}, x \\in [0, r]$\n",
    "\n",
    "$E[X] = \\int_{0}^{r} x\\frac{2x}{r^2} dx = \\left[\\frac{2x^3}{3r^2}\\right]_0^r = \\frac{2r}{3}$\n",
    "\n",
    "$E[X^2] = \\int_{0}^{r} x^2 \\frac{2x}{r^2} dx = \\left[\\frac{2x^4}{4r^2}\\right]_0^r = \\frac{r^2}{2}$\n",
    "\n",
    "$var(X) = E[X^2] - E[X]^2 = \\frac{r^2}{2} - (\\frac{2r}{3})^2 = \\frac{r^2}{18}$\n",
    "\n",
    "Generally $S$ will have three ranges, $s < 0$, $0 \\leqslant s \\leqslant \\frac{1}{t}$, and $\\frac{1}{t} \\leqslant s$\n",
    "\n",
    "1. $s < 0, F_S(s) = 0$\n",
    "2. $0 \\leqslant s \\leqslant \\frac{1}{t}, F_S(s) = P(S \\leqslant s) = P$(outside the inner circle)$ = 1 - P(X \\leqslant t) = 1 - \\frac{t^2}{r^2}$\n",
    "3. $\\frac{1}{t} \\leqslant s, F_S(s) = P(S \\leqslant s) = 1 - \\frac{t^2}{r^2} + P(\\frac{1}{t} \\leqslant S \\leqslant s) = 1 - \\frac{t^2}{r^2} + P(\\frac{1}{s} \\leqslant X \\leqslant t) = 1 - \\frac{1}{(sr)^2}$\n",
    "\n",
    "$CDF = F_S(s)=  \\begin{cases} 0, \\hspace{1cm} s < 0 \\\\ 1 - \\frac{t^2}{r^2}, \\hspace{1cm}0 \\leqslant s \\leqslant \\frac{1}{t} \\\\ 1 - \\frac{1}{(sr)^2}, \\hspace{1cm} \\frac{1}{t} \\leqslant s \\end{cases}$\n",
    "\n",
    "And since $F_S(s)$ is not continuous at $s = 0$, and therefore $S$ is not continuous."
   ]
  },
  {
   "cell_type": "markdown",
   "metadata": {},
   "source": [
    "## P4"
   ]
  },
  {
   "cell_type": "code",
   "execution_count": 178,
   "metadata": {
    "collapsed": true
   },
   "outputs": [],
   "source": [
    "dist <- function(x,y) {\n",
    "  if (length(x) != length(y))\n",
    "    stop(\"Inputs must have same length\")\n",
    "  sqrt(sum((x-y)^2))\n",
    "}"
   ]
  },
  {
   "cell_type": "code",
   "execution_count": 3,
   "metadata": {
    "collapsed": true
   },
   "outputs": [],
   "source": [
    "binom_pmf = dbinom(0:8,8,13/34)\n",
    "hyper <- function(x) {\n",
    "    return (dhyper(x=(0:8), m=13*x,n=21*x,k=8))\n",
    "}"
   ]
  },
  {
   "cell_type": "code",
   "execution_count": 191,
   "metadata": {
    "collapsed": false
   },
   "outputs": [
    {
     "data": {
      "image/png": "[encoded data removed]",
      "text/plain": [
       "plot without title"
      ]
     },
     "metadata": {},
     "output_type": "display_data"
    }
   ],
   "source": [
    "distance = numeric(1000)\n",
    "for(x in 1:1000) (distance[x] = dist(binom_pmf, hyper(x)))\n",
    "x = 1:1000\n",
    "plot(x, distance, type='l')"
   ]
  },
  {
   "cell_type": "code",
   "execution_count": 192,
   "metadata": {
    "collapsed": false
   },
   "outputs": [],
   "source": [
    "dist <- function(x,y) {\n",
    "  if (length(x) != length(y))\n",
    "    stop(\"Inputs must have same length\")\n",
    "  sqrt(sum((x-y)^2))\n",
    "}\n",
    "\n",
    "hyper <- function(x) {\n",
    "    return (dhyper(x=(0:8), m=13*x,n=21*x,k=8))\n",
    "}\n",
    "\n",
    "cal_distance <- function(x) {\n",
    "    binom_pmf = dbinom(0:8,8,13/34)\n",
    "    distance = numeric(1000)\n",
    "    for(range in 1:1000) (distance[range] = dist(binom_pmf, hyper(range)))\n",
    "    range = 1:1000\n",
    "    fit = lm(log(distance) ~ log(range))\n",
    "    weight = fit$coefficients\n",
    "    log_result = weight[1] + weight[2] * log(x)\n",
    "    #print (log_result)\n",
    "    return (unname(exp(log_result)))\n",
    "}"
   ]
  },
  {
   "cell_type": "code",
   "execution_count": 193,
   "metadata": {
    "collapsed": false
   },
   "outputs": [
    {
     "data": {
      "text/html": [
       "<ol class=list-inline>\n",
       "\t<li>0.000464472081237732</li>\n",
       "\t<li>0.000231782384297227</li>\n",
       "\t<li>0.000154344948854842</li>\n",
       "\t<li>0.000115664807080213</li>\n",
       "\t<li>9.24736172050617e-05</li>\n",
       "</ol>\n"
      ],
      "text/latex": [
       "\\begin{enumerate*}\n",
       "\\item 0.000464472081237732\n",
       "\\item 0.000231782384297227\n",
       "\\item 0.000154344948854842\n",
       "\\item 0.000115664807080213\n",
       "\\item 9.24736172050617e-05\n",
       "\\end{enumerate*}\n"
      ],
      "text/markdown": [
       "1. 0.000464472081237732\n",
       "2. 0.000231782384297227\n",
       "3. 0.000154344948854842\n",
       "4. 0.000115664807080213\n",
       "5. 9.24736172050617e-05\n",
       "\n",
       "\n"
      ],
      "text/plain": [
       "[1] 4.644721e-04 2.317824e-04 1.543449e-04 1.156648e-04 9.247362e-05"
      ]
     },
     "metadata": {},
     "output_type": "display_data"
    },
    {
     "data": {
      "text/html": [
       "<ol class=list-inline>\n",
       "\t<li>0.000462901243800559</li>\n",
       "\t<li>0.000231302729448497</li>\n",
       "\t<li>0.000154168990313895</li>\n",
       "\t<li>0.000115614436750765</li>\n",
       "\t<li>9.24856438097068e-05</li>\n",
       "</ol>\n"
      ],
      "text/latex": [
       "\\begin{enumerate*}\n",
       "\\item 0.000462901243800559\n",
       "\\item 0.000231302729448497\n",
       "\\item 0.000154168990313895\n",
       "\\item 0.000115614436750765\n",
       "\\item 9.24856438097068e-05\n",
       "\\end{enumerate*}\n"
      ],
      "text/markdown": [
       "1. 0.000462901243800559\n",
       "2. 0.000231302729448497\n",
       "3. 0.000154168990313895\n",
       "4. 0.000115614436750765\n",
       "5. 9.24856438097068e-05\n",
       "\n",
       "\n"
      ],
      "text/plain": [
       "[1] 4.629012e-04 2.313027e-04 1.541690e-04 1.156144e-04 9.248564e-05"
      ]
     },
     "metadata": {},
     "output_type": "display_data"
    }
   ],
   "source": [
    "cal_distance(c(100, 200, 300, 400, 500))\n",
    "distance[c(100,200,300, 400, 500)]"
   ]
  },
  {
   "cell_type": "markdown",
   "metadata": {},
   "source": [
    "So it is clear that the results are similar"
   ]
  },
  {
   "cell_type": "markdown",
   "metadata": {},
   "source": [
    "## P5"
   ]
  },
  {
   "cell_type": "code",
   "execution_count": 165,
   "metadata": {
    "collapsed": false
   },
   "outputs": [
    {
     "name": "stdout",
     "output_type": "stream",
     "text": [
      "[1] 0\n",
      "[1] 5\n",
      "[1] 10\n"
     ]
    }
   ],
   "source": [
    "b = 10\n",
    "size = 0\n",
    "times = 0\n",
    "while (size <= b) {\n",
    "    print (size)\n",
    "    size = size + 5\n",
    "}"
   ]
  },
  {
   "cell_type": "code",
   "execution_count": 1,
   "metadata": {
    "collapsed": false
   },
   "outputs": [],
   "source": [
    "queuemodel <- function(l, b, c) {\n",
    "    size = 0\n",
    "    times = 0\n",
    "    while (size <= b) {\n",
    "        times = times + 1\n",
    "        size = size + rpois(1, l)\n",
    "        if(size > b) {\n",
    "            return(times)\n",
    "        }\n",
    "        if(size <= c) {\n",
    "            size = 0\n",
    "        } else {\n",
    "            size = size - c\n",
    "        }\n",
    "    }\n",
    "}"
   ]
  },
  {
   "cell_type": "markdown",
   "metadata": {},
   "source": [
    "$P(x > b) = 1 - P(x \\leqslant b) = 1 - \\sum_k \\frac{\\lambda ^ke^{-\\lambda}}{k!}, k \\in [0, b]$\n",
    "\n",
    "Here is the probability for overflow in an independent iteration. And therefore we can view it as an gemetric distrubtion, so that\n",
    "\n",
    "$f(X=x) = (1-p)^{x-1}p, where p = P(x > b) = 1 - \\sum_k \\frac{\\lambda ^ke^{-\\lambda}}{k!}, k \\in [0, b]$\n",
    "\n",
    "And therefore the expectation should be $\\frac{1}{p} = \\frac{1}{1 - \\sum_k \\frac{\\lambda ^ke^{-\\lambda}}{k!}}, k \\in [0, b]$"
   ]
  },
  {
   "cell_type": "code",
   "execution_count": null,
   "metadata": {
    "collapsed": true
   },
   "outputs": [],
   "source": []
  }
 ],
 "metadata": {
  "anaconda-cloud": {},
  "kernelspec": {
   "display_name": "R",
   "language": "R",
   "name": "ir"
  },
  "language_info": {
   "codemirror_mode": "r",
   "file_extension": ".r",
   "mimetype": "text/x-r-source",
   "name": "R",
   "pygments_lexer": "r",
   "version": "3.3.2"
  }
 },
 "nbformat": 4,
 "nbformat_minor": 1
}
