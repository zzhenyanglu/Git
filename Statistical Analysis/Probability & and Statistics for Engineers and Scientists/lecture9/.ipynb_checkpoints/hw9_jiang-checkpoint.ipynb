{
 "cells": [
  {
   "cell_type": "markdown",
   "metadata": {},
   "source": [
    "# Homework 9 Songhao Jiang"
   ]
  },
  {
   "cell_type": "markdown",
   "metadata": {},
   "source": [
    "## 1"
   ]
  },
  {
   "cell_type": "markdown",
   "metadata": {},
   "source": [
    "### 1)\n",
    "\n",
    "$E[X_1X_2] = Cov(X_1, X_2) + E[X_1]E[X_2] = 80 + 10\\cdot18 = 260$\n",
    "\n",
    "$\\Rightarrow E[Y] = 3.6 + 2.7 \\cdot E[X_1] + 0.9 \\cdot E[X_2] + 1.5 \\cdot E[X_1X_2] = 436.8$\n",
    "\n",
    "### 2)\n",
    "\n",
    "Here $\\beta_3$ is the coeeficient of the term $X_1X_2$. Compare the centered variable terms equation to the original equation wii give $\\beta_3 = 1.5$\n",
    "\n",
    "Take expectation on both sides $\\Rightarrow E[Y] = \\beta_0 + \\beta_1 \\cdot E[X_1-\\mu_{X_1}] + \\beta_2 \\cdot E[X_2-\\mu_{X_2}] + \\beta_3 \\cdot E[(X_1-\\mu_{X_1})(X_2-\\mu_{X_2})]$\n",
    "\n",
    "$= \\beta_0 + \\beta_3 Cov(X_1, X_2) = 316.8$"
   ]
  },
  {
   "cell_type": "code",
   "execution_count": 2,
   "metadata": {
    "collapsed": false
   },
   "outputs": [
    {
     "data": {
      "text/html": [
       "436.8"
      ],
      "text/latex": [
       "436.8"
      ],
      "text/markdown": [
       "436.8"
      ],
      "text/plain": [
       "[1] 436.8"
      ]
     },
     "metadata": {},
     "output_type": "display_data"
    },
    {
     "data": {
      "text/html": [
       "316.8"
      ],
      "text/latex": [
       "316.8"
      ],
      "text/markdown": [
       "316.8"
      ],
      "text/plain": [
       "[1] 316.8"
      ]
     },
     "metadata": {},
     "output_type": "display_data"
    }
   ],
   "source": [
    "3.6+2.7*10+0.9*18+1.5*260\n",
    "436.8 - 1.5*80"
   ]
  },
  {
   "cell_type": "markdown",
   "metadata": {},
   "source": [
    "## 2"
   ]
  },
  {
   "cell_type": "code",
   "execution_count": 173,
   "metadata": {
    "collapsed": true
   },
   "outputs": [],
   "source": [
    "y=stackloss$stack.loss\n",
    "x1=stackloss$Air.Flow\n",
    "x2=stackloss$Water.Temp\n",
    "x3=stackloss$Acid.Conc.\n",
    "x1=x1-mean(x1)\n",
    "x2=x2-mean(x2)\n",
    "x3=x3-mean(x3)"
   ]
  },
  {
   "cell_type": "markdown",
   "metadata": {},
   "source": [
    "### a"
   ]
  },
  {
   "cell_type": "code",
   "execution_count": 174,
   "metadata": {
    "collapsed": false
   },
   "outputs": [
    {
     "data": {
      "text/plain": [
       "\n",
       "Call:\n",
       "lm(formula = y ~ x1 + x2 + x3)\n",
       "\n",
       "Residuals:\n",
       "    Min      1Q  Median      3Q     Max \n",
       "-7.2377 -1.7117 -0.4551  2.3614  5.6978 \n",
       "\n",
       "Coefficients:\n",
       "            Estimate Std. Error t value Pr(>|t|)    \n",
       "(Intercept)  17.5238     0.7078  24.760 8.91e-15 ***\n",
       "x1            0.7156     0.1349   5.307 5.80e-05 ***\n",
       "x2            1.2953     0.3680   3.520  0.00263 ** \n",
       "x3           -0.1521     0.1563  -0.973  0.34405    \n",
       "---\n",
       "Signif. codes:  0 '***' 0.001 '**' 0.01 '*' 0.05 '.' 0.1 ' ' 1\n",
       "\n",
       "Residual standard error: 3.243 on 17 degrees of freedom\n",
       "Multiple R-squared:  0.9136,\tAdjusted R-squared:  0.8983 \n",
       "F-statistic:  59.9 on 3 and 17 DF,  p-value: 3.016e-09\n"
      ]
     },
     "metadata": {},
     "output_type": "display_data"
    }
   ],
   "source": [
    "fit1 = lm(y~x1+x2+x3)\n",
    "summary(fit1)"
   ]
  },
  {
   "cell_type": "markdown",
   "metadata": {},
   "source": [
    "$y = 17.5238 + 0.7156X_1 + 1.2953X_2 - 0.1521X_3$\n",
    "\n",
    "adjusted $R^2 = 0.8983$\n",
    "\n",
    "p-value $= 3.016\\cdot 10^{-9}$, which meas that the model is useful for predicting stackloss."
   ]
  },
  {
   "cell_type": "markdown",
   "metadata": {},
   "source": [
    "### b"
   ]
  },
  {
   "cell_type": "code",
   "execution_count": 175,
   "metadata": {
    "collapsed": false
   },
   "outputs": [
    {
     "data": {
      "text/plain": [
       "\n",
       "Call:\n",
       "lm(formula = y ~ x1 + x2)\n",
       "\n",
       "Residuals:\n",
       "    Min      1Q  Median      3Q     Max \n",
       "-7.5290 -1.7505  0.1894  2.1156  5.6588 \n",
       "\n",
       "Coefficients:\n",
       "            Estimate Std. Error t value Pr(>|t|)    \n",
       "(Intercept)  17.5238     0.7067  24.796 2.29e-15 ***\n",
       "x1            0.6712     0.1267   5.298 4.90e-05 ***\n",
       "x2            1.2954     0.3675   3.525  0.00242 ** \n",
       "---\n",
       "Signif. codes:  0 '***' 0.001 '**' 0.01 '*' 0.05 '.' 0.1 ' ' 1\n",
       "\n",
       "Residual standard error: 3.239 on 18 degrees of freedom\n",
       "Multiple R-squared:  0.9088,\tAdjusted R-squared:  0.8986 \n",
       "F-statistic: 89.64 on 2 and 18 DF,  p-value: 4.382e-10\n"
      ]
     },
     "metadata": {},
     "output_type": "display_data"
    }
   ],
   "source": [
    "fit2 = lm(y~x1+x2)\n",
    "summary(fit2)"
   ]
  },
  {
   "cell_type": "markdown",
   "metadata": {},
   "source": [
    "The p-value for $x_3$ is 0.34405, thus it is not a useful predictor in the model\n",
    "\n",
    "new adjusted $R^2 = 0.8986$ which is very close to the value in part a. And therefore it is consistent with the conclusion that $x_3$ is not useful."
   ]
  },
  {
   "cell_type": "markdown",
   "metadata": {},
   "source": [
    "### c"
   ]
  },
  {
   "cell_type": "code",
   "execution_count": 176,
   "metadata": {
    "collapsed": false
   },
   "outputs": [
    {
     "data": {
      "text/html": [
       "<table>\n",
       "<thead><tr><th></th><th scope=col>fit</th><th scope=col>lwr</th><th scope=col>upr</th></tr></thead>\n",
       "<tbody>\n",
       "\t<tr><th scope=row>1</th><td>32.59631</td><td>25.22471</td><td>39.96792</td></tr>\n",
       "</tbody>\n",
       "</table>\n"
      ],
      "text/latex": [
       "\\begin{tabular}{r|lll}\n",
       "  & fit & lwr & upr\\\\\n",
       "\\hline\n",
       "\t1 & 32.59631 & 25.22471 & 39.96792\\\\\n",
       "\\end{tabular}\n"
      ],
      "text/markdown": [
       "\n",
       "| <!--/--> | fit | lwr | upr | \n",
       "|---|\n",
       "| 1 | 32.59631 | 25.22471 | 39.96792 | \n",
       "\n",
       "\n"
      ],
      "text/plain": [
       "  fit      lwr      upr     \n",
       "1 32.59631 25.22471 39.96792"
      ]
     },
     "metadata": {},
     "output_type": "display_data"
    }
   ],
   "source": [
    "predict(fit2, data.frame(x1=85-mean(stackloss$Air.Flow), x2=20-mean(stackloss$Water.Temp)), interval = \"confidence\", level = 0.95)"
   ]
  },
  {
   "cell_type": "markdown",
   "metadata": {},
   "source": [
    "The model with only $x_1$ and $x_2$ has nothing to do with acid concentration, and it only have water temprature as its predictor. And therefore we will get a list of predictions for stackloss."
   ]
  },
  {
   "cell_type": "markdown",
   "metadata": {},
   "source": [
    "### d"
   ]
  },
  {
   "cell_type": "code",
   "execution_count": 23,
   "metadata": {
    "collapsed": false
   },
   "outputs": [
    {
     "data": {
      "text/plain": [
       "\n",
       "Call:\n",
       "lm(formula = y ~ poly(x1, 2, raw = T) + poly(x2, 2, raw = T) + \n",
       "    x1:x2)\n",
       "\n",
       "Residuals:\n",
       "   Min     1Q Median     3Q    Max \n",
       "-3.710 -1.645 -0.395  1.290  6.355 \n",
       "\n",
       "Coefficients:\n",
       "                      Estimate Std. Error t value Pr(>|t|)    \n",
       "(Intercept)           17.19405    1.57043  10.949  1.5e-08 ***\n",
       "poly(x1, 2, raw = T)1  0.62793    0.15478   4.057  0.00103 ** \n",
       "poly(x1, 2, raw = T)2 -0.03857    0.02370  -1.628  0.12444    \n",
       "poly(x2, 2, raw = T)1  1.12312    0.36044   3.116  0.00708 ** \n",
       "poly(x2, 2, raw = T)2 -0.06624    0.23901  -0.277  0.78544    \n",
       "x1:x2                  0.18757    0.11824   1.586  0.13350    \n",
       "---\n",
       "Signif. codes:  0 '***' 0.001 '**' 0.01 '*' 0.05 '.' 0.1 ' ' 1\n",
       "\n",
       "Residual standard error: 2.831 on 15 degrees of freedom\n",
       "Multiple R-squared:  0.9419,\tAdjusted R-squared:  0.9226 \n",
       "F-statistic: 48.65 on 5 and 15 DF,  p-value: 9.663e-09\n"
      ]
     },
     "metadata": {},
     "output_type": "display_data"
    }
   ],
   "source": [
    "fit3 = lm(y~poly(x1,2,raw=T)+poly(x2,2,raw=T)+x1:x2)\n",
    "summary(fit3)"
   ]
  },
  {
   "cell_type": "code",
   "execution_count": 24,
   "metadata": {
    "collapsed": false
   },
   "outputs": [
    {
     "data": {
      "text/html": [
       "<table>\n",
       "<thead><tr><th scope=col>Res.Df</th><th scope=col>RSS</th><th scope=col>Df</th><th scope=col>Sum of Sq</th><th scope=col>F</th><th scope=col>Pr(&gt;F)</th></tr></thead>\n",
       "<tbody>\n",
       "\t<tr><td>18        </td><td>188.7953  </td><td>NA        </td><td>      NA  </td><td>      NA  </td><td>        NA</td></tr>\n",
       "\t<tr><td>15        </td><td>120.1911  </td><td> 3        </td><td>68.60424  </td><td>2.853965  </td><td>0.07237802</td></tr>\n",
       "</tbody>\n",
       "</table>\n"
      ],
      "text/latex": [
       "\\begin{tabular}{r|llllll}\n",
       " Res.Df & RSS & Df & Sum of Sq & F & Pr(>F)\\\\\n",
       "\\hline\n",
       "\t 18         & 188.7953   & NA         &       NA   &       NA   &         NA\\\\\n",
       "\t 15         & 120.1911   &  3         & 68.60424   & 2.853965   & 0.07237802\\\\\n",
       "\\end{tabular}\n"
      ],
      "text/markdown": [
       "\n",
       "Res.Df | RSS | Df | Sum of Sq | F | Pr(>F) | \n",
       "|---|---|\n",
       "| 18         | 188.7953   | NA         |       NA   |       NA   |         NA | \n",
       "| 15         | 120.1911   |  3         | 68.60424   | 2.853965   | 0.07237802 | \n",
       "\n",
       "\n"
      ],
      "text/plain": [
       "  Res.Df RSS      Df Sum of Sq F        Pr(>F)    \n",
       "1 18     188.7953 NA       NA        NA         NA\n",
       "2 15     120.1911  3 68.60424  2.853965 0.07237802"
      ]
     },
     "metadata": {},
     "output_type": "display_data"
    }
   ],
   "source": [
    "anova(fit2, fit3)"
   ]
  },
  {
   "cell_type": "markdown",
   "metadata": {},
   "source": [
    "$y = 17.19405 + 0.62793x_1 - 0.03857x_1^2+1.12312x_2-0.06624x_2^2+0.18757x_1x_2$\n",
    "\n",
    "The p-value $=0.07238 > 0.05$, and therefore we cannot reject the null hypothesis, which implies that the two quadratic terms and the interaction are not significant at level $0.05$"
   ]
  },
  {
   "cell_type": "markdown",
   "metadata": {},
   "source": [
    "### e"
   ]
  },
  {
   "cell_type": "code",
   "execution_count": 26,
   "metadata": {
    "collapsed": false
   },
   "outputs": [
    {
     "data": {
      "image/png": "[encoded data removed]",
      "text/plain": [
       "plot without title"
      ]
     },
     "metadata": {},
     "output_type": "display_data"
    }
   ],
   "source": [
    "pairs(stackloss)"
   ]
  },
  {
   "cell_type": "markdown",
   "metadata": {},
   "source": [
    "From the graph Acid.Conc appear correlated with stackloss.\n",
    "\n",
    "The high value maybe becuase that the Acid.Conc is explained by Air.Flow and Water.Temp"
   ]
  },
  {
   "cell_type": "markdown",
   "metadata": {},
   "source": [
    "## 3"
   ]
  },
  {
   "cell_type": "markdown",
   "metadata": {},
   "source": [
    "The true model is the following polynomial of degree 4.\n",
    "\n",
    "We will build samples for polynomial regressions by adding random noise to the base polynomial."
   ]
  },
  {
   "cell_type": "code",
   "execution_count": 39,
   "metadata": {
    "collapsed": true
   },
   "outputs": [],
   "source": [
    "base.poly <- function(x) 0.005*x^4 - 0.28*x^3 + 2.36*x^2 - 5.6*x + 2000\n",
    "x <- 1:50"
   ]
  },
  {
   "cell_type": "markdown",
   "metadata": {},
   "source": [
    "### (a)\n",
    "\n",
    "Construct a vector \"y\" such that, for 1 <= i <= 50, y[i] is equal to base.poly(i) plus a random error term taken from a normal distribution with mean=0 and sd=400.\n"
   ]
  },
  {
   "cell_type": "code",
   "execution_count": 40,
   "metadata": {
    "collapsed": false
   },
   "outputs": [
    {
     "data": {
      "text/html": [
       "<ol class=list-inline>\n",
       "\t<li>1996.485</li>\n",
       "\t<li>1996.08</li>\n",
       "\t<li>1997.285</li>\n",
       "\t<li>1998.72</li>\n",
       "\t<li>1999.125</li>\n",
       "\t<li>1997.36</li>\n",
       "\t<li>1992.405</li>\n",
       "\t<li>1983.36</li>\n",
       "\t<li>1969.445</li>\n",
       "\t<li>1950</li>\n",
       "\t<li>1924.485</li>\n",
       "\t<li>1892.48</li>\n",
       "\t<li>1853.685</li>\n",
       "\t<li>1807.92</li>\n",
       "\t<li>1755.125</li>\n",
       "\t<li>1695.36</li>\n",
       "\t<li>1628.805</li>\n",
       "\t<li>1555.76</li>\n",
       "\t<li>1476.645</li>\n",
       "\t<li>1392</li>\n",
       "\t<li>1302.485</li>\n",
       "\t<li>1208.88</li>\n",
       "\t<li>1112.085</li>\n",
       "\t<li>1013.12</li>\n",
       "\t<li>913.125</li>\n",
       "\t<li>813.359999999999</li>\n",
       "\t<li>715.204999999999</li>\n",
       "\t<li>620.16</li>\n",
       "\t<li>529.844999999999</li>\n",
       "\t<li>445.999999999999</li>\n",
       "\t<li>370.484999999999</li>\n",
       "\t<li>305.279999999999</li>\n",
       "\t<li>252.485</li>\n",
       "\t<li>214.319999999999</li>\n",
       "\t<li>193.124999999998</li>\n",
       "\t<li>191.359999999998</li>\n",
       "\t<li>211.604999999998</li>\n",
       "\t<li>256.559999999998</li>\n",
       "\t<li>329.044999999996</li>\n",
       "\t<li>432</li>\n",
       "\t<li>568.484999999999</li>\n",
       "\t<li>741.679999999996</li>\n",
       "\t<li>954.884999999998</li>\n",
       "\t<li>1211.52</li>\n",
       "\t<li>1515.125</li>\n",
       "\t<li>1869.36</li>\n",
       "\t<li>2278.005</li>\n",
       "\t<li>2744.96</li>\n",
       "\t<li>3274.245</li>\n",
       "\t<li>3870</li>\n",
       "</ol>\n"
      ],
      "text/latex": [
       "\\begin{enumerate*}\n",
       "\\item 1996.485\n",
       "\\item 1996.08\n",
       "\\item 1997.285\n",
       "\\item 1998.72\n",
       "\\item 1999.125\n",
       "\\item 1997.36\n",
       "\\item 1992.405\n",
       "\\item 1983.36\n",
       "\\item 1969.445\n",
       "\\item 1950\n",
       "\\item 1924.485\n",
       "\\item 1892.48\n",
       "\\item 1853.685\n",
       "\\item 1807.92\n",
       "\\item 1755.125\n",
       "\\item 1695.36\n",
       "\\item 1628.805\n",
       "\\item 1555.76\n",
       "\\item 1476.645\n",
       "\\item 1392\n",
       "\\item 1302.485\n",
       "\\item 1208.88\n",
       "\\item 1112.085\n",
       "\\item 1013.12\n",
       "\\item 913.125\n",
       "\\item 813.359999999999\n",
       "\\item 715.204999999999\n",
       "\\item 620.16\n",
       "\\item 529.844999999999\n",
       "\\item 445.999999999999\n",
       "\\item 370.484999999999\n",
       "\\item 305.279999999999\n",
       "\\item 252.485\n",
       "\\item 214.319999999999\n",
       "\\item 193.124999999998\n",
       "\\item 191.359999999998\n",
       "\\item 211.604999999998\n",
       "\\item 256.559999999998\n",
       "\\item 329.044999999996\n",
       "\\item 432\n",
       "\\item 568.484999999999\n",
       "\\item 741.679999999996\n",
       "\\item 954.884999999998\n",
       "\\item 1211.52\n",
       "\\item 1515.125\n",
       "\\item 1869.36\n",
       "\\item 2278.005\n",
       "\\item 2744.96\n",
       "\\item 3274.245\n",
       "\\item 3870\n",
       "\\end{enumerate*}\n"
      ],
      "text/markdown": [
       "1. 1996.485\n",
       "2. 1996.08\n",
       "3. 1997.285\n",
       "4. 1998.72\n",
       "5. 1999.125\n",
       "6. 1997.36\n",
       "7. 1992.405\n",
       "8. 1983.36\n",
       "9. 1969.445\n",
       "10. 1950\n",
       "11. 1924.485\n",
       "12. 1892.48\n",
       "13. 1853.685\n",
       "14. 1807.92\n",
       "15. 1755.125\n",
       "16. 1695.36\n",
       "17. 1628.805\n",
       "18. 1555.76\n",
       "19. 1476.645\n",
       "20. 1392\n",
       "21. 1302.485\n",
       "22. 1208.88\n",
       "23. 1112.085\n",
       "24. 1013.12\n",
       "25. 913.125\n",
       "26. 813.359999999999\n",
       "27. 715.204999999999\n",
       "28. 620.16\n",
       "29. 529.844999999999\n",
       "30. 445.999999999999\n",
       "31. 370.484999999999\n",
       "32. 305.279999999999\n",
       "33. 252.485\n",
       "34. 214.319999999999\n",
       "35. 193.124999999998\n",
       "36. 191.359999999998\n",
       "37. 211.604999999998\n",
       "38. 256.559999999998\n",
       "39. 329.044999999996\n",
       "40. 432\n",
       "41. 568.484999999999\n",
       "42. 741.679999999996\n",
       "43. 954.884999999998\n",
       "44. 1211.52\n",
       "45. 1515.125\n",
       "46. 1869.36\n",
       "47. 2278.005\n",
       "48. 2744.96\n",
       "49. 3274.245\n",
       "50. 3870\n",
       "\n",
       "\n"
      ],
      "text/plain": [
       " [1] 1996.485 1996.080 1997.285 1998.720 1999.125 1997.360 1992.405 1983.360\n",
       " [9] 1969.445 1950.000 1924.485 1892.480 1853.685 1807.920 1755.125 1695.360\n",
       "[17] 1628.805 1555.760 1476.645 1392.000 1302.485 1208.880 1112.085 1013.120\n",
       "[25]  913.125  813.360  715.205  620.160  529.845  446.000  370.485  305.280\n",
       "[33]  252.485  214.320  193.125  191.360  211.605  256.560  329.045  432.000\n",
       "[41]  568.485  741.680  954.885 1211.520 1515.125 1869.360 2278.005 2744.960\n",
       "[49] 3274.245 3870.000"
      ]
     },
     "metadata": {},
     "output_type": "display_data"
    }
   ],
   "source": [
    "base.poly(1:50)"
   ]
  },
  {
   "cell_type": "code",
   "execution_count": 49,
   "metadata": {
    "collapsed": true
   },
   "outputs": [],
   "source": [
    "y <- base.poly(1:50) + rnorm(50, mean=0, sd = 400)\n",
    "samples <- data.frame(x,y)"
   ]
  },
  {
   "cell_type": "markdown",
   "metadata": {},
   "source": [
    "We take 10 evenly spaced samples to train our polynomial model, and leave the remaining 40 to test the model."
   ]
  },
  {
   "cell_type": "code",
   "execution_count": 50,
   "metadata": {
    "collapsed": true
   },
   "outputs": [],
   "source": [
    "training.rows <- seq(1,50,5)\n",
    "training <- samples[training.rows,]\n",
    "test <- samples[-training.rows,]"
   ]
  },
  {
   "cell_type": "code",
   "execution_count": 134,
   "metadata": {
    "collapsed": false
   },
   "outputs": [
    {
     "data": {
      "text/html": [
       "<table>\n",
       "<thead><tr><th></th><th scope=col>x</th><th scope=col>y</th></tr></thead>\n",
       "<tbody>\n",
       "\t<tr><th scope=row>1</th><td> 1        </td><td>1740.73051</td></tr>\n",
       "\t<tr><th scope=row>6</th><td> 6        </td><td>1991.30252</td></tr>\n",
       "\t<tr><th scope=row>11</th><td>11        </td><td>1825.14528</td></tr>\n",
       "\t<tr><th scope=row>16</th><td>16        </td><td>1456.05615</td></tr>\n",
       "\t<tr><th scope=row>21</th><td>21        </td><td>1837.95995</td></tr>\n",
       "\t<tr><th scope=row>26</th><td>26        </td><td> -68.05398</td></tr>\n",
       "\t<tr><th scope=row>31</th><td>31        </td><td> 601.62164</td></tr>\n",
       "\t<tr><th scope=row>36</th><td>36        </td><td> 179.72173</td></tr>\n",
       "\t<tr><th scope=row>41</th><td>41        </td><td> 682.44076</td></tr>\n",
       "\t<tr><th scope=row>46</th><td>46        </td><td>1383.30062</td></tr>\n",
       "</tbody>\n",
       "</table>\n"
      ],
      "text/latex": [
       "\\begin{tabular}{r|ll}\n",
       "  & x & y\\\\\n",
       "\\hline\n",
       "\t1 &  1         & 1740.73051\\\\\n",
       "\t6 &  6         & 1991.30252\\\\\n",
       "\t11 & 11         & 1825.14528\\\\\n",
       "\t16 & 16         & 1456.05615\\\\\n",
       "\t21 & 21         & 1837.95995\\\\\n",
       "\t26 & 26         &  -68.05398\\\\\n",
       "\t31 & 31         &  601.62164\\\\\n",
       "\t36 & 36         &  179.72173\\\\\n",
       "\t41 & 41         &  682.44076\\\\\n",
       "\t46 & 46         & 1383.30062\\\\\n",
       "\\end{tabular}\n"
      ],
      "text/markdown": [
       "\n",
       "| <!--/--> | x | y | \n",
       "|---|---|---|---|---|---|---|---|---|---|\n",
       "| 1 |  1         | 1740.73051 | \n",
       "| 6 |  6         | 1991.30252 | \n",
       "| 11 | 11         | 1825.14528 | \n",
       "| 16 | 16         | 1456.05615 | \n",
       "| 21 | 21         | 1837.95995 | \n",
       "| 26 | 26         |  -68.05398 | \n",
       "| 31 | 31         |  601.62164 | \n",
       "| 36 | 36         |  179.72173 | \n",
       "| 41 | 41         |  682.44076 | \n",
       "| 46 | 46         | 1383.30062 | \n",
       "\n",
       "\n"
      ],
      "text/plain": [
       "   x  y         \n",
       "1   1 1740.73051\n",
       "6   6 1991.30252\n",
       "11 11 1825.14528\n",
       "16 16 1456.05615\n",
       "21 21 1837.95995\n",
       "26 26  -68.05398\n",
       "31 31  601.62164\n",
       "36 36  179.72173\n",
       "41 41  682.44076\n",
       "46 46 1383.30062"
      ]
     },
     "metadata": {},
     "output_type": "display_data"
    }
   ],
   "source": [
    "training"
   ]
  },
  {
   "cell_type": "markdown",
   "metadata": {},
   "source": [
    "### (b) \n",
    "\n",
    "Construct a list (not a vector) \"models\" such that, for 1 <= n <= 9, models[[n]] is the linear regression model given independent variables x, x^2, x^3, ..., x^n, and dependent variable y. Use only the data found in the training set (but don't use the \"subset\" input variable, as it doesn't seem to behave properly with this problem). \n",
    "\n",
    "Hint: There are two main strategies to do this. You can construct the formulas by hand, as in the following: lm(y ~ x + I(x^2) + I(x^3), training) \n",
    "\n",
    "The I()'s are necessary.\n",
    "\n",
    "Or, you can use the poly() function in the formula, which will allow you to use a for-loop or lapply() to construct the formulas automatically."
   ]
  },
  {
   "cell_type": "code",
   "execution_count": 109,
   "metadata": {
    "collapsed": false
   },
   "outputs": [],
   "source": [
    "models=list() \n",
    "models[[1]] = lm(y~x, training)\n",
    "models[[2]] = lm(y~x+I(x^2), training)\n",
    "models[[3]] = lm(y~x+I(x^2)+I(x^3), training)\n",
    "models[[4]] = lm(y~x+I(x^2)+I(x^3)+I(x^4), training)\n",
    "models[[5]] = lm(y~x+I(x^2)+I(x^3)+I(x^4)+I(x^5), training)\n",
    "models[[6]] = lm(y~x+I(x^2)+I(x^3)+I(x^4)+I(x^5)+I(x^6), training)\n",
    "models[[7]] = lm(y~x+I(x^2)+I(x^3)+I(x^4)+I(x^5)+I(x^6)+I(x^7), training)\n",
    "models[[8]] = lm(y~x+I(x^2)+I(x^3)+I(x^4)+I(x^5)+I(x^6)+I(x^7)+I(x^8), training)\n",
    "models[[9]] = lm(y~x+I(x^2)+I(x^3)+I(x^4)+I(x^5)+I(x^6)+I(x^7)+I(x^8)+I(x^9), training)"
   ]
  },
  {
   "cell_type": "markdown",
   "metadata": {},
   "source": [
    "### (c)\n",
    "\n",
    "Using \"models\" and the predict() function, construct the vectors training.error and test.error such that, for 1 <= n <= 9, training.error[n] and test.error[n] are the mean of the squared residuals of the training set and the mean of the squared residuals of the test set, respectively."
   ]
  },
  {
   "cell_type": "code",
   "execution_count": 113,
   "metadata": {
    "collapsed": true
   },
   "outputs": [],
   "source": [
    "training.error <- rep(0,9)\n",
    "test.error <- rep(0,9)"
   ]
  },
  {
   "cell_type": "code",
   "execution_count": 148,
   "metadata": {
    "collapsed": true
   },
   "outputs": [],
   "source": [
    "train_x = training$x\n",
    "test_x = test$x\n",
    "train_y = training$y\n",
    "test_y = test$y"
   ]
  },
  {
   "cell_type": "code",
   "execution_count": 156,
   "metadata": {
    "collapsed": false
   },
   "outputs": [],
   "source": [
    "for (i in 1:9) {\n",
    "    error = 0\n",
    "    predict = models[[i]]$coef[1]\n",
    "    for (j in 1:i){\n",
    "        predict = predict + models[[i]]$coef[j+1] * I(train_x^j)\n",
    "    }\n",
    "    training.error[i] = sum((train_y - predict)^2)/10\n",
    "}"
   ]
  },
  {
   "cell_type": "code",
   "execution_count": 159,
   "metadata": {
    "collapsed": true
   },
   "outputs": [],
   "source": [
    "for (i in 1:9) {\n",
    "    error = 0\n",
    "    predict = models[[i]]$coef[1]\n",
    "    for (j in 1:i){\n",
    "        predict = predict + models[[i]]$coef[j+1] * I(test_x^j)\n",
    "    }\n",
    "    test.error[i] = sum((test_y - predict)^2)/40\n",
    "}"
   ]
  },
  {
   "cell_type": "markdown",
   "metadata": {},
   "source": [
    "### (d)\n",
    "\n",
    "Look at the tables of training error and test error, and the graphs of the polynomial models compared to the training set. The training set is colored red, and the test set is colored black. How does the training error behave? How does the test error behave? Why?"
   ]
  },
  {
   "cell_type": "code",
   "execution_count": 1,
   "metadata": {
    "collapsed": false
   },
   "outputs": [
    {
     "ename": "ERROR",
     "evalue": "Error in cbind(training.error, test.error): 找不到对象'training.error'\n",
     "output_type": "error",
     "traceback": [
      "Error in cbind(training.error, test.error): 找不到对象'training.error'\nTraceback:\n",
      "1. print(cbind(training.error, test.error))",
      "2. cbind(training.error, test.error)"
     ]
    }
   ],
   "source": [
    "print(cbind(training.error,test.error))\n",
    "par(ask=T)\n",
    "xs <- seq(0,50,0.1)\n",
    "for(i in 1:9) {\n",
    "  plot(training,main=paste(\"Degree\",i,\"polynomial model\"),col=\"red\")\n",
    "  points(test)\n",
    "  lines(xs,predict(models[[i]],data.frame(x=xs)),col=\"red\")\n",
    "}\n",
    "par(ask=F)"
   ]
  },
  {
   "cell_type": "code",
   "execution_count": 164,
   "metadata": {
    "collapsed": false
   },
   "outputs": [
    {
     "data": {
      "text/html": [
       "<ol class=list-inline>\n",
       "\t<li>797191.087994731</li>\n",
       "\t<li>525053.053924605</li>\n",
       "\t<li>153714.743001023</li>\n",
       "\t<li>145970.826436836</li>\n",
       "\t<li>299313.376017541</li>\n",
       "\t<li>403496.933229074</li>\n",
       "\t<li>439309.210981583</li>\n",
       "\t<li>1008782.62379006</li>\n",
       "\t<li>1831900470.16633</li>\n",
       "</ol>\n"
      ],
      "text/latex": [
       "\\begin{enumerate*}\n",
       "\\item 797191.087994731\n",
       "\\item 525053.053924605\n",
       "\\item 153714.743001023\n",
       "\\item 145970.826436836\n",
       "\\item 299313.376017541\n",
       "\\item 403496.933229074\n",
       "\\item 439309.210981583\n",
       "\\item 1008782.62379006\n",
       "\\item 1831900470.16633\n",
       "\\end{enumerate*}\n"
      ],
      "text/markdown": [
       "1. 797191.087994731\n",
       "2. 525053.053924605\n",
       "3. 153714.743001023\n",
       "4. 145970.826436836\n",
       "5. 299313.376017541\n",
       "6. 403496.933229074\n",
       "7. 439309.210981583\n",
       "8. 1008782.62379006\n",
       "9. 1831900470.16633\n",
       "\n",
       "\n"
      ],
      "text/plain": [
       "[1]     797191.1     525053.1     153714.7     145970.8     299313.4\n",
       "[6]     403496.9     439309.2    1008782.6 1831900470.2"
      ]
     },
     "metadata": {},
     "output_type": "display_data"
    }
   ],
   "source": [
    "abs(training.error-test.error)"
   ]
  },
  {
   "cell_type": "markdown",
   "metadata": {},
   "source": [
    "as degree increases, the training error decrease continuously. The testing error first decreases and then increases. \n",
    "\n",
    "For the training error, as the degree increases, the model become more complicated and can capture more noises in the training set. And therefore the training error continuously decrease.\n",
    "\n",
    "However, for testing error, when degree < 4, the model is underfit, and as the degree increasing, the model will generalize the data better and therefore the testing error will decrease. \n",
    "\n",
    "However, when degree comes > 4, the model will become overfit and fail to generalize the data. And therefore the testing error increase continuously"
   ]
  },
  {
   "cell_type": "markdown",
   "metadata": {},
   "source": [
    "## XC 1"
   ]
  },
  {
   "cell_type": "markdown",
   "metadata": {},
   "source": [
    "### a\n",
    "\n",
    "set $h_{\\theta}(x^{(i)}) = \\theta_0x_0^{(i)} + \\theta_1x_1^{(i)} + \\dots + \\theta_dx_d^{(i)}$\n",
    "\n",
    "In this way $J(\\theta) = \\frac{1}{2} \\sum_{i=0}^{n}(h_{\\theta}(x^{(i)})-y^{(i)})^2$\n",
    "\n",
    "$\\frac{\\partial J(\\theta_0, \\dots \\theta_d)}{\\partial \\theta_j}$\n",
    "\n",
    "$=\\frac{1}{2} \\cdot 2 \\cdot \\sum_{i=0}^{n}(h_{\\theta}(x^{(i)})-y^{(i)}) \\cdot \\frac{\\partial}{\\partial \\theta_j}h_{\\theta}(x^{(i)})$ \n",
    "\n",
    "by definition of $h_{\\theta}(x^{(i)})$\n",
    "\n",
    "$\\frac{\\partial}{\\partial \\theta_j}h_{\\theta}(x^{(i)}) = x_j^{(i)}$\n",
    "\n",
    "And therefore $\\frac{\\partial J(\\theta_0, \\dots \\theta_d)}{\\partial \\theta_j} = \\sum_{i=0}^{n}(h_{\\theta}(x^{(i)})-y^{(i)}) \\cdot x_j^{(i)}$"
   ]
  },
  {
   "cell_type": "markdown",
   "metadata": {},
   "source": [
    "### b\n",
    "\n",
    "\n",
    "$J(\\theta_0 \\dots \\theta_d) = \\frac{1}{2}\\sum_{i=1}^{n}(\\theta_0x_0^{(i)} + \\theta_1x_1^{(i)} + \\dots + \\theta_dx_d^{(i)} - y^{(i)})^2$\n",
    "\n",
    "$= J(\\theta_0 \\dots \\theta_d) = \\frac{1}{2}\\sum_{i=1}^{n}( \\begin{bmatrix}\n",
    "    x_0^{(i)} & x_1^{(i)} & x_2^{(i)} & \\dots & x_d^{(i)} \\\\\n",
    "\\end{bmatrix}\n",
    "\\cdot\n",
    "\\begin{bmatrix}\n",
    "    \\theta_0 \\\\\n",
    "    \\theta_1 \\\\\n",
    "    \\vdots \\\\\n",
    "    \\theta_d\n",
    "\\end{bmatrix} - y^{(i)})^2 $\n",
    "\n",
    "$= J(\\theta) = \\frac{1}{2}\\sum_{i=1}^{n}((x^{(i)})^T\\theta - y^{(i)})^2$\n",
    "\n",
    "\n"
   ]
  },
  {
   "cell_type": "markdown",
   "metadata": {},
   "source": [
    "## XC 2"
   ]
  },
  {
   "cell_type": "code",
   "execution_count": 25,
   "metadata": {
    "collapsed": true
   },
   "outputs": [],
   "source": [
    "mail <- read.csv(\"mail.csv\") \n",
    "X <- as.matrix(mail[,c(\"pass_vs_block\", \"recipients\", \"sanitation_checks\", \"spamscore\")])\n",
    "y <- mail$percent_spam "
   ]
  },
  {
   "cell_type": "code",
   "execution_count": 26,
   "metadata": {
    "collapsed": false
   },
   "outputs": [],
   "source": [
    "J = function(X, y,theta) {\n",
    "    return  (sum((X %*% theta - y)^2)/2)\n",
    "}"
   ]
  },
  {
   "cell_type": "code",
   "execution_count": 27,
   "metadata": {
    "collapsed": true
   },
   "outputs": [],
   "source": [
    "grad.desc <- function(x,y, alpha, epsilon){\n",
    "    theta = rep(0, 5)\n",
    "    x = cbind(rep(1, length(y)), x)\n",
    "    cost = J(x,y,theta)\n",
    "    repeat {\n",
    "        theta <- theta + alpha * (t(x) %*% (y-(x %*% theta)))\n",
    "        new_cost = J(x, y, theta)\n",
    "        if(abs(new_cost - cost) < epsilon) {\n",
    "            break\n",
    "        }\n",
    "        cost = new_cost\n",
    "    }\n",
    "    \n",
    "    return(theta)\n",
    "}"
   ]
  },
  {
   "cell_type": "code",
   "execution_count": 28,
   "metadata": {
    "collapsed": false
   },
   "outputs": [
    {
     "data": {
      "text/html": [
       "<table>\n",
       "<tbody>\n",
       "\t<tr><th scope=row></th><td>2.419803e-04</td></tr>\n",
       "\t<tr><th scope=row>pass_vs_block</th><td>1.534096e-05</td></tr>\n",
       "\t<tr><th scope=row>recipients</th><td>2.413437e-04</td></tr>\n",
       "\t<tr><th scope=row>sanitation_checks</th><td>3.180167e-03</td></tr>\n",
       "\t<tr><th scope=row>spamscore</th><td>9.798224e-04</td></tr>\n",
       "</tbody>\n",
       "</table>\n"
      ],
      "text/latex": [
       "\\begin{tabular}{r|l}\n",
       "\t & 2.419803e-04\\\\\n",
       "\tpass\\_vs\\_block & 1.534096e-05\\\\\n",
       "\trecipients & 2.413437e-04\\\\\n",
       "\tsanitation\\_checks & 3.180167e-03\\\\\n",
       "\tspamscore & 9.798224e-04\\\\\n",
       "\\end{tabular}\n"
      ],
      "text/markdown": [
       "\n",
       "|  | 2.419803e-04 | \n",
       "| pass_vs_block | 1.534096e-05 | \n",
       "| recipients | 2.413437e-04 | \n",
       "| sanitation_checks | 3.180167e-03 | \n",
       "| spamscore | 9.798224e-04 | \n",
       "\n",
       "\n"
      ],
      "text/plain": [
       "                  [,1]        \n",
       "                  2.419803e-04\n",
       "pass_vs_block     1.534096e-05\n",
       "recipients        2.413437e-04\n",
       "sanitation_checks 3.180167e-03\n",
       "spamscore         9.798224e-04"
      ]
     },
     "metadata": {},
     "output_type": "display_data"
    }
   ],
   "source": [
    "grad.desc(X,y, 0.0000454, 0.00005)"
   ]
  },
  {
   "cell_type": "code",
   "execution_count": 29,
   "metadata": {
    "collapsed": false
   },
   "outputs": [
    {
     "data": {
      "text/html": [
       "<table>\n",
       "<tbody>\n",
       "\t<tr><th scope=row></th><td> 0.0002196734</td></tr>\n",
       "\t<tr><th scope=row>pass_vs_block</th><td> 0.0002589650</td></tr>\n",
       "\t<tr><th scope=row>recipients</th><td>-0.0001098847</td></tr>\n",
       "\t<tr><th scope=row>sanitation_checks</th><td> 0.0014898290</td></tr>\n",
       "\t<tr><th scope=row>spamscore</th><td> 0.0045359688</td></tr>\n",
       "</tbody>\n",
       "</table>\n"
      ],
      "text/latex": [
       "\\begin{tabular}{r|l}\n",
       "\t &  0.0002196734\\\\\n",
       "\tpass\\_vs\\_block &  0.0002589650\\\\\n",
       "\trecipients & -0.0001098847\\\\\n",
       "\tsanitation\\_checks &  0.0014898290\\\\\n",
       "\tspamscore &  0.0045359688\\\\\n",
       "\\end{tabular}\n"
      ],
      "text/markdown": [
       "\n",
       "|  |  0.0002196734 | \n",
       "| pass_vs_block |  0.0002589650 | \n",
       "| recipients | -0.0001098847 | \n",
       "| sanitation_checks |  0.0014898290 | \n",
       "| spamscore |  0.0045359688 | \n",
       "\n",
       "\n"
      ],
      "text/plain": [
       "                  [,1]         \n",
       "                   0.0002196734\n",
       "pass_vs_block      0.0002589650\n",
       "recipients        -0.0001098847\n",
       "sanitation_checks  0.0014898290\n",
       "spamscore          0.0045359688"
      ]
     },
     "metadata": {},
     "output_type": "display_data"
    }
   ],
   "source": [
    "grad.desc(X,y, 0.000045, 0.0001)"
   ]
  },
  {
   "cell_type": "code",
   "execution_count": 60,
   "metadata": {
    "collapsed": false
   },
   "outputs": [
    {
     "data": {
      "text/html": [
       "<dl class=dl-horizontal>\n",
       "\t<dt>(Intercept)</dt>\n",
       "\t\t<dd>0.076957648046684</dd>\n",
       "\t<dt>pass_vs_block</dt>\n",
       "\t\t<dd>0.78801589965007</dd>\n",
       "\t<dt>recipients</dt>\n",
       "\t\t<dd>-0.0298598646539911</dd>\n",
       "\t<dt>sanitation_checks</dt>\n",
       "\t\t<dd>-0.00365906749674724</dd>\n",
       "\t<dt>spamscore</dt>\n",
       "\t\t<dd>0.00167206588197064</dd>\n",
       "</dl>\n"
      ],
      "text/latex": [
       "\\begin{description*}\n",
       "\\item[(Intercept)] 0.076957648046684\n",
       "\\item[pass\\textbackslash{}\\_vs\\textbackslash{}\\_block] 0.78801589965007\n",
       "\\item[recipients] -0.0298598646539911\n",
       "\\item[sanitation\\textbackslash{}\\_checks] -0.00365906749674724\n",
       "\\item[spamscore] 0.00167206588197064\n",
       "\\end{description*}\n"
      ],
      "text/markdown": [
       "(Intercept)\n",
       ":   0.076957648046684pass_vs_block\n",
       ":   0.78801589965007recipients\n",
       ":   -0.0298598646539911sanitation_checks\n",
       ":   -0.00365906749674724spamscore\n",
       ":   0.00167206588197064\n",
       "\n"
      ],
      "text/plain": [
       "      (Intercept)     pass_vs_block        recipients sanitation_checks \n",
       "      0.076957648       0.788015900      -0.029859865      -0.003659067 \n",
       "        spamscore \n",
       "      0.001672066 "
      ]
     },
     "metadata": {},
     "output_type": "display_data"
    }
   ],
   "source": [
    "lm(percent_spam ~ pass_vs_block + recipients + sanitation_checks + spamscore, mail)$coefficients"
   ]
  },
  {
   "cell_type": "markdown",
   "metadata": {
    "collapsed": true
   },
   "source": [
    "By far $\\alpha \\approx 0.000045$ is the max alpha value I found. Values larger than this value will diverge.\n",
    "\n",
    "For this $\\alpha$ value, despite of the choice of $\\epsilon$, the predicted coefficients will be all quite small, which is similar with the result produced by lm"
   ]
  },
  {
   "cell_type": "code",
   "execution_count": null,
   "metadata": {
    "collapsed": true
   },
   "outputs": [],
   "source": []
  }
 ],
 "metadata": {
  "anaconda-cloud": {},
  "kernelspec": {
   "display_name": "R",
   "language": "R",
   "name": "ir"
  },
  "language_info": {
   "codemirror_mode": "r",
   "file_extension": ".r",
   "mimetype": "text/x-r-source",
   "name": "R",
   "pygments_lexer": "r",
   "version": "3.3.2"
  }
 },
 "nbformat": 4,
 "nbformat_minor": 2
}
