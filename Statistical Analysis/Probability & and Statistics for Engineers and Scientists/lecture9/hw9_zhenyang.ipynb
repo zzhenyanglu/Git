{
 "cells": [
  {
   "cell_type": "markdown",
   "metadata": {},
   "source": [
    "# homework 9\n",
    "# zhenyang lu\n",
    "\n",
    "Looks like this is the last three homeworks of it. maybe if this is the last you score the homework for me. Just want to say thanks for the problems session's notes and reviewing the weekly homework.   "
   ]
  },
  {
   "cell_type": "markdown",
   "metadata": {},
   "source": [
    "# Question 1 \n",
    "\n",
    "# a\n",
    "\n",
    "$Cov(X_1,X_2) = E(XY) - E(X)E(Y) = 80 $, \n",
    "\n",
    "So $E(XY) = 80 + E(X)E(Y) = 260 $.\n",
    "\n",
    "$\\mu_{y|x_1,x_2(x_1,x_2)} = 3.6 + 2.7E(X_1) + 0.9E(X_2) + 1.5E(X_1 X_2) = 436.8$"
   ]
  },
  {
   "cell_type": "markdown",
   "metadata": {},
   "source": [
    "# b\n",
    "\n",
    "(1) \n",
    "\n",
    "if we rearrange the following equation: \n",
    "\n",
    "$ Y = \\beta_0 + \\beta_1 (X_1 - \\mu_{X_1}) + \\beta_2 (X_2 - \\mu_{X_2}) + \\beta_3 (X_1 - \\mu_{X_1})(X_2 - \\mu_{X_2}) + \\epsilon$, \n",
    "\n",
    "we can get \n",
    "\n",
    "$Y = (\\beta_1* X_1 -\\beta_3* X_1* \\mu_{X_1}) + (\\beta_2* X_2...) + (\\beta_3 X_1 X_2 )$\n",
    "\n",
    "So it's apparent that the coefficient of $X_1*X_2$ is nothing but $\\beta_3$, which is 1.5. \n",
    "\n",
    "(2)\n",
    "\n",
    "$ E(Y) = E(\\beta_0) + \\beta_1 E(X_1 - \\mu_{X_1}) + \\beta_2 E(X_2 - \\mu_{X_2}) + \\beta_3 E(X_1 - \\mu_{X_1})(X_2 - \\mu_{X_2}) $\n",
    "\n",
    "Because: \n",
    "\n",
    "$ \\beta_1 E(X_1 - \\mu_{X_1}) = \\mu_{X_1} - E(\\mu_{X_1}) = 0 $\n",
    "\n",
    "$ \\beta_2 E(X_2 - \\mu_{X_2}) = \\mu_{X_2} - E(\\mu_{X_2}) = 0 $\n",
    "\n",
    "$ E(X_1 - \\mu_{X_1})(X_2 - \\mu_{X_2}) = Cov(X_1,X_2)$\n",
    "\n",
    "\n",
    "So \n",
    "\n",
    "$ E(Y) = \\beta_0 + \\beta_3 Cov(X_1,X_2) $\n",
    "\n",
    "$\\beta_0  = 436.8 - 1.5*80 = 316.8$"
   ]
  },
  {
   "cell_type": "markdown",
   "metadata": {},
   "source": [
    "# b\n"
   ]
  },
  {
   "cell_type": "code",
   "execution_count": 2,
   "metadata": {
    "collapsed": true
   },
   "outputs": [],
   "source": [
    "y=stackloss$stack.loss; \n",
    "x1=stackloss$Air.Flow;\n",
    "x2=stackloss$Water.Temp; \n",
    "x3=stackloss$Acid.Conc.\n",
    "\n",
    "\n",
    "x1=x1-mean(x1); \n",
    "x2=x2-mean(x2); \n",
    "x3=x3-mean(x3);"
   ]
  },
  {
   "cell_type": "code",
   "execution_count": 4,
   "metadata": {
    "collapsed": false
   },
   "outputs": [
    {
     "data": {
      "text/plain": [
       "\n",
       "Call:\n",
       "lm(formula = y ~ x1 + x2 + x3)\n",
       "\n",
       "Residuals:\n",
       "    Min      1Q  Median      3Q     Max \n",
       "-7.2377 -1.7117 -0.4551  2.3614  5.6978 \n",
       "\n",
       "Coefficients:\n",
       "            Estimate Std. Error t value Pr(>|t|)    \n",
       "(Intercept)  17.5238     0.7078  24.760 8.91e-15 ***\n",
       "x1            0.7156     0.1349   5.307 5.80e-05 ***\n",
       "x2            1.2953     0.3680   3.520  0.00263 ** \n",
       "x3           -0.1521     0.1563  -0.973  0.34405    \n",
       "---\n",
       "Signif. codes:  0 '***' 0.001 '**' 0.01 '*' 0.05 '.' 0.1 ' ' 1\n",
       "\n",
       "Residual standard error: 3.243 on 17 degrees of freedom\n",
       "Multiple R-squared:  0.9136,\tAdjusted R-squared:  0.8983 \n",
       "F-statistic:  59.9 on 3 and 17 DF,  p-value: 3.016e-09\n"
      ]
     },
     "metadata": {},
     "output_type": "display_data"
    },
    {
     "data": {
      "text/plain": [
       "\n",
       "Call:\n",
       "lm(formula = y ~ x1 + x2)\n",
       "\n",
       "Residuals:\n",
       "    Min      1Q  Median      3Q     Max \n",
       "-7.5290 -1.7505  0.1894  2.1156  5.6588 \n",
       "\n",
       "Coefficients:\n",
       "            Estimate Std. Error t value Pr(>|t|)    \n",
       "(Intercept)  17.5238     0.7067  24.796 2.29e-15 ***\n",
       "x1            0.6712     0.1267   5.298 4.90e-05 ***\n",
       "x2            1.2954     0.3675   3.525  0.00242 ** \n",
       "---\n",
       "Signif. codes:  0 '***' 0.001 '**' 0.01 '*' 0.05 '.' 0.1 ' ' 1\n",
       "\n",
       "Residual standard error: 3.239 on 18 degrees of freedom\n",
       "Multiple R-squared:  0.9088,\tAdjusted R-squared:  0.8986 \n",
       "F-statistic: 89.64 on 2 and 18 DF,  p-value: 4.382e-10\n"
      ]
     },
     "metadata": {},
     "output_type": "display_data"
    }
   ],
   "source": [
    "# (a)\n",
    "\n",
    "fit1 = lm(y~x1+x2+x3)\n",
    "summary(fit1)\n",
    "\n",
    "# R-squared:  0.9136 \n",
    "# Adjusted R-squared:  0.8983 \n",
    "# p-value: 3.016e-09\n",
    "\n",
    "# The model is pretty good! \n",
    "\n",
    "\n",
    "# (b)\n",
    "\n",
    "# p-value of X3 = 0.34405, which means it''s not significant\n",
    "\n",
    "fit2 = lm(y~x1+x2)\n",
    "summary(fit2)\n",
    "\n",
    "# adjusted R-squared = 0.8986, which means without X3, \n",
    "# the model explains Y even better, though very minimally.  "
   ]
  },
  {
   "cell_type": "code",
   "execution_count": 6,
   "metadata": {
    "collapsed": false
   },
   "outputs": [
    {
     "data": {
      "text/html": [
       "<table>\n",
       "<thead><tr><th></th><th scope=col>fit</th><th scope=col>lwr</th><th scope=col>upr</th></tr></thead>\n",
       "<tbody>\n",
       "\t<tr><th scope=row>1</th><td>32.59631</td><td>25.22471</td><td>39.96792</td></tr>\n",
       "</tbody>\n",
       "</table>\n"
      ],
      "text/latex": [
       "\\begin{tabular}{r|lll}\n",
       "  & fit & lwr & upr\\\\\n",
       "\\hline\n",
       "\t1 & 32.59631 & 25.22471 & 39.96792\\\\\n",
       "\\end{tabular}\n"
      ],
      "text/markdown": [
       "\n",
       "| <!--/--> | fit | lwr | upr | \n",
       "|---|\n",
       "| 1 | 32.59631 | 25.22471 | 39.96792 | \n",
       "\n",
       "\n"
      ],
      "text/plain": [
       "  fit      lwr      upr     \n",
       "1 32.59631 25.22471 39.96792"
      ]
     },
     "metadata": {},
     "output_type": "display_data"
    }
   ],
   "source": [
    "# (c) \n",
    "\n",
    "predict(fit2, data.frame(x1=85-mean(stackloss$Air.Flow), x2=20-mean(stackloss$Water.Temp)), interval = \"confidence\", level = 0.95)"
   ]
  },
  {
   "cell_type": "code",
   "execution_count": 17,
   "metadata": {
    "collapsed": false,
    "scrolled": true
   },
   "outputs": [
    {
     "data": {
      "text/html": [
       "<table>\n",
       "<thead><tr><th scope=col>Res.Df</th><th scope=col>RSS</th><th scope=col>Df</th><th scope=col>Sum of Sq</th><th scope=col>F</th><th scope=col>Pr(&gt;F)</th></tr></thead>\n",
       "<tbody>\n",
       "\t<tr><td>18        </td><td>188.7953  </td><td>NA        </td><td>      NA  </td><td>      NA  </td><td>        NA</td></tr>\n",
       "\t<tr><td>15        </td><td>120.1911  </td><td> 3        </td><td>68.60424  </td><td>2.853965  </td><td>0.07237802</td></tr>\n",
       "</tbody>\n",
       "</table>\n"
      ],
      "text/latex": [
       "\\begin{tabular}{r|llllll}\n",
       " Res.Df & RSS & Df & Sum of Sq & F & Pr(>F)\\\\\n",
       "\\hline\n",
       "\t 18         & 188.7953   & NA         &       NA   &       NA   &         NA\\\\\n",
       "\t 15         & 120.1911   &  3         & 68.60424   & 2.853965   & 0.07237802\\\\\n",
       "\\end{tabular}\n"
      ],
      "text/markdown": [
       "\n",
       "Res.Df | RSS | Df | Sum of Sq | F | Pr(>F) | \n",
       "|---|---|\n",
       "| 18         | 188.7953   | NA         |       NA   |       NA   |         NA | \n",
       "| 15         | 120.1911   |  3         | 68.60424   | 2.853965   | 0.07237802 | \n",
       "\n",
       "\n"
      ],
      "text/plain": [
       "  Res.Df RSS      Df Sum of Sq F        Pr(>F)    \n",
       "1 18     188.7953 NA       NA        NA         NA\n",
       "2 15     120.1911  3 68.60424  2.853965 0.07237802"
      ]
     },
     "metadata": {},
     "output_type": "display_data"
    },
    {
     "data": {
      "text/plain": [
       "\n",
       "Call:\n",
       "lm(formula = y ~ poly(x1, 2, raw = T) + poly(x2, 2, raw = T) + \n",
       "    x1:x2)\n",
       "\n",
       "Residuals:\n",
       "   Min     1Q Median     3Q    Max \n",
       "-3.710 -1.645 -0.395  1.290  6.355 \n",
       "\n",
       "Coefficients:\n",
       "                      Estimate Std. Error t value Pr(>|t|)    \n",
       "(Intercept)           17.19405    1.57043  10.949  1.5e-08 ***\n",
       "poly(x1, 2, raw = T)1  0.62793    0.15478   4.057  0.00103 ** \n",
       "poly(x1, 2, raw = T)2 -0.03857    0.02370  -1.628  0.12444    \n",
       "poly(x2, 2, raw = T)1  1.12312    0.36044   3.116  0.00708 ** \n",
       "poly(x2, 2, raw = T)2 -0.06624    0.23901  -0.277  0.78544    \n",
       "x1:x2                  0.18757    0.11824   1.586  0.13350    \n",
       "---\n",
       "Signif. codes:  0 '***' 0.001 '**' 0.01 '*' 0.05 '.' 0.1 ' ' 1\n",
       "\n",
       "Residual standard error: 2.831 on 15 degrees of freedom\n",
       "Multiple R-squared:  0.9419,\tAdjusted R-squared:  0.9226 \n",
       "F-statistic: 48.65 on 5 and 15 DF,  p-value: 9.663e-09\n"
      ]
     },
     "metadata": {},
     "output_type": "display_data"
    }
   ],
   "source": [
    "# (d) \n",
    "\n",
    "fit3 = lm(y~poly(x1,2,raw=T)+poly(x2,2,raw=T)+x1:x2)\n",
    "anova(fit2,fit3)\n",
    "summary(fit3)\n",
    "\n",
    "# the joint significance of the two quadratic and X1X2 are \n",
    "# not significant because p-value of the anova test are \n",
    "# larger than 0.05, also notice that the p-values of each of \n",
    "# the qudratic terms and X1X2 are also larger than 0.05. So \n",
    "# both indicates that they are not significant.  "
   ]
  },
  {
   "cell_type": "code",
   "execution_count": 18,
   "metadata": {
    "collapsed": false
   },
   "outputs": [
    {
     "data": {
      "image/png": "[encoded data removed]",
      "text/plain": [
       "plot without title"
      ]
     },
     "metadata": {},
     "output_type": "display_data"
    }
   ],
   "source": [
    "# (e) \n",
    "pairs(stackloss)\n",
    "\n",
    "# Acid.Conc seems correlated with stackloss, though not a strong relation. \n",
    "# The high p-value maybe results from the fact that Acid.Conc can be explained by other independent variables."
   ]
  },
  {
   "cell_type": "markdown",
   "metadata": {},
   "source": [
    "# Question 3\n"
   ]
  },
  {
   "cell_type": "code",
   "execution_count": 30,
   "metadata": {
    "collapsed": false
   },
   "outputs": [
    {
     "name": "stdout",
     "output_type": "stream",
     "text": [
      "      training.error  test.error\n",
      " [1,]   4.197177e+05    808032.7\n",
      " [2,]   2.779677e+05    388858.7\n",
      " [3,]   9.092750e+04    172224.6\n",
      " [4,]   1.745372e+04    318977.7\n",
      " [5,]   1.345649e+04    445120.2\n",
      " [6,]   7.115276e+03    252227.1\n",
      " [7,]   7.113051e+03    248558.2\n",
      " [8,]   7.113036e+03    247844.5\n",
      " [9,]   3.664359e-15 127626358.7\n"
     ]
    },
    {
     "data": {
      "image/png": "[encoded data removed]",
      "text/plain": [
       "Plot with title \"Degree 1 polynomial model\""
      ]
     },
     "metadata": {},
     "output_type": "display_data"
    },
    {
     "data": {
      "image/png": "[encoded data removed]",
      "text/plain": [
       "Plot with title \"Degree 2 polynomial model\""
      ]
     },
     "metadata": {},
     "output_type": "display_data"
    },
    {
     "data": {
      "image/png": "[encoded data removed]",
      "text/plain": [
       "Plot with title \"Degree 3 polynomial model\""
      ]
     },
     "metadata": {},
     "output_type": "display_data"
    },
    {
     "data": {
      "image/png": "[encoded data removed]",
      "text/plain": [
       "Plot with title \"Degree 4 polynomial model\""
      ]
     },
     "metadata": {},
     "output_type": "display_data"
    },
    {
     "data": {
      "image/png": "[encoded data removed]",
      "text/plain": [
       "Plot with title \"Degree 5 polynomial model\""
      ]
     },
     "metadata": {},
     "output_type": "display_data"
    },
    {
     "data": {
      "image/png": "[encoded data removed]",
      "text/plain": [
       "Plot with title \"Degree 6 polynomial model\""
      ]
     },
     "metadata": {},
     "output_type": "display_data"
    },
    {
     "data": {
      "image/png": "[encoded data removed]",
      "text/plain": [
       "Plot with title \"Degree 7 polynomial model\""
      ]
     },
     "metadata": {},
     "output_type": "display_data"
    },
    {
     "data": {
      "image/png": "[encoded data removed]",
      "text/plain": [
       "Plot with title \"Degree 8 polynomial model\""
      ]
     },
     "metadata": {},
     "output_type": "display_data"
    },
    {
     "data": {
      "image/png": "[encoded data removed]",
      "text/plain": [
       "Plot with title \"Degree 9 polynomial model\""
      ]
     },
     "metadata": {},
     "output_type": "display_data"
    }
   ],
   "source": [
    "base.poly <- function(x) 0.005*x^4 - 0.28*x^3 + 2.36*x^2 - 5.6*x + 2000\n",
    "x <- 1:50\n",
    "    \n",
    "# (a) - next line\n",
    "# (a) - next line\n",
    "y <- base.poly(1:50) + rnorm(50, mean=0, sd = 400)\n",
    "\n",
    "samples <- data.frame(x,y)\n",
    "training.rows <- seq(1,50,5)\n",
    "training <- samples[training.rows,]\n",
    "test <- samples[-training.rows,]\n",
    "    \n",
    "# (b) - next line\n",
    "# (b) - next line\n",
    "models=list() \n",
    "models[[1]] = lm(y~x, training)\n",
    "models[[2]] = lm(y~x+I(x^2), training)\n",
    "models[[3]] = lm(y~x+I(x^2)+I(x^3), training)\n",
    "models[[4]] = lm(y~x+I(x^2)+I(x^3)+I(x^4), training)\n",
    "models[[5]] = lm(y~x+I(x^2)+I(x^3)+I(x^4)+I(x^5), training)\n",
    "models[[6]] = lm(y~x+I(x^2)+I(x^3)+I(x^4)+I(x^5)+I(x^6), training)\n",
    "models[[7]] = lm(y~x+I(x^2)+I(x^3)+I(x^4)+I(x^5)+I(x^6)+I(x^7), training)\n",
    "models[[8]] = lm(y~x+I(x^2)+I(x^3)+I(x^4)+I(x^5)+I(x^6)+I(x^7)+I(x^8), training)\n",
    "models[[9]] = lm(y~x+I(x^2)+I(x^3)+I(x^4)+I(x^5)+I(x^6)+I(x^7)+I(x^8)+I(x^9), training)\n",
    "    \n",
    "par(ask=T)\n",
    "training.error <- rep(0,9) \n",
    "test.error <- rep(0,9) \n",
    "\n",
    "    \n",
    "# (c) - next line below: \n",
    "# (c) - next line below:\n",
    "    \n",
    "training_x = training$x\n",
    "test_x = test$x\n",
    "training_y = training$y\n",
    "test_y = test$y\n",
    "    \n",
    "for (i in 1:9) {\n",
    "    error = 0\n",
    "    predict_train = models[[i]]$coef[1]\n",
    "    predict_test = models[[i]]$coef[1]\n",
    "    for (j in 1:i){\n",
    "        predict_train = predict_train + models[[i]]$coef[j+1] * I(training_x^j)\n",
    "        predict_test = predict_test + models[[i]]$coef[j+1] * I(test_x^j)\n",
    "    }\n",
    "    training.error[i] = sum((training_y - predict_train)^2)/10\n",
    "    test.error[i] = sum((test_y - predict_test)^2)/40\n",
    "}\n",
    " \n",
    "    \n",
    "# (d) - next line below: \n",
    "    \n",
    "print(cbind(training.error,test.error))\n",
    "par(ask=T)\n",
    "xs <- seq(0,50,0.1)\n",
    "for(i in 1:9) {\n",
    "  plot(training,main=paste(\"Degree\",i,\"polynomial model\"),col=\"red\")\n",
    "  points(test)\n",
    "  lines(xs,predict(models[[i]],data.frame(x=xs)),col=\"red\")\n",
    "}\n",
    "par(ask=F)\n",
    "    \n",
    "    \n",
    "# Conclusion: \n",
    "# As the ploynomial degree increases, Training.error decreases. But Test.error decreases, and then increases. \n",
    "# training.error behaves so, because the regression model captures more and more noises in the training set. \n",
    "# But test.error does not always decreases, because the extra ploy terms besides the first 4 are trying to predict noises. \n",
    "# This is like the case where you can inflate R-squared by adding more and more independent variables even though the added \n",
    "# variables each get insignificant p-value, and Adjusted R-Squared actually will decreases as well, AKA the model is overfit, \n",
    "# by adding too many independent variables. So this model is best fitted around degree of 3 or 4.  "
   ]
  },
  {
   "cell_type": "markdown",
   "metadata": {},
   "source": [
    "# Question XC 1"
   ]
  },
  {
   "cell_type": "markdown",
   "metadata": {},
   "source": [
    "# (1)\n",
    "\n",
    "Let $h_{\\theta}(x^{(i)}) = \\theta_0 + \\theta_1x_1^{(i)} + \\dots + \\theta_dx_d^{(i)}$\n",
    "\n",
    "$J(\\theta) = \\frac{1}{2} \\sum_{i=0}^{n}(h_{\\theta}(x^{(i)})-y^{(i)})^2$\n",
    "\n",
    "(Pardon me for ingoring the details of chain-rule, it's really killing eyes to write then down by latex. For the sake of completeness, I will put a link here as a reminder, https://en.wikipedia.org/wiki/Chain_rule) \n",
    "\n",
    "Taking the derivative by chain-rule with respect to $\\theta_j$, we get: \n",
    "\n",
    "$ \\frac{\\partial J(\\theta_0, \\dots \\theta_d)}{\\partial \\theta_j} = \\frac{1}{2} * 2 * \\sum_{i=0}^{n}(h_{\\theta}(x^{(i)})-y^{(i)}) * x_j^{(i)} $"
   ]
  },
  {
   "cell_type": "markdown",
   "metadata": {},
   "source": [
    "# (2)\n",
    "\n",
    "$X^{(i)^T}* \\theta = \\begin{bmatrix} x_0^{(i)} & x_1^{(i)} & x_2^{(i)} & \\dots & x_d^{(i)} \\end{bmatrix} * \\begin{bmatrix} \\theta_0 ,\\\\\n",
    "\\theta_1, \\\\\n",
    "\\vdots ,\\\\\n",
    "\\theta_d \\\\\n",
    "\\end{bmatrix} = \\theta_0 + \\theta_1x_1^{(i)} + \\dots + \\theta_dx_d^{(i)}$\n",
    "\n",
    "THEREFORE: \n",
    "\n",
    "$= J(\\theta_0 \\dots \\theta_d) = \\frac{1}{2}\\sum_{i=1}^{n}( \\begin{bmatrix}\n",
    "    x_0^{(i)}, & x_1^{(i)}, & x_2^{(i)}, & \\dots & x_d^{(i)}, \\\\\n",
    "\\end{bmatrix}\n",
    "\\cdot\n",
    "\\begin{bmatrix}\n",
    "    \\theta_0, \\\\\n",
    "    \\theta_1, \\\\\n",
    "    \\vdots ,\\\\\n",
    "    \\theta_d,\n",
    "\\end{bmatrix} - \\begin{bmatrix}\n",
    "    y_{(1)}, \\\\\n",
    "    y_{(2)}, \\\\\n",
    "    \\vdots, \\\\\n",
    "    y_{(n)},\n",
    "\\end{bmatrix} )^2 =  \\frac{1}{2}\\sum_{i=1}^{n}((x^{(i)})^T\\theta - y^{(i)})^2 $ \n",
    "\n",
    "\n",
    "Eyes dizzy.. \\*_\\*"
   ]
  },
  {
   "cell_type": "markdown",
   "metadata": {},
   "source": [
    "# Question - EX 2\n"
   ]
  },
  {
   "cell_type": "code",
   "execution_count": 35,
   "metadata": {
    "collapsed": true
   },
   "outputs": [],
   "source": [
    "# (a)\n",
    "# all the variables used down here represents the variables \n",
    "# in the question description with the same names. \n",
    "\n",
    "# notice: d is specified as a parameter in grad.desc()\n",
    "\n",
    "grad.desc = function(X,Y, d,alpha, epsilon){\n",
    "    \n",
    "    theta = rep(0, d+1)\n",
    "    X = cbind(rep(1, length(Y)), X)\n",
    "    \n",
    "    # cost = J() here \n",
    "    loss = (sum((X %*% theta - Y)^2)/2)\n",
    "    \n",
    "    while (TRUE) {\n",
    "        theta = theta + alpha * (t(X) %*% (Y-(X %*% theta)))\n",
    "        \n",
    "        # cost = J() here \n",
    "        loss_new = sum((X %*% theta - Y)^2)/2\n",
    "        \n",
    "        if(abs(loss_new - loss) < epsilon) {\n",
    "            return(theta)\n",
    "        }\n",
    "        loss = loss_new\n",
    "    }\n",
    "}"
   ]
  },
  {
   "cell_type": "code",
   "execution_count": 41,
   "metadata": {
    "collapsed": false
   },
   "outputs": [
    {
     "data": {
      "text/html": [
       "<table>\n",
       "<tbody>\n",
       "\t<tr><th scope=row></th><td>9.245889e-05</td></tr>\n",
       "\t<tr><th scope=row>pass_vs_block</th><td>2.420425e-05</td></tr>\n",
       "\t<tr><th scope=row>recipients</th><td>6.621378e-05</td></tr>\n",
       "\t<tr><th scope=row>sanitation_checks</th><td>1.466672e-03</td></tr>\n",
       "\t<tr><th scope=row>spamscore</th><td>1.386698e-03</td></tr>\n",
       "</tbody>\n",
       "</table>\n"
      ],
      "text/latex": [
       "\\begin{tabular}{r|l}\n",
       "\t & 9.245889e-05\\\\\n",
       "\tpass\\_vs\\_block & 2.420425e-05\\\\\n",
       "\trecipients & 6.621378e-05\\\\\n",
       "\tsanitation\\_checks & 1.466672e-03\\\\\n",
       "\tspamscore & 1.386698e-03\\\\\n",
       "\\end{tabular}\n"
      ],
      "text/markdown": [
       "\n",
       "|  | 9.245889e-05 | \n",
       "| pass_vs_block | 2.420425e-05 | \n",
       "| recipients | 6.621378e-05 | \n",
       "| sanitation_checks | 1.466672e-03 | \n",
       "| spamscore | 1.386698e-03 | \n",
       "\n",
       "\n"
      ],
      "text/plain": [
       "                  [,1]        \n",
       "                  9.245889e-05\n",
       "pass_vs_block     2.420425e-05\n",
       "recipients        6.621378e-05\n",
       "sanitation_checks 1.466672e-03\n",
       "spamscore         1.386698e-03"
      ]
     },
     "metadata": {},
     "output_type": "display_data"
    },
    {
     "data": {
      "text/html": [
       "<dl class=dl-horizontal>\n",
       "\t<dt>(Intercept)</dt>\n",
       "\t\t<dd>0.076957648046684</dd>\n",
       "\t<dt>pass_vs_block</dt>\n",
       "\t\t<dd>0.78801589965007</dd>\n",
       "\t<dt>recipients</dt>\n",
       "\t\t<dd>-0.0298598646539911</dd>\n",
       "\t<dt>sanitation_checks</dt>\n",
       "\t\t<dd>-0.00365906749674724</dd>\n",
       "\t<dt>spamscore</dt>\n",
       "\t\t<dd>0.00167206588197064</dd>\n",
       "</dl>\n"
      ],
      "text/latex": [
       "\\begin{description*}\n",
       "\\item[(Intercept)] 0.076957648046684\n",
       "\\item[pass\\textbackslash{}\\_vs\\textbackslash{}\\_block] 0.78801589965007\n",
       "\\item[recipients] -0.0298598646539911\n",
       "\\item[sanitation\\textbackslash{}\\_checks] -0.00365906749674724\n",
       "\\item[spamscore] 0.00167206588197064\n",
       "\\end{description*}\n"
      ],
      "text/markdown": [
       "(Intercept)\n",
       ":   0.076957648046684pass_vs_block\n",
       ":   0.78801589965007recipients\n",
       ":   -0.0298598646539911sanitation_checks\n",
       ":   -0.00365906749674724spamscore\n",
       ":   0.00167206588197064\n",
       "\n"
      ],
      "text/plain": [
       "      (Intercept)     pass_vs_block        recipients sanitation_checks \n",
       "      0.076957648       0.788015900      -0.029859865      -0.003659067 \n",
       "        spamscore \n",
       "      0.001672066 "
      ]
     },
     "metadata": {},
     "output_type": "display_data"
    },
    {
     "data": {
      "text/html": [
       "<table>\n",
       "<tbody>\n",
       "\t<tr><th scope=row></th><td>9.329474e-05</td></tr>\n",
       "\t<tr><th scope=row>pass_vs_block</th><td>2.374130e-05</td></tr>\n",
       "\t<tr><th scope=row>recipients</th><td>6.778135e-05</td></tr>\n",
       "\t<tr><th scope=row>sanitation_checks</th><td>1.469921e-03</td></tr>\n",
       "\t<tr><th scope=row>spamscore</th><td>1.360238e-03</td></tr>\n",
       "</tbody>\n",
       "</table>\n"
      ],
      "text/latex": [
       "\\begin{tabular}{r|l}\n",
       "\t & 9.329474e-05\\\\\n",
       "\tpass\\_vs\\_block & 2.374130e-05\\\\\n",
       "\trecipients & 6.778135e-05\\\\\n",
       "\tsanitation\\_checks & 1.469921e-03\\\\\n",
       "\tspamscore & 1.360238e-03\\\\\n",
       "\\end{tabular}\n"
      ],
      "text/markdown": [
       "\n",
       "|  | 9.329474e-05 | \n",
       "| pass_vs_block | 2.374130e-05 | \n",
       "| recipients | 6.778135e-05 | \n",
       "| sanitation_checks | 1.469921e-03 | \n",
       "| spamscore | 1.360238e-03 | \n",
       "\n",
       "\n"
      ],
      "text/plain": [
       "                  [,1]        \n",
       "                  9.329474e-05\n",
       "pass_vs_block     2.374130e-05\n",
       "recipients        6.778135e-05\n",
       "sanitation_checks 1.469921e-03\n",
       "spamscore         1.360238e-03"
      ]
     },
     "metadata": {},
     "output_type": "display_data"
    },
    {
     "data": {
      "text/html": [
       "<dl class=dl-horizontal>\n",
       "\t<dt>(Intercept)</dt>\n",
       "\t\t<dd>0.076957648046684</dd>\n",
       "\t<dt>pass_vs_block</dt>\n",
       "\t\t<dd>0.78801589965007</dd>\n",
       "\t<dt>recipients</dt>\n",
       "\t\t<dd>-0.0298598646539911</dd>\n",
       "\t<dt>sanitation_checks</dt>\n",
       "\t\t<dd>-0.00365906749674724</dd>\n",
       "\t<dt>spamscore</dt>\n",
       "\t\t<dd>0.00167206588197064</dd>\n",
       "</dl>\n"
      ],
      "text/latex": [
       "\\begin{description*}\n",
       "\\item[(Intercept)] 0.076957648046684\n",
       "\\item[pass\\textbackslash{}\\_vs\\textbackslash{}\\_block] 0.78801589965007\n",
       "\\item[recipients] -0.0298598646539911\n",
       "\\item[sanitation\\textbackslash{}\\_checks] -0.00365906749674724\n",
       "\\item[spamscore] 0.00167206588197064\n",
       "\\end{description*}\n"
      ],
      "text/markdown": [
       "(Intercept)\n",
       ":   0.076957648046684pass_vs_block\n",
       ":   0.78801589965007recipients\n",
       ":   -0.0298598646539911sanitation_checks\n",
       ":   -0.00365906749674724spamscore\n",
       ":   0.00167206588197064\n",
       "\n"
      ],
      "text/plain": [
       "      (Intercept)     pass_vs_block        recipients sanitation_checks \n",
       "      0.076957648       0.788015900      -0.029859865      -0.003659067 \n",
       "        spamscore \n",
       "      0.001672066 "
      ]
     },
     "metadata": {},
     "output_type": "display_data"
    }
   ],
   "source": [
    "# (b)\n",
    "\n",
    "mail <- read.csv(\"C:\\\\Users\\\\zheny\\\\Dropbox\\\\courses\\\\foundation of data analysis (53110)\\\\lecture9\\\\mail.csv\") \n",
    "x <- as.matrix(mail[,c(\"pass_vs_block\", \"recipients\", \"sanitation_checks\", \"spamscore\")]) \n",
    "y <- mail$percent_spam \n",
    "grad.desc(x,y,4, 0.00001, 0.0001)\n",
    "lm(percent_spam ~ pass_vs_block + recipients + sanitation_checks + spamscore, mail)$coefficients\n",
    "grad.desc(x,y,4, 0.0000001, 0.000001)\n",
    "lm(percent_spam ~ pass_vs_block + recipients + sanitation_checks + spamscore, mail)$coefficients\n",
    "\n"
   ]
  },
  {
   "cell_type": "code",
   "execution_count": null,
   "metadata": {
    "collapsed": true
   },
   "outputs": [],
   "source": []
  }
 ],
 "metadata": {
  "anaconda-cloud": {},
  "kernelspec": {
   "display_name": "R",
   "language": "R",
   "name": "ir"
  },
  "language_info": {
   "codemirror_mode": "r",
   "file_extension": ".r",
   "mimetype": "text/x-r-source",
   "name": "R",
   "pygments_lexer": "r",
   "version": "3.3.2"
  }
 },
 "nbformat": 4,
 "nbformat_minor": 1
}
