{
 "cells": [
  {
   "cell_type": "markdown",
   "metadata": {},
   "source": [
    "# Homework 5 \n",
    "\n",
    "## Zhenyang Lu\n",
    "\n",
    "\n",
    "# Question 1\n",
    "\n",
    "Let $X_1, X_2 .... X_n, n =100 $ be the amount of nicotine in each cigarrete in the sample. According to CLT, $\\overline {X}$ ~ $N(2.2, 0.3^2/100)$ \n",
    "\n",
    "$ P(X \\geq 3.1) = 1 - P(X \\leq 3.1) = 1- pnorm((3.1-2.2)/\\sqrt{0.3^2/100}) = 1- 1 = 0$\n",
    "\n",
    "it's unlike for the company's clain to be true. \n"
   ]
  },
  {
   "cell_type": "markdown",
   "metadata": {},
   "source": [
    "# Question 2\n",
    "\n",
    "Let $X_1, X_2 .... X_n $ be the average number of days until repair. According to CLT, $ X_i$ ~ $4N(100, 900)$, T ~ $ N(100*n, 900*n)$\n",
    "\n",
    "We have $P = pnorm((2000-100*n)/sqrt(900*n)) = 0.95 $, which means $ qnorm(0.95) = (2000-100*n)/sqrt(900*n) $, So $ n = 17.9054  \\approx 18$"
   ]
  },
  {
   "cell_type": "markdown",
   "metadata": {},
   "source": [
    "# Question 3.\n",
    "\n",
    "Let X1, …, X30 be independent Poisson random variables having mean 1, So variance and std deviation are also 1, respectively.  \n",
    "T = X1 + … + X30. So T ~ N (1*30,1*30). \n",
    "\n",
    "(a).\n",
    "\n",
    "with continuity correction: pnorm((35.5-30)/sqrt(30)) = 0.8423488\n",
    "\n",
    "without continuity correction: pnorm((35.-30)/sqrt(30)) = 0.8193448\n",
    "\n",
    "\n",
    "(b).\n",
    "\n",
    "According to Example 5.3-1 of textbook. if X1 ~ Poisson(1), X2 ~ Poisson(1)...X30 ~ Poisson(1), T = X1 + X2 +.... + X30, T ~ Poisson(1+1+...+1) = Poisson(30), whose mean and variance are both 30.  So R command should be used is ppois(35,lambda=30) = 0.8426165\n",
    "\n",
    "So compared to part (a), the real possibility is closer to the one with continuity correction. "
   ]
  },
  {
   "cell_type": "markdown",
   "metadata": {},
   "source": [
    "# Question 4. \n",
    "\n",
    "According to Theorem 5.4-1,  S ~$ N( 20* \\mu_x, 20*\\sigma_x^2)$, if $X_i, i =1,2...20$ is iid. So we need to get $E(X_i)$ and $Var(X_i)$ \n",
    "\n",
    "$E(X_i) = \\int_0^1 2x*x dx = \\frac{2}{3}$  \n",
    "\n",
    "$E(X_i)^2 = \\frac{4}{9}$  \n",
    "\n",
    "$E(X_i^2) = \\int_0^1 2x*x^2 dx = \\frac{1}{2}$  \n",
    "\n",
    "$ Var(x) = E(X_i^2) - E(X_i)^2 = \\frac{1}{18} $\n",
    "\n",
    "So  T ~ $ N(\\frac{2}{3}*20,\\frac{1}{18}*20)$\n",
    "\n",
    "So $ P(S \\leq 10) = pnorm(\\frac{10-\\frac{40}{3}}{\\sqrt \\frac{20}{18}}) = 0.0007827011 $"
   ]
  },
  {
   "cell_type": "markdown",
   "metadata": {},
   "source": [
    "# Question 5. \n",
    "\n",
    "(a). \n",
    "Let O be the number of the American artifacts \n",
    "Let P be the number of the Egpytian artifacts \n",
    "\n",
    "O ~ Normal(136.2, 74.3652)\n",
    "\n",
    "P ~ Normal(126,73.08)\n",
    "\n",
    "P-O ~ $N(126-136.2, 73.08+74.3652) = N(-10.2, 147.4452)$\n",
    "\n",
    "Hence $P(P-O > 0) = P(Z > \\frac{0+0.5- (-10.2)}{\\sqrt{147.4452}}) = 1-P(Z \\leq \\frac{10.7}{\\sqrt{147.4452}})=1-qnorm(910.7/sqrt(147.4452))=0.1891081$ "
   ]
  },
  {
   "cell_type": "code",
   "execution_count": 2,
   "metadata": {
    "collapsed": false
   },
   "outputs": [
    {
     "data": {
      "text/html": [
       "0.189040691819704"
      ],
      "text/latex": [
       "0.189040691819704"
      ],
      "text/markdown": [
       "0.189040691819704"
      ],
      "text/plain": [
       "[1] 0.1890407"
      ]
     },
     "metadata": {},
     "output_type": "display_data"
    }
   ],
   "source": [
    "# (a) contiuning . Approximated by sampling the normal distribution \n",
    "A = expand.grid(O=0:300,P=0:300)\n",
    "Y=expand.grid(po=dnorm(0:300,mean=136.2,sd=sqrt(74.3652)),pp=dnorm(0:300,mean=126,sd=sqrt(73.08)));Y$pop=Y$po*Y$pp;\n",
    "attach(A);attach(Y)\n",
    "sum(pop[which(O<P)])"
   ]
  },
  {
   "cell_type": "code",
   "execution_count": 7,
   "metadata": {
    "collapsed": false
   },
   "outputs": [
    {
     "name": "stderr",
     "output_type": "stream",
     "text": [
      "The following objects are masked from X (pos = 4):\n",
      "\n",
      "    pm, pmn, pn\n",
      "\n",
      "The following objects are masked from X (pos = 8):\n",
      "\n",
      "    pm, pmn, pn\n",
      "\n",
      "The following objects are masked from S (pos = 4):\n",
      "\n",
      "    M, N\n",
      "\n",
      "The following objects are masked from S (pos = 8):\n",
      "\n",
      "    M, N\n",
      "\n"
     ]
    },
    {
     "name": "stdout",
     "output_type": "stream",
     "text": [
      "[1] \"true probability is \"\n"
     ]
    },
    {
     "data": {
      "text/html": [
       "0.189084699219518"
      ],
      "text/latex": [
       "0.189084699219518"
      ],
      "text/markdown": [
       "0.189084699219518"
      ],
      "text/plain": [
       "[1] 0.1890847"
      ]
     },
     "metadata": {},
     "output_type": "display_data"
    },
    {
     "name": "stdout",
     "output_type": "stream",
     "text": [
      "[1] \"relative error is \"\n"
     ]
    },
    {
     "data": {
      "text/html": [
       "0.000232739084628383"
      ],
      "text/latex": [
       "0.000232739084628383"
      ],
      "text/markdown": [
       "0.000232739084628383"
      ],
      "text/plain": [
       "[1] 0.0002327391"
      ]
     },
     "metadata": {},
     "output_type": "display_data"
    }
   ],
   "source": [
    "# (b).\n",
    "\n",
    "# Let M be the number of the American artifacts are counterfeit\n",
    "# Let N be the number of the Egpytian artifacts are counterfeit\n",
    "\n",
    "S = expand.grid(M=0:300,N=0:300)\n",
    "X=expand.grid(pm=dbinom(0:300,300,.454),pn=dbinom(0:300,300,.42));X$pmn=X$pm*X$pn;\n",
    "attach(X);attach(S)\n",
    "print(\"true probability is \")\n",
    "sum(pmn[which(N>M)])\n",
    "\n",
    "# the relative error | x − y |/X\n",
    "print(\"relative error is \")\n",
    "abs(sum(pmn[which(N>M)]) - sum(pop[which(O<P)]))/ sum(pmn[which(N>M)])"
   ]
  },
  {
   "cell_type": "code",
   "execution_count": 6,
   "metadata": {
    "collapsed": false
   },
   "outputs": [
    {
     "data": {
      "image/png": "[encoded data removed]",
      "text/plain": [
       "plot without title"
      ]
     },
     "metadata": {},
     "output_type": "display_data"
    }
   ],
   "source": [
    "# (c).\n",
    "\n",
    "haha = function(n){\n",
    "  S = expand.grid(M=0:n,N=0:n)\n",
    "  X=expand.grid(pm=dbinom(0:n,n+1,.454),pn=dbinom(0:n,n+1,.42));X$pmn=X$pm*X$pn;\n",
    "  m=cbind(S,X)\n",
    "  sum(m$pmn[which(m$N>m$M)])\n",
    "}\n",
    "xixi = vector(\"numeric\")\n",
    "for(i in 10:500){xixi=append(xixi,haha(i));}\n",
    "plot(xixi,xlab=\"n\",ylab=\"probability that more Egyptian are counterfeit\")\n"
   ]
  },
  {
   "cell_type": "markdown",
   "metadata": {},
   "source": [
    "(c) continuing \n",
    "\n",
    "the plotting shows that as the number of artifacts selected increases, the probability of more of the Egyptian artifacts are counterfeit decreases. \n",
    "\n",
    "The second method is better, without doubt, because it's real probability. The first is just approximation, if I don't misunderstand it?    \n"
   ]
  },
  {
   "cell_type": "markdown",
   "metadata": {},
   "source": [
    "# Question 6.\n",
    "\n",
    "(a). \n",
    "\n",
    "since Z = 1, if a point is inside the object, Z = 0 otherwise. Probability for a random point lies in the object is A, and 1-A if it's not. Hence, we have \n",
    "\n",
    "$E(Z) = A*1 + (1-A)*0 = A$\n",
    "\n",
    "$E(Z)^2 = A*1 + (1-A)*0 = A^2$\n",
    "\n",
    "$E(Z^2) = A*1^2 + (1-A)*0^2 = A$\n",
    "\n",
    "$Var(Z) = A - A^2 $\n",
    "\n",
    "A can be estimated by randomly draw n points from the square area, and A should be = $ \\frac{Z_1 + Z_2 + ... Z_n }{n}$. Specifically, as the number of points(n) drawn increases, the accuracy is higher and higher.   \n",
    "\n",
    "(b).\n",
    "\n",
    "According to CLT, $\\overline X$ ~ $N(\\mu, \\frac{\\sigma^2}{n})$, so we could draw a number of samples and get the sample mean and variance. Using CLT, we could estimate $\\mu$ and $\\sigma$ of the true value, and use it to estimate the what we've got in part (a). \n",
    "\n",
    "$P(|A' - A|<0.01) = 0.99 =  P(0.19 \\leq A' \\leq 0.21) =  1 - P(|A' - 0.1| \\geq 0.01) \\geq  1- \\frac{Var(\\overline Z)}{0.01^2} =  1- \\frac{Var(Z)}{n*0.01^2}$\n",
    "\n",
    "So $n \\geq 160000 $"
   ]
  },
  {
   "cell_type": "markdown",
   "metadata": {
    "collapsed": true
   },
   "source": [
    "# Question 7\n",
    "\n",
    "(a).\n",
    "\n",
    "exponential distribution's mean is 1/lambda, according to formula 3.5.2 in textbook.\n",
    "\n",
    "in function poisproc, eventcount = t*lambda. So it's t*lambda*(1/lambda) = t \n",
    "\n",
    "(b).\n",
    "\n",
    "according to gamma distribution's definition, we have \n",
    "\n",
    "P(X $\\geq$ t) = 1 - pgamma(t, t*lambda, lambda)\n",
    "\n",
    "Eventcount = t*lambda. Also, if the algo stops after the first iteration, then it means last is larger than it's Expectation, which means within (0,t) interval, the number of events happens is smaller than eventcount times, which is t*lambda, thus we have\n",
    "\n",
    "P(Y < lambda *t) =$ \\frac{e^{- \\lambda} \\lambda^{t*lambda}}{(t*lambda)!} $, Y ~ Poisson distribution\n",
    "\n",
    "(c). \n",
    "\n",
    "as t*lambda goes to infinity, the equation found in part(b) approaches to 0.5 as shown below. Just imagine, as the time and rate of poisson process goes to unlimited large, according to LLN, it's expected mean(expected number of times the event happens) will converge to the population mean. If we approximate this by normal distribution, we get pnorm((t*lambda - t*lambda)/std deviation), in which std deviation is not important because nominator is 0, which means pnorm(0) = 0.5. \n",
    "\n"
   ]
  },
  {
   "cell_type": "code",
   "execution_count": 10,
   "metadata": {
    "collapsed": false
   },
   "outputs": [
    {
     "data": {
      "text/html": [
       "0.4517"
      ],
      "text/latex": [
       "0.4517"
      ],
      "text/markdown": [
       "0.4517"
      ],
      "text/plain": [
       "[1] 0.4517"
      ]
     },
     "metadata": {},
     "output_type": "display_data"
    },
    {
     "data": {
      "text/html": [
       "0.49645"
      ],
      "text/latex": [
       "0.49645"
      ],
      "text/markdown": [
       "0.49645"
      ],
      "text/plain": [
       "[1] 0.49645"
      ]
     },
     "metadata": {},
     "output_type": "display_data"
    },
    {
     "data": {
      "text/html": [
       "0.49945"
      ],
      "text/latex": [
       "0.49945"
      ],
      "text/markdown": [
       "0.49945"
      ],
      "text/plain": [
       "[1] 0.49945"
      ]
     },
     "metadata": {},
     "output_type": "display_data"
    }
   ],
   "source": [
    "#(c) continued.\n",
    "\n",
    "poisproc <- function(t,lambda) {\n",
    "  times <- vector(mode=\"numeric\")\n",
    "  last <- 0\n",
    "  while (last < t) {\n",
    "\n",
    "    eventcount <- ceiling((t-last)*lambda)\n",
    "\n",
    "    newoutput <- last + cumsum(rexp(eventcount,lambda))\n",
    "    last <- newoutput[eventcount]\n",
    "\n",
    "    times <- c(times, newoutput[newoutput <= t])\n",
    "  }\n",
    "  times\n",
    "}\n",
    "\n",
    "p <- function(t, lambda) {\n",
    "    lambda = 10\n",
    "    time = 0\n",
    "    for (i in 1:20000) {\n",
    "        y = length(poisproc(t,lambda))\n",
    "        if (y < t*lambda) {\n",
    "            time = time + 1\n",
    "        }\n",
    "    }\n",
    "    time / 20000\n",
    "    #print(1 - pgamma(t, t * lambda, lambda))\n",
    "}\n",
    "\n",
    "p(1,1)\n",
    "p(10,10)\n",
    "p(100,100)"
   ]
  },
  {
   "cell_type": "markdown",
   "metadata": {},
   "source": [
    "(d). \n",
    "\n",
    "In part c, it's proved that the probability for the algo to terminates after 1 iteration is 0.5. Notice the equation inside the loop: eventcount <- ceiling((t-last)*lambda). This means if the algo does not terminates during the last iteration, then repeat it again, the exact number of last variable in the loop of the two iterations are independent among iterations. Thus, we can hypothesize that chances for the algo to stop after the second iteration can be calculated by the chances that the first iteration does not terminates multiply by the chances that the second iteration, which is 50%*50% = 25%. Similarly, we could infer for the distribution of the number of loops as following:\n",
    "\n",
    "Let X be the number of loops that terminates the algo, \n",
    "\n",
    "P(X=1) = $0.5^1$\n",
    "\n",
    "P(X=2) = $0.5^2$....\n",
    "\n",
    "P(X=n) = $0.5^n$\n",
    "\n",
    "AS a verification that the sum of P(X=1,2...n) should be 1. the summation of $0.5^n$ can be calculated by $\\frac{a_1(1-q^n)}{1-q}$, where $a_1$ is 0.5, q = 0.5. When n goes to infinity, $1-q^n $ should approachs to 1. \n",
    "\n",
    "The expected number of loops can be written as: $\\sum x*P(X=x) $, to give an approximate number of it, notice that $ 0.5^15*15 = 0.0004577637$, which is minimal. So the first 15 sums of it is equal appromixately to 1.999481, which can be calculated by R. \n",
    "\n",
    "This hypo can be shown by the following code, notice the frequency for 1, which means it terminates after the first iteration, is 500 out of 1000, the frequence for 2 is 250 out of 1000 .... the above hypo is in agreement with the histogram. "
   ]
  },
  {
   "cell_type": "code",
   "execution_count": 2,
   "metadata": {
    "collapsed": false
   },
   "outputs": [
    {
     "data": {
      "image/png": "[encoded data removed]",
      "text/plain": [
       "Plot with title \"Histogram of ss\""
      ]
     },
     "metadata": {},
     "output_type": "display_data"
    }
   ],
   "source": [
    "poisproc <- function(t,lambda) {\n",
    "  times <- vector(mode=\"numeric\")\n",
    "  last <- 0\n",
    "  loops = 0\n",
    "  while (last < t) {\n",
    "\n",
    "    eventcount <- ceiling((t-last)*lambda)\n",
    "\n",
    "    newoutput <- last + cumsum(rexp(eventcount,lambda))\n",
    "    last <- newoutput[eventcount]\n",
    "\n",
    "    times <- c(times, newoutput[newoutput <= t])\n",
    "    loops = loops + 1\n",
    "  }\n",
    "  loops\n",
    "  #times\n",
    "}\n",
    "\n",
    "\n",
    "ss=vector(\"numeric\")\n",
    "for (i in 1:1000){ss=append(poisproc(100,100),ss)}\n",
    "hist(ss)\n"
   ]
  },
  {
   "cell_type": "code",
   "execution_count": null,
   "metadata": {
    "collapsed": true
   },
   "outputs": [],
   "source": []
  }
 ],
 "metadata": {
  "anaconda-cloud": {},
  "kernelspec": {
   "display_name": "R",
   "language": "R",
   "name": "ir"
  },
  "language_info": {
   "codemirror_mode": "r",
   "file_extension": ".r",
   "mimetype": "text/x-r-source",
   "name": "R",
   "pygments_lexer": "r",
   "version": "3.3.2"
  }
 },
 "nbformat": 4,
 "nbformat_minor": 1
}
