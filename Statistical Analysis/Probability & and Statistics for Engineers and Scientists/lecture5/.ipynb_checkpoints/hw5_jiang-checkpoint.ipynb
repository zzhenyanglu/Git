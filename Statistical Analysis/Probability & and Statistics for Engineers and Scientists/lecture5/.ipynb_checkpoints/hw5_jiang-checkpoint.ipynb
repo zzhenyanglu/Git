{
 "cells": [
  {
   "cell_type": "markdown",
   "metadata": {},
   "source": [
    "# Homewok 4     Songhao Jiang"
   ]
  },
  {
   "cell_type": "markdown",
   "metadata": {},
   "source": [
    "## P2"
   ]
  },
  {
   "cell_type": "markdown",
   "metadata": {},
   "source": [
    "$\\bar{Y} \\thicksim N(2.2, \\frac{\\sigma^2}{n} = \\frac{0.3^2}{100}=0.0009)$\n",
    "\n",
    "And therefore\n",
    "\n",
    "$P(\\bar{Y} > 3.1) = P(Z>\\frac{3.1-2.2}{\\sqrt{0.0009}}) = P(Z>30)=0 = 1-P(Z\\leq30) = 0$"
   ]
  },
  {
   "cell_type": "code",
   "execution_count": 4,
   "metadata": {
    "collapsed": false
   },
   "outputs": [
    {
     "data": {
      "text/html": [
       "1"
      ],
      "text/latex": [
       "1"
      ],
      "text/markdown": [
       "1"
      ],
      "text/plain": [
       "[1] 1"
      ]
     },
     "metadata": {},
     "output_type": "display_data"
    }
   ],
   "source": [
    "pnorm(30)"
   ]
  },
  {
   "cell_type": "markdown",
   "metadata": {},
   "source": [
    "## P2"
   ]
  },
  {
   "cell_type": "markdown",
   "metadata": {},
   "source": [
    "Suppose we will need at least $n$ chairs\n",
    "\n",
    "$T = X_1 + X_2 + \\dots + X_n \\thicksim N(100n, 30^2n=900n)$\n",
    "\n",
    "And therefore $P(T \\leq 2000) = 0.95$\n",
    "\n",
    "$P(Z \\leq \\frac{2000-100n}{\\sqrt{900n}}) = 0.95$\n",
    "\n",
    "So $\\frac{2000-100n}{30\\sqrt{n}} \\geq 1.64485362695147$\n",
    "\n",
    "$n \\leq 17.9$\n",
    "\n",
    "And therefore $n=17$"
   ]
  },
  {
   "cell_type": "code",
   "execution_count": 7,
   "metadata": {
    "collapsed": false
   },
   "outputs": [
    {
     "data": {
      "text/html": [
       "1.64485362695147"
      ],
      "text/latex": [
       "1.64485362695147"
      ],
      "text/markdown": [
       "1.64485362695147"
      ],
      "text/plain": [
       "[1] 1.644854"
      ]
     },
     "metadata": {},
     "output_type": "display_data"
    }
   ],
   "source": [
    "qnorm(0.95)"
   ]
  },
  {
   "cell_type": "markdown",
   "metadata": {},
   "source": [
    "## P3"
   ]
  },
  {
   "cell_type": "markdown",
   "metadata": {},
   "source": [
    "$T = X_1 + X_2 + \\dots + X_30 \\thicksim N(30, 30)$\n",
    "\n",
    "Without continuity correction: $P(X \\leq 35) = P(Z \\leq \\frac{35-30}{sqrt(30}) = 0.8193$\n",
    "\n",
    "With continuity correction: $P(X \\leq 35.5) = P(Z \\leq \\frac{35.5-30}{sqrt(30}) = 0.8423$\n",
    "\n",
    "The prob with continuity only have a difference of $0.00027$\n",
    "\n",
    "While the prob without continuity have a much larger difference $0.023$\n",
    "\n",
    "So with continuity correction should be a better approximation"
   ]
  },
  {
   "cell_type": "code",
   "execution_count": 14,
   "metadata": {
    "collapsed": false
   },
   "outputs": [
    {
     "data": {
      "text/html": [
       "0.819344785736911"
      ],
      "text/latex": [
       "0.819344785736911"
      ],
      "text/markdown": [
       "0.819344785736911"
      ],
      "text/plain": [
       "[1] 0.8193448"
      ]
     },
     "metadata": {},
     "output_type": "display_data"
    },
    {
     "data": {
      "text/html": [
       "0.842348773959127"
      ],
      "text/latex": [
       "0.842348773959127"
      ],
      "text/markdown": [
       "0.842348773959127"
      ],
      "text/plain": [
       "[1] 0.8423488"
      ]
     },
     "metadata": {},
     "output_type": "display_data"
    }
   ],
   "source": [
    "pnorm((35-30)/sqrt(30))\n",
    "pnorm((35.5-30)/sqrt(30))"
   ]
  },
  {
   "cell_type": "code",
   "execution_count": 15,
   "metadata": {
    "collapsed": false
   },
   "outputs": [
    {
     "data": {
      "text/html": [
       "0.842616525569668"
      ],
      "text/latex": [
       "0.842616525569668"
      ],
      "text/markdown": [
       "0.842616525569668"
      ],
      "text/plain": [
       "[1] 0.8426165"
      ]
     },
     "metadata": {},
     "output_type": "display_data"
    }
   ],
   "source": [
    "ppois(35, 30)"
   ]
  },
  {
   "cell_type": "code",
   "execution_count": 22,
   "metadata": {
    "collapsed": false
   },
   "outputs": [
    {
     "data": {
      "text/html": [
       "0.0232717398327579"
      ],
      "text/latex": [
       "0.0232717398327579"
      ],
      "text/markdown": [
       "0.0232717398327579"
      ],
      "text/plain": [
       "[1] 0.02327174"
      ]
     },
     "metadata": {},
     "output_type": "display_data"
    },
    {
     "data": {
      "text/html": [
       "0.000267751610541267"
      ],
      "text/latex": [
       "0.000267751610541267"
      ],
      "text/markdown": [
       "0.000267751610541267"
      ],
      "text/plain": [
       "[1] 0.0002677516"
      ]
     },
     "metadata": {},
     "output_type": "display_data"
    }
   ],
   "source": [
    "ppois(35, 30) - pnorm((35-30)/sqrt(30))\n",
    "ppois(35, 30) - pnorm((35.5-30)/sqrt(30))"
   ]
  },
  {
   "cell_type": "markdown",
   "metadata": {},
   "source": [
    "## P4"
   ]
  },
  {
   "cell_type": "markdown",
   "metadata": {},
   "source": [
    "$E[X_i] = \\int_{0}^{1}xf(x)dx = \\int_{0}^{1}2x^2dx = \\left[\\frac{2x^3}{3}\\right]_0^{1} = \\frac{2}{3}$\n",
    "\n",
    "$E[X_i^2] = \\int_{0}^{1}x^2f(x)dx = \\int_{0}^{1}2x^3dx = \\left[\\frac{x^4}{2}\\right]_0^{1} = \\frac{1}{2}$\n",
    "\n",
    "$var(X) = E[X_i^2] - E[X_i]^2 = \\frac{1}{2} - \\frac{2}{3}^2 = \\frac{1}{18}$\n",
    "\n",
    "So $E[S] = 20 \\cdot E[X_i] = \\frac{40}{3}$\n",
    "\n",
    "$var(S) = 20 \\cdot var(X) = \\frac{10}{9} \\Rightarrow \\sigma_{S} = \\frac{\\sqrt{10}}{3}$\n",
    "\n",
    "And therefore by CLT, we will have \n",
    "\n",
    "$P(S\\leq10) = P(Z \\leq \\frac{10-\\frac{40}{3}}{\\frac{\\sqrt{10}}{3}}) = P(Z\\leq-3.16) = 0.00078$"
   ]
  },
  {
   "cell_type": "code",
   "execution_count": 21,
   "metadata": {
    "collapsed": false
   },
   "outputs": [
    {
     "data": {
      "text/html": [
       "0.000782701129001274"
      ],
      "text/latex": [
       "0.000782701129001274"
      ],
      "text/markdown": [
       "0.000782701129001274"
      ],
      "text/plain": [
       "[1] 0.0007827011"
      ]
     },
     "metadata": {},
     "output_type": "display_data"
    }
   ],
   "source": [
    "pnorm((10-40/3)/(sqrt(10)/3))"
   ]
  },
  {
   "cell_type": "markdown",
   "metadata": {},
   "source": [
    "## P5"
   ]
  },
  {
   "cell_type": "markdown",
   "metadata": {},
   "source": [
    "let $T_X \\thicksim Bin(300, 0.454)$ and $T_Y \\thicksim Bin(300, 0.42)$\n",
    "\n",
    "Obviously it satisfies the requirements of Demoivre-Laplace Thm and therefore we will have\n",
    "\n",
    "$T_X \\thicksim N(300 \\cdot 0.454, 300 \\cdot 0.454 \\cdot (1-0.454)) = N(136.2, 74.3652)$\n",
    "\n",
    "$T_Y \\thicksim N(300 \\cdot 0.42, 300 \\cdot0.42 \\cdot (1-0.0.42)) = N(126, 73.08)$\n",
    "\n",
    "$T_Y-T_X \\thicksim N(126-136.2, 73.08+74.3652) = N(-10.2, 147.4452)$\n",
    "\n",
    "Hence $P(Y-X > 0) = P(Z > \\frac{10.2-0.5}{\\sqrt{147.4452}}) = 1-P(Z \\leq \\frac{9.7}{\\sqrt{147.4452}})=0.1625$\n",
    "\n"
   ]
  },
  {
   "cell_type": "code",
   "execution_count": 86,
   "metadata": {
    "collapsed": false
   },
   "outputs": [
    {
     "data": {
      "text/html": [
       "0.162537174603056"
      ],
      "text/latex": [
       "0.162537174603056"
      ],
      "text/markdown": [
       "0.162537174603056"
      ],
      "text/plain": [
       "[1] 0.1625372"
      ]
     },
     "metadata": {},
     "output_type": "display_data"
    }
   ],
   "source": [
    "1-qnorm(9.7/sqrt(147.4452))"
   ]
  },
  {
   "cell_type": "code",
   "execution_count": 88,
   "metadata": {
    "collapsed": false
   },
   "outputs": [
    {
     "data": {
      "text/html": [
       "0.189084699219518"
      ],
      "text/latex": [
       "0.189084699219518"
      ],
      "text/markdown": [
       "0.189084699219518"
      ],
      "text/plain": [
       "[1] 0.1890847"
      ]
     },
     "metadata": {},
     "output_type": "display_data"
    },
    {
     "data": {
      "text/html": [
       "0.163332017314162"
      ],
      "text/latex": [
       "0.163332017314162"
      ],
      "text/markdown": [
       "0.163332017314162"
      ],
      "text/plain": [
       "[1] 0.163332"
      ]
     },
     "metadata": {},
     "output_type": "display_data"
    },
    {
     "data": {
      "text/html": [
       "0.163598149043186"
      ],
      "text/latex": [
       "0.163598149043186"
      ],
      "text/markdown": [
       "0.163598149043186"
      ],
      "text/plain": [
       "[1] 0.1635981"
      ]
     },
     "metadata": {},
     "output_type": "display_data"
    }
   ],
   "source": [
    "true_prob <- function(n) {\n",
    "    sum = 0\n",
    "    for (e in 0:n) {\n",
    "        temp_sum = 0\n",
    "        probe = dbinom(e, n, 0.42)\n",
    "        for (a in 0:e-1){\n",
    "            proba = dbinom(a, n, 0.454)\n",
    "            temp_sum = temp_sum + probe*proba\n",
    "        }\n",
    "        sum = sum + temp_sum\n",
    "    }\n",
    "    return (sum)\n",
    "}\n",
    "true_prob(300)\n",
    "abs(true_prob(300)-(1-qnorm(9.7/sqrt(147.4452))))/(1-qnorm(9.7/sqrt(147.4452)))"
   ]
  },
  {
   "cell_type": "code",
   "execution_count": 83,
   "metadata": {
    "collapsed": false
   },
   "outputs": [],
   "source": [
    "prob = c()\n",
    "for (i in 10:500)\n",
    "  prob[i-9] <- true_prob(i)"
   ]
  },
  {
   "cell_type": "code",
   "execution_count": 84,
   "metadata": {
    "collapsed": false
   },
   "outputs": [
    {
     "data": {
      "image/png": "[encoded data removed]",
      "text/plain": [
       "plot without title"
      ]
     },
     "metadata": {},
     "output_type": "display_data"
    }
   ],
   "source": [
    "plot(10:500, prob, xlab=\"n\", ylab=\"true prob\")"
   ]
  },
  {
   "cell_type": "markdown",
   "metadata": {},
   "source": [
    "Second. Since in 1st approach, we let $T$ denote the total number of succesees of n replications of a Bernoulli experiment with probability of success $p$. Thus $T \\thicksim Bin(n, p)$. So directly computing the prob will result in a better approximation."
   ]
  },
  {
   "cell_type": "markdown",
   "metadata": {},
   "source": [
    "## P6"
   ]
  },
  {
   "cell_type": "markdown",
   "metadata": {},
   "source": [
    "Since uniformly distributed \n",
    "\n",
    "$P(Z=1) = A$ and $P(Z=0)=1-A$\n",
    "\n",
    "And therefore $E[Z] = 1 \\cdot P(Z=1) + 0\\cdot P(Z=0) = A$\n",
    "\n",
    "Let $Z_1 \\dots Z_n$ be random variables for n random points. Then we will have\n",
    "\n",
    "$S_n = \\frac{Z_1 + \\dots +Z_n}{n}$\n",
    "\n",
    "And by LLN, we will have $P(\\lim_{x\\to\\infty}S_n = A) = 1$, and therefore A could be estimated from a sequence of n independent points uniformly distributed on the squre\n",
    "\n",
    "$n = \\hat{A}(1-\\hat{A})(\\frac{z_{\\frac{\\sigma}{2}}}{E})^2= 10615.83$\n",
    "\n",
    "And therefore we will need 10616"
   ]
  },
  {
   "cell_type": "code",
   "execution_count": 37,
   "metadata": {
    "collapsed": false
   },
   "outputs": [
    {
     "data": {
      "text/html": [
       "10615.8345616339"
      ],
      "text/latex": [
       "10615.8345616339"
      ],
      "text/markdown": [
       "10615.8345616339"
      ],
      "text/plain": [
       "[1] 10615.83"
      ]
     },
     "metadata": {},
     "output_type": "display_data"
    }
   ],
   "source": [
    "0.2*0.8*(qnorm(1-0.005)/0.01)^2"
   ]
  },
  {
   "cell_type": "markdown",
   "metadata": {},
   "source": [
    "## P7"
   ]
  },
  {
   "cell_type": "code",
   "execution_count": 127,
   "metadata": {
    "collapsed": true
   },
   "outputs": [],
   "source": [
    "# Simulates a Poisson process on the interval (0,t) with parameter\n",
    "# lambda.\n",
    "poisproc <- function(t,lambda) {\n",
    "  # times is the output vector of event times within (0,t).\n",
    "  times <- vector(mode=\"numeric\")\n",
    "  # last is the time of the most recent event generated.\n",
    "  last <- 0\n",
    "  while (last < t) {\n",
    "    # At each iteration of the while-loop, we are generating events\n",
    "    # within the interval (last,t].\n",
    "    # eventcount is the expected number of remaining events.\n",
    "    # We generate exponential r.v.s in batches of this size to\n",
    "    # reduce the overhead from repeatedly concatenating to build\n",
    "    # the times vector.\n",
    "    eventcount <- ceiling((t-last)*lambda)\n",
    "    # We generate exponential r.v.s and keep track of their\n",
    "    # cumulative sums as event times.\n",
    "    newoutput <- last + cumsum(rexp(eventcount,lambda))\n",
    "    last <- newoutput[eventcount]\n",
    "    # Only include events up to time t.\n",
    "    times <- c(times, newoutput[newoutput <= t])\n",
    "    print (last)\n",
    "  }\n",
    "  length(times)\n",
    "}"
   ]
  },
  {
   "cell_type": "markdown",
   "metadata": {},
   "source": [
    "immediately after the first iteration, last is equivalent to sum(rexp(t $\\cdot$ lambda, lambda))\n",
    "\n",
    "which is also can be viewed as sum of $t\\lambda$ independent exponential distribution with parameter $\\lambda$\n",
    "\n",
    "And therefore the expectation can be viewed as $\\frac{t\\lambda}{\\lambda} = t$ $\\Rightarrow E[X] = t$\n",
    "\n",
    "P(X $\\geq$ t) = 1 - pgamma(t, t $\\cdot$ lambda, lambda)\n",
    "\n",
    "P(Y < lambda $\\cdot$ t)"
   ]
  },
  {
   "cell_type": "code",
   "execution_count": 109,
   "metadata": {
    "collapsed": true
   },
   "outputs": [],
   "source": [
    "test <- function(t, lambda) {\n",
    "    lambda = 10\n",
    "    time = 0\n",
    "    for (i in 1:20000) {\n",
    "        y = length(poisproc(t,lambda))\n",
    "        if (y < t*lambda) {\n",
    "            time = time + 1\n",
    "        }\n",
    "    }\n",
    "    print(time / 20000)\n",
    "    print(1 - pgamma(t, t * lambda, lambda))\n",
    "}"
   ]
  },
  {
   "cell_type": "code",
   "execution_count": 110,
   "metadata": {
    "collapsed": false
   },
   "outputs": [
    {
     "name": "stdout",
     "output_type": "stream",
     "text": [
      "[1] 0.48575\n",
      "[1] 0.4811917\n",
      "[1] 0.5024\n",
      "[1] 0.4940529\n",
      "[1] 0.47725\n",
      "[1] 0.4867012\n",
      "[1] 0.4818\n",
      "[1] 0.4811917\n",
      "[1] 0.4968\n",
      "[1] 0.4981194\n",
      "[1] 0.4963\n",
      "[1] 0.4986702\n"
     ]
    }
   ],
   "source": [
    "test(5, 10)\n",
    "test(50,100)\n",
    "test(10,100)\n",
    "test(5,1000)\n",
    "test(500,200)\n",
    "test(1000,400)"
   ]
  },
  {
   "cell_type": "markdown",
   "metadata": {
    "collapsed": true
   },
   "source": [
    "It will approach towards 0.5\n",
    "Since if t * lambda approaches infinity, the gamma distribution can be approximated by a normal distribution $N(\\frac{t\\lambda}{\\lambda}, \\frac{t\\lambda}{\\lambda^2}) = N(t, \\frac{t}{\\lambda})$, and therefore X will converge to a standard normal distribution. \n",
    "\n",
    "$P(Z < \\frac{t-t}{\\sqrt{\\frac{t}{\\lambda}}}) = P(Z < 0) = 0.5$\n",
    "\n",
    "As t * lambda increases, it will still be approximated by a normal distribution by CLT, and therefore we can still be sure about it."
   ]
  },
  {
   "cell_type": "markdown",
   "metadata": {},
   "source": [
    "generally it should be a binomial distribution with p = 0.5\n",
    "but since p = 0.5 & n very large, it can also be approximated as a normal distribution\n"
   ]
  },
  {
   "cell_type": "code",
   "execution_count": 120,
   "metadata": {
    "collapsed": true
   },
   "outputs": [],
   "source": [
    "# Simulates a Poisson process on the interval (0,t) with parameter\n",
    "# lambda.\n",
    "poisproc <- function(t,lambda) {\n",
    "  # times is the output vector of event times within (0,t).\n",
    "  times <- vector(mode=\"numeric\")\n",
    "  # last is the time of the most recent event generated.\n",
    "  last <- 0\n",
    "  loop = 0\n",
    "  while(runif(1,0,1)>0.5){\n",
    "      while (last < t) {\n",
    "        # At each iteration of the while-loop, we are generating events\n",
    "        # within the interval (last,t].\n",
    "        # eventcount is the expected number of remaining events.\n",
    "        # We generate exponential r.v.s in batches of this size to\n",
    "        # reduce the overhead from repeatedly concatenating to build\n",
    "        # the times vector.\n",
    "        eventcount <- ceiling((t-last)*lambda)\n",
    "        # We generate exponential r.v.s and keep track of their\n",
    "        # cumulative sums as event times.\n",
    "        newoutput <- last + cumsum(rexp(eventcount,lambda))\n",
    "        last <- newoutput[eventcount]\n",
    "        # Only include events up to time t.\n",
    "        times <- c(times, newoutput[newoutput <= t])\n",
    "        loop = loop + 1\n",
    "      }\n",
    "  }\n",
    "  \n",
    "  loop\n",
    "}"
   ]
  },
  {
   "cell_type": "code",
   "execution_count": 122,
   "metadata": {
    "collapsed": false
   },
   "outputs": [
    {
     "data": {
      "image/png": "[encoded data removed]",
      "text/plain": [
       "Plot with title \"Histogram of replicate(1000, mean(replicate(100, poisproc(5000, 5))))\""
      ]
     },
     "metadata": {},
     "output_type": "display_data"
    }
   ],
   "source": [
    "hist(replicate(1000,mean(replicate(100,poisproc(5000, 5)))), freq = F, breaks = 20)"
   ]
  },
  {
   "cell_type": "code",
   "execution_count": 123,
   "metadata": {
    "collapsed": false
   },
   "outputs": [
    {
     "data": {
      "image/png": "[encoded data removed]",
      "text/plain": [
       "Plot with title \"Histogram of replicate(1000, mean(replicate(100, poisproc(100, 5))))\""
      ]
     },
     "metadata": {},
     "output_type": "display_data"
    }
   ],
   "source": [
    "hist(replicate(1000,mean(replicate(100,poisproc(100, 5)))), freq = F, breaks = 20)"
   ]
  },
  {
   "cell_type": "code",
   "execution_count": 124,
   "metadata": {
    "collapsed": false
   },
   "outputs": [
    {
     "data": {
      "image/png": "[encoded data removed]",
      "text/plain": [
       "Plot with title \"Histogram of replicate(1000, mean(replicate(100, poisproc(300, 8))))\""
      ]
     },
     "metadata": {},
     "output_type": "display_data"
    }
   ],
   "source": [
    "hist(replicate(1000,mean(replicate(100,poisproc(300, 8)))), freq = F, breaks = 20)"
   ]
  },
  {
   "cell_type": "code",
   "execution_count": null,
   "metadata": {
    "collapsed": true
   },
   "outputs": [],
   "source": []
  }
 ],
 "metadata": {
  "anaconda-cloud": {},
  "kernelspec": {
   "display_name": "R",
   "language": "R",
   "name": "ir"
  },
  "language_info": {
   "codemirror_mode": "r",
   "file_extension": ".r",
   "mimetype": "text/x-r-source",
   "name": "R",
   "pygments_lexer": "r",
   "version": "3.3.2"
  }
 },
 "nbformat": 4,
 "nbformat_minor": 2
}
