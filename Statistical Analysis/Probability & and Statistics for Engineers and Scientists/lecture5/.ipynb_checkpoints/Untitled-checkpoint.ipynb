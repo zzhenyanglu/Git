{
 "cells": [
  {
   "cell_type": "markdown",
   "metadata": {},
   "source": [
    "# Homework 5 \n",
    "\n",
    "## Zhenyang Lu\n",
    "\n",
    "\n",
    "# Question 1\n",
    "\n",
    "Let $X_1, X_2 .... X_n, n =100 $ be the amount of nicotine in each cigarrete in the sample. According to CLT, $\\overline {X}$ ~ $N(2.2, 0.3^2/100)$ \n",
    "\n",
    "$ P(X \\geq 3.1) = 1 - P(X \\leq 3.1) = 1- pnorm((3.1-2.2)/\\sqrt{0.3^2/100}) = 1- 1 = 0$\n",
    "\n",
    "it's unlike for the company's clain to be true. \n"
   ]
  },
  {
   "cell_type": "markdown",
   "metadata": {},
   "source": [
    "# Question 2\n",
    "\n",
    "Let $X_1, X_2 .... X_n $ be the average number of days until repair. According to CLT, $ X_i ~ N(100, 900)$, $ T ~ N(100*n, 900*n). $ \n",
    "\n",
    "We have $P = pnorm((2000-100*n)/sqrt(900*n)) = 0.95 $, which means $ qnorm(0.95) = (2000-100*n)/sqrt(900*n) $, So $ n = 17.9054  \\approx 18$"
   ]
  },
  {
   "cell_type": "markdown",
   "metadata": {},
   "source": [
    "# Question 3.\n",
    "\n",
    "Let X1, …, X30 be independent Poisson random variables having mean 1, So variance and std deviation are also 1, respectively.  \n",
    "T = X1 + … + X30. So T ~ N (1*30,1*30). \n",
    "\n",
    "(a).\n",
    "\n",
    "with continuity correction: pnorm((35.5-30)/sqrt(30)) = 0.8423488\n",
    "\n",
    "without continuity correction: pnorm((35.-30)/sqrt(30)) = 0.8193448\n",
    "\n",
    "\n",
    "(b).\n",
    "\n",
    "According to Example 5.3-1 of textbook. if X1 ~ Poisson(1), X2 ~ Poisson(1)...X30 ~ Poisson(1), T = X1 + X2 +.... + X30, T ~ Poisson(1+1+...+1) = Poisson(30), whose mean and variance are both 30.  So R command should be used is ppois(35,lambda=30) = 0.8426165\n",
    "\n",
    "So compared to part (a), the real possibility is closer to the one with continuity correction. "
   ]
  },
  {
   "cell_type": "markdown",
   "metadata": {},
   "source": [
    "# Question 4. \n",
    "\n",
    "According to Theorem 5.4-1,  S ~$ N( 20* \\mu_x, 20*\\sigma_x^2)$, if $X_i, i =1,2...20$ is iid. So we need to get $E(X_i)$ and $Var(X_i)$ \n",
    "\n",
    "$E(X_i) = \\int_0^1 2x*x dx = \\frac{2}{3}$  \n",
    "\n",
    "$E(X_i)^2 = \\frac{4}{9}$  \n",
    "\n",
    "$E(X_i^2) = \\int_0^1 2x*x^2 dx = \\frac{1}{2}$  \n",
    "\n",
    "$ Var(x) = E(X_i^2) - E(X_i)^2 = \\frac{1}{18} $\n",
    "\n",
    "So  T ~ $ N(\\frac{2}{3}*20,\\frac{1}{18}*20)$\n",
    "\n",
    "So $ P(S \\leq 10) = pnorm(\\frac{10-\\frac{40}{3}}{\\sqrt \\frac{20}{18}}) = 0.0007827011 $"
   ]
  },
  {
   "cell_type": "markdown",
   "metadata": {},
   "source": [
    "# Question 5. \n",
    "\n",
    "# NOTICE: I assume this question is programming one. As far as I image, answering it by hand will be fairly complicated. \n",
    "\n",
    "# notice: I've tried my best to interpret what you ask for, and according to what I understand what you ask. I think you are asking \" Approximate the probability that more of the Egyptian artifacts are counterfeit that they are of American artifacts are counterfeits. Which is P(N>M) in my part (a). It could have been a good idea to clarify the question in a more specific way, as to if it's a solve-by-hand question and what exactly is part a asking. Are you wanting us to CLT in part a.? \n",
    "\n",
    "(a). \n",
    "Let O be the number of the American artifacts \n",
    "Let P be the number of the Egpytian artifacts \n",
    "\n",
    "O ~ Normal(136.2, 74.3652)\n",
    "P ~ Normal(126,73.08)"
   ]
  },
  {
   "cell_type": "code",
   "execution_count": 3,
   "metadata": {
    "collapsed": false
   },
   "outputs": [
    {
     "data": {
      "text/html": [
       "0.189040691819704"
      ],
      "text/latex": [
       "0.189040691819704"
      ],
      "text/markdown": [
       "0.189040691819704"
      ],
      "text/plain": [
       "[1] 0.1890407"
      ]
     },
     "metadata": {},
     "output_type": "display_data"
    }
   ],
   "source": [
    "# (a) contiuning .\n",
    "A = expand.grid(O=0:300,P=0:300)\n",
    "Y=expand.grid(po=dnorm(0:300,mean=136.2,sd=sqrt(74.3652)),pp=dnorm(0:300,mean=126,sd=sqrt(73.08)));Y$pop=Y$po*Y$pp;\n",
    "attach(A);attach(Y)\n",
    "sum(pop[which(O<P)])"
   ]
  },
  {
   "cell_type": "code",
   "execution_count": 19,
   "metadata": {
    "collapsed": false
   },
   "outputs": [
    {
     "name": "stderr",
     "output_type": "stream",
     "text": [
      "The following objects are masked from X (pos = 4):\n",
      "\n",
      "    pm, pmn, pn\n",
      "\n",
      "The following objects are masked from X (pos = 6):\n",
      "\n",
      "    pm, pmn, pn\n",
      "\n",
      "The following objects are masked from X (pos = 8):\n",
      "\n",
      "    pm, pmn, pn\n",
      "\n",
      "The following objects are masked from X (pos = 10):\n",
      "\n",
      "    pm, pmn, pn\n",
      "\n",
      "The following objects are masked from X (pos = 12):\n",
      "\n",
      "    pm, pmn, pn\n",
      "\n",
      "The following objects are masked from X (pos = 16):\n",
      "\n",
      "    pm, pmn, pn\n",
      "\n",
      "The following objects are masked from S (pos = 4):\n",
      "\n",
      "    M, N\n",
      "\n",
      "The following objects are masked from S (pos = 6):\n",
      "\n",
      "    M, N\n",
      "\n",
      "The following objects are masked from S (pos = 8):\n",
      "\n",
      "    M, N\n",
      "\n",
      "The following objects are masked from S (pos = 10):\n",
      "\n",
      "    M, N\n",
      "\n",
      "The following objects are masked from S (pos = 12):\n",
      "\n",
      "    M, N\n",
      "\n",
      "The following objects are masked from S (pos = 16):\n",
      "\n",
      "    M, N\n",
      "\n"
     ]
    },
    {
     "name": "stdout",
     "output_type": "stream",
     "text": [
      "[1] \"true probability is \"\n"
     ]
    },
    {
     "data": {
      "text/html": [
       "0.188725207144157"
      ],
      "text/latex": [
       "0.188725207144157"
      ],
      "text/markdown": [
       "0.188725207144157"
      ],
      "text/plain": [
       "[1] 0.1887252"
      ]
     },
     "metadata": {},
     "output_type": "display_data"
    },
    {
     "name": "stdout",
     "output_type": "stream",
     "text": [
      "[1] \"relative error is \"\n"
     ]
    },
    {
     "data": {
      "text/html": [
       "0.0016716615672151"
      ],
      "text/latex": [
       "0.0016716615672151"
      ],
      "text/markdown": [
       "0.0016716615672151"
      ],
      "text/plain": [
       "[1] 0.001671662"
      ]
     },
     "metadata": {},
     "output_type": "display_data"
    }
   ],
   "source": [
    "# (b).\n",
    "\n",
    "# Let M be the number of the American artifacts are counterfeit\n",
    "# Let N be the number of the Egpytian artifacts are counterfeit\n",
    "\n",
    "S = expand.grid(M=0:300,N=0:300)\n",
    "X=expand.grid(pm=dbinom(0:300,301,.454),pn=dbinom(0:300,301,.42));X$pmn=X$pm*X$pn;\n",
    "attach(X);attach(S)\n",
    "print(\"true probability is \")\n",
    "sum(pmn[which(N>M)])\n",
    "\n",
    "# the relative error | x − y |/X\n",
    "print(\"relative error is \")\n",
    "abs(sum(pmn[which(N>M)]) - sum(pop[which(O<P)]))/ sum(pmn[which(N>M)])"
   ]
  },
  {
   "cell_type": "code",
   "execution_count": null,
   "metadata": {
    "collapsed": true
   },
   "outputs": [],
   "source": [
    "# (c).\n",
    "\n",
    "haha = function(n){\n",
    "  S = expand.grid(M=0:n,N=0:n)\n",
    "  X=expand.grid(pm=dbinom(0:n,n+1,.454),pn=dbinom(0:n,n+1,.42));X$pmn=X$pm*X$pn;\n",
    "  m=cbind(S,X)\n",
    "  sum(m$pmn[which(m$N>m$M)])\n",
    "}\n",
    "\n",
    "for(i in 10:500){xixi=append(xixi,haha(i));}\n",
    "plot(xixi,xlab=\"n\",ylab=\"probability that more Egyptian are counterfeit\")\n"
   ]
  },
  {
   "cell_type": "markdown",
   "metadata": {},
   "source": [
    "(c) continuing \n",
    "\n",
    "the plotting shows that as the number of artifacts selected increases, the probability of more of the Egyptian artifacts are counterfeit decreases. \n",
    "\n",
    "I was again falling into a great contemplation as to what are you asking? If I understand it correctly, the second method is better, without doubt, because it's real probability. The first is just approximation. But not sure why you ask that, because it's very obvious right unless I misunderstood it?    \n"
   ]
  },
  {
   "cell_type": "markdown",
   "metadata": {},
   "source": [
    "# Question 6.\n",
    "\n",
    "(a). \n",
    "\n",
    "since Z = 1, if a point is inside the object, Z = 0 otherwise. Probability for a random point lies in the object is A, and 1-A. Hence, we have \n",
    "\n",
    "$E(Z) = A*1 + (1-A)*0 = A$\n",
    "\n",
    "$E(Z)^2 = A*1 + (1-A)*0 = A^2$\n",
    "\n",
    "$E(Z^2) = A*1^2 + (1-A)*0^2 = A$\n",
    "\n",
    "$Var(Z) = A - A^2 $\n",
    "\n",
    "A can be estimated by randomly draw n points from the square area, and A should be = $ \\frac{Z_1 + Z_2 + ... Z_n }{n}$. Specifically, as the number of points(n) drawn increases, the accuracy is higher and higher.   \n",
    "\n",
    "(b).\n",
    "\n",
    "According to CLT, $\\overline X$ ~ $N(\\mu, \\frac{\\sigma^2}{n})$, so we could draw a number of samples and get the sample mean and variance. Using CLT, we could estimate $\\mu$ and $\\sigma$ of the true value, and use it to estimate the what we've got in part (a). \n",
    "\n",
    "$P(|A' - A|<0.01) = 0.99 =  P(0.19 \\leq A' \\leq 0.21) =  1 - P(|A' - 0.1| \\geq 0.01) \\geq  1- \\frac{Var(\\overline Z)}{0.01^2} =  1- \\frac{Var(Z)}{n*0.01^2}$\n",
    "\n",
    "So $n \\geq 160000 $"
   ]
  },
  {
   "cell_type": "markdown",
   "metadata": {
    "collapsed": true
   },
   "source": [
    "# Question 7\n",
    "\n",
    "(a).\n",
    "\n",
    "for the first iteration, last ~ exp(lambda), whose mean is 1/lambda, according to formula 3.5.2 in textbook.\n",
    "\n",
    "(b).\n",
    "\n",
    "if it stops after the first iteration, then last > t, which means during the interval (0,t), nothing happens. \n",
    "\n",
    "$ P(X \\geq t) = 1 - P(X \\leq t) = 1 - (1 - e^{-\\lambda t}) =e^{-\\lambda t} $ \n",
    "\n",
    "In terms of Y ~ poisson(lambda), it means nothing happens P(Y=0), within [0,t] at a rate of lambda if the algo stops after the first iteration. according to Poisson process, we have \n",
    "\n",
    "\n",
    "$ P(Y(t) = 0) =e^{-t*\\lambda} $ \n",
    "\n",
    "THE TWO FORMULAS ARE IDENTICAL, UNLESS I WAS WRONG, WHY BOTHERING VERIFYING?\n",
    "\n",
    "(c). \n",
    "\n",
    "as t*lambda goes to infinity, the equation found in part(b) approaches to 0. Just imagine, as the time and rate of poisson process goes to unlimited large, it's never gonna happen that a event will never be occured, which means it's almost never possible that the algo will terminate after the first iteration. \n",
    "\n",
    "\n",
    "(d). \n",
    "\n",
    "As mentioned on part (b), this piece of R code simulates poisson process, with a rate of lambda, and time as t such that the random number follow Poisson(lambda*t). Now, we also have that the mean of Poisson equals $\\lambda $, which in this case is actually  $ lambda *t $, NOTICE: the second lambda is an argument of the poisproc(), the first is the argument of Poisson distribution, they are not same. Since in this case, the argument of Poisson distribution is $lambda *t $, then according to the definition of Poisson process, the mean of it means the number of times an event is expected to occur. Thus, we have the expected number of loops before terminating the algo is equal to $lambda*t $, WHICH IS THE FUNCTION'S ARGUMENTS, not the argument of poisson distribution.  \n"
   ]
  },
  {
   "cell_type": "code",
   "execution_count": 1,
   "metadata": {
    "collapsed": false
   },
   "outputs": [
    {
     "data": {
      "text/html": [
       "494"
      ],
      "text/latex": [
       "494"
      ],
      "text/markdown": [
       "494"
      ],
      "text/plain": [
       "[1] 494"
      ]
     },
     "metadata": {},
     "output_type": "display_data"
    }
   ],
   "source": [
    "# some empirical test of part(d).\n",
    "\n",
    "\n",
    "poisproc <- function(t,lambda) {\n",
    "\n",
    "  times <- vector(mode=\"numeric\")\n",
    "\n",
    "  last <- 0\n",
    "  while (last < t) {\n",
    "\n",
    "    eventcount <- ceiling((t-last)*lambda)\n",
    "    newoutput <- last + cumsum(rexp(eventcount,lambda))\n",
    "    last <- newoutput[eventcount]\n",
    "    times <- c(times, newoutput[newoutput <= t])\n",
    "  }\n",
    "  times\n",
    "}\n",
    "\n",
    "sum(rep(length(poisproc(5,100)),10000))/10000"
   ]
  },
  {
   "cell_type": "code",
   "execution_count": null,
   "metadata": {
    "collapsed": true
   },
   "outputs": [],
   "source": []
  }
 ],
 "metadata": {
  "anaconda-cloud": {},
  "kernelspec": {
   "display_name": "R",
   "language": "R",
   "name": "ir"
  },
  "language_info": {
   "codemirror_mode": "r",
   "file_extension": ".r",
   "mimetype": "text/x-r-source",
   "name": "R",
   "pygments_lexer": "r",
   "version": "3.3.2"
  }
 },
 "nbformat": 4,
 "nbformat_minor": 1
}
