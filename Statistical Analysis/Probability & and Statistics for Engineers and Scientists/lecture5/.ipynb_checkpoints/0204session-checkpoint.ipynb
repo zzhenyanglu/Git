{
 "cells": [
  {
   "cell_type": "markdown",
   "metadata": {},
   "source": [
    "# 5.2.1"
   ]
  },
  {
   "cell_type": "markdown",
   "metadata": {},
   "source": [
    "The form of Chebyshev's inequality in the book states that if a random variable $Y$ has mean $\\mu$ and variance $\\sigma^2 < \\infty$, then for any $\\epsilon > 0$,\n",
    "\\begin{equation}P(|Y - \\mu| > \\epsilon) \\le \\frac{\\sigma^2}{\\epsilon^2}\\end{equation}\n",
    "\n",
    "Therefore, if we let $\\epsilon = a\\sigma$, we get $P(|Y - \\mu| > a\\sigma) \\le \\frac{1}{a^2}$. This is true for *any* random variable with finite variance. So, for instance, the probability that $Y$ is more than 1, 2, or 3 standard deviations away from the mean is at most $1, 1/4,$ and $1/9$ respectively.\n",
    "\n",
    "On the other hand, if we know that $X$ is a normal random variable, we can get much stronger results:"
   ]
  },
  {
   "cell_type": "code",
   "execution_count": 1,
   "metadata": {
    "collapsed": false
   },
   "outputs": [
    {
     "data": {
      "text/html": [
       "0.317310507862914"
      ],
      "text/latex": [
       "0.317310507862914"
      ],
      "text/markdown": [
       "0.317310507862914"
      ],
      "text/plain": [
       "[1] 0.3173105"
      ]
     },
     "metadata": {},
     "output_type": "display_data"
    }
   ],
   "source": [
    "2*(1 - pnorm(1))"
   ]
  },
  {
   "cell_type": "code",
   "execution_count": 2,
   "metadata": {
    "collapsed": false
   },
   "outputs": [
    {
     "data": {
      "text/html": [
       "0.0455002638963584"
      ],
      "text/latex": [
       "0.0455002638963584"
      ],
      "text/markdown": [
       "0.0455002638963584"
      ],
      "text/plain": [
       "[1] 0.04550026"
      ]
     },
     "metadata": {},
     "output_type": "display_data"
    }
   ],
   "source": [
    "2*(1 - pnorm(2))"
   ]
  },
  {
   "cell_type": "code",
   "execution_count": 3,
   "metadata": {
    "collapsed": false
   },
   "outputs": [
    {
     "data": {
      "text/html": [
       "0.00404969409489031"
      ],
      "text/latex": [
       "0.00404969409489031"
      ],
      "text/markdown": [
       "0.00404969409489031"
      ],
      "text/plain": [
       "[1] 0.004049694"
      ]
     },
     "metadata": {},
     "output_type": "display_data"
    }
   ],
   "source": [
    "3*(1 - pnorm(3))"
   ]
  },
  {
   "cell_type": "markdown",
   "metadata": {},
   "source": [
    "# 5.2.3"
   ]
  },
  {
   "cell_type": "markdown",
   "metadata": {},
   "source": [
    "Let $\\mu$ and $\\sigma^2$ be the mean and variance of $\\overline{X}$. Then since the mean and variance of each individual Poisson random variable are both 1, we get that $\\mu = 1$ and $\\sigma^2 = 1/10$. Therefore, Chebyshev's inequality gives us\n",
    "\\begin{align}\n",
    "P(0.5 \\le \\overline{X} \\le 1.5) &= P(-0.5 \\le \\overline{X} - 1 \\le 0.5) \\\\\n",
    "&= P(|\\overline{X} - 1| \\le 0.5) \\\\\n",
    "&= 1 - P(|\\overline{X} - 1| \\ge 0.5) \\\\\n",
    "&\\ge 1 - \\frac{1/10}{0.5^2} = 1 - 4/10 = 0.6.\n",
    "\\end{align}\n",
    "\n",
    "On the other hand, $10\\overline{X}$ is a sum of 10 independent Poisson random variables, so it is itself a Poisson random variable, whose parameter is the sum of the parameters of its components. Each of the component variables has parameter 1, so $10\\overline{X}$ has parameter 10. Since $P(0.5 \\le \\overline{X} \\le 1.5) = P(5 \\le 10\\overline{X} \\le 15)$, we can find the exact probability with R:"
   ]
  },
  {
   "cell_type": "code",
   "execution_count": 4,
   "metadata": {
    "collapsed": false
   },
   "outputs": [
    {
     "data": {
      "text/html": [
       "0.88417363381699"
      ],
      "text/latex": [
       "0.88417363381699"
      ],
      "text/markdown": [
       "0.88417363381699"
      ],
      "text/plain": [
       "[1] 0.8841736"
      ]
     },
     "metadata": {},
     "output_type": "display_data"
    }
   ],
   "source": [
    "ppois(15, 10) - ppois(5, 10)"
   ]
  },
  {
   "cell_type": "markdown",
   "metadata": {},
   "source": [
    "# 5.3.2"
   ]
  },
  {
   "cell_type": "markdown",
   "metadata": {},
   "source": [
    "The PDF of the sum of $X_1$ and $X_2$ is given by the convolution of two identical exponential PDFs:\n",
    "\\begin{equation}f_{X_1+Y_1}(t) = \\int_{-\\infty}^{\\infty} f_{X_1}(x)f_{X_2}(t-x) dx \\end{equation}\n",
    "\n",
    "We can simplify the calculation by observing that the exponential PDF is 0 on all negative values. Thus, we simultaneously need $x \\ge 0$ and $t-x \\ge 0$; equivalently $0 \\le x \\le t$. Thus, we have\n",
    "\\begin{align}\n",
    "\\int_0^t \\lambda e^{-\\lambda x} \\lambda e^{-\\lambda (t - x)} dx &= \\int_0^t \\lambda^2 e^{-\\lambda t} dx \\\\\n",
    "&= t\\lambda^2 e^{-\\lambda t}\n",
    "\\end{align}"
   ]
  },
  {
   "cell_type": "markdown",
   "metadata": {},
   "source": [
    "# 5.3.3"
   ]
  },
  {
   "cell_type": "markdown",
   "metadata": {},
   "source": [
    "Since the sum of independent normal random variables is a normal random variable whose mean and variance is the sum of the means and variances of the terms in the sum, we have $X_1 + X_2 + X_3 \\sim N(3\\cdot60, \\sigma^2 = 3\\cdot12) = N(180, \\sigma = 6)$. We can therefore find $P(X_1 + X_2 + X_3 > 185)$ as follows:"
   ]
  },
  {
   "cell_type": "code",
   "execution_count": 5,
   "metadata": {
    "collapsed": false
   },
   "outputs": [
    {
     "data": {
      "text/html": [
       "0.202328380963643"
      ],
      "text/latex": [
       "0.202328380963643"
      ],
      "text/markdown": [
       "0.202328380963643"
      ],
      "text/plain": [
       "[1] 0.2023284"
      ]
     },
     "metadata": {},
     "output_type": "display_data"
    }
   ],
   "source": [
    "pnorm(185, 180, 6, lower.tail = F)"
   ]
  },
  {
   "cell_type": "markdown",
   "metadata": {},
   "source": [
    "Similarly, we have $\\overline{X} \\sim N(60, \\sigma^2 = 12/3) = N(60, \\sigma^2 = 4)$ and $\\overline{Y} \\sim N(65, \\sigma^2 = 15/3) = N(65, \\sigma^2 = 5)$. Therefore, $\\overline{Y} - \\overline{X} \\sim N(65 - 60, \\sigma^2 = 5 + 4) = N(5, \\sigma = 3)$. We can therefore find $P(\\overline{Y} - \\overline{X} > 8)$ as follows:"
   ]
  },
  {
   "cell_type": "code",
   "execution_count": 6,
   "metadata": {
    "collapsed": false
   },
   "outputs": [
    {
     "data": {
      "text/html": [
       "0.158655253931457"
      ],
      "text/latex": [
       "0.158655253931457"
      ],
      "text/markdown": [
       "0.158655253931457"
      ],
      "text/plain": [
       "[1] 0.1586553"
      ]
     },
     "metadata": {},
     "output_type": "display_data"
    }
   ],
   "source": [
    "pnorm(8, 5, 3, lower.tail = F)"
   ]
  },
  {
   "cell_type": "markdown",
   "metadata": {},
   "source": [
    "# 5.4.5"
   ]
  },
  {
   "cell_type": "markdown",
   "metadata": {},
   "source": [
    "For $1 \\le i \\le 30$, let $X_i$ be the height of the $i$th segment of the first tower, and let $Y_i$ be the height of the $i$th segment of the second tower. Let $X$ and $Y$ be the heights of the first and second tower, respectively. Then $X = \\sum_{i=1}^{30} X_i$, and $Y = \\sum_{i=1}^{30}Y_i$.\n",
    "\n",
    "The phrase \"randomly selected segment\" in this problem suggests that each of the segment lengths are independent, so $X$ and $Y$ are each the sum of a large number of iid random variables. The mean and variance of a uniform random variable on the interval $[a,b]$ are $\\frac{a+b}{2}$ and $\\frac{(b-a)^2}{12}$ respectively. In this case, for all $i$, the mean and variance of $X_i$ and $Y_i$ are $37$ and $1/12$, respectively. Thus, $X$ and $Y$ are *approximately* distributed as $N(30\\cdot37, \\sigma^2 = 30/12)$, and $X-Y$ is *approximately* distributed as $N(30\\cdot37 - 30\\cdot37, \\sigma^2 = 30/12 + 30/12) = N(0, \\sigma^2 = 5)$. We wish to find $P(|X-Y| \\le 4) = P(-4 \\le X-Y \\le 4)$, which we can approximate as follows:"
   ]
  },
  {
   "cell_type": "code",
   "execution_count": 8,
   "metadata": {
    "collapsed": false
   },
   "outputs": [
    {
     "data": {
      "text/html": [
       "0.926361729879697"
      ],
      "text/latex": [
       "0.926361729879697"
      ],
      "text/markdown": [
       "0.926361729879697"
      ],
      "text/plain": [
       "[1] 0.9263617"
      ]
     },
     "metadata": {},
     "output_type": "display_data"
    }
   ],
   "source": [
    "pnorm(4, 0, sqrt(5)) - pnorm(-4, 0, sqrt(5))"
   ]
  },
  {
   "cell_type": "markdown",
   "metadata": {},
   "source": [
    "# 5.4.9"
   ]
  },
  {
   "cell_type": "markdown",
   "metadata": {},
   "source": [
    "Let $X$ be the total coating thickness. Then $X$ is the sum of 36 iid random variables, each with mean $\\mu = 0.5$ and standard deviation $\\sigma = 0.2$. By the Central Limit Theorem, $X$ is therefore approximately distributed as $N(36\\cdot0.5, \\sigma = \\sqrt{36}\\cdot0.2) = N(18, \\sigma = 1.2)$. We can approximate $P(X < 16)$ as follows:"
   ]
  },
  {
   "cell_type": "code",
   "execution_count": 15,
   "metadata": {
    "collapsed": false
   },
   "outputs": [
    {
     "data": {
      "text/html": [
       "0.0477903522728147"
      ],
      "text/latex": [
       "0.0477903522728147"
      ],
      "text/markdown": [
       "0.0477903522728147"
      ],
      "text/plain": [
       "[1] 0.04779035"
      ]
     },
     "metadata": {},
     "output_type": "display_data"
    }
   ],
   "source": [
    "pnorm(16, 18, 1.2)"
   ]
  },
  {
   "cell_type": "markdown",
   "metadata": {},
   "source": [
    "# 5.4.10"
   ]
  },
  {
   "cell_type": "markdown",
   "metadata": {},
   "source": [
    "Let $\\overline{Y}$ be the average diameter of the 100 steel rods. Then $\\overline{Y}$ is the mean of 100 iid random variables, each with mean $\\mu = 0.503$ and standard deviation $\\sigma = 0.03$, so $\\overline{Y}$ is approximately distributed as $N(0.503, \\sigma = 0.03/sqrt{100}) = N(0.503, \\sigma = 0.003)$. We want to approximate $p = P(0.495 \\le \\overline{Y} \\le 0.505)$, which we can do as follows:"
   ]
  },
  {
   "cell_type": "code",
   "execution_count": 16,
   "metadata": {
    "collapsed": false
   },
   "outputs": [
    {
     "data": {
      "text/html": [
       "0.743677081885488"
      ],
      "text/latex": [
       "0.743677081885488"
      ],
      "text/markdown": [
       "0.743677081885488"
      ],
      "text/plain": [
       "[1] 0.7436771"
      ]
     },
     "metadata": {},
     "output_type": "display_data"
    }
   ],
   "source": [
    "p <- pnorm(.505, .503, .003) - pnorm(.495, .503, .003)\n",
    "p"
   ]
  },
  {
   "cell_type": "markdown",
   "metadata": {},
   "source": [
    "$X$ is a binomial distribution with $n = 40$ trials and probability of success $p$. We can't find any *exact* probabilities with what we know now (remember that we only approximate $p$; we didn't find it exactly), but we can still get close to the right answer. We can approximate $P(X \\le 30)$ as follows:"
   ]
  },
  {
   "cell_type": "code",
   "execution_count": 12,
   "metadata": {
    "collapsed": false
   },
   "outputs": [
    {
     "data": {
      "text/html": [
       "0.596467888341828"
      ],
      "text/latex": [
       "0.596467888341828"
      ],
      "text/markdown": [
       "0.596467888341828"
      ],
      "text/plain": [
       "[1] 0.5964679"
      ]
     },
     "metadata": {},
     "output_type": "display_data"
    }
   ],
   "source": [
    "pbinom(30, 40, p)"
   ]
  },
  {
   "cell_type": "markdown",
   "metadata": {},
   "source": [
    "Now, since $X$ is a binomial distribution with $np \\ge 5$ and $n(1-p) \\ge 5$, the normal approximation with mean $np$ and variance $np(1-p)$ should be good. We'll try approximating $P(X\\le30)$ with the normal approximation, first without the continuity correction and next with it:"
   ]
  },
  {
   "cell_type": "code",
   "execution_count": 13,
   "metadata": {
    "collapsed": false
   },
   "outputs": [
    {
     "data": {
      "text/html": [
       "0.536489238983669"
      ],
      "text/latex": [
       "0.536489238983669"
      ],
      "text/markdown": [
       "0.536489238983669"
      ],
      "text/plain": [
       "[1] 0.5364892"
      ]
     },
     "metadata": {},
     "output_type": "display_data"
    }
   ],
   "source": [
    "pnorm(30, 40*p, sqrt(40*p*(1-p)))"
   ]
  },
  {
   "cell_type": "code",
   "execution_count": 14,
   "metadata": {
    "collapsed": false
   },
   "outputs": [
    {
     "data": {
      "text/html": [
       "0.607445024060044"
      ],
      "text/latex": [
       "0.607445024060044"
      ],
      "text/markdown": [
       "0.607445024060044"
      ],
      "text/plain": [
       "[1] 0.607445"
      ]
     },
     "metadata": {},
     "output_type": "display_data"
    }
   ],
   "source": [
    "pnorm(30.5, 40*p, sqrt(40*p*(1-p)))"
   ]
  },
  {
   "cell_type": "markdown",
   "metadata": {
    "collapsed": true
   },
   "source": [
    "It is clear that the continuity correction is important for an accurate approximation."
   ]
  },
  {
   "cell_type": "code",
   "execution_count": null,
   "metadata": {
    "collapsed": true
   },
   "outputs": [],
   "source": []
  }
 ],
 "metadata": {
  "anaconda-cloud": {},
  "kernelspec": {
   "display_name": "R",
   "language": "R",
   "name": "ir"
  },
  "language_info": {
   "codemirror_mode": "r",
   "file_extension": ".r",
   "mimetype": "text/x-r-source",
   "name": "R",
   "pygments_lexer": "r",
   "version": "3.3.2"
  }
 },
 "nbformat": 4,
 "nbformat_minor": 0
}
