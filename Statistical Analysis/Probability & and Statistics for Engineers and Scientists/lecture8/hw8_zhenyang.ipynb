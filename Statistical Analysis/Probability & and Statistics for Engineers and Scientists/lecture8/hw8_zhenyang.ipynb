{
 "cells": [
  {
   "cell_type": "markdown",
   "metadata": {},
   "source": [
    "# homework 8 \n",
    "# zhenyang lu\n",
    "\n",
    "Looks like this is the last three homeworks of it. maybe if this is the last you score the homework for me. Just want to say thanks for the problems session's notes and reviewing the weekly homework.   "
   ]
  },
  {
   "cell_type": "markdown",
   "metadata": {},
   "source": [
    "# Question 1 \n",
    "\n",
    "Since the population size is larger than 30, and variance is given by the question, we could use student t distribution. Since the expected sample mean should be the population mean, we could solve this problem by building a 95% CI for the sample mean and see if the population mean is within the range of sample mean's CI.  \n",
    "\n",
    "After computing the CI for sample mean, population mean is within the CI of sample mean, so we can not reject that, on 95% significance level, this selection constituted a random sample. \n",
    "\n",
    "Code used to compute the CI is given below"
   ]
  },
  {
   "cell_type": "code",
   "execution_count": 6,
   "metadata": {
    "collapsed": false
   },
   "outputs": [
    {
     "name": "stdout",
     "output_type": "stream",
     "text": [
      "[1] \"upper bound:\"\n"
     ]
    },
    {
     "data": {
      "text/html": [
       "32.0511188493024"
      ],
      "text/latex": [
       "32.0511188493024"
      ],
      "text/markdown": [
       "32.0511188493024"
      ],
      "text/plain": [
       "[1] 32.05112"
      ]
     },
     "metadata": {},
     "output_type": "display_data"
    },
    {
     "name": "stdout",
     "output_type": "stream",
     "text": [
      "[1] \"lower bound:\"\n"
     ]
    },
    {
     "data": {
      "text/html": [
       "28.7488811506976"
      ],
      "text/latex": [
       "28.7488811506976"
      ],
      "text/markdown": [
       "28.7488811506976"
      ],
      "text/plain": [
       "[1] 28.74888"
      ]
     },
     "metadata": {},
     "output_type": "display_data"
    },
    {
     "data": {
      "text/html": [
       "0.8"
      ],
      "text/latex": [
       "0.8"
      ],
      "text/markdown": [
       "0.8"
      ],
      "text/plain": [
       "[1] 0.8"
      ]
     },
     "metadata": {},
     "output_type": "display_data"
    }
   ],
   "source": [
    "sample_size = 25\n",
    "degree_freedom = sample_size -1\n",
    "population_std = 4\n",
    "population_mean = 32\n",
    "sample_mean = 30.4\n",
    "sample_std = population_std/sqrt(sample_size)\n",
    "level_of_significance=0.05\n",
    "\n",
    "\n",
    "print(\"upper bound:\")\n",
    "sample_mean+qt(1-level_of_significance/2,df=degree_freedom)*sample_std\n",
    "\n",
    "print(\"lower bound:\")\n",
    "sample_mean+qt(level_of_significance/2,df=degree_freedom)*sample_std"
   ]
  },
  {
   "cell_type": "markdown",
   "metadata": {},
   "source": [
    "# Question 2\n",
    "\n",
    "Using student t distribution with the following parameters,\n",
    "we could compute p-values as the following code:\n"
   ]
  },
  {
   "cell_type": "code",
   "execution_count": 30,
   "metadata": {
    "collapsed": false
   },
   "outputs": [
    {
     "name": "stdout",
     "output_type": "stream",
     "text": [
      "[1] \"p-value 1\"\n"
     ]
    },
    {
     "data": {
      "text/html": [
       "0.321136031582626"
      ],
      "text/latex": [
       "0.321136031582626"
      ],
      "text/markdown": [
       "0.321136031582626"
      ],
      "text/plain": [
       "[1] 0.321136"
      ]
     },
     "metadata": {},
     "output_type": "display_data"
    },
    {
     "name": "stdout",
     "output_type": "stream",
     "text": [
      "[1] \"p-value 2\"\n"
     ]
    },
    {
     "data": {
      "text/html": [
       "0.0498157636990448"
      ],
      "text/latex": [
       "0.0498157636990448"
      ],
      "text/markdown": [
       "0.0498157636990448"
      ],
      "text/plain": [
       "[1] 0.04981576"
      ]
     },
     "metadata": {},
     "output_type": "display_data"
    },
    {
     "name": "stdout",
     "output_type": "stream",
     "text": [
      "[1] \"p-value 3\"\n"
     ]
    },
    {
     "data": {
      "text/html": [
       "0.00386383847609917"
      ],
      "text/latex": [
       "0.00386383847609917"
      ],
      "text/markdown": [
       "0.00386383847609917"
      ],
      "text/plain": [
       "[1] 0.003863838"
      ]
     },
     "metadata": {},
     "output_type": "display_data"
    }
   ],
   "source": [
    "sample_mean_1 = 52.5\n",
    "sample_mean_2 = 55\n",
    "sample_mean_3 = 57.5\n",
    "\n",
    "population_mean = 50\n",
    "population_std = 20\n",
    "sample_size=64\n",
    "degree_freedom = sample_size-1\n",
    "\n",
    "print(\"p-value 1\")\n",
    "(1-pt(((sample_mean_1-population_mean)/(population_std/sqrt(sample_size))),df=degree_freedom))*2\n",
    "print(\"p-value 2\")\n",
    "(1-pt(((sample_mean_2-population_mean)/(population_std/sqrt(sample_size))),df=degree_freedom))*2\n",
    "print(\"p-value 3\")\n",
    "(1-pt(((sample_mean_3-population_mean)/(population_std/sqrt(sample_size))),df=degree_freedom))*2"
   ]
  },
  {
   "cell_type": "markdown",
   "metadata": {},
   "source": [
    "# Question 3\n",
    "\n",
    "Let $\\mu$ be the population mean, we are doing the following hypothesis test based on t distribution:\n",
    "\n",
    "$H_0: \\mu = 20 $\n",
    "\n",
    "$H_a: \\mu \\ne 20 $\n",
    "\n",
    "After computing the p value (code following), it's obvious that the p-value is larger than the confidence level, 5%, so we can not reject the null hypothesis that the the population mean is 20 mg on 95% level of confidence. "
   ]
  },
  {
   "cell_type": "code",
   "execution_count": 29,
   "metadata": {
    "collapsed": false,
    "scrolled": true
   },
   "outputs": [
    {
     "name": "stdout",
     "output_type": "stream",
     "text": [
      "[1] \"p-value:\"\n"
     ]
    },
    {
     "data": {
      "text/html": [
       "0.259924659699429"
      ],
      "text/latex": [
       "0.259924659699429"
      ],
      "text/markdown": [
       "0.259924659699429"
      ],
      "text/plain": [
       "[1] 0.2599247"
      ]
     },
     "metadata": {},
     "output_type": "display_data"
    }
   ],
   "source": [
    "print(\"p-value:\") \n",
    "pt((19.7-20)/1.3*sqrt(25),df=24)*2"
   ]
  },
  {
   "cell_type": "markdown",
   "metadata": {},
   "source": [
    "# Question 4\n",
    "\n",
    "# a\n",
    "\n",
    "let $\\mu_{key}$ be the mean of authentication time of users that uses key\n",
    "\n",
    "let $\\mu_{psw}$ be the mean of authentication time of users that uses password\n",
    "\n",
    "let $\\sigma$ be the two population's equal variance, which is the whole population's variance. \n",
    "\n",
    "we are trying to test if $\\mu_{key}$ - $\\mu_{psw}$ is different from 0. So\n",
    "\n",
    "$H_0: \\mu_{key} - \\mu_{psw} = 0 $\n",
    "\n",
    "$H_a: \\mu_{key} - \\mu_{psw} \\ne 0 $\n",
    "\n",
    "\n",
    "# b \n",
    "\n",
    "let $X_{key}$ be  mean authentication time of the users performing \"key\" authentication\n",
    "\n",
    "let $X_{psw}$ be  mean authentication time of the users performing \"password\" authentication\n",
    "\n",
    "$X_{key}$ ~ $N(\\mu_{key},\\sigma^2$)\n",
    "\n",
    "$X_{psw}$ ~ $N(\\mu_{psw},\\sigma^2$)\n",
    "\n",
    "$X_{psw} - X_{key}$ ~ $N(\\mu_{psw}-\\mu_{key},\\sigma^2 + \\sigma^2$)\n",
    "\n",
    "$\\overline X_{psw} -\\overline  X_{key}$ ~ $N(\\mu_{psw}-\\mu_{key},\\frac{\\sigma^2}{N_{psd}} + \\frac{\\sigma^2}{N_{key}}$)\n",
    "\n",
    "NOTICE: I will use normal distribution to calculate p-value. \n",
    "\n",
    "($\\overline X_{psw} -\\overline  X_{key}$)'s p-value =  $1 - pnorm(\\frac{(\\overline X_{psw} -\\overline  X_{key} - 0}{\\sqrt{\\frac{\\sigma^2}{N_{psw}} + \\frac{\\sigma^2}{N_{key}}}})$\n",
    "\n",
    "\n",
    "# c\n",
    "\n",
    "After computing the p-value, which is much smaller than 1%, we can reject the null hypothesis. We can not deny that there is a difference between users with key authentication and password authentication. Your boss should proceed. \n",
    "\n",
    "Code used: "
   ]
  },
  {
   "cell_type": "code",
   "execution_count": 28,
   "metadata": {
    "collapsed": false
   },
   "outputs": [
    {
     "name": "stdout",
     "output_type": "stream",
     "text": [
      "[1] \"p-value: \"\n"
     ]
    },
    {
     "data": {
      "text/html": [
       "3.0073341848488e-139"
      ],
      "text/latex": [
       "3.0073341848488e-139"
      ],
      "text/markdown": [
       "3.0073341848488e-139"
      ],
      "text/plain": [
       "[1] 3.007334e-139"
      ]
     },
     "metadata": {},
     "output_type": "display_data"
    }
   ],
   "source": [
    "haha=read.csv(\"C:\\\\Users\\\\zheny\\\\Dropbox\\\\courses\\\\foundation of data analysis (53110)\\\\lecture8\\\\logins.csv\")\n",
    "population_var = var(haha$min)\n",
    "population_mean_key = mean(haha[haha$mechanism == \"key\",]$min)\n",
    "population_mean_psw = mean(haha[haha$mechanism == \"password\",]$min)\n",
    "population_size_key = length(haha[haha$mechanism == \"key\",]$min)\n",
    "population_size_psw = length(haha[haha$mechanism == \"password\",]$min)\n",
    "\n",
    "print(\"p-value: \")\n",
    "pnorm((population_mean_key-population_mean_psw-0)/(sqrt(population_var/population_size_psw + population_var/population_size_key)))*2"
   ]
  },
  {
   "cell_type": "markdown",
   "metadata": {
    "collapsed": true
   },
   "source": [
    "# question 5\n",
    "\n",
    "# a\n",
    "\n",
    "\n",
    "\n",
    "NOTICE: IN THIS PROBLEM, I''M STILL ASSUMING that the mean of the authentication times is approximately normally distributed and that both populations have equal variances.   \n",
    "\n",
    "\n",
    "let $X_{fa}$ be mean authentication time of faculty\n",
    "\n",
    "let $X_{st}$ be mean authentication time of staff\n",
    "\n",
    "let $sigma$ be std deviation of mean authentication time of faculty and staff\n",
    "\n",
    "\n",
    "$ H_0 :X_{fa} - X_{st} = 0 $\n",
    "\n",
    "$ H_0 :X_{fa} - X_{st} \\ne 0 $\n",
    "\n",
    "\n",
    "# b\n",
    "\n",
    "So using normal distribution, we have \n",
    "\n",
    "$Z = \\frac{\\overline X_{st} - \\overline X_{fa} - 0} {\\sqrt {\\frac{\\sigma^2}{N_{fa}} +\\frac{\\sigma^2}{N_{st}}} }$\n",
    "\n",
    "\n",
    "# c\n",
    "\n",
    "After computing the p-value, which is much smaller than 1%, we can reject the null hypothesis. We can not deny that there is a mean authentication time difference between faculty and staff. \n",
    " \n",
    "Code used to calculate the p-value: "
   ]
  },
  {
   "cell_type": "code",
   "execution_count": 32,
   "metadata": {
    "collapsed": false
   },
   "outputs": [
    {
     "name": "stdout",
     "output_type": "stream",
     "text": [
      "[1] \"p-value: \"\n"
     ]
    },
    {
     "data": {
      "text/html": [
       "9.02260059447646e-91"
      ],
      "text/latex": [
       "9.02260059447646e-91"
      ],
      "text/markdown": [
       "9.02260059447646e-91"
      ],
      "text/plain": [
       "[1] 9.022601e-91"
      ]
     },
     "metadata": {},
     "output_type": "display_data"
    }
   ],
   "source": [
    "population_var = var(haha$min)\n",
    "population_mean_faculty = mean(haha[haha$affiliation == \"faculty\",]$min)\n",
    "population_mean_staff = mean(haha[haha$affiliation == \"staff\",]$min)\n",
    "population_size_faculty = length(haha[haha$affiliation == \"faculty\",]$min)\n",
    "population_size_staff = length(haha[haha$affiliation == \"staff\",]$min)\n",
    "\n",
    "print(\"p-value: \")\n",
    "pnorm((population_mean_faculty-population_mean_staff-0)/(sqrt(population_var/population_size_faculty + population_var/population_size_staff)))*2"
   ]
  },
  {
   "cell_type": "markdown",
   "metadata": {},
   "source": [
    "# Question 6\n",
    "\n",
    "# a \n",
    "\n",
    "lik(λ) = $ λe^{−λx_1}...λe^{−λx_n} = λ^ne^{−λ*x_1*x_2...x_n} $, taking the derivative of which, we get MLE $\\hat \\lambda = \\frac{1}{\\overline X}$\n",
    "\n",
    "So $\\lambda = $, which can be computed by the following code"
   ]
  },
  {
   "cell_type": "code",
   "execution_count": 33,
   "metadata": {
    "collapsed": false
   },
   "outputs": [
    {
     "data": {
      "text/html": [
       "0.00996247897528788"
      ],
      "text/latex": [
       "0.00996247897528788"
      ],
      "text/markdown": [
       "0.00996247897528788"
      ],
      "text/plain": [
       "[1] 0.009962479"
      ]
     },
     "metadata": {},
     "output_type": "display_data"
    }
   ],
   "source": [
    "data(treering) \n",
    "D = diff(c(0, which(treering > 1.6))) \n",
    "n = length(D)\n",
    "1/mean(D)"
   ]
  },
  {
   "cell_type": "markdown",
   "metadata": {},
   "source": [
    "# b\n",
    "\n",
    "the following codes are used to do ks test, as it cen be seen, the p-value is fairly smaller"
   ]
  },
  {
   "cell_type": "code",
   "execution_count": 1,
   "metadata": {
    "collapsed": false
   },
   "outputs": [
    {
     "name": "stderr",
     "output_type": "stream",
     "text": [
      "Warning message in ks.test(rexp(n, 1/mean(D)), D):\n",
      "\"cannot compute exact p-value with ties\""
     ]
    },
    {
     "data": {
      "text/plain": [
       "\n",
       "\tTwo-sample Kolmogorov-Smirnov test\n",
       "\n",
       "data:  rexp(n, 1/mean(D)) and D\n",
       "D = 0.37662, p-value = 3.611e-05\n",
       "alternative hypothesis: two-sided\n"
      ]
     },
     "metadata": {},
     "output_type": "display_data"
    },
    {
     "data": {
      "text/html": [
       "77"
      ],
      "text/latex": [
       "77"
      ],
      "text/markdown": [
       "77"
      ],
      "text/plain": [
       "[1] 77"
      ]
     },
     "metadata": {},
     "output_type": "display_data"
    }
   ],
   "source": [
    "# b KS test: \n",
    "\n",
    "data(treering) \n",
    "D = diff(c(0, which(treering > 1.6))) \n",
    "n = length(D)\n",
    "\n",
    "ks.test(rexp(n,1/mean(D)),D) \n"
   ]
  },
  {
   "cell_type": "markdown",
   "metadata": {},
   "source": [
    "# c\n",
    "\n",
    "function below: "
   ]
  },
  {
   "cell_type": "code",
   "execution_count": 35,
   "metadata": {
    "collapsed": false
   },
   "outputs": [
    {
     "data": {
      "text/html": [
       "9"
      ],
      "text/latex": [
       "9"
      ],
      "text/markdown": [
       "9"
      ],
      "text/plain": [
       "[1] 9"
      ]
     },
     "metadata": {},
     "output_type": "display_data"
    },
    {
     "data": {
      "text/html": [
       "<ol class=list-inline>\n",
       "\t<li>16</li>\n",
       "\t<li>16</li>\n",
       "\t<li>16</li>\n",
       "</ol>\n"
      ],
      "text/latex": [
       "\\begin{enumerate*}\n",
       "\\item 16\n",
       "\\item 16\n",
       "\\item 16\n",
       "\\end{enumerate*}\n"
      ],
      "text/markdown": [
       "1. 16\n",
       "2. 16\n",
       "3. 16\n",
       "\n",
       "\n"
      ],
      "text/plain": [
       "[1] 16 16 16"
      ]
     },
     "metadata": {},
     "output_type": "display_data"
    },
    {
     "data": {
      "text/html": [
       "5"
      ],
      "text/latex": [
       "5"
      ],
      "text/markdown": [
       "5"
      ],
      "text/plain": [
       "[1] 5"
      ]
     },
     "metadata": {},
     "output_type": "display_data"
    },
    {
     "data": {
      "text/html": [
       "1294"
      ],
      "text/latex": [
       "1294"
      ],
      "text/markdown": [
       "1294"
      ],
      "text/plain": [
       "[1] 1294"
      ]
     },
     "metadata": {},
     "output_type": "display_data"
    }
   ],
   "source": [
    "bootstrap=function(n,v){\n",
    "  sample(v,n,replace = TRUE)\n",
    "}\n",
    "\n",
    "D[D == bootstrap(1,D)]\n",
    "D[D == bootstrap(1,D)]\n",
    "D[D == bootstrap(1,D)]"
   ]
  },
  {
   "cell_type": "markdown",
   "metadata": {},
   "source": [
    "# d\n",
    "\n",
    "Codes used: "
   ]
  },
  {
   "cell_type": "code",
   "execution_count": 2,
   "metadata": {
    "collapsed": false
   },
   "outputs": [
    {
     "name": "stdout",
     "output_type": "stream",
     "text": [
      "[1] \"lag 1 correlation of D\"\n"
     ]
    },
    {
     "data": {
      "text/html": [
       "0.0849113469964147"
      ],
      "text/latex": [
       "0.0849113469964147"
      ],
      "text/markdown": [
       "0.0849113469964147"
      ],
      "text/plain": [
       "[1] 0.08491135"
      ]
     },
     "metadata": {},
     "output_type": "display_data"
    },
    {
     "ename": "ERROR",
     "evalue": "Error in is.data.frame(y): 没有\"bootstrap\"这个函数\n",
     "output_type": "error",
     "traceback": [
      "Error in is.data.frame(y): 没有\"bootstrap\"这个函数\nTraceback:\n",
      "1. autocorrelation(1, bootstrap(n, D))",
      "2. cor(v[1:(n - lag)], v[(1 + lag):(n)])   # at line 6 of file <text>",
      "3. is.data.frame(y)"
     ]
    }
   ],
   "source": [
    "# autocorrelation function \n",
    "# lag is the number of lag period\n",
    "# v is the vector on which \n",
    "#   the autocorrelation coefficient is performed\n",
    "autocorrelation=function(lag,v){\n",
    "  cor(v[1:(n-lag)],v[(1+lag):(n)])\n",
    "}\n",
    "\n",
    "# autocorrelation coefficient of D \n",
    "c=autocorrelation(1,D)\n",
    "print(\"lag 1 correlation of D\")\n",
    "c\n",
    "\n",
    "# test random autocorrelation coefficient numbers\n",
    "n=50\n",
    "C=autocorrelation(1,bootstrap(n,D))\n",
    "C=autocorrelation(1,bootstrap(n,D))\n",
    "print(\"lag 1 correlation of random sample of D\")\n",
    "C\n",
    "\n"
   ]
  },
  {
   "cell_type": "code",
   "execution_count": 58,
   "metadata": {
    "collapsed": false
   },
   "outputs": [
    {
     "name": "stdout",
     "output_type": "stream",
     "text": [
      "[1] \"p-value: \"\n"
     ]
    },
    {
     "data": {
      "text/html": [
       "0.2668"
      ],
      "text/latex": [
       "0.2668"
      ],
      "text/markdown": [
       "0.2668"
      ],
      "text/plain": [
       "[1] 0.2668"
      ]
     },
     "metadata": {},
     "output_type": "display_data"
    }
   ],
   "source": [
    "# part d continue\n",
    "\n",
    "# result contains the distribution of C \n",
    "result =vector(\"numeric\")\n",
    "\n",
    "# loop specify the number of C, which is the number of times\n",
    "# a random sample is drawn and autocorrelation coefficient \n",
    "# number is computed\n",
    " \n",
    "loop = 10000\n",
    "\n",
    "for (i in c(1:loop)){\n",
    "   result = append(result,autocorrelation(1,bootstrap(n,D)))\n",
    "}\n",
    "\n",
    "print(\"p-value: \")\n",
    "2* min(length(result[result>c])/length(result),length(result[result<c])/length(result))\n"
   ]
  },
  {
   "cell_type": "markdown",
   "metadata": {},
   "source": [
    "After simulating the above code several times, I got constantly p-value between 0.24 - 0.27. So the conclusion is we can not reject the null hypothesis that the values of D are drawn independently. "
   ]
  }
 ],
 "metadata": {
  "anaconda-cloud": {},
  "kernelspec": {
   "display_name": "R",
   "language": "R",
   "name": "ir"
  },
  "language_info": {
   "codemirror_mode": "r",
   "file_extension": ".r",
   "mimetype": "text/x-r-source",
   "name": "R",
   "pygments_lexer": "r",
   "version": "3.3.2"
  }
 },
 "nbformat": 4,
 "nbformat_minor": 1
}
