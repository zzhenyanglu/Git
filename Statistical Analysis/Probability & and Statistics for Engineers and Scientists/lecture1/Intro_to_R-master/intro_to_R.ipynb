{
 "cells": [
  {
   "cell_type": "markdown",
   "metadata": {},
   "source": [
    "# Basic calculation and operations"
   ]
  },
  {
   "cell_type": "code",
   "execution_count": 1,
   "metadata": {
    "collapsed": false
   },
   "outputs": [
    {
     "data": {
      "text/html": [
       "7"
      ],
      "text/latex": [
       "7"
      ],
      "text/markdown": [
       "7"
      ],
      "text/plain": [
       "[1] 7"
      ]
     },
     "metadata": {},
     "output_type": "display_data"
    }
   ],
   "source": [
    "3+4"
   ]
  },
  {
   "cell_type": "code",
   "execution_count": 2,
   "metadata": {
    "collapsed": false
   },
   "outputs": [
    {
     "data": {
      "text/html": [
       "-1"
      ],
      "text/latex": [
       "-1"
      ],
      "text/markdown": [
       "-1"
      ],
      "text/plain": [
       "[1] -1"
      ]
     },
     "metadata": {},
     "output_type": "display_data"
    }
   ],
   "source": [
    "3-4"
   ]
  },
  {
   "cell_type": "code",
   "execution_count": 3,
   "metadata": {
    "collapsed": false
   },
   "outputs": [
    {
     "data": {
      "text/html": [
       "12"
      ],
      "text/latex": [
       "12"
      ],
      "text/markdown": [
       "12"
      ],
      "text/plain": [
       "[1] 12"
      ]
     },
     "metadata": {},
     "output_type": "display_data"
    }
   ],
   "source": [
    "3*4"
   ]
  },
  {
   "cell_type": "code",
   "execution_count": 4,
   "metadata": {
    "collapsed": false
   },
   "outputs": [
    {
     "data": {
      "text/html": [
       "0.75"
      ],
      "text/latex": [
       "0.75"
      ],
      "text/markdown": [
       "0.75"
      ],
      "text/plain": [
       "[1] 0.75"
      ]
     },
     "metadata": {},
     "output_type": "display_data"
    }
   ],
   "source": [
    "3/4"
   ]
  },
  {
   "cell_type": "code",
   "execution_count": 5,
   "metadata": {
    "collapsed": false
   },
   "outputs": [
    {
     "data": {
      "text/html": [
       "81"
      ],
      "text/latex": [
       "81"
      ],
      "text/markdown": [
       "81"
      ],
      "text/plain": [
       "[1] 81"
      ]
     },
     "metadata": {},
     "output_type": "display_data"
    }
   ],
   "source": [
    "3^4 # Exponentiation"
   ]
  },
  {
   "cell_type": "code",
   "execution_count": 6,
   "metadata": {
    "collapsed": false
   },
   "outputs": [
    {
     "data": {
      "text/html": [
       "81"
      ],
      "text/latex": [
       "81"
      ],
      "text/markdown": [
       "81"
      ],
      "text/plain": [
       "[1] 81"
      ]
     },
     "metadata": {},
     "output_type": "display_data"
    }
   ],
   "source": [
    "3**4 # Exponentiation"
   ]
  },
  {
   "cell_type": "markdown",
   "metadata": {},
   "source": [
    "# Variables"
   ]
  },
  {
   "cell_type": "code",
   "execution_count": 7,
   "metadata": {
    "collapsed": false
   },
   "outputs": [
    {
     "data": {
      "text/html": [
       "3"
      ],
      "text/latex": [
       "3"
      ],
      "text/markdown": [
       "3"
      ],
      "text/plain": [
       "[1] 3"
      ]
     },
     "metadata": {},
     "output_type": "display_data"
    }
   ],
   "source": [
    "num <- 3\n",
    "num"
   ]
  },
  {
   "cell_type": "code",
   "execution_count": 8,
   "metadata": {
    "collapsed": false
   },
   "outputs": [
    {
     "data": {
      "text/html": [
       "3"
      ],
      "text/latex": [
       "3"
      ],
      "text/markdown": [
       "3"
      ],
      "text/plain": [
       "[1] 3"
      ]
     },
     "metadata": {},
     "output_type": "display_data"
    }
   ],
   "source": [
    "num = 3 # Can also assign variables like in C, Java, Python, etc.\n",
    "num"
   ]
  },
  {
   "cell_type": "code",
   "execution_count": 9,
   "metadata": {
    "collapsed": false
   },
   "outputs": [
    {
     "data": {
      "text/html": [
       "'Hello world'"
      ],
      "text/latex": [
       "'Hello world'"
      ],
      "text/markdown": [
       "'Hello world'"
      ],
      "text/plain": [
       "[1] \"Hello world\""
      ]
     },
     "metadata": {},
     "output_type": "display_data"
    }
   ],
   "source": [
    "char <- \"Hello world\"\n",
    "char"
   ]
  },
  {
   "cell_type": "code",
   "execution_count": 10,
   "metadata": {
    "collapsed": false
   },
   "outputs": [
    {
     "data": {
      "text/html": [
       "TRUE"
      ],
      "text/latex": [
       "TRUE"
      ],
      "text/markdown": [
       "TRUE"
      ],
      "text/plain": [
       "[1] TRUE"
      ]
     },
     "metadata": {},
     "output_type": "display_data"
    }
   ],
   "source": [
    "tru <- TRUE\n",
    "tru"
   ]
  },
  {
   "cell_type": "code",
   "execution_count": 11,
   "metadata": {
    "collapsed": false
   },
   "outputs": [
    {
     "data": {
      "text/html": [
       "TRUE"
      ],
      "text/latex": [
       "TRUE"
      ],
      "text/markdown": [
       "TRUE"
      ],
      "text/plain": [
       "[1] TRUE"
      ]
     },
     "metadata": {},
     "output_type": "display_data"
    }
   ],
   "source": [
    "tru <- T\n",
    "tru"
   ]
  },
  {
   "cell_type": "code",
   "execution_count": 12,
   "metadata": {
    "collapsed": false
   },
   "outputs": [
    {
     "data": {
      "text/html": [
       "FALSE"
      ],
      "text/latex": [
       "FALSE"
      ],
      "text/markdown": [
       "FALSE"
      ],
      "text/plain": [
       "[1] FALSE"
      ]
     },
     "metadata": {},
     "output_type": "display_data"
    }
   ],
   "source": [
    "fal <- FALSE\n",
    "fal"
   ]
  },
  {
   "cell_type": "markdown",
   "metadata": {},
   "source": [
    "The class() function tells you the type of a variable."
   ]
  },
  {
   "cell_type": "code",
   "execution_count": 13,
   "metadata": {
    "collapsed": false
   },
   "outputs": [
    {
     "data": {
      "text/html": [
       "'numeric'"
      ],
      "text/latex": [
       "'numeric'"
      ],
      "text/markdown": [
       "'numeric'"
      ],
      "text/plain": [
       "[1] \"numeric\""
      ]
     },
     "metadata": {},
     "output_type": "display_data"
    }
   ],
   "source": [
    "class(num)"
   ]
  },
  {
   "cell_type": "code",
   "execution_count": 14,
   "metadata": {
    "collapsed": false
   },
   "outputs": [
    {
     "data": {
      "text/html": [
       "'character'"
      ],
      "text/latex": [
       "'character'"
      ],
      "text/markdown": [
       "'character'"
      ],
      "text/plain": [
       "[1] \"character\""
      ]
     },
     "metadata": {},
     "output_type": "display_data"
    }
   ],
   "source": [
    "class(char)"
   ]
  },
  {
   "cell_type": "code",
   "execution_count": 15,
   "metadata": {
    "collapsed": false
   },
   "outputs": [
    {
     "data": {
      "text/html": [
       "'logical'"
      ],
      "text/latex": [
       "'logical'"
      ],
      "text/markdown": [
       "'logical'"
      ],
      "text/plain": [
       "[1] \"logical\""
      ]
     },
     "metadata": {},
     "output_type": "display_data"
    }
   ],
   "source": [
    "class(tru)"
   ]
  },
  {
   "cell_type": "markdown",
   "metadata": {},
   "source": [
    "The \"as\" family of functions \"coerces\" variables to other types, but it doesn't always work."
   ]
  },
  {
   "cell_type": "code",
   "execution_count": 16,
   "metadata": {
    "collapsed": false
   },
   "outputs": [
    {
     "data": {
      "text/html": [
       "1"
      ],
      "text/latex": [
       "1"
      ],
      "text/markdown": [
       "1"
      ],
      "text/plain": [
       "[1] 1"
      ]
     },
     "metadata": {},
     "output_type": "display_data"
    }
   ],
   "source": [
    "as.numeric(T)"
   ]
  },
  {
   "cell_type": "code",
   "execution_count": 17,
   "metadata": {
    "collapsed": false
   },
   "outputs": [
    {
     "data": {
      "text/html": [
       "0"
      ],
      "text/latex": [
       "0"
      ],
      "text/markdown": [
       "0"
      ],
      "text/plain": [
       "[1] 0"
      ]
     },
     "metadata": {},
     "output_type": "display_data"
    }
   ],
   "source": [
    "as.numeric(F)"
   ]
  },
  {
   "cell_type": "code",
   "execution_count": 18,
   "metadata": {
    "collapsed": false
   },
   "outputs": [
    {
     "name": "stderr",
     "output_type": "stream",
     "text": [
      "Warning message in eval(expr, envir, enclos):\n",
      "“NAs introduced by coercion”"
     ]
    },
    {
     "data": {
      "text/plain": [
       "[1] NA"
      ]
     },
     "metadata": {},
     "output_type": "display_data"
    }
   ],
   "source": [
    "as.numeric(char)"
   ]
  },
  {
   "cell_type": "code",
   "execution_count": 19,
   "metadata": {
    "collapsed": false
   },
   "outputs": [
    {
     "data": {
      "text/html": [
       "TRUE"
      ],
      "text/latex": [
       "TRUE"
      ],
      "text/markdown": [
       "TRUE"
      ],
      "text/plain": [
       "[1] TRUE"
      ]
     },
     "metadata": {},
     "output_type": "display_data"
    }
   ],
   "source": [
    "as.logical(num)"
   ]
  },
  {
   "cell_type": "code",
   "execution_count": 20,
   "metadata": {
    "collapsed": false
   },
   "outputs": [
    {
     "data": {
      "text/html": [
       "FALSE"
      ],
      "text/latex": [
       "FALSE"
      ],
      "text/markdown": [
       "FALSE"
      ],
      "text/plain": [
       "[1] FALSE"
      ]
     },
     "metadata": {},
     "output_type": "display_data"
    }
   ],
   "source": [
    "as.logical(0)"
   ]
  },
  {
   "cell_type": "code",
   "execution_count": 21,
   "metadata": {
    "collapsed": false
   },
   "outputs": [
    {
     "data": {
      "text/plain": [
       "[1] NA"
      ]
     },
     "metadata": {},
     "output_type": "display_data"
    }
   ],
   "source": [
    "as.logical(char)"
   ]
  },
  {
   "cell_type": "code",
   "execution_count": 22,
   "metadata": {
    "collapsed": false
   },
   "outputs": [
    {
     "data": {
      "text/html": [
       "'0.75'"
      ],
      "text/latex": [
       "'0.75'"
      ],
      "text/markdown": [
       "'0.75'"
      ],
      "text/plain": [
       "[1] \"0.75\""
      ]
     },
     "metadata": {},
     "output_type": "display_data"
    }
   ],
   "source": [
    "as.character(0.75)"
   ]
  },
  {
   "cell_type": "code",
   "execution_count": 23,
   "metadata": {
    "collapsed": false
   },
   "outputs": [
    {
     "data": {
      "text/html": [
       "'TRUE'"
      ],
      "text/latex": [
       "'TRUE'"
      ],
      "text/markdown": [
       "'TRUE'"
      ],
      "text/plain": [
       "[1] \"TRUE\""
      ]
     },
     "metadata": {},
     "output_type": "display_data"
    }
   ],
   "source": [
    "as.character(T)"
   ]
  },
  {
   "cell_type": "markdown",
   "metadata": {},
   "source": [
    "# Using functions"
   ]
  },
  {
   "cell_type": "markdown",
   "metadata": {},
   "source": [
    "R has a lot of built-in functions."
   ]
  },
  {
   "cell_type": "code",
   "execution_count": 24,
   "metadata": {
    "collapsed": false
   },
   "outputs": [
    {
     "data": {
      "text/html": [
       "2"
      ],
      "text/latex": [
       "2"
      ],
      "text/markdown": [
       "2"
      ],
      "text/plain": [
       "[1] 2"
      ]
     },
     "metadata": {},
     "output_type": "display_data"
    }
   ],
   "source": [
    "sqrt(4)"
   ]
  },
  {
   "cell_type": "code",
   "execution_count": 25,
   "metadata": {
    "collapsed": false
   },
   "outputs": [
    {
     "data": {
      "text/html": [
       "2"
      ],
      "text/latex": [
       "2"
      ],
      "text/markdown": [
       "2"
      ],
      "text/plain": [
       "[1] 2"
      ]
     },
     "metadata": {},
     "output_type": "display_data"
    }
   ],
   "source": [
    "abs(-2)"
   ]
  },
  {
   "cell_type": "markdown",
   "metadata": {},
   "source": [
    "If you want to know the details of a function, use ?."
   ]
  },
  {
   "cell_type": "code",
   "execution_count": 26,
   "metadata": {
    "collapsed": true
   },
   "outputs": [],
   "source": [
    "?sqrt # Run this cell to bring up the manual page."
   ]
  },
  {
   "cell_type": "markdown",
   "metadata": {},
   "source": [
    "If you don't remember a function's name, you can search the R documentation with ??."
   ]
  },
  {
   "cell_type": "code",
   "execution_count": 27,
   "metadata": {
    "collapsed": false
   },
   "outputs": [
    {
     "data": {},
     "metadata": {},
     "output_type": "display_data"
    }
   ],
   "source": [
    "??sqrt # Run this cell to bring up the search results."
   ]
  },
  {
   "cell_type": "markdown",
   "metadata": {},
   "source": [
    "You can even read the source code of a function by typing in its name. After you have read this notebook, you should be able to understand how this function works, and after learning about covariance matrices and correlation coefficients, you'll know why it works."
   ]
  },
  {
   "cell_type": "code",
   "execution_count": 28,
   "metadata": {
    "collapsed": false
   },
   "outputs": [
    {
     "data": {
      "text/html": [
       "<pre class=language-r><code>function (V) \n",
       "{\n",
       "<span style=white-space:pre-wrap>    p &lt;- (d &lt;- dim(V))[1L]</span>\n",
       "<span style=white-space:pre-wrap>    if (!is.numeric(V) || length(d) != 2L || p != d[2L]) </span>\n",
       "<span style=white-space:pre-wrap>        stop(\"'V' is not a square numeric matrix\")</span>\n",
       "<span style=white-space:pre-wrap>    Is &lt;- sqrt(1/diag(V))</span>\n",
       "<span style=white-space:pre-wrap>    if (any(!is.finite(Is))) </span>\n",
       "<span style=white-space:pre-wrap>        warning(\"diag(.) had 0 or NA entries; non-finite result is doubtful\")</span>\n",
       "<span style=white-space:pre-wrap>    r &lt;- V</span>\n",
       "<span style=white-space:pre-wrap>    r[] &lt;- Is * V * rep(Is, each = p)</span>\n",
       "<span style=white-space:pre-wrap>    r[cbind(1L:p, 1L:p)] &lt;- 1</span>\n",
       "<span style=white-space:pre-wrap>    r</span>\n",
       "}</code></pre>"
      ],
      "text/latex": [
       "\\begin{minted}{r}\n",
       "function (V) \n",
       "\\{\n",
       "    p <- (d <- dim(V)){[}1L{]}\n",
       "    if (!is.numeric(V) \\textbar{}\\textbar{} length(d) != 2L \\textbar{}\\textbar{} p != d{[}2L{]}) \n",
       "        stop(\"'V' is not a square numeric matrix\")\n",
       "    Is <- sqrt(1/diag(V))\n",
       "    if (any(!is.finite(Is))) \n",
       "        warning(\"diag(.) had 0 or NA entries; non-finite result is doubtful\")\n",
       "    r <- V\n",
       "    r{[}{]} <- Is * V * rep(Is, each = p)\n",
       "    r{[}cbind(1L:p, 1L:p){]} <- 1\n",
       "    r\n",
       "\\}\n",
       "\\end{minted}"
      ],
      "text/markdown": [
       "```r\n",
       "function (V) \n",
       "{\n",
       "    p <- (d <- dim(V))[1L]\n",
       "    if (!is.numeric(V) || length(d) != 2L || p != d[2L]) \n",
       "        stop(\"'V' is not a square numeric matrix\")\n",
       "    Is <- sqrt(1/diag(V))\n",
       "    if (any(!is.finite(Is))) \n",
       "        warning(\"diag(.) had 0 or NA entries; non-finite result is doubtful\")\n",
       "    r <- V\n",
       "    r[] <- Is * V * rep(Is, each = p)\n",
       "    r[cbind(1L:p, 1L:p)] <- 1\n",
       "    r\n",
       "}\n",
       "```"
      ],
      "text/plain": [
       "function (V) \n",
       "{\n",
       "    p <- (d <- dim(V))[1L]\n",
       "    if (!is.numeric(V) || length(d) != 2L || p != d[2L]) \n",
       "        stop(\"'V' is not a square numeric matrix\")\n",
       "    Is <- sqrt(1/diag(V))\n",
       "    if (any(!is.finite(Is))) \n",
       "        warning(\"diag(.) had 0 or NA entries; non-finite result is doubtful\")\n",
       "    r <- V\n",
       "    r[] <- Is * V * rep(Is, each = p)\n",
       "    r[cbind(1L:p, 1L:p)] <- 1\n",
       "    r\n",
       "}\n",
       "<bytecode: 0x26959e8>\n",
       "<environment: namespace:stats>"
      ]
     },
     "metadata": {},
     "output_type": "display_data"
    }
   ],
   "source": [
    "cov2cor"
   ]
  },
  {
   "cell_type": "markdown",
   "metadata": {},
   "source": [
    "It won't help you very much if the function calls a function written in C, though. You can look up the source of such functions on the Github project page, if you're curious."
   ]
  },
  {
   "cell_type": "code",
   "execution_count": 29,
   "metadata": {
    "collapsed": false
   },
   "outputs": [
    {
     "data": {
      "text/html": [
       "<pre class=language-r><code>function (n, size, prob) \n",
       ".Call(C_rbinom, n, size, prob)</code></pre>"
      ],
      "text/latex": [
       "\\begin{minted}{r}\n",
       "function (n, size, prob) \n",
       ".Call(C\\_rbinom, n, size, prob)\n",
       "\\end{minted}"
      ],
      "text/markdown": [
       "```r\n",
       "function (n, size, prob) \n",
       ".Call(C_rbinom, n, size, prob)\n",
       "```"
      ],
      "text/plain": [
       "function (n, size, prob) \n",
       ".Call(C_rbinom, n, size, prob)\n",
       "<bytecode: 0x222b508>\n",
       "<environment: namespace:stats>"
      ]
     },
     "metadata": {},
     "output_type": "display_data"
    }
   ],
   "source": [
    "rbinom # Find random number from a binomial distribution. Source at https://github.com/wch/r-source/blob/trunk/src/nmath/rbinom.c"
   ]
  },
  {
   "cell_type": "markdown",
   "metadata": {},
   "source": [
    "# Vectors"
   ]
  },
  {
   "cell_type": "markdown",
   "metadata": {},
   "source": [
    "Vectors are your standard arrays in R. The easiest way to build vectors is with the c() (concatenation) function."
   ]
  },
  {
   "cell_type": "code",
   "execution_count": 30,
   "metadata": {
    "collapsed": false
   },
   "outputs": [
    {
     "data": {
      "text/html": [
       "<ol class=list-inline>\n",
       "\t<li>2</li>\n",
       "\t<li>3</li>\n",
       "\t<li>5</li>\n",
       "\t<li>7</li>\n",
       "\t<li>11</li>\n",
       "\t<li>13</li>\n",
       "</ol>\n"
      ],
      "text/latex": [
       "\\begin{enumerate*}\n",
       "\\item 2\n",
       "\\item 3\n",
       "\\item 5\n",
       "\\item 7\n",
       "\\item 11\n",
       "\\item 13\n",
       "\\end{enumerate*}\n"
      ],
      "text/markdown": [
       "1. 2\n",
       "2. 3\n",
       "3. 5\n",
       "4. 7\n",
       "5. 11\n",
       "6. 13\n",
       "\n",
       "\n"
      ],
      "text/plain": [
       "[1]  2  3  5  7 11 13"
      ]
     },
     "metadata": {},
     "output_type": "display_data"
    }
   ],
   "source": [
    "primevec <- c(2,3,5,7,11,13)\n",
    "primevec"
   ]
  },
  {
   "cell_type": "code",
   "execution_count": 31,
   "metadata": {
    "collapsed": false
   },
   "outputs": [
    {
     "data": {
      "text/html": [
       "6"
      ],
      "text/latex": [
       "6"
      ],
      "text/markdown": [
       "6"
      ],
      "text/plain": [
       "[1] 6"
      ]
     },
     "metadata": {},
     "output_type": "display_data"
    }
   ],
   "source": [
    "length(primevec)"
   ]
  },
  {
   "cell_type": "markdown",
   "metadata": {},
   "source": [
    "You can also pass vectors along with atomic elements into c() to build up a bigger vector. (Since so-called \"atomic\" elements are just vectors of length 1, this is nothing special.)"
   ]
  },
  {
   "cell_type": "code",
   "execution_count": 32,
   "metadata": {
    "collapsed": false
   },
   "outputs": [
    {
     "data": {
      "text/html": [
       "<ol class=list-inline>\n",
       "\t<li>2</li>\n",
       "\t<li>3</li>\n",
       "\t<li>5</li>\n",
       "\t<li>7</li>\n",
       "\t<li>11</li>\n",
       "\t<li>13</li>\n",
       "\t<li>17</li>\n",
       "\t<li>19</li>\n",
       "\t<li>23</li>\n",
       "\t<li>29</li>\n",
       "\t<li>31</li>\n",
       "\t<li>37</li>\n",
       "\t<li>41</li>\n",
       "\t<li>43</li>\n",
       "</ol>\n"
      ],
      "text/latex": [
       "\\begin{enumerate*}\n",
       "\\item 2\n",
       "\\item 3\n",
       "\\item 5\n",
       "\\item 7\n",
       "\\item 11\n",
       "\\item 13\n",
       "\\item 17\n",
       "\\item 19\n",
       "\\item 23\n",
       "\\item 29\n",
       "\\item 31\n",
       "\\item 37\n",
       "\\item 41\n",
       "\\item 43\n",
       "\\end{enumerate*}\n"
      ],
      "text/markdown": [
       "1. 2\n",
       "2. 3\n",
       "3. 5\n",
       "4. 7\n",
       "5. 11\n",
       "6. 13\n",
       "7. 17\n",
       "8. 19\n",
       "9. 23\n",
       "10. 29\n",
       "11. 31\n",
       "12. 37\n",
       "13. 41\n",
       "14. 43\n",
       "\n",
       "\n"
      ],
      "text/plain": [
       " [1]  2  3  5  7 11 13 17 19 23 29 31 37 41 43"
      ]
     },
     "metadata": {},
     "output_type": "display_data"
    }
   ],
   "source": [
    "bigprimes <- c(31,37,41,43)\n",
    "longprimevec <- c(primevec, 17, 19, 23, 29, bigprimes)\n",
    "longprimevec"
   ]
  },
  {
   "cell_type": "markdown",
   "metadata": {},
   "source": [
    "Access entries of a vector with the usual array notation (starting with index 1)."
   ]
  },
  {
   "cell_type": "code",
   "execution_count": 33,
   "metadata": {
    "collapsed": false
   },
   "outputs": [
    {
     "data": {
      "text/html": [
       "2"
      ],
      "text/latex": [
       "2"
      ],
      "text/markdown": [
       "2"
      ],
      "text/plain": [
       "[1] 2"
      ]
     },
     "metadata": {},
     "output_type": "display_data"
    }
   ],
   "source": [
    "primevec[1]"
   ]
  },
  {
   "cell_type": "code",
   "execution_count": 34,
   "metadata": {
    "collapsed": false
   },
   "outputs": [
    {
     "data": {
      "text/html": [
       "13"
      ],
      "text/latex": [
       "13"
      ],
      "text/markdown": [
       "13"
      ],
      "text/plain": [
       "[1] 13"
      ]
     },
     "metadata": {},
     "output_type": "display_data"
    }
   ],
   "source": [
    "primevec[6]"
   ]
  },
  {
   "cell_type": "markdown",
   "metadata": {},
   "source": [
    "You can also pass a vector into the brackets to get the elements at those indices (subsetting)."
   ]
  },
  {
   "cell_type": "code",
   "execution_count": 35,
   "metadata": {
    "collapsed": false
   },
   "outputs": [
    {
     "data": {
      "text/html": [
       "<ol class=list-inline>\n",
       "\t<li>2</li>\n",
       "\t<li>7</li>\n",
       "\t<li>11</li>\n",
       "</ol>\n"
      ],
      "text/latex": [
       "\\begin{enumerate*}\n",
       "\\item 2\n",
       "\\item 7\n",
       "\\item 11\n",
       "\\end{enumerate*}\n"
      ],
      "text/markdown": [
       "1. 2\n",
       "2. 7\n",
       "3. 11\n",
       "\n",
       "\n"
      ],
      "text/plain": [
       "[1]  2  7 11"
      ]
     },
     "metadata": {},
     "output_type": "display_data"
    }
   ],
   "source": [
    "primevec[c(1,4,5)]"
   ]
  },
  {
   "cell_type": "markdown",
   "metadata": {},
   "source": [
    "Use negative indices to get everything NOT at those indices."
   ]
  },
  {
   "cell_type": "code",
   "execution_count": 36,
   "metadata": {
    "collapsed": false
   },
   "outputs": [
    {
     "data": {
      "text/html": [
       "<ol class=list-inline>\n",
       "\t<li>3</li>\n",
       "\t<li>5</li>\n",
       "\t<li>7</li>\n",
       "\t<li>11</li>\n",
       "\t<li>13</li>\n",
       "</ol>\n"
      ],
      "text/latex": [
       "\\begin{enumerate*}\n",
       "\\item 3\n",
       "\\item 5\n",
       "\\item 7\n",
       "\\item 11\n",
       "\\item 13\n",
       "\\end{enumerate*}\n"
      ],
      "text/markdown": [
       "1. 3\n",
       "2. 5\n",
       "3. 7\n",
       "4. 11\n",
       "5. 13\n",
       "\n",
       "\n"
      ],
      "text/plain": [
       "[1]  3  5  7 11 13"
      ]
     },
     "metadata": {},
     "output_type": "display_data"
    }
   ],
   "source": [
    "primevec[-1]"
   ]
  },
  {
   "cell_type": "code",
   "execution_count": 37,
   "metadata": {
    "collapsed": false
   },
   "outputs": [
    {
     "data": {
      "text/html": [
       "<ol class=list-inline>\n",
       "\t<li>3</li>\n",
       "\t<li>5</li>\n",
       "\t<li>13</li>\n",
       "</ol>\n"
      ],
      "text/latex": [
       "\\begin{enumerate*}\n",
       "\\item 3\n",
       "\\item 5\n",
       "\\item 13\n",
       "\\end{enumerate*}\n"
      ],
      "text/markdown": [
       "1. 3\n",
       "2. 5\n",
       "3. 13\n",
       "\n",
       "\n"
      ],
      "text/plain": [
       "[1]  3  5 13"
      ]
     },
     "metadata": {},
     "output_type": "display_data"
    }
   ],
   "source": [
    "primevec[-c(1,4,5)]"
   ]
  },
  {
   "cell_type": "markdown",
   "metadata": {},
   "source": [
    "If you want a bunch of integers in a row, a shortcut is to use the : operator."
   ]
  },
  {
   "cell_type": "code",
   "execution_count": 38,
   "metadata": {
    "collapsed": false
   },
   "outputs": [
    {
     "data": {
      "text/html": [
       "<ol class=list-inline>\n",
       "\t<li>1</li>\n",
       "\t<li>2</li>\n",
       "\t<li>3</li>\n",
       "\t<li>4</li>\n",
       "\t<li>5</li>\n",
       "\t<li>6</li>\n",
       "\t<li>7</li>\n",
       "\t<li>8</li>\n",
       "\t<li>9</li>\n",
       "\t<li>10</li>\n",
       "</ol>\n"
      ],
      "text/latex": [
       "\\begin{enumerate*}\n",
       "\\item 1\n",
       "\\item 2\n",
       "\\item 3\n",
       "\\item 4\n",
       "\\item 5\n",
       "\\item 6\n",
       "\\item 7\n",
       "\\item 8\n",
       "\\item 9\n",
       "\\item 10\n",
       "\\end{enumerate*}\n"
      ],
      "text/markdown": [
       "1. 1\n",
       "2. 2\n",
       "3. 3\n",
       "4. 4\n",
       "5. 5\n",
       "6. 6\n",
       "7. 7\n",
       "8. 8\n",
       "9. 9\n",
       "10. 10\n",
       "\n",
       "\n"
      ],
      "text/plain": [
       " [1]  1  2  3  4  5  6  7  8  9 10"
      ]
     },
     "metadata": {},
     "output_type": "display_data"
    }
   ],
   "source": [
    "1:10"
   ]
  },
  {
   "cell_type": "code",
   "execution_count": 39,
   "metadata": {
    "collapsed": false
   },
   "outputs": [
    {
     "data": {
      "text/html": [
       "<ol class=list-inline>\n",
       "\t<li>10</li>\n",
       "\t<li>9</li>\n",
       "\t<li>8</li>\n",
       "\t<li>7</li>\n",
       "\t<li>6</li>\n",
       "\t<li>5</li>\n",
       "\t<li>4</li>\n",
       "\t<li>3</li>\n",
       "\t<li>2</li>\n",
       "\t<li>1</li>\n",
       "</ol>\n"
      ],
      "text/latex": [
       "\\begin{enumerate*}\n",
       "\\item 10\n",
       "\\item 9\n",
       "\\item 8\n",
       "\\item 7\n",
       "\\item 6\n",
       "\\item 5\n",
       "\\item 4\n",
       "\\item 3\n",
       "\\item 2\n",
       "\\item 1\n",
       "\\end{enumerate*}\n"
      ],
      "text/markdown": [
       "1. 10\n",
       "2. 9\n",
       "3. 8\n",
       "4. 7\n",
       "5. 6\n",
       "6. 5\n",
       "7. 4\n",
       "8. 3\n",
       "9. 2\n",
       "10. 1\n",
       "\n",
       "\n"
      ],
      "text/plain": [
       " [1] 10  9  8  7  6  5  4  3  2  1"
      ]
     },
     "metadata": {},
     "output_type": "display_data"
    }
   ],
   "source": [
    "10:1"
   ]
  },
  {
   "cell_type": "code",
   "execution_count": 40,
   "metadata": {
    "collapsed": false
   },
   "outputs": [
    {
     "data": {
      "text/html": [
       "<ol class=list-inline>\n",
       "\t<li>-1</li>\n",
       "\t<li>-2</li>\n",
       "\t<li>-3</li>\n",
       "</ol>\n"
      ],
      "text/latex": [
       "\\begin{enumerate*}\n",
       "\\item -1\n",
       "\\item -2\n",
       "\\item -3\n",
       "\\end{enumerate*}\n"
      ],
      "text/markdown": [
       "1. -1\n",
       "2. -2\n",
       "3. -3\n",
       "\n",
       "\n"
      ],
      "text/plain": [
       "[1] -1 -2 -3"
      ]
     },
     "metadata": {},
     "output_type": "display_data"
    }
   ],
   "source": [
    "-1:-3"
   ]
  },
  {
   "cell_type": "code",
   "execution_count": 41,
   "metadata": {
    "collapsed": false
   },
   "outputs": [
    {
     "data": {
      "text/html": [
       "<ol class=list-inline>\n",
       "\t<li>-3</li>\n",
       "\t<li>-2</li>\n",
       "\t<li>-1</li>\n",
       "</ol>\n"
      ],
      "text/latex": [
       "\\begin{enumerate*}\n",
       "\\item -3\n",
       "\\item -2\n",
       "\\item -1\n",
       "\\end{enumerate*}\n"
      ],
      "text/markdown": [
       "1. -3\n",
       "2. -2\n",
       "3. -1\n",
       "\n",
       "\n"
      ],
      "text/plain": [
       "[1] -3 -2 -1"
      ]
     },
     "metadata": {},
     "output_type": "display_data"
    }
   ],
   "source": [
    "-3:-1"
   ]
  },
  {
   "cell_type": "code",
   "execution_count": 42,
   "metadata": {
    "collapsed": false
   },
   "outputs": [
    {
     "data": {
      "text/html": [
       "<ol class=list-inline>\n",
       "\t<li>-5</li>\n",
       "\t<li>-4</li>\n",
       "\t<li>-3</li>\n",
       "\t<li>-2</li>\n",
       "\t<li>-1</li>\n",
       "\t<li>0</li>\n",
       "\t<li>1</li>\n",
       "\t<li>2</li>\n",
       "\t<li>3</li>\n",
       "\t<li>4</li>\n",
       "\t<li>5</li>\n",
       "</ol>\n"
      ],
      "text/latex": [
       "\\begin{enumerate*}\n",
       "\\item -5\n",
       "\\item -4\n",
       "\\item -3\n",
       "\\item -2\n",
       "\\item -1\n",
       "\\item 0\n",
       "\\item 1\n",
       "\\item 2\n",
       "\\item 3\n",
       "\\item 4\n",
       "\\item 5\n",
       "\\end{enumerate*}\n"
      ],
      "text/markdown": [
       "1. -5\n",
       "2. -4\n",
       "3. -3\n",
       "4. -2\n",
       "5. -1\n",
       "6. 0\n",
       "7. 1\n",
       "8. 2\n",
       "9. 3\n",
       "10. 4\n",
       "11. 5\n",
       "\n",
       "\n"
      ],
      "text/plain": [
       " [1] -5 -4 -3 -2 -1  0  1  2  3  4  5"
      ]
     },
     "metadata": {},
     "output_type": "display_data"
    }
   ],
   "source": [
    "-5:5"
   ]
  },
  {
   "cell_type": "code",
   "execution_count": 43,
   "metadata": {
    "collapsed": false
   },
   "outputs": [
    {
     "data": {
      "text/html": [
       "<ol class=list-inline>\n",
       "\t<li>3</li>\n",
       "\t<li>5</li>\n",
       "\t<li>7</li>\n",
       "</ol>\n"
      ],
      "text/latex": [
       "\\begin{enumerate*}\n",
       "\\item 3\n",
       "\\item 5\n",
       "\\item 7\n",
       "\\end{enumerate*}\n"
      ],
      "text/markdown": [
       "1. 3\n",
       "2. 5\n",
       "3. 7\n",
       "\n",
       "\n"
      ],
      "text/plain": [
       "[1] 3 5 7"
      ]
     },
     "metadata": {},
     "output_type": "display_data"
    }
   ],
   "source": [
    "primevec[2:4]"
   ]
  },
  {
   "cell_type": "markdown",
   "metadata": {},
   "source": [
    "You may have noticed that we indexed an array with -c(1,4,5) above, and got the result we would have expected had we indexed with c(-1,-4,-5). The reason this worked was because operations on vectors are generally \"broadcast\" over all components."
   ]
  },
  {
   "cell_type": "code",
   "execution_count": 44,
   "metadata": {
    "collapsed": false
   },
   "outputs": [
    {
     "data": {
      "text/html": [
       "<ol class=list-inline>\n",
       "\t<li>4</li>\n",
       "\t<li>5</li>\n",
       "\t<li>6</li>\n",
       "\t<li>7</li>\n",
       "\t<li>8</li>\n",
       "\t<li>9</li>\n",
       "</ol>\n"
      ],
      "text/latex": [
       "\\begin{enumerate*}\n",
       "\\item 4\n",
       "\\item 5\n",
       "\\item 6\n",
       "\\item 7\n",
       "\\item 8\n",
       "\\item 9\n",
       "\\end{enumerate*}\n"
      ],
      "text/markdown": [
       "1. 4\n",
       "2. 5\n",
       "3. 6\n",
       "4. 7\n",
       "5. 8\n",
       "6. 9\n",
       "\n",
       "\n"
      ],
      "text/plain": [
       "[1] 4 5 6 7 8 9"
      ]
     },
     "metadata": {},
     "output_type": "display_data"
    }
   ],
   "source": [
    "A <- 1:6\n",
    "A+3"
   ]
  },
  {
   "cell_type": "code",
   "execution_count": 45,
   "metadata": {
    "collapsed": false
   },
   "outputs": [
    {
     "data": {
      "text/html": [
       "<ol class=list-inline>\n",
       "\t<li>3</li>\n",
       "\t<li>6</li>\n",
       "\t<li>9</li>\n",
       "\t<li>12</li>\n",
       "\t<li>15</li>\n",
       "\t<li>18</li>\n",
       "</ol>\n"
      ],
      "text/latex": [
       "\\begin{enumerate*}\n",
       "\\item 3\n",
       "\\item 6\n",
       "\\item 9\n",
       "\\item 12\n",
       "\\item 15\n",
       "\\item 18\n",
       "\\end{enumerate*}\n"
      ],
      "text/markdown": [
       "1. 3\n",
       "2. 6\n",
       "3. 9\n",
       "4. 12\n",
       "5. 15\n",
       "6. 18\n",
       "\n",
       "\n"
      ],
      "text/plain": [
       "[1]  3  6  9 12 15 18"
      ]
     },
     "metadata": {},
     "output_type": "display_data"
    }
   ],
   "source": [
    "A*3"
   ]
  },
  {
   "cell_type": "markdown",
   "metadata": {},
   "source": [
    "On the other hand, arithmetic with vectors of the same size is done componentwise."
   ]
  },
  {
   "cell_type": "code",
   "execution_count": 46,
   "metadata": {
    "collapsed": false
   },
   "outputs": [
    {
     "data": {
      "text/html": [
       "<ol class=list-inline>\n",
       "\t<li>8</li>\n",
       "\t<li>10</li>\n",
       "\t<li>12</li>\n",
       "\t<li>14</li>\n",
       "\t<li>16</li>\n",
       "\t<li>18</li>\n",
       "</ol>\n"
      ],
      "text/latex": [
       "\\begin{enumerate*}\n",
       "\\item 8\n",
       "\\item 10\n",
       "\\item 12\n",
       "\\item 14\n",
       "\\item 16\n",
       "\\item 18\n",
       "\\end{enumerate*}\n"
      ],
      "text/markdown": [
       "1. 8\n",
       "2. 10\n",
       "3. 12\n",
       "4. 14\n",
       "5. 16\n",
       "6. 18\n",
       "\n",
       "\n"
      ],
      "text/plain": [
       "[1]  8 10 12 14 16 18"
      ]
     },
     "metadata": {},
     "output_type": "display_data"
    }
   ],
   "source": [
    "B <- 7:12\n",
    "A+B"
   ]
  },
  {
   "cell_type": "code",
   "execution_count": 47,
   "metadata": {
    "collapsed": false
   },
   "outputs": [
    {
     "data": {
      "text/html": [
       "<ol class=list-inline>\n",
       "\t<li>7</li>\n",
       "\t<li>16</li>\n",
       "\t<li>27</li>\n",
       "\t<li>40</li>\n",
       "\t<li>55</li>\n",
       "\t<li>72</li>\n",
       "</ol>\n"
      ],
      "text/latex": [
       "\\begin{enumerate*}\n",
       "\\item 7\n",
       "\\item 16\n",
       "\\item 27\n",
       "\\item 40\n",
       "\\item 55\n",
       "\\item 72\n",
       "\\end{enumerate*}\n"
      ],
      "text/markdown": [
       "1. 7\n",
       "2. 16\n",
       "3. 27\n",
       "4. 40\n",
       "5. 55\n",
       "6. 72\n",
       "\n",
       "\n"
      ],
      "text/plain": [
       "[1]  7 16 27 40 55 72"
      ]
     },
     "metadata": {},
     "output_type": "display_data"
    }
   ],
   "source": [
    "A*B"
   ]
  },
  {
   "cell_type": "markdown",
   "metadata": {},
   "source": [
    "The trick is that the smaller vector is \"copied\" as many times as necessary in order to match up with the length of the larger vector. (Make sure you're aware of this behavior, as it can be confusing.)"
   ]
  },
  {
   "cell_type": "code",
   "execution_count": 48,
   "metadata": {
    "collapsed": false
   },
   "outputs": [
    {
     "data": {
      "text/html": [
       "<ol class=list-inline>\n",
       "\t<li>6</li>\n",
       "\t<li>12</li>\n",
       "\t<li>8</li>\n",
       "\t<li>14</li>\n",
       "\t<li>10</li>\n",
       "\t<li>16</li>\n",
       "</ol>\n"
      ],
      "text/latex": [
       "\\begin{enumerate*}\n",
       "\\item 6\n",
       "\\item 12\n",
       "\\item 8\n",
       "\\item 14\n",
       "\\item 10\n",
       "\\item 16\n",
       "\\end{enumerate*}\n"
      ],
      "text/markdown": [
       "1. 6\n",
       "2. 12\n",
       "3. 8\n",
       "4. 14\n",
       "5. 10\n",
       "6. 16\n",
       "\n",
       "\n"
      ],
      "text/plain": [
       "[1]  6 12  8 14 10 16"
      ]
     },
     "metadata": {},
     "output_type": "display_data"
    }
   ],
   "source": [
    "C <- c(5,10)\n",
    "A+C"
   ]
  },
  {
   "cell_type": "markdown",
   "metadata": {},
   "source": [
    "Note what happens when the smaller vector doesn't evenly fit into the larger one."
   ]
  },
  {
   "cell_type": "code",
   "execution_count": 49,
   "metadata": {
    "collapsed": false
   },
   "outputs": [
    {
     "name": "stderr",
     "output_type": "stream",
     "text": [
      "Warning message in D + B:\n",
      "“longer object length is not a multiple of shorter object length”"
     ]
    },
    {
     "data": {
      "text/html": [
       "<ol class=list-inline>\n",
       "\t<li>8</li>\n",
       "\t<li>10</li>\n",
       "\t<li>12</li>\n",
       "\t<li>14</li>\n",
       "\t<li>16</li>\n",
       "\t<li>13</li>\n",
       "</ol>\n"
      ],
      "text/latex": [
       "\\begin{enumerate*}\n",
       "\\item 8\n",
       "\\item 10\n",
       "\\item 12\n",
       "\\item 14\n",
       "\\item 16\n",
       "\\item 13\n",
       "\\end{enumerate*}\n"
      ],
      "text/markdown": [
       "1. 8\n",
       "2. 10\n",
       "3. 12\n",
       "4. 14\n",
       "5. 16\n",
       "6. 13\n",
       "\n",
       "\n"
      ],
      "text/plain": [
       "[1]  8 10 12 14 16 13"
      ]
     },
     "metadata": {},
     "output_type": "display_data"
    }
   ],
   "source": [
    "D <- 1:5\n",
    "D+B"
   ]
  },
  {
   "cell_type": "markdown",
   "metadata": {},
   "source": [
    "The rep() function is useful for building vectors that repeat values or other vectors."
   ]
  },
  {
   "cell_type": "code",
   "execution_count": 50,
   "metadata": {
    "collapsed": false
   },
   "outputs": [
    {
     "data": {
      "text/html": [
       "<ol class=list-inline>\n",
       "\t<li>1</li>\n",
       "\t<li>1</li>\n",
       "\t<li>1</li>\n",
       "\t<li>1</li>\n",
       "\t<li>1</li>\n",
       "\t<li>1</li>\n",
       "\t<li>1</li>\n",
       "\t<li>1</li>\n",
       "\t<li>1</li>\n",
       "\t<li>1</li>\n",
       "</ol>\n"
      ],
      "text/latex": [
       "\\begin{enumerate*}\n",
       "\\item 1\n",
       "\\item 1\n",
       "\\item 1\n",
       "\\item 1\n",
       "\\item 1\n",
       "\\item 1\n",
       "\\item 1\n",
       "\\item 1\n",
       "\\item 1\n",
       "\\item 1\n",
       "\\end{enumerate*}\n"
      ],
      "text/markdown": [
       "1. 1\n",
       "2. 1\n",
       "3. 1\n",
       "4. 1\n",
       "5. 1\n",
       "6. 1\n",
       "7. 1\n",
       "8. 1\n",
       "9. 1\n",
       "10. 1\n",
       "\n",
       "\n"
      ],
      "text/plain": [
       " [1] 1 1 1 1 1 1 1 1 1 1"
      ]
     },
     "metadata": {},
     "output_type": "display_data"
    }
   ],
   "source": [
    "rep(1, 10)"
   ]
  },
  {
   "cell_type": "code",
   "execution_count": 51,
   "metadata": {
    "collapsed": false
   },
   "outputs": [
    {
     "data": {
      "text/html": [
       "<ol class=list-inline>\n",
       "\t<li>1</li>\n",
       "\t<li>2</li>\n",
       "\t<li>3</li>\n",
       "\t<li>1</li>\n",
       "\t<li>2</li>\n",
       "\t<li>3</li>\n",
       "\t<li>1</li>\n",
       "\t<li>2</li>\n",
       "\t<li>3</li>\n",
       "\t<li>1</li>\n",
       "\t<li>2</li>\n",
       "\t<li>3</li>\n",
       "\t<li>1</li>\n",
       "\t<li>2</li>\n",
       "\t<li>3</li>\n",
       "</ol>\n"
      ],
      "text/latex": [
       "\\begin{enumerate*}\n",
       "\\item 1\n",
       "\\item 2\n",
       "\\item 3\n",
       "\\item 1\n",
       "\\item 2\n",
       "\\item 3\n",
       "\\item 1\n",
       "\\item 2\n",
       "\\item 3\n",
       "\\item 1\n",
       "\\item 2\n",
       "\\item 3\n",
       "\\item 1\n",
       "\\item 2\n",
       "\\item 3\n",
       "\\end{enumerate*}\n"
      ],
      "text/markdown": [
       "1. 1\n",
       "2. 2\n",
       "3. 3\n",
       "4. 1\n",
       "5. 2\n",
       "6. 3\n",
       "7. 1\n",
       "8. 2\n",
       "9. 3\n",
       "10. 1\n",
       "11. 2\n",
       "12. 3\n",
       "13. 1\n",
       "14. 2\n",
       "15. 3\n",
       "\n",
       "\n"
      ],
      "text/plain": [
       " [1] 1 2 3 1 2 3 1 2 3 1 2 3 1 2 3"
      ]
     },
     "metadata": {},
     "output_type": "display_data"
    }
   ],
   "source": [
    "rep(1:3, 5)"
   ]
  },
  {
   "cell_type": "markdown",
   "metadata": {},
   "source": [
    "The seq() function can generate more sophisticated sequences. It comes in handy when you want an evenly spaced sequence of x-values for plotting."
   ]
  },
  {
   "cell_type": "code",
   "execution_count": 52,
   "metadata": {
    "collapsed": false
   },
   "outputs": [
    {
     "data": {
      "text/html": [
       "<ol class=list-inline>\n",
       "\t<li>0</li>\n",
       "\t<li>0.1</li>\n",
       "\t<li>0.2</li>\n",
       "\t<li>0.3</li>\n",
       "\t<li>0.4</li>\n",
       "\t<li>0.5</li>\n",
       "\t<li>0.6</li>\n",
       "\t<li>0.7</li>\n",
       "\t<li>0.8</li>\n",
       "\t<li>0.9</li>\n",
       "\t<li>1</li>\n",
       "</ol>\n"
      ],
      "text/latex": [
       "\\begin{enumerate*}\n",
       "\\item 0\n",
       "\\item 0.1\n",
       "\\item 0.2\n",
       "\\item 0.3\n",
       "\\item 0.4\n",
       "\\item 0.5\n",
       "\\item 0.6\n",
       "\\item 0.7\n",
       "\\item 0.8\n",
       "\\item 0.9\n",
       "\\item 1\n",
       "\\end{enumerate*}\n"
      ],
      "text/markdown": [
       "1. 0\n",
       "2. 0.1\n",
       "3. 0.2\n",
       "4. 0.3\n",
       "5. 0.4\n",
       "6. 0.5\n",
       "7. 0.6\n",
       "8. 0.7\n",
       "9. 0.8\n",
       "10. 0.9\n",
       "11. 1\n",
       "\n",
       "\n"
      ],
      "text/plain": [
       " [1] 0.0 0.1 0.2 0.3 0.4 0.5 0.6 0.7 0.8 0.9 1.0"
      ]
     },
     "metadata": {},
     "output_type": "display_data"
    }
   ],
   "source": [
    "seq(0,1, by = 0.1)"
   ]
  },
  {
   "cell_type": "code",
   "execution_count": 53,
   "metadata": {
    "collapsed": false
   },
   "outputs": [
    {
     "data": {
      "text/html": [
       "<ol class=list-inline>\n",
       "\t<li>0</li>\n",
       "\t<li>0.0714285714285714</li>\n",
       "\t<li>0.142857142857143</li>\n",
       "\t<li>0.214285714285714</li>\n",
       "\t<li>0.285714285714286</li>\n",
       "\t<li>0.357142857142857</li>\n",
       "\t<li>0.428571428571429</li>\n",
       "\t<li>0.5</li>\n",
       "\t<li>0.571428571428571</li>\n",
       "\t<li>0.642857142857143</li>\n",
       "\t<li>0.714285714285714</li>\n",
       "\t<li>0.785714285714286</li>\n",
       "\t<li>0.857142857142857</li>\n",
       "\t<li>0.928571428571428</li>\n",
       "\t<li>1</li>\n",
       "</ol>\n"
      ],
      "text/latex": [
       "\\begin{enumerate*}\n",
       "\\item 0\n",
       "\\item 0.0714285714285714\n",
       "\\item 0.142857142857143\n",
       "\\item 0.214285714285714\n",
       "\\item 0.285714285714286\n",
       "\\item 0.357142857142857\n",
       "\\item 0.428571428571429\n",
       "\\item 0.5\n",
       "\\item 0.571428571428571\n",
       "\\item 0.642857142857143\n",
       "\\item 0.714285714285714\n",
       "\\item 0.785714285714286\n",
       "\\item 0.857142857142857\n",
       "\\item 0.928571428571428\n",
       "\\item 1\n",
       "\\end{enumerate*}\n"
      ],
      "text/markdown": [
       "1. 0\n",
       "2. 0.0714285714285714\n",
       "3. 0.142857142857143\n",
       "4. 0.214285714285714\n",
       "5. 0.285714285714286\n",
       "6. 0.357142857142857\n",
       "7. 0.428571428571429\n",
       "8. 0.5\n",
       "9. 0.571428571428571\n",
       "10. 0.642857142857143\n",
       "11. 0.714285714285714\n",
       "12. 0.785714285714286\n",
       "13. 0.857142857142857\n",
       "14. 0.928571428571428\n",
       "15. 1\n",
       "\n",
       "\n"
      ],
      "text/plain": [
       " [1] 0.00000000 0.07142857 0.14285714 0.21428571 0.28571429 0.35714286\n",
       " [7] 0.42857143 0.50000000 0.57142857 0.64285714 0.71428571 0.78571429\n",
       "[13] 0.85714286 0.92857143 1.00000000"
      ]
     },
     "metadata": {},
     "output_type": "display_data"
    }
   ],
   "source": [
    "seq(0, 1, length.out = 15)"
   ]
  },
  {
   "cell_type": "markdown",
   "metadata": {},
   "source": [
    "We've been working with numeric vectors so far, but you can have vectors of any type."
   ]
  },
  {
   "cell_type": "code",
   "execution_count": 54,
   "metadata": {
    "collapsed": false
   },
   "outputs": [
    {
     "data": {
      "text/html": [
       "<ol class=list-inline>\n",
       "\t<li>'The'</li>\n",
       "\t<li>'quick'</li>\n",
       "\t<li>'brown'</li>\n",
       "\t<li>'fox'</li>\n",
       "</ol>\n"
      ],
      "text/latex": [
       "\\begin{enumerate*}\n",
       "\\item 'The'\n",
       "\\item 'quick'\n",
       "\\item 'brown'\n",
       "\\item 'fox'\n",
       "\\end{enumerate*}\n"
      ],
      "text/markdown": [
       "1. 'The'\n",
       "2. 'quick'\n",
       "3. 'brown'\n",
       "4. 'fox'\n",
       "\n",
       "\n"
      ],
      "text/plain": [
       "[1] \"The\"   \"quick\" \"brown\" \"fox\"  "
      ]
     },
     "metadata": {},
     "output_type": "display_data"
    }
   ],
   "source": [
    "charvec <- c(\"The\", \"quick\", \"brown\", \"fox\")\n",
    "charvec"
   ]
  },
  {
   "cell_type": "code",
   "execution_count": 55,
   "metadata": {
    "collapsed": false
   },
   "outputs": [
    {
     "data": {
      "text/html": [
       "<ol class=list-inline>\n",
       "\t<li>TRUE</li>\n",
       "\t<li>FALSE</li>\n",
       "\t<li>TRUE</li>\n",
       "\t<li>TRUE</li>\n",
       "</ol>\n"
      ],
      "text/latex": [
       "\\begin{enumerate*}\n",
       "\\item TRUE\n",
       "\\item FALSE\n",
       "\\item TRUE\n",
       "\\item TRUE\n",
       "\\end{enumerate*}\n"
      ],
      "text/markdown": [
       "1. TRUE\n",
       "2. FALSE\n",
       "3. TRUE\n",
       "4. TRUE\n",
       "\n",
       "\n"
      ],
      "text/plain": [
       "[1]  TRUE FALSE  TRUE  TRUE"
      ]
     },
     "metadata": {},
     "output_type": "display_data"
    }
   ],
   "source": [
    "boolvec <- c(T, F, T, T)\n",
    "boolvec"
   ]
  },
  {
   "cell_type": "markdown",
   "metadata": {},
   "source": [
    "All elements of a vector are coerced to have the same type, so don't try to mix types together unless you know what you're doing."
   ]
  },
  {
   "cell_type": "code",
   "execution_count": 56,
   "metadata": {
    "collapsed": false
   },
   "outputs": [
    {
     "data": {
      "text/html": [
       "<ol class=list-inline>\n",
       "\t<li>'2'</li>\n",
       "\t<li>'3'</li>\n",
       "\t<li>'5'</li>\n",
       "\t<li>'7'</li>\n",
       "\t<li>'11'</li>\n",
       "\t<li>'13'</li>\n",
       "\t<li>'The'</li>\n",
       "\t<li>'quick'</li>\n",
       "\t<li>'brown'</li>\n",
       "\t<li>'fox'</li>\n",
       "</ol>\n"
      ],
      "text/latex": [
       "\\begin{enumerate*}\n",
       "\\item '2'\n",
       "\\item '3'\n",
       "\\item '5'\n",
       "\\item '7'\n",
       "\\item '11'\n",
       "\\item '13'\n",
       "\\item 'The'\n",
       "\\item 'quick'\n",
       "\\item 'brown'\n",
       "\\item 'fox'\n",
       "\\end{enumerate*}\n"
      ],
      "text/markdown": [
       "1. '2'\n",
       "2. '3'\n",
       "3. '5'\n",
       "4. '7'\n",
       "5. '11'\n",
       "6. '13'\n",
       "7. 'The'\n",
       "8. 'quick'\n",
       "9. 'brown'\n",
       "10. 'fox'\n",
       "\n",
       "\n"
      ],
      "text/plain": [
       " [1] \"2\"     \"3\"     \"5\"     \"7\"     \"11\"    \"13\"    \"The\"   \"quick\" \"brown\"\n",
       "[10] \"fox\"  "
      ]
     },
     "metadata": {},
     "output_type": "display_data"
    }
   ],
   "source": [
    "c(primevec, charvec)"
   ]
  },
  {
   "cell_type": "markdown",
   "metadata": {},
   "source": [
    "# Matrices"
   ]
  },
  {
   "cell_type": "markdown",
   "metadata": {},
   "source": [
    "R has special functionality for matrices, making them more than just glorified 2-D arrays."
   ]
  },
  {
   "cell_type": "code",
   "execution_count": 57,
   "metadata": {
    "collapsed": false
   },
   "outputs": [
    {
     "data": {
      "text/html": [
       "<table>\n",
       "<tbody>\n",
       "\t<tr><td>1 </td><td>4 </td><td>7 </td><td>10</td><td>13</td></tr>\n",
       "\t<tr><td>2 </td><td>5 </td><td>8 </td><td>11</td><td>14</td></tr>\n",
       "\t<tr><td>3 </td><td>6 </td><td>9 </td><td>12</td><td>15</td></tr>\n",
       "</tbody>\n",
       "</table>\n"
      ],
      "text/latex": [
       "\\begin{tabular}{lllll}\n",
       "\t 1  & 4  & 7  & 10 & 13\\\\\n",
       "\t 2  & 5  & 8  & 11 & 14\\\\\n",
       "\t 3  & 6  & 9  & 12 & 15\\\\\n",
       "\\end{tabular}\n"
      ],
      "text/markdown": [
       "\n",
       "| 1  | 4  | 7  | 10 | 13 | \n",
       "| 2  | 5  | 8  | 11 | 14 | \n",
       "| 3  | 6  | 9  | 12 | 15 | \n",
       "\n",
       "\n"
      ],
      "text/plain": [
       "     [,1] [,2] [,3] [,4] [,5]\n",
       "[1,] 1    4    7    10   13  \n",
       "[2,] 2    5    8    11   14  \n",
       "[3,] 3    6    9    12   15  "
      ]
     },
     "metadata": {},
     "output_type": "display_data"
    }
   ],
   "source": [
    "num15 <- 1:15\n",
    "matrix(num15, nrow = 3) # We can specify just the number of rows..."
   ]
  },
  {
   "cell_type": "code",
   "execution_count": 58,
   "metadata": {
    "collapsed": false
   },
   "outputs": [
    {
     "data": {
      "text/html": [
       "<table>\n",
       "<tbody>\n",
       "\t<tr><td>1 </td><td>4 </td><td>7 </td><td>10</td><td>13</td></tr>\n",
       "\t<tr><td>2 </td><td>5 </td><td>8 </td><td>11</td><td>14</td></tr>\n",
       "\t<tr><td>3 </td><td>6 </td><td>9 </td><td>12</td><td>15</td></tr>\n",
       "</tbody>\n",
       "</table>\n"
      ],
      "text/latex": [
       "\\begin{tabular}{lllll}\n",
       "\t 1  & 4  & 7  & 10 & 13\\\\\n",
       "\t 2  & 5  & 8  & 11 & 14\\\\\n",
       "\t 3  & 6  & 9  & 12 & 15\\\\\n",
       "\\end{tabular}\n"
      ],
      "text/markdown": [
       "\n",
       "| 1  | 4  | 7  | 10 | 13 | \n",
       "| 2  | 5  | 8  | 11 | 14 | \n",
       "| 3  | 6  | 9  | 12 | 15 | \n",
       "\n",
       "\n"
      ],
      "text/plain": [
       "     [,1] [,2] [,3] [,4] [,5]\n",
       "[1,] 1    4    7    10   13  \n",
       "[2,] 2    5    8    11   14  \n",
       "[3,] 3    6    9    12   15  "
      ]
     },
     "metadata": {},
     "output_type": "display_data"
    }
   ],
   "source": [
    "matrix(num15, ncol = 5) # ... or the number of columns."
   ]
  },
  {
   "cell_type": "markdown",
   "metadata": {},
   "source": [
    "By default, R will build a matrix going down the columns. Use the \"byrow\" input to go by rows."
   ]
  },
  {
   "cell_type": "code",
   "execution_count": 59,
   "metadata": {
    "collapsed": false
   },
   "outputs": [
    {
     "data": {
      "text/html": [
       "<table>\n",
       "<tbody>\n",
       "\t<tr><td> 1</td><td> 2</td><td> 3</td><td> 4</td><td> 5</td></tr>\n",
       "\t<tr><td> 6</td><td> 7</td><td> 8</td><td> 9</td><td>10</td></tr>\n",
       "\t<tr><td>11</td><td>12</td><td>13</td><td>14</td><td>15</td></tr>\n",
       "</tbody>\n",
       "</table>\n"
      ],
      "text/latex": [
       "\\begin{tabular}{lllll}\n",
       "\t  1 &  2 &  3 &  4 &  5\\\\\n",
       "\t  6 &  7 &  8 &  9 & 10\\\\\n",
       "\t 11 & 12 & 13 & 14 & 15\\\\\n",
       "\\end{tabular}\n"
      ],
      "text/markdown": [
       "\n",
       "|  1 |  2 |  3 |  4 |  5 | \n",
       "|  6 |  7 |  8 |  9 | 10 | \n",
       "| 11 | 12 | 13 | 14 | 15 | \n",
       "\n",
       "\n"
      ],
      "text/plain": [
       "     [,1] [,2] [,3] [,4] [,5]\n",
       "[1,]  1    2    3    4    5  \n",
       "[2,]  6    7    8    9   10  \n",
       "[3,] 11   12   13   14   15  "
      ]
     },
     "metadata": {},
     "output_type": "display_data"
    }
   ],
   "source": [
    "M <- matrix(num15, nrow = 3, byrow = T)\n",
    "M"
   ]
  },
  {
   "cell_type": "markdown",
   "metadata": {},
   "source": [
    "Indexing is straightforward. You can also subset, just as with vectors."
   ]
  },
  {
   "cell_type": "code",
   "execution_count": 60,
   "metadata": {
    "collapsed": false
   },
   "outputs": [
    {
     "data": {
      "text/html": [
       "9"
      ],
      "text/latex": [
       "9"
      ],
      "text/markdown": [
       "9"
      ],
      "text/plain": [
       "[1] 9"
      ]
     },
     "metadata": {},
     "output_type": "display_data"
    }
   ],
   "source": [
    "M[2,4]"
   ]
  },
  {
   "cell_type": "code",
   "execution_count": 61,
   "metadata": {
    "collapsed": false
   },
   "outputs": [
    {
     "data": {
      "text/html": [
       "<table>\n",
       "<tbody>\n",
       "\t<tr><td> 2</td><td> 3</td><td> 4</td></tr>\n",
       "\t<tr><td>12</td><td>13</td><td>14</td></tr>\n",
       "</tbody>\n",
       "</table>\n"
      ],
      "text/latex": [
       "\\begin{tabular}{lll}\n",
       "\t  2 &  3 &  4\\\\\n",
       "\t 12 & 13 & 14\\\\\n",
       "\\end{tabular}\n"
      ],
      "text/markdown": [
       "\n",
       "|  2 |  3 |  4 | \n",
       "| 12 | 13 | 14 | \n",
       "\n",
       "\n"
      ],
      "text/plain": [
       "     [,1] [,2] [,3]\n",
       "[1,]  2    3    4  \n",
       "[2,] 12   13   14  "
      ]
     },
     "metadata": {},
     "output_type": "display_data"
    }
   ],
   "source": [
    "M[c(1,3), 2:4]"
   ]
  },
  {
   "cell_type": "markdown",
   "metadata": {},
   "source": [
    "You can build matrices from smaller matrices using cbind() and rbind()."
   ]
  },
  {
   "cell_type": "code",
   "execution_count": 62,
   "metadata": {
    "collapsed": false
   },
   "outputs": [
    {
     "data": {
      "text/html": [
       "<table>\n",
       "<tbody>\n",
       "\t<tr><td>1</td><td>3</td><td>5</td><td>7</td></tr>\n",
       "\t<tr><td>2</td><td>4</td><td>6</td><td>8</td></tr>\n",
       "</tbody>\n",
       "</table>\n"
      ],
      "text/latex": [
       "\\begin{tabular}{llll}\n",
       "\t 1 & 3 & 5 & 7\\\\\n",
       "\t 2 & 4 & 6 & 8\\\\\n",
       "\\end{tabular}\n"
      ],
      "text/markdown": [
       "\n",
       "| 1 | 3 | 5 | 7 | \n",
       "| 2 | 4 | 6 | 8 | \n",
       "\n",
       "\n"
      ],
      "text/plain": [
       "     [,1] [,2] [,3] [,4]\n",
       "[1,] 1    3    5    7   \n",
       "[2,] 2    4    6    8   "
      ]
     },
     "metadata": {},
     "output_type": "display_data"
    }
   ],
   "source": [
    "square1 <- matrix(1:4, nrow = 2)\n",
    "square2 <- matrix(5:8, nrow = 2)\n",
    "cbind(square1, square2) # cbind() joins matrices by columns..."
   ]
  },
  {
   "cell_type": "code",
   "execution_count": 63,
   "metadata": {
    "collapsed": false
   },
   "outputs": [
    {
     "data": {
      "text/html": [
       "<table>\n",
       "<tbody>\n",
       "\t<tr><td>1</td><td>3</td></tr>\n",
       "\t<tr><td>2</td><td>4</td></tr>\n",
       "\t<tr><td>5</td><td>7</td></tr>\n",
       "\t<tr><td>6</td><td>8</td></tr>\n",
       "</tbody>\n",
       "</table>\n"
      ],
      "text/latex": [
       "\\begin{tabular}{ll}\n",
       "\t 1 & 3\\\\\n",
       "\t 2 & 4\\\\\n",
       "\t 5 & 7\\\\\n",
       "\t 6 & 8\\\\\n",
       "\\end{tabular}\n"
      ],
      "text/markdown": [
       "\n",
       "| 1 | 3 | \n",
       "| 2 | 4 | \n",
       "| 5 | 7 | \n",
       "| 6 | 8 | \n",
       "\n",
       "\n"
      ],
      "text/plain": [
       "     [,1] [,2]\n",
       "[1,] 1    3   \n",
       "[2,] 2    4   \n",
       "[3,] 5    7   \n",
       "[4,] 6    8   "
      ]
     },
     "metadata": {},
     "output_type": "display_data"
    }
   ],
   "source": [
    "rbind(square1, square2) # ... and rbind() joins them by rows."
   ]
  },
  {
   "cell_type": "markdown",
   "metadata": {},
   "source": [
    "You can even assign names to rows and columns of matrices, and index by those names. Note the unusual syntax of assigning to the function output of rownames() and colnames(). It's best to think of these functions as giving us attributes of the matrix."
   ]
  },
  {
   "cell_type": "code",
   "execution_count": 64,
   "metadata": {
    "collapsed": false
   },
   "outputs": [
    {
     "data": {
      "text/html": [
       "<table>\n",
       "<thead><tr><th></th><th scope=col>Earth</th><th scope=col>Fire</th><th scope=col>Wind</th><th scope=col>Water</th><th scope=col>Heart</th></tr></thead>\n",
       "<tbody>\n",
       "\t<tr><th scope=row>Power</th><td> 1</td><td> 2</td><td> 3</td><td> 4</td><td> 5</td></tr>\n",
       "\t<tr><th scope=row>Wisdom</th><td> 6</td><td> 7</td><td> 8</td><td> 9</td><td>10</td></tr>\n",
       "\t<tr><th scope=row>Courage</th><td>11</td><td>12</td><td>13</td><td>14</td><td>15</td></tr>\n",
       "</tbody>\n",
       "</table>\n"
      ],
      "text/latex": [
       "\\begin{tabular}{r|lllll}\n",
       "  & Earth & Fire & Wind & Water & Heart\\\\\n",
       "\\hline\n",
       "\tPower &  1 &  2 &  3 &  4 &  5\\\\\n",
       "\tWisdom &  6 &  7 &  8 &  9 & 10\\\\\n",
       "\tCourage & 11 & 12 & 13 & 14 & 15\\\\\n",
       "\\end{tabular}\n"
      ],
      "text/markdown": [
       "\n",
       "| <!--/--> | Earth | Fire | Wind | Water | Heart | \n",
       "|---|---|---|\n",
       "| Power |  1 |  2 |  3 |  4 |  5 | \n",
       "| Wisdom |  6 |  7 |  8 |  9 | 10 | \n",
       "| Courage | 11 | 12 | 13 | 14 | 15 | \n",
       "\n",
       "\n"
      ],
      "text/plain": [
       "        Earth Fire Wind Water Heart\n",
       "Power    1     2    3    4     5   \n",
       "Wisdom   6     7    8    9    10   \n",
       "Courage 11    12   13   14    15   "
      ]
     },
     "metadata": {},
     "output_type": "display_data"
    }
   ],
   "source": [
    "rownames(M) <- c(\"Power\", \"Wisdom\", \"Courage\")\n",
    "colnames(M) <- c(\"Earth\", \"Fire\", \"Wind\", \"Water\", \"Heart\")\n",
    "M"
   ]
  },
  {
   "cell_type": "code",
   "execution_count": 65,
   "metadata": {
    "collapsed": false
   },
   "outputs": [
    {
     "data": {
      "text/html": [
       "3"
      ],
      "text/latex": [
       "3"
      ],
      "text/markdown": [
       "3"
      ],
      "text/plain": [
       "[1] 3"
      ]
     },
     "metadata": {},
     "output_type": "display_data"
    }
   ],
   "source": [
    "M[\"Power\", \"Wind\"]"
   ]
  },
  {
   "cell_type": "markdown",
   "metadata": {},
   "source": [
    "Just like with vectors, matrix operations are componentwise. This means that the \\* operator does not give us matrix multiplication. For that, use %*%."
   ]
  },
  {
   "cell_type": "code",
   "execution_count": 66,
   "metadata": {
    "collapsed": false
   },
   "outputs": [
    {
     "data": {
      "text/html": [
       "<table>\n",
       "<tbody>\n",
       "\t<tr><td>6 </td><td>10</td></tr>\n",
       "\t<tr><td>8 </td><td>12</td></tr>\n",
       "</tbody>\n",
       "</table>\n"
      ],
      "text/latex": [
       "\\begin{tabular}{ll}\n",
       "\t 6  & 10\\\\\n",
       "\t 8  & 12\\\\\n",
       "\\end{tabular}\n"
      ],
      "text/markdown": [
       "\n",
       "| 6  | 10 | \n",
       "| 8  | 12 | \n",
       "\n",
       "\n"
      ],
      "text/plain": [
       "     [,1] [,2]\n",
       "[1,] 6    10  \n",
       "[2,] 8    12  "
      ]
     },
     "metadata": {},
     "output_type": "display_data"
    }
   ],
   "source": [
    "square1 + square2"
   ]
  },
  {
   "cell_type": "code",
   "execution_count": 67,
   "metadata": {
    "collapsed": false
   },
   "outputs": [
    {
     "data": {
      "text/html": [
       "<table>\n",
       "<tbody>\n",
       "\t<tr><td> 5</td><td>21</td></tr>\n",
       "\t<tr><td>12</td><td>32</td></tr>\n",
       "</tbody>\n",
       "</table>\n"
      ],
      "text/latex": [
       "\\begin{tabular}{ll}\n",
       "\t  5 & 21\\\\\n",
       "\t 12 & 32\\\\\n",
       "\\end{tabular}\n"
      ],
      "text/markdown": [
       "\n",
       "|  5 | 21 | \n",
       "| 12 | 32 | \n",
       "\n",
       "\n"
      ],
      "text/plain": [
       "     [,1] [,2]\n",
       "[1,]  5   21  \n",
       "[2,] 12   32  "
      ]
     },
     "metadata": {},
     "output_type": "display_data"
    }
   ],
   "source": [
    "square1 * square2"
   ]
  },
  {
   "cell_type": "code",
   "execution_count": 68,
   "metadata": {
    "collapsed": false
   },
   "outputs": [
    {
     "data": {
      "text/html": [
       "<table>\n",
       "<tbody>\n",
       "\t<tr><td>23</td><td>31</td></tr>\n",
       "\t<tr><td>34</td><td>46</td></tr>\n",
       "</tbody>\n",
       "</table>\n"
      ],
      "text/latex": [
       "\\begin{tabular}{ll}\n",
       "\t 23 & 31\\\\\n",
       "\t 34 & 46\\\\\n",
       "\\end{tabular}\n"
      ],
      "text/markdown": [
       "\n",
       "| 23 | 31 | \n",
       "| 34 | 46 | \n",
       "\n",
       "\n"
      ],
      "text/plain": [
       "     [,1] [,2]\n",
       "[1,] 23   31  \n",
       "[2,] 34   46  "
      ]
     },
     "metadata": {},
     "output_type": "display_data"
    }
   ],
   "source": [
    "square1 %*% square2"
   ]
  },
  {
   "cell_type": "markdown",
   "metadata": {},
   "source": [
    "# Lists"
   ]
  },
  {
   "cell_type": "markdown",
   "metadata": {},
   "source": [
    "Lists are a sort of catch-all data structure which can include objects of any type. It's important to know that they exist, and how to work with them."
   ]
  },
  {
   "cell_type": "code",
   "execution_count": 69,
   "metadata": {
    "collapsed": false
   },
   "outputs": [
    {
     "data": {
      "text/html": [
       "<ol>\n",
       "\t<li><ol class=list-inline>\n",
       "\t<li>'omg'</li>\n",
       "\t<li>'lol'</li>\n",
       "\t<li>'wtf'</li>\n",
       "</ol>\n",
       "</li>\n",
       "\t<li>3</li>\n",
       "\t<li><ol class=list-inline>\n",
       "\t<li>1</li>\n",
       "\t<li>2</li>\n",
       "\t<li>3</li>\n",
       "\t<li>4</li>\n",
       "</ol>\n",
       "</li>\n",
       "\t<li>TRUE</li>\n",
       "</ol>\n"
      ],
      "text/latex": [
       "\\begin{enumerate}\n",
       "\\item \\begin{enumerate*}\n",
       "\\item 'omg'\n",
       "\\item 'lol'\n",
       "\\item 'wtf'\n",
       "\\end{enumerate*}\n",
       "\n",
       "\\item 3\n",
       "\\item \\begin{enumerate*}\n",
       "\\item 1\n",
       "\\item 2\n",
       "\\item 3\n",
       "\\item 4\n",
       "\\end{enumerate*}\n",
       "\n",
       "\\item TRUE\n",
       "\\end{enumerate}\n"
      ],
      "text/markdown": [
       "1. 1. 'omg'\n",
       "2. 'lol'\n",
       "3. 'wtf'\n",
       "\n",
       "\n",
       "\n",
       "2. 3\n",
       "3. 1. 1\n",
       "2. 2\n",
       "3. 3\n",
       "4. 4\n",
       "\n",
       "\n",
       "\n",
       "4. TRUE\n",
       "\n",
       "\n"
      ],
      "text/plain": [
       "[[1]]\n",
       "[1] \"omg\" \"lol\" \"wtf\"\n",
       "\n",
       "[[2]]\n",
       "[1] 3\n",
       "\n",
       "[[3]]\n",
       "[1] 1 2 3 4\n",
       "\n",
       "[[4]]\n",
       "[1] TRUE\n"
      ]
     },
     "metadata": {},
     "output_type": "display_data"
    }
   ],
   "source": [
    "mylist <- list(c(\"omg\", \"lol\", \"wtf\"), 3, 1:4, T)\n",
    "mylist"
   ]
  },
  {
   "cell_type": "code",
   "execution_count": 70,
   "metadata": {
    "collapsed": false
   },
   "outputs": [
    {
     "data": {
      "text/html": [
       "<ol class=list-inline>\n",
       "\t<li>'omg'</li>\n",
       "\t<li>'lol'</li>\n",
       "\t<li>'wtf'</li>\n",
       "</ol>\n"
      ],
      "text/latex": [
       "\\begin{enumerate*}\n",
       "\\item 'omg'\n",
       "\\item 'lol'\n",
       "\\item 'wtf'\n",
       "\\end{enumerate*}\n"
      ],
      "text/markdown": [
       "1. 'omg'\n",
       "2. 'lol'\n",
       "3. 'wtf'\n",
       "\n",
       "\n"
      ],
      "text/plain": [
       "[1] \"omg\" \"lol\" \"wtf\""
      ]
     },
     "metadata": {},
     "output_type": "display_data"
    }
   ],
   "source": [
    "mylist[[1]]"
   ]
  },
  {
   "cell_type": "code",
   "execution_count": 71,
   "metadata": {
    "collapsed": false
   },
   "outputs": [
    {
     "data": {
      "text/html": [
       "'lol'"
      ],
      "text/latex": [
       "'lol'"
      ],
      "text/markdown": [
       "'lol'"
      ],
      "text/plain": [
       "[1] \"lol\""
      ]
     },
     "metadata": {},
     "output_type": "display_data"
    }
   ],
   "source": [
    "mylist[[1]][2]"
   ]
  },
  {
   "cell_type": "markdown",
   "metadata": {},
   "source": [
    "# Processing data structures"
   ]
  },
  {
   "cell_type": "markdown",
   "metadata": {},
   "source": [
    "You can use for-loops to process everything in a vector or matrix."
   ]
  },
  {
   "cell_type": "code",
   "execution_count": 72,
   "metadata": {
    "collapsed": false
   },
   "outputs": [
    {
     "name": "stdout",
     "output_type": "stream",
     "text": [
      "[1] 1\n",
      "[1] 1 2\n",
      "[1] 1 2 3\n",
      "[1] 1 2 3 4\n",
      "[1] 1 2 3 4 5\n"
     ]
    }
   ],
   "source": [
    "for (i in 1:5) print(1:i)"
   ]
  },
  {
   "cell_type": "code",
   "execution_count": 73,
   "metadata": {
    "collapsed": false
   },
   "outputs": [
    {
     "data": {
      "text/html": [
       "10"
      ],
      "text/latex": [
       "10"
      ],
      "text/markdown": [
       "10"
      ],
      "text/plain": [
       "[1] 10"
      ]
     },
     "metadata": {},
     "output_type": "display_data"
    }
   ],
   "source": [
    "total <- 0\n",
    "for (i in square1) total <- total + i\n",
    "total"
   ]
  },
  {
   "cell_type": "markdown",
   "metadata": {},
   "source": [
    "There are some built-in functions for common operations."
   ]
  },
  {
   "cell_type": "code",
   "execution_count": 74,
   "metadata": {
    "collapsed": false
   },
   "outputs": [
    {
     "data": {
      "text/html": [
       "41"
      ],
      "text/latex": [
       "41"
      ],
      "text/markdown": [
       "41"
      ],
      "text/plain": [
       "[1] 41"
      ]
     },
     "metadata": {},
     "output_type": "display_data"
    }
   ],
   "source": [
    "sum(primevec)"
   ]
  },
  {
   "cell_type": "code",
   "execution_count": 75,
   "metadata": {
    "collapsed": false
   },
   "outputs": [
    {
     "data": {
      "text/html": [
       "6.83333333333333"
      ],
      "text/latex": [
       "6.83333333333333"
      ],
      "text/markdown": [
       "6.83333333333333"
      ],
      "text/plain": [
       "[1] 6.833333"
      ]
     },
     "metadata": {},
     "output_type": "display_data"
    }
   ],
   "source": [
    "mean(primevec)"
   ]
  },
  {
   "cell_type": "code",
   "execution_count": 76,
   "metadata": {
    "collapsed": false
   },
   "outputs": [
    {
     "data": {
      "text/html": [
       "4.4007575105505"
      ],
      "text/latex": [
       "4.4007575105505"
      ],
      "text/markdown": [
       "4.4007575105505"
      ],
      "text/plain": [
       "[1] 4.400758"
      ]
     },
     "metadata": {},
     "output_type": "display_data"
    }
   ],
   "source": [
    "sd(primevec)"
   ]
  },
  {
   "cell_type": "code",
   "execution_count": 77,
   "metadata": {
    "collapsed": false
   },
   "outputs": [
    {
     "data": {
      "text/html": [
       "<ol class=list-inline>\n",
       "\t<li>4</li>\n",
       "\t<li>6</li>\n",
       "</ol>\n"
      ],
      "text/latex": [
       "\\begin{enumerate*}\n",
       "\\item 4\n",
       "\\item 6\n",
       "\\end{enumerate*}\n"
      ],
      "text/markdown": [
       "1. 4\n",
       "2. 6\n",
       "\n",
       "\n"
      ],
      "text/plain": [
       "[1] 4 6"
      ]
     },
     "metadata": {},
     "output_type": "display_data"
    }
   ],
   "source": [
    "rowSums(square1) # Summing over rows..."
   ]
  },
  {
   "cell_type": "code",
   "execution_count": 78,
   "metadata": {
    "collapsed": false
   },
   "outputs": [
    {
     "data": {
      "text/html": [
       "<ol class=list-inline>\n",
       "\t<li>3</li>\n",
       "\t<li>7</li>\n",
       "</ol>\n"
      ],
      "text/latex": [
       "\\begin{enumerate*}\n",
       "\\item 3\n",
       "\\item 7\n",
       "\\end{enumerate*}\n"
      ],
      "text/markdown": [
       "1. 3\n",
       "2. 7\n",
       "\n",
       "\n"
      ],
      "text/plain": [
       "[1] 3 7"
      ]
     },
     "metadata": {},
     "output_type": "display_data"
    }
   ],
   "source": [
    "colSums(square1) # ... and over columns."
   ]
  },
  {
   "cell_type": "markdown",
   "metadata": {},
   "source": [
    "# Data frames"
   ]
  },
  {
   "cell_type": "markdown",
   "metadata": {},
   "source": [
    "Data frames are tables of statistical data, in which each row corresponds to an observation, and each column corresponds to a variable. Generally, variables are labeled."
   ]
  },
  {
   "cell_type": "markdown",
   "metadata": {},
   "source": [
    "There are a number of different functions and options for reading data in different formats into data frames. It's a good idea to check out the documentation for read.table to see what you can do."
   ]
  },
  {
   "cell_type": "code",
   "execution_count": 79,
   "metadata": {
    "collapsed": true
   },
   "outputs": [],
   "source": [
    "?read.table # Run this cell to see the documentation."
   ]
  },
  {
   "cell_type": "code",
   "execution_count": 80,
   "metadata": {
    "collapsed": false
   },
   "outputs": [],
   "source": [
    "celldata <- read.csv(\"celldata.csv\") # My file is a CSV, so I'll use read.csv."
   ]
  },
  {
   "cell_type": "markdown",
   "metadata": {},
   "source": [
    "You can get a quick overview of a data frame with str() and summary()."
   ]
  },
  {
   "cell_type": "code",
   "execution_count": 81,
   "metadata": {
    "collapsed": false
   },
   "outputs": [
    {
     "name": "stdout",
     "output_type": "stream",
     "text": [
      "'data.frame':\t24 obs. of  8 variables:\n",
      " $ Timestamp                                                      : Factor w/ 24 levels \"1/2/2016 16:31:51\",..: 2 3 4 5 6 7 8 9 10 11 ...\n",
      " $ What.is.your.student.ID.number.                                : int  395860 442920 455725 455688 452263 415615 455685 451191 455679 451715 ...\n",
      " $ What.is.your.phone.s.network.provider.                         : Factor w/ 4 levels \"AT&T\",\"Sprint\",..: 4 4 3 1 1 3 3 1 1 4 ...\n",
      " $ What.OS.does.your.phone.use.                                   : Factor w/ 4 levels \"Android\",\"iOS\",..: 2 2 2 2 2 1 4 2 2 2 ...\n",
      " $ How.many.apps.do.you.have.on.your.phone.                       : int  43 43 40 75 30 50 97 62 14 63 ...\n",
      " $ What.was.your.data.usage.for.December.2015..in.MB..            : int  1855 288 910 400 12000 1620 1308 4245 458 6000 ...\n",
      " $ What.was.your.total.call.time.for.December.2015..in.minutes..  : int  0 68 50 52 4000 122 20 180 111 120 ...\n",
      " $ How.long.ago.did.you.obtain.your.phone..in.months..rounded.up..: int  14 1 4 14 3 3 12 14 4 3 ...\n"
     ]
    }
   ],
   "source": [
    "str(celldata)"
   ]
  },
  {
   "cell_type": "code",
   "execution_count": 82,
   "metadata": {
    "collapsed": false
   },
   "outputs": [
    {
     "data": {
      "text/plain": [
       "               Timestamp  What.is.your.student.ID.number.\n",
       " 1/2/2016 16:31:51  : 1   Min.   : 317103                \n",
       " 12/29/2015 17:00:19: 1   1st Qu.: 450982                \n",
       " 12/29/2015 19:59:44: 1   Median : 455674                \n",
       " 12/29/2015 21:03:45: 1   Mean   : 601575                \n",
       " 12/29/2015 21:10:20: 1   3rd Qu.: 456542                \n",
       " 12/29/2015 21:36:06: 1   Max.   :3610569                \n",
       " (Other)            :18                                  \n",
       " What.is.your.phone.s.network.provider.\n",
       " AT&T    :12                           \n",
       " Sprint  : 1                           \n",
       " T-Mobile: 6                           \n",
       " Verizon : 5                           \n",
       "                                       \n",
       "                                       \n",
       "                                       \n",
       "               What.OS.does.your.phone.use.\n",
       " Android                     : 4           \n",
       " iOS                         :18           \n",
       " My phone is not a smartphone: 1           \n",
       " Windows                     : 1           \n",
       "                                           \n",
       "                                           \n",
       "                                           \n",
       " How.many.apps.do.you.have.on.your.phone.\n",
       " Min.   : 0.00                           \n",
       " 1st Qu.:23.50                           \n",
       " Median :43.00                           \n",
       " Mean   :46.04                           \n",
       " 3rd Qu.:71.00                           \n",
       " Max.   :97.00                           \n",
       "                                         \n",
       " What.was.your.data.usage.for.December.2015..in.MB..\n",
       " Min.   :    0.0                                    \n",
       " 1st Qu.:  398.2                                    \n",
       " Median :  860.0                                    \n",
       " Mean   : 1579.3                                    \n",
       " 3rd Qu.: 1386.0                                    \n",
       " Max.   :12000.0                                    \n",
       "                                                    \n",
       " What.was.your.total.call.time.for.December.2015..in.minutes..\n",
       " Min.   :   0.00                                              \n",
       " 1st Qu.:  46.75                                              \n",
       " Median :  82.00                                              \n",
       " Mean   : 406.67                                              \n",
       " 3rd Qu.: 169.50                                              \n",
       " Max.   :4000.00                                              \n",
       "                                                              \n",
       " How.long.ago.did.you.obtain.your.phone..in.months..rounded.up..\n",
       " Min.   : 0.00                                                  \n",
       " 1st Qu.: 3.75                                                  \n",
       " Median :12.00                                                  \n",
       " Mean   :13.29                                                  \n",
       " 3rd Qu.:16.00                                                  \n",
       " Max.   :56.00                                                  \n",
       "                                                                "
      ]
     },
     "metadata": {},
     "output_type": "display_data"
    }
   ],
   "source": [
    "summary(celldata)"
   ]
  },
  {
   "cell_type": "markdown",
   "metadata": {},
   "source": [
    "These variable names are cumbersome, so I'm going to change them."
   ]
  },
  {
   "cell_type": "code",
   "execution_count": 83,
   "metadata": {
    "collapsed": true
   },
   "outputs": [],
   "source": [
    "colnames(celldata) <- c(\"Timestamp\", \"ID\", \"Provider\", \"OS\", \"Apps\", \"Data\", \"CallTime\", \"Obtained\")"
   ]
  },
  {
   "cell_type": "markdown",
   "metadata": {},
   "source": [
    "You can look at individual variables using the $ operator."
   ]
  },
  {
   "cell_type": "code",
   "execution_count": 84,
   "metadata": {
    "collapsed": false
   },
   "outputs": [
    {
     "data": {
      "text/html": [
       "<ol class=list-inline>\n",
       "\t<li>Verizon</li>\n",
       "\t<li>Verizon</li>\n",
       "\t<li>T-Mobile</li>\n",
       "\t<li>AT&amp;T</li>\n",
       "\t<li>AT&amp;T</li>\n",
       "\t<li>T-Mobile</li>\n",
       "\t<li>T-Mobile</li>\n",
       "\t<li>AT&amp;T</li>\n",
       "\t<li>AT&amp;T</li>\n",
       "\t<li>Verizon</li>\n",
       "\t<li>AT&amp;T</li>\n",
       "\t<li>AT&amp;T</li>\n",
       "\t<li>Verizon</li>\n",
       "\t<li>AT&amp;T</li>\n",
       "\t<li>AT&amp;T</li>\n",
       "\t<li>AT&amp;T</li>\n",
       "\t<li>AT&amp;T</li>\n",
       "\t<li>Sprint</li>\n",
       "\t<li>AT&amp;T</li>\n",
       "\t<li>AT&amp;T</li>\n",
       "\t<li>T-Mobile</li>\n",
       "\t<li>T-Mobile</li>\n",
       "\t<li>Verizon</li>\n",
       "\t<li>T-Mobile</li>\n",
       "</ol>\n"
      ],
      "text/latex": [
       "\\begin{enumerate*}\n",
       "\\item Verizon\n",
       "\\item Verizon\n",
       "\\item T-Mobile\n",
       "\\item AT\\&T\n",
       "\\item AT\\&T\n",
       "\\item T-Mobile\n",
       "\\item T-Mobile\n",
       "\\item AT\\&T\n",
       "\\item AT\\&T\n",
       "\\item Verizon\n",
       "\\item AT\\&T\n",
       "\\item AT\\&T\n",
       "\\item Verizon\n",
       "\\item AT\\&T\n",
       "\\item AT\\&T\n",
       "\\item AT\\&T\n",
       "\\item AT\\&T\n",
       "\\item Sprint\n",
       "\\item AT\\&T\n",
       "\\item AT\\&T\n",
       "\\item T-Mobile\n",
       "\\item T-Mobile\n",
       "\\item Verizon\n",
       "\\item T-Mobile\n",
       "\\end{enumerate*}\n"
      ],
      "text/markdown": [
       "1. Verizon\n",
       "2. Verizon\n",
       "3. T-Mobile\n",
       "4. AT&amp;T\n",
       "5. AT&amp;T\n",
       "6. T-Mobile\n",
       "7. T-Mobile\n",
       "8. AT&amp;T\n",
       "9. AT&amp;T\n",
       "10. Verizon\n",
       "11. AT&amp;T\n",
       "12. AT&amp;T\n",
       "13. Verizon\n",
       "14. AT&amp;T\n",
       "15. AT&amp;T\n",
       "16. AT&amp;T\n",
       "17. AT&amp;T\n",
       "18. Sprint\n",
       "19. AT&amp;T\n",
       "20. AT&amp;T\n",
       "21. T-Mobile\n",
       "22. T-Mobile\n",
       "23. Verizon\n",
       "24. T-Mobile\n",
       "\n",
       "\n"
      ],
      "text/plain": [
       " [1] Verizon  Verizon  T-Mobile AT&T     AT&T     T-Mobile T-Mobile AT&T    \n",
       " [9] AT&T     Verizon  AT&T     AT&T     Verizon  AT&T     AT&T     AT&T    \n",
       "[17] AT&T     Sprint   AT&T     AT&T     T-Mobile T-Mobile Verizon  T-Mobile\n",
       "Levels: AT&T Sprint T-Mobile Verizon"
      ]
     },
     "metadata": {},
     "output_type": "display_data"
    }
   ],
   "source": [
    "celldata$Provider"
   ]
  },
  {
   "cell_type": "code",
   "execution_count": 85,
   "metadata": {
    "collapsed": false
   },
   "outputs": [
    {
     "data": {
      "text/html": [
       "<ol class=list-inline>\n",
       "\t<li>iOS</li>\n",
       "\t<li>iOS</li>\n",
       "\t<li>iOS</li>\n",
       "\t<li>iOS</li>\n",
       "\t<li>iOS</li>\n",
       "\t<li>Android</li>\n",
       "\t<li>Windows</li>\n",
       "\t<li>iOS</li>\n",
       "\t<li>iOS</li>\n",
       "\t<li>iOS</li>\n",
       "\t<li>My phone is not a smartphone</li>\n",
       "\t<li>iOS</li>\n",
       "\t<li>iOS</li>\n",
       "\t<li>iOS</li>\n",
       "\t<li>iOS</li>\n",
       "\t<li>iOS</li>\n",
       "\t<li>iOS</li>\n",
       "\t<li>Android</li>\n",
       "\t<li>iOS</li>\n",
       "\t<li>iOS</li>\n",
       "\t<li>Android</li>\n",
       "\t<li>iOS</li>\n",
       "\t<li>Android</li>\n",
       "\t<li>iOS</li>\n",
       "</ol>\n"
      ],
      "text/latex": [
       "\\begin{enumerate*}\n",
       "\\item iOS\n",
       "\\item iOS\n",
       "\\item iOS\n",
       "\\item iOS\n",
       "\\item iOS\n",
       "\\item Android\n",
       "\\item Windows\n",
       "\\item iOS\n",
       "\\item iOS\n",
       "\\item iOS\n",
       "\\item My phone is not a smartphone\n",
       "\\item iOS\n",
       "\\item iOS\n",
       "\\item iOS\n",
       "\\item iOS\n",
       "\\item iOS\n",
       "\\item iOS\n",
       "\\item Android\n",
       "\\item iOS\n",
       "\\item iOS\n",
       "\\item Android\n",
       "\\item iOS\n",
       "\\item Android\n",
       "\\item iOS\n",
       "\\end{enumerate*}\n"
      ],
      "text/markdown": [
       "1. iOS\n",
       "2. iOS\n",
       "3. iOS\n",
       "4. iOS\n",
       "5. iOS\n",
       "6. Android\n",
       "7. Windows\n",
       "8. iOS\n",
       "9. iOS\n",
       "10. iOS\n",
       "11. My phone is not a smartphone\n",
       "12. iOS\n",
       "13. iOS\n",
       "14. iOS\n",
       "15. iOS\n",
       "16. iOS\n",
       "17. iOS\n",
       "18. Android\n",
       "19. iOS\n",
       "20. iOS\n",
       "21. Android\n",
       "22. iOS\n",
       "23. Android\n",
       "24. iOS\n",
       "\n",
       "\n"
      ],
      "text/plain": [
       " [1] iOS                          iOS                         \n",
       " [3] iOS                          iOS                         \n",
       " [5] iOS                          Android                     \n",
       " [7] Windows                      iOS                         \n",
       " [9] iOS                          iOS                         \n",
       "[11] My phone is not a smartphone iOS                         \n",
       "[13] iOS                          iOS                         \n",
       "[15] iOS                          iOS                         \n",
       "[17] iOS                          Android                     \n",
       "[19] iOS                          iOS                         \n",
       "[21] Android                      iOS                         \n",
       "[23] Android                      iOS                         \n",
       "Levels: Android iOS My phone is not a smartphone Windows"
      ]
     },
     "metadata": {},
     "output_type": "display_data"
    }
   ],
   "source": [
    "celldata$OS"
   ]
  },
  {
   "cell_type": "code",
   "execution_count": 86,
   "metadata": {
    "collapsed": false
   },
   "outputs": [
    {
     "data": {
      "text/html": [
       "46.0416666666667"
      ],
      "text/latex": [
       "46.0416666666667"
      ],
      "text/markdown": [
       "46.0416666666667"
      ],
      "text/plain": [
       "[1] 46.04167"
      ]
     },
     "metadata": {},
     "output_type": "display_data"
    }
   ],
   "source": [
    "mean(celldata$Apps)"
   ]
  },
  {
   "cell_type": "code",
   "execution_count": 87,
   "metadata": {
    "collapsed": false
   },
   "outputs": [
    {
     "data": {
      "text/html": [
       "1579.29166666667"
      ],
      "text/latex": [
       "1579.29166666667"
      ],
      "text/markdown": [
       "1579.29166666667"
      ],
      "text/plain": [
       "[1] 1579.292"
      ]
     },
     "metadata": {},
     "output_type": "display_data"
    }
   ],
   "source": [
    "mean(celldata$Data)"
   ]
  },
  {
   "cell_type": "markdown",
   "metadata": {
    "collapsed": true
   },
   "source": [
    "We can see from the output of summary(celldata) that there was one student whose phone was not a smartphone. We can subset to look at that student's answers to the survey."
   ]
  },
  {
   "cell_type": "code",
   "execution_count": 88,
   "metadata": {
    "collapsed": false
   },
   "outputs": [
    {
     "data": {
      "text/html": [
       "<table>\n",
       "<thead><tr><th></th><th scope=col>Timestamp</th><th scope=col>ID</th><th scope=col>Provider</th><th scope=col>OS</th><th scope=col>Apps</th><th scope=col>Data</th><th scope=col>CallTime</th><th scope=col>Obtained</th></tr></thead>\n",
       "<tbody>\n",
       "\t<tr><th scope=row>11</th><td>12/30/2015 16:32:16         </td><td>317103                      </td><td>AT&amp;T                    </td><td>My phone is not a smartphone</td><td>0                           </td><td>0                           </td><td>449                         </td><td>24                          </td></tr>\n",
       "</tbody>\n",
       "</table>\n"
      ],
      "text/latex": [
       "\\begin{tabular}{r|llllllll}\n",
       "  & Timestamp & ID & Provider & OS & Apps & Data & CallTime & Obtained\\\\\n",
       "\\hline\n",
       "\t11 & 12/30/2015 16:32:16          & 317103                       & AT\\&T                       & My phone is not a smartphone & 0                            & 0                            & 449                          & 24                          \\\\\n",
       "\\end{tabular}\n"
      ],
      "text/markdown": [
       "\n",
       "| <!--/--> | Timestamp | ID | Provider | OS | Apps | Data | CallTime | Obtained | \n",
       "|---|\n",
       "| 11 | 12/30/2015 16:32:16          | 317103                       | AT&T                         | My phone is not a smartphone | 0                            | 0                            | 449                          | 24                           | \n",
       "\n",
       "\n"
      ],
      "text/plain": [
       "   Timestamp           ID     Provider OS                           Apps Data\n",
       "11 12/30/2015 16:32:16 317103 AT&T     My phone is not a smartphone 0    0   \n",
       "   CallTime Obtained\n",
       "11 449      24      "
      ]
     },
     "metadata": {},
     "output_type": "display_data"
    }
   ],
   "source": [
    "celldata[celldata$OS == 'My phone is not a smartphone',]"
   ]
  },
  {
   "cell_type": "markdown",
   "metadata": {},
   "source": [
    "Since we're concerned with smartphone usage in this survey, we don't want to consider this student's app usage in the same way that we consider every other student's. Let's change it to NA to reflect this."
   ]
  },
  {
   "cell_type": "code",
   "execution_count": 89,
   "metadata": {
    "collapsed": true
   },
   "outputs": [],
   "source": [
    "celldata[celldata$OS == 'My phone is not a smartphone',]$Apps = NA"
   ]
  },
  {
   "cell_type": "markdown",
   "metadata": {},
   "source": [
    "Now let's try to find the mean number of apps again."
   ]
  },
  {
   "cell_type": "code",
   "execution_count": 90,
   "metadata": {
    "collapsed": false
   },
   "outputs": [
    {
     "data": {
      "text/plain": [
       "[1] NA"
      ]
     },
     "metadata": {},
     "output_type": "display_data"
    }
   ],
   "source": [
    "mean(celldata$Apps)"
   ]
  },
  {
   "cell_type": "markdown",
   "metadata": {},
   "source": [
    "The NA got propagated into the mean calculation, but we don't want that. Let's take a look at the documentation for mean() to see how it deals with NA."
   ]
  },
  {
   "cell_type": "code",
   "execution_count": 91,
   "metadata": {
    "collapsed": false
   },
   "outputs": [],
   "source": [
    "?mean"
   ]
  },
  {
   "cell_type": "markdown",
   "metadata": {},
   "source": [
    "So we have to set the na.rm variable to TRUE."
   ]
  },
  {
   "cell_type": "code",
   "execution_count": 92,
   "metadata": {
    "collapsed": false
   },
   "outputs": [
    {
     "data": {
      "text/html": [
       "48.0434782608696"
      ],
      "text/latex": [
       "48.0434782608696"
      ],
      "text/markdown": [
       "48.0434782608696"
      ],
      "text/plain": [
       "[1] 48.04348"
      ]
     },
     "metadata": {},
     "output_type": "display_data"
    }
   ],
   "source": [
    "mean(celldata$Apps, na.rm = T)"
   ]
  },
  {
   "cell_type": "markdown",
   "metadata": {},
   "source": [
    "We can write a data frame to disk as well."
   ]
  },
  {
   "cell_type": "code",
   "execution_count": 93,
   "metadata": {
    "collapsed": true
   },
   "outputs": [],
   "source": [
    "write.csv(celldata, \"new.csv\")"
   ]
  },
  {
   "cell_type": "markdown",
   "metadata": {},
   "source": [
    "# Defining functions"
   ]
  },
  {
   "cell_type": "markdown",
   "metadata": {},
   "source": [
    "Defining functions in R is very simple. Suppose I wanted to return the negative absolute value of a number."
   ]
  },
  {
   "cell_type": "code",
   "execution_count": 94,
   "metadata": {
    "collapsed": true
   },
   "outputs": [],
   "source": [
    "negabs <- function(x) -abs(x)"
   ]
  },
  {
   "cell_type": "markdown",
   "metadata": {},
   "source": [
    "Notice how there is no \"return\" statement. In an R function definition, the value of the last statement is presumed to be the return value of the function. If you're familiar with lambda function definitions, this is pretty much what's happening here."
   ]
  },
  {
   "cell_type": "code",
   "execution_count": 95,
   "metadata": {
    "collapsed": false
   },
   "outputs": [
    {
     "data": {
      "text/html": [
       "-10"
      ],
      "text/latex": [
       "-10"
      ],
      "text/markdown": [
       "-10"
      ],
      "text/plain": [
       "[1] -10"
      ]
     },
     "metadata": {},
     "output_type": "display_data"
    }
   ],
   "source": [
    "negabs(10)"
   ]
  },
  {
   "cell_type": "code",
   "execution_count": 96,
   "metadata": {
    "collapsed": false
   },
   "outputs": [
    {
     "data": {
      "text/html": [
       "-9"
      ],
      "text/latex": [
       "-9"
      ],
      "text/markdown": [
       "-9"
      ],
      "text/plain": [
       "[1] -9"
      ]
     },
     "metadata": {},
     "output_type": "display_data"
    }
   ],
   "source": [
    "negabs(-9)"
   ]
  },
  {
   "cell_type": "markdown",
   "metadata": {},
   "source": [
    "R will even make our function work automatically over vectors and matrices."
   ]
  },
  {
   "cell_type": "code",
   "execution_count": 97,
   "metadata": {
    "collapsed": false
   },
   "outputs": [
    {
     "data": {
      "text/html": [
       "<ol class=list-inline>\n",
       "\t<li>-2</li>\n",
       "\t<li>-3</li>\n",
       "\t<li>-5</li>\n",
       "\t<li>-7</li>\n",
       "\t<li>-11</li>\n",
       "\t<li>-13</li>\n",
       "</ol>\n"
      ],
      "text/latex": [
       "\\begin{enumerate*}\n",
       "\\item -2\n",
       "\\item -3\n",
       "\\item -5\n",
       "\\item -7\n",
       "\\item -11\n",
       "\\item -13\n",
       "\\end{enumerate*}\n"
      ],
      "text/markdown": [
       "1. -2\n",
       "2. -3\n",
       "3. -5\n",
       "4. -7\n",
       "5. -11\n",
       "6. -13\n",
       "\n",
       "\n"
      ],
      "text/plain": [
       "[1]  -2  -3  -5  -7 -11 -13"
      ]
     },
     "metadata": {},
     "output_type": "display_data"
    }
   ],
   "source": [
    "negabs(primevec)"
   ]
  },
  {
   "cell_type": "code",
   "execution_count": 98,
   "metadata": {
    "collapsed": false
   },
   "outputs": [
    {
     "data": {
      "text/html": [
       "<table>\n",
       "<tbody>\n",
       "\t<tr><td>-1</td><td>-3</td></tr>\n",
       "\t<tr><td>-2</td><td>-4</td></tr>\n",
       "</tbody>\n",
       "</table>\n"
      ],
      "text/latex": [
       "\\begin{tabular}{ll}\n",
       "\t -1 & -3\\\\\n",
       "\t -2 & -4\\\\\n",
       "\\end{tabular}\n"
      ],
      "text/markdown": [
       "\n",
       "| -1 | -3 | \n",
       "| -2 | -4 | \n",
       "\n",
       "\n"
      ],
      "text/plain": [
       "     [,1] [,2]\n",
       "[1,] -1   -3  \n",
       "[2,] -2   -4  "
      ]
     },
     "metadata": {},
     "output_type": "display_data"
    }
   ],
   "source": [
    "negabs(square1)"
   ]
  },
  {
   "cell_type": "code",
   "execution_count": 99,
   "metadata": {
    "collapsed": false
   },
   "outputs": [
    {
     "ename": "ERROR",
     "evalue": "Error in abs(x): non-numeric argument to mathematical function\n",
     "output_type": "error",
     "traceback": [
      "Error in abs(x): non-numeric argument to mathematical function\nTraceback:\n",
      "1. negabs(\"lol\")"
     ]
    }
   ],
   "source": [
    "negabs(\"lol\")"
   ]
  },
  {
   "cell_type": "markdown",
   "metadata": {},
   "source": [
    "The error handling of negabs() is inherited from the error handling of abs(). If we wanted to do this ourselves..."
   ]
  },
  {
   "cell_type": "code",
   "execution_count": 100,
   "metadata": {
    "collapsed": true
   },
   "outputs": [],
   "source": [
    "negabs <- function(x) {\n",
    "    if (!is.numeric(x))\n",
    "        stop(\"input must be numeric\")\n",
    "    -abs(x)\n",
    "}"
   ]
  },
  {
   "cell_type": "markdown",
   "metadata": {},
   "source": [
    "Note that we use curly braces to enclose multiple lines. The if control statement works as expected, as does !."
   ]
  },
  {
   "cell_type": "code",
   "execution_count": 101,
   "metadata": {
    "collapsed": false
   },
   "outputs": [
    {
     "ename": "ERROR",
     "evalue": "Error in negabs(\"lol\"): input must be numeric\n",
     "output_type": "error",
     "traceback": [
      "Error in negabs(\"lol\"): input must be numeric\nTraceback:\n",
      "1. negabs(\"lol\")",
      "2. stop(\"input must be numeric\")   # at line 2-3 of file <text>"
     ]
    }
   ],
   "source": [
    "negabs(\"lol\")"
   ]
  },
  {
   "cell_type": "markdown",
   "metadata": {},
   "source": [
    "# Source files"
   ]
  },
  {
   "cell_type": "markdown",
   "metadata": {},
   "source": [
    "You can define variables and functions in a \\*.R source file, and then include them in later sessions."
   ]
  },
  {
   "cell_type": "code",
   "execution_count": 102,
   "metadata": {
    "collapsed": true
   },
   "outputs": [],
   "source": [
    "source(\"examplesource.R\")"
   ]
  },
  {
   "cell_type": "code",
   "execution_count": 103,
   "metadata": {
    "collapsed": false
   },
   "outputs": [
    {
     "data": {
      "text/html": [
       "<table>\n",
       "<tbody>\n",
       "\t<tr><td>1 </td><td>5 </td><td> 9</td><td>13</td></tr>\n",
       "\t<tr><td>2 </td><td>6 </td><td>10</td><td>14</td></tr>\n",
       "\t<tr><td>3 </td><td>7 </td><td>11</td><td>15</td></tr>\n",
       "\t<tr><td>4 </td><td>8 </td><td>12</td><td>16</td></tr>\n",
       "</tbody>\n",
       "</table>\n"
      ],
      "text/latex": [
       "\\begin{tabular}{llll}\n",
       "\t 1  & 5  &  9 & 13\\\\\n",
       "\t 2  & 6  & 10 & 14\\\\\n",
       "\t 3  & 7  & 11 & 15\\\\\n",
       "\t 4  & 8  & 12 & 16\\\\\n",
       "\\end{tabular}\n"
      ],
      "text/markdown": [
       "\n",
       "| 1  | 5  |  9 | 13 | \n",
       "| 2  | 6  | 10 | 14 | \n",
       "| 3  | 7  | 11 | 15 | \n",
       "| 4  | 8  | 12 | 16 | \n",
       "\n",
       "\n"
      ],
      "text/plain": [
       "     [,1] [,2] [,3] [,4]\n",
       "[1,] 1    5     9   13  \n",
       "[2,] 2    6    10   14  \n",
       "[3,] 3    7    11   15  \n",
       "[4,] 4    8    12   16  "
      ]
     },
     "metadata": {},
     "output_type": "display_data"
    }
   ],
   "source": [
    "mat16"
   ]
  },
  {
   "cell_type": "code",
   "execution_count": 104,
   "metadata": {
    "collapsed": false
   },
   "outputs": [
    {
     "data": {
      "text/html": [
       "<table>\n",
       "<tbody>\n",
       "\t<tr><td>4</td><td>0</td><td>0</td><td>0</td></tr>\n",
       "\t<tr><td>0</td><td>4</td><td>0</td><td>0</td></tr>\n",
       "\t<tr><td>0</td><td>0</td><td>4</td><td>0</td></tr>\n",
       "\t<tr><td>0</td><td>0</td><td>0</td><td>4</td></tr>\n",
       "</tbody>\n",
       "</table>\n"
      ],
      "text/latex": [
       "\\begin{tabular}{llll}\n",
       "\t 4 & 0 & 0 & 0\\\\\n",
       "\t 0 & 4 & 0 & 0\\\\\n",
       "\t 0 & 0 & 4 & 0\\\\\n",
       "\t 0 & 0 & 0 & 4\\\\\n",
       "\\end{tabular}\n"
      ],
      "text/markdown": [
       "\n",
       "| 4 | 0 | 0 | 0 | \n",
       "| 0 | 4 | 0 | 0 | \n",
       "| 0 | 0 | 4 | 0 | \n",
       "| 0 | 0 | 0 | 4 | \n",
       "\n",
       "\n"
      ],
      "text/plain": [
       "     [,1] [,2] [,3] [,4]\n",
       "[1,] 4    0    0    0   \n",
       "[2,] 0    4    0    0   \n",
       "[3,] 0    0    4    0   \n",
       "[4,] 0    0    0    4   "
      ]
     },
     "metadata": {},
     "output_type": "display_data"
    }
   ],
   "source": [
    "fouridentity"
   ]
  },
  {
   "cell_type": "code",
   "execution_count": 105,
   "metadata": {
    "collapsed": false
   },
   "outputs": [
    {
     "data": {
      "text/html": [
       "<table>\n",
       "<tbody>\n",
       "\t<tr><td>2.449490</td><td>3.162278</td></tr>\n",
       "\t<tr><td>2.828427</td><td>3.464102</td></tr>\n",
       "</tbody>\n",
       "</table>\n"
      ],
      "text/latex": [
       "\\begin{tabular}{ll}\n",
       "\t 2.449490 & 3.162278\\\\\n",
       "\t 2.828427 & 3.464102\\\\\n",
       "\\end{tabular}\n"
      ],
      "text/markdown": [
       "\n",
       "| 2.449490 | 3.162278 | \n",
       "| 2.828427 | 3.464102 | \n",
       "\n",
       "\n"
      ],
      "text/plain": [
       "     [,1]     [,2]    \n",
       "[1,] 2.449490 3.162278\n",
       "[2,] 2.828427 3.464102"
      ]
     },
     "metadata": {},
     "output_type": "display_data"
    }
   ],
   "source": [
    "sqrtadd(square1,square2)"
   ]
  },
  {
   "cell_type": "markdown",
   "metadata": {},
   "source": [
    "You can also install and include external libraries using the install.packages() and library() functions. Try installing and running the \"proton\" package for a fun R tutorial."
   ]
  },
  {
   "cell_type": "markdown",
   "metadata": {},
   "source": [
    "You can also access a wide variety of pre-loaded datasets using the data() command. Run data() with no inputs to get a list of datasets, or with the name of a dataset to load it."
   ]
  },
  {
   "cell_type": "code",
   "execution_count": 106,
   "metadata": {
    "collapsed": true
   },
   "outputs": [],
   "source": [
    "data()"
   ]
  },
  {
   "cell_type": "code",
   "execution_count": 107,
   "metadata": {
    "collapsed": true
   },
   "outputs": [],
   "source": [
    "data(mtcars) # It's good to look at ?mtcars to find out what the variables mean."
   ]
  },
  {
   "cell_type": "code",
   "execution_count": 108,
   "metadata": {
    "collapsed": false
   },
   "outputs": [
    {
     "name": "stdout",
     "output_type": "stream",
     "text": [
      "'data.frame':\t32 obs. of  11 variables:\n",
      " $ mpg : num  21 21 22.8 21.4 18.7 18.1 14.3 24.4 22.8 19.2 ...\n",
      " $ cyl : num  6 6 4 6 8 6 8 4 4 6 ...\n",
      " $ disp: num  160 160 108 258 360 ...\n",
      " $ hp  : num  110 110 93 110 175 105 245 62 95 123 ...\n",
      " $ drat: num  3.9 3.9 3.85 3.08 3.15 2.76 3.21 3.69 3.92 3.92 ...\n",
      " $ wt  : num  2.62 2.88 2.32 3.21 3.44 ...\n",
      " $ qsec: num  16.5 17 18.6 19.4 17 ...\n",
      " $ vs  : num  0 0 1 1 0 1 0 1 1 1 ...\n",
      " $ am  : num  1 1 1 0 0 0 0 0 0 0 ...\n",
      " $ gear: num  4 4 4 3 3 3 3 4 4 4 ...\n",
      " $ carb: num  4 4 1 1 2 1 4 2 2 4 ...\n"
     ]
    }
   ],
   "source": [
    "str(mtcars)"
   ]
  },
  {
   "cell_type": "code",
   "execution_count": 109,
   "metadata": {
    "collapsed": false
   },
   "outputs": [
    {
     "data": {
      "text/plain": [
       "      mpg             cyl             disp             hp       \n",
       " Min.   :10.40   Min.   :4.000   Min.   : 71.1   Min.   : 52.0  \n",
       " 1st Qu.:15.43   1st Qu.:4.000   1st Qu.:120.8   1st Qu.: 96.5  \n",
       " Median :19.20   Median :6.000   Median :196.3   Median :123.0  \n",
       " Mean   :20.09   Mean   :6.188   Mean   :230.7   Mean   :146.7  \n",
       " 3rd Qu.:22.80   3rd Qu.:8.000   3rd Qu.:326.0   3rd Qu.:180.0  \n",
       " Max.   :33.90   Max.   :8.000   Max.   :472.0   Max.   :335.0  \n",
       "      drat             wt             qsec             vs        \n",
       " Min.   :2.760   Min.   :1.513   Min.   :14.50   Min.   :0.0000  \n",
       " 1st Qu.:3.080   1st Qu.:2.581   1st Qu.:16.89   1st Qu.:0.0000  \n",
       " Median :3.695   Median :3.325   Median :17.71   Median :0.0000  \n",
       " Mean   :3.597   Mean   :3.217   Mean   :17.85   Mean   :0.4375  \n",
       " 3rd Qu.:3.920   3rd Qu.:3.610   3rd Qu.:18.90   3rd Qu.:1.0000  \n",
       " Max.   :4.930   Max.   :5.424   Max.   :22.90   Max.   :1.0000  \n",
       "       am              gear            carb      \n",
       " Min.   :0.0000   Min.   :3.000   Min.   :1.000  \n",
       " 1st Qu.:0.0000   1st Qu.:3.000   1st Qu.:2.000  \n",
       " Median :0.0000   Median :4.000   Median :2.000  \n",
       " Mean   :0.4062   Mean   :3.688   Mean   :2.812  \n",
       " 3rd Qu.:1.0000   3rd Qu.:4.000   3rd Qu.:4.000  \n",
       " Max.   :1.0000   Max.   :5.000   Max.   :8.000  "
      ]
     },
     "metadata": {},
     "output_type": "display_data"
    }
   ],
   "source": [
    "summary(mtcars)"
   ]
  },
  {
   "cell_type": "markdown",
   "metadata": {},
   "source": [
    "# Generating random data"
   ]
  },
  {
   "cell_type": "markdown",
   "metadata": {},
   "source": [
    "The basic function for random experiments is sample(). By default, sampling is without replacement."
   ]
  },
  {
   "cell_type": "code",
   "execution_count": 110,
   "metadata": {
    "collapsed": false
   },
   "outputs": [
    {
     "data": {
      "text/html": [
       "<ol class=list-inline>\n",
       "\t<li>5</li>\n",
       "\t<li>3</li>\n",
       "\t<li>1</li>\n",
       "</ol>\n"
      ],
      "text/latex": [
       "\\begin{enumerate*}\n",
       "\\item 5\n",
       "\\item 3\n",
       "\\item 1\n",
       "\\end{enumerate*}\n"
      ],
      "text/markdown": [
       "1. 5\n",
       "2. 3\n",
       "3. 1\n",
       "\n",
       "\n"
      ],
      "text/plain": [
       "[1] 5 3 1"
      ]
     },
     "metadata": {},
     "output_type": "display_data"
    }
   ],
   "source": [
    "sample(1:5, 3)"
   ]
  },
  {
   "cell_type": "code",
   "execution_count": 111,
   "metadata": {
    "collapsed": false
   },
   "outputs": [
    {
     "data": {
      "text/html": [
       "<ol class=list-inline>\n",
       "\t<li>'brown'</li>\n",
       "\t<li>'quick'</li>\n",
       "\t<li>'quick'</li>\n",
       "\t<li>'quick'</li>\n",
       "\t<li>'brown'</li>\n",
       "</ol>\n"
      ],
      "text/latex": [
       "\\begin{enumerate*}\n",
       "\\item 'brown'\n",
       "\\item 'quick'\n",
       "\\item 'quick'\n",
       "\\item 'quick'\n",
       "\\item 'brown'\n",
       "\\end{enumerate*}\n"
      ],
      "text/markdown": [
       "1. 'brown'\n",
       "2. 'quick'\n",
       "3. 'quick'\n",
       "4. 'quick'\n",
       "5. 'brown'\n",
       "\n",
       "\n"
      ],
      "text/plain": [
       "[1] \"brown\" \"quick\" \"quick\" \"quick\" \"brown\""
      ]
     },
     "metadata": {},
     "output_type": "display_data"
    }
   ],
   "source": [
    "sample(charvec, 5, replace = T)"
   ]
  },
  {
   "cell_type": "code",
   "execution_count": 112,
   "metadata": {
    "collapsed": false
   },
   "outputs": [
    {
     "data": {
      "text/html": [
       "<ol class=list-inline>\n",
       "\t<li>'tails'</li>\n",
       "\t<li>'heads'</li>\n",
       "\t<li>'heads'</li>\n",
       "\t<li>'heads'</li>\n",
       "\t<li>'heads'</li>\n",
       "\t<li>'tails'</li>\n",
       "\t<li>'heads'</li>\n",
       "\t<li>'heads'</li>\n",
       "\t<li>'heads'</li>\n",
       "\t<li>'heads'</li>\n",
       "\t<li>'heads'</li>\n",
       "\t<li>'tails'</li>\n",
       "\t<li>'heads'</li>\n",
       "\t<li>'heads'</li>\n",
       "\t<li>'heads'</li>\n",
       "\t<li>'tails'</li>\n",
       "\t<li>'tails'</li>\n",
       "\t<li>'heads'</li>\n",
       "\t<li>'tails'</li>\n",
       "\t<li>'heads'</li>\n",
       "\t<li>'tails'</li>\n",
       "\t<li>'heads'</li>\n",
       "\t<li>'heads'</li>\n",
       "\t<li>'heads'</li>\n",
       "\t<li>'tails'</li>\n",
       "\t<li>'heads'</li>\n",
       "\t<li>'heads'</li>\n",
       "\t<li>'heads'</li>\n",
       "\t<li>'tails'</li>\n",
       "\t<li>'tails'</li>\n",
       "\t<li>'tails'</li>\n",
       "\t<li>'tails'</li>\n",
       "\t<li>'tails'</li>\n",
       "\t<li>'tails'</li>\n",
       "\t<li>'heads'</li>\n",
       "\t<li>'heads'</li>\n",
       "\t<li>'tails'</li>\n",
       "\t<li>'tails'</li>\n",
       "\t<li>'tails'</li>\n",
       "\t<li>'heads'</li>\n",
       "\t<li>'heads'</li>\n",
       "\t<li>'heads'</li>\n",
       "\t<li>'heads'</li>\n",
       "\t<li>'tails'</li>\n",
       "\t<li>'tails'</li>\n",
       "\t<li>'heads'</li>\n",
       "\t<li>'tails'</li>\n",
       "\t<li>'tails'</li>\n",
       "\t<li>'tails'</li>\n",
       "\t<li>'heads'</li>\n",
       "\t<li>'heads'</li>\n",
       "\t<li>'tails'</li>\n",
       "\t<li>'heads'</li>\n",
       "\t<li>'heads'</li>\n",
       "\t<li>'tails'</li>\n",
       "\t<li>'tails'</li>\n",
       "\t<li>'heads'</li>\n",
       "\t<li>'tails'</li>\n",
       "\t<li>'heads'</li>\n",
       "\t<li>'tails'</li>\n",
       "\t<li>'heads'</li>\n",
       "\t<li>'tails'</li>\n",
       "\t<li>'heads'</li>\n",
       "\t<li>'heads'</li>\n",
       "\t<li>'heads'</li>\n",
       "\t<li>'tails'</li>\n",
       "\t<li>'tails'</li>\n",
       "\t<li>'tails'</li>\n",
       "\t<li>'heads'</li>\n",
       "\t<li>'heads'</li>\n",
       "\t<li>'tails'</li>\n",
       "\t<li>'heads'</li>\n",
       "\t<li>'heads'</li>\n",
       "\t<li>'heads'</li>\n",
       "\t<li>'tails'</li>\n",
       "\t<li>'heads'</li>\n",
       "\t<li>'heads'</li>\n",
       "\t<li>'heads'</li>\n",
       "\t<li>'heads'</li>\n",
       "\t<li>'tails'</li>\n",
       "\t<li>'tails'</li>\n",
       "\t<li>'tails'</li>\n",
       "\t<li>'heads'</li>\n",
       "\t<li>'heads'</li>\n",
       "\t<li>'tails'</li>\n",
       "\t<li>'tails'</li>\n",
       "\t<li>'heads'</li>\n",
       "\t<li>'tails'</li>\n",
       "\t<li>'heads'</li>\n",
       "\t<li>'tails'</li>\n",
       "\t<li>'heads'</li>\n",
       "\t<li>'tails'</li>\n",
       "\t<li>'tails'</li>\n",
       "\t<li>'tails'</li>\n",
       "\t<li>'heads'</li>\n",
       "\t<li>'tails'</li>\n",
       "\t<li>'tails'</li>\n",
       "\t<li>'heads'</li>\n",
       "\t<li>'heads'</li>\n",
       "\t<li>'tails'</li>\n",
       "</ol>\n"
      ],
      "text/latex": [
       "\\begin{enumerate*}\n",
       "\\item 'tails'\n",
       "\\item 'heads'\n",
       "\\item 'heads'\n",
       "\\item 'heads'\n",
       "\\item 'heads'\n",
       "\\item 'tails'\n",
       "\\item 'heads'\n",
       "\\item 'heads'\n",
       "\\item 'heads'\n",
       "\\item 'heads'\n",
       "\\item 'heads'\n",
       "\\item 'tails'\n",
       "\\item 'heads'\n",
       "\\item 'heads'\n",
       "\\item 'heads'\n",
       "\\item 'tails'\n",
       "\\item 'tails'\n",
       "\\item 'heads'\n",
       "\\item 'tails'\n",
       "\\item 'heads'\n",
       "\\item 'tails'\n",
       "\\item 'heads'\n",
       "\\item 'heads'\n",
       "\\item 'heads'\n",
       "\\item 'tails'\n",
       "\\item 'heads'\n",
       "\\item 'heads'\n",
       "\\item 'heads'\n",
       "\\item 'tails'\n",
       "\\item 'tails'\n",
       "\\item 'tails'\n",
       "\\item 'tails'\n",
       "\\item 'tails'\n",
       "\\item 'tails'\n",
       "\\item 'heads'\n",
       "\\item 'heads'\n",
       "\\item 'tails'\n",
       "\\item 'tails'\n",
       "\\item 'tails'\n",
       "\\item 'heads'\n",
       "\\item 'heads'\n",
       "\\item 'heads'\n",
       "\\item 'heads'\n",
       "\\item 'tails'\n",
       "\\item 'tails'\n",
       "\\item 'heads'\n",
       "\\item 'tails'\n",
       "\\item 'tails'\n",
       "\\item 'tails'\n",
       "\\item 'heads'\n",
       "\\item 'heads'\n",
       "\\item 'tails'\n",
       "\\item 'heads'\n",
       "\\item 'heads'\n",
       "\\item 'tails'\n",
       "\\item 'tails'\n",
       "\\item 'heads'\n",
       "\\item 'tails'\n",
       "\\item 'heads'\n",
       "\\item 'tails'\n",
       "\\item 'heads'\n",
       "\\item 'tails'\n",
       "\\item 'heads'\n",
       "\\item 'heads'\n",
       "\\item 'heads'\n",
       "\\item 'tails'\n",
       "\\item 'tails'\n",
       "\\item 'tails'\n",
       "\\item 'heads'\n",
       "\\item 'heads'\n",
       "\\item 'tails'\n",
       "\\item 'heads'\n",
       "\\item 'heads'\n",
       "\\item 'heads'\n",
       "\\item 'tails'\n",
       "\\item 'heads'\n",
       "\\item 'heads'\n",
       "\\item 'heads'\n",
       "\\item 'heads'\n",
       "\\item 'tails'\n",
       "\\item 'tails'\n",
       "\\item 'tails'\n",
       "\\item 'heads'\n",
       "\\item 'heads'\n",
       "\\item 'tails'\n",
       "\\item 'tails'\n",
       "\\item 'heads'\n",
       "\\item 'tails'\n",
       "\\item 'heads'\n",
       "\\item 'tails'\n",
       "\\item 'heads'\n",
       "\\item 'tails'\n",
       "\\item 'tails'\n",
       "\\item 'tails'\n",
       "\\item 'heads'\n",
       "\\item 'tails'\n",
       "\\item 'tails'\n",
       "\\item 'heads'\n",
       "\\item 'heads'\n",
       "\\item 'tails'\n",
       "\\end{enumerate*}\n"
      ],
      "text/markdown": [
       "1. 'tails'\n",
       "2. 'heads'\n",
       "3. 'heads'\n",
       "4. 'heads'\n",
       "5. 'heads'\n",
       "6. 'tails'\n",
       "7. 'heads'\n",
       "8. 'heads'\n",
       "9. 'heads'\n",
       "10. 'heads'\n",
       "11. 'heads'\n",
       "12. 'tails'\n",
       "13. 'heads'\n",
       "14. 'heads'\n",
       "15. 'heads'\n",
       "16. 'tails'\n",
       "17. 'tails'\n",
       "18. 'heads'\n",
       "19. 'tails'\n",
       "20. 'heads'\n",
       "21. 'tails'\n",
       "22. 'heads'\n",
       "23. 'heads'\n",
       "24. 'heads'\n",
       "25. 'tails'\n",
       "26. 'heads'\n",
       "27. 'heads'\n",
       "28. 'heads'\n",
       "29. 'tails'\n",
       "30. 'tails'\n",
       "31. 'tails'\n",
       "32. 'tails'\n",
       "33. 'tails'\n",
       "34. 'tails'\n",
       "35. 'heads'\n",
       "36. 'heads'\n",
       "37. 'tails'\n",
       "38. 'tails'\n",
       "39. 'tails'\n",
       "40. 'heads'\n",
       "41. 'heads'\n",
       "42. 'heads'\n",
       "43. 'heads'\n",
       "44. 'tails'\n",
       "45. 'tails'\n",
       "46. 'heads'\n",
       "47. 'tails'\n",
       "48. 'tails'\n",
       "49. 'tails'\n",
       "50. 'heads'\n",
       "51. 'heads'\n",
       "52. 'tails'\n",
       "53. 'heads'\n",
       "54. 'heads'\n",
       "55. 'tails'\n",
       "56. 'tails'\n",
       "57. 'heads'\n",
       "58. 'tails'\n",
       "59. 'heads'\n",
       "60. 'tails'\n",
       "61. 'heads'\n",
       "62. 'tails'\n",
       "63. 'heads'\n",
       "64. 'heads'\n",
       "65. 'heads'\n",
       "66. 'tails'\n",
       "67. 'tails'\n",
       "68. 'tails'\n",
       "69. 'heads'\n",
       "70. 'heads'\n",
       "71. 'tails'\n",
       "72. 'heads'\n",
       "73. 'heads'\n",
       "74. 'heads'\n",
       "75. 'tails'\n",
       "76. 'heads'\n",
       "77. 'heads'\n",
       "78. 'heads'\n",
       "79. 'heads'\n",
       "80. 'tails'\n",
       "81. 'tails'\n",
       "82. 'tails'\n",
       "83. 'heads'\n",
       "84. 'heads'\n",
       "85. 'tails'\n",
       "86. 'tails'\n",
       "87. 'heads'\n",
       "88. 'tails'\n",
       "89. 'heads'\n",
       "90. 'tails'\n",
       "91. 'heads'\n",
       "92. 'tails'\n",
       "93. 'tails'\n",
       "94. 'tails'\n",
       "95. 'heads'\n",
       "96. 'tails'\n",
       "97. 'tails'\n",
       "98. 'heads'\n",
       "99. 'heads'\n",
       "100. 'tails'\n",
       "\n",
       "\n"
      ],
      "text/plain": [
       "  [1] \"tails\" \"heads\" \"heads\" \"heads\" \"heads\" \"tails\" \"heads\" \"heads\" \"heads\"\n",
       " [10] \"heads\" \"heads\" \"tails\" \"heads\" \"heads\" \"heads\" \"tails\" \"tails\" \"heads\"\n",
       " [19] \"tails\" \"heads\" \"tails\" \"heads\" \"heads\" \"heads\" \"tails\" \"heads\" \"heads\"\n",
       " [28] \"heads\" \"tails\" \"tails\" \"tails\" \"tails\" \"tails\" \"tails\" \"heads\" \"heads\"\n",
       " [37] \"tails\" \"tails\" \"tails\" \"heads\" \"heads\" \"heads\" \"heads\" \"tails\" \"tails\"\n",
       " [46] \"heads\" \"tails\" \"tails\" \"tails\" \"heads\" \"heads\" \"tails\" \"heads\" \"heads\"\n",
       " [55] \"tails\" \"tails\" \"heads\" \"tails\" \"heads\" \"tails\" \"heads\" \"tails\" \"heads\"\n",
       " [64] \"heads\" \"heads\" \"tails\" \"tails\" \"tails\" \"heads\" \"heads\" \"tails\" \"heads\"\n",
       " [73] \"heads\" \"heads\" \"tails\" \"heads\" \"heads\" \"heads\" \"heads\" \"tails\" \"tails\"\n",
       " [82] \"tails\" \"heads\" \"heads\" \"tails\" \"tails\" \"heads\" \"tails\" \"heads\" \"tails\"\n",
       " [91] \"heads\" \"tails\" \"tails\" \"tails\" \"heads\" \"tails\" \"tails\" \"heads\" \"heads\"\n",
       "[100] \"tails\""
      ]
     },
     "metadata": {},
     "output_type": "display_data"
    }
   ],
   "source": [
    "sample(c(\"heads\", \"tails\"), 100, replace = T) # a sample of 100 coin tosses"
   ]
  },
  {
   "cell_type": "markdown",
   "metadata": {},
   "source": [
    "If you want to repeat a particular random process multiple times, the go-to function is replicate(). This just creates a vector of the outputs produced by repeating a particular command multiple times. For example, suppose we wish to study the distribution of the number of heads in 100 coin tosses. We'll represent 0 as tails and 1 as heads."
   ]
  },
  {
   "cell_type": "code",
   "execution_count": 113,
   "metadata": {
    "collapsed": false
   },
   "outputs": [
    {
     "data": {
      "text/html": [
       "54"
      ],
      "text/latex": [
       "54"
      ],
      "text/markdown": [
       "54"
      ],
      "text/plain": [
       "[1] 54"
      ]
     },
     "metadata": {},
     "output_type": "display_data"
    }
   ],
   "source": [
    "sum(sample(0:1, 100, replace = T)) # This gives us the number of heads in one sample of 100 coin tosses."
   ]
  },
  {
   "cell_type": "code",
   "execution_count": 114,
   "metadata": {
    "collapsed": false
   },
   "outputs": [
    {
     "data": {
      "text/html": [
       "<ol class=list-inline>\n",
       "\t<li>48</li>\n",
       "\t<li>49</li>\n",
       "\t<li>49</li>\n",
       "\t<li>49</li>\n",
       "\t<li>46</li>\n",
       "\t<li>48</li>\n",
       "\t<li>50</li>\n",
       "\t<li>51</li>\n",
       "\t<li>47</li>\n",
       "\t<li>39</li>\n",
       "\t<li>57</li>\n",
       "\t<li>46</li>\n",
       "\t<li>51</li>\n",
       "\t<li>56</li>\n",
       "\t<li>54</li>\n",
       "\t<li>46</li>\n",
       "\t<li>47</li>\n",
       "\t<li>47</li>\n",
       "\t<li>54</li>\n",
       "\t<li>49</li>\n",
       "\t<li>46</li>\n",
       "\t<li>49</li>\n",
       "\t<li>45</li>\n",
       "\t<li>51</li>\n",
       "\t<li>55</li>\n",
       "\t<li>53</li>\n",
       "\t<li>51</li>\n",
       "\t<li>57</li>\n",
       "\t<li>56</li>\n",
       "\t<li>52</li>\n",
       "</ol>\n"
      ],
      "text/latex": [
       "\\begin{enumerate*}\n",
       "\\item 48\n",
       "\\item 49\n",
       "\\item 49\n",
       "\\item 49\n",
       "\\item 46\n",
       "\\item 48\n",
       "\\item 50\n",
       "\\item 51\n",
       "\\item 47\n",
       "\\item 39\n",
       "\\item 57\n",
       "\\item 46\n",
       "\\item 51\n",
       "\\item 56\n",
       "\\item 54\n",
       "\\item 46\n",
       "\\item 47\n",
       "\\item 47\n",
       "\\item 54\n",
       "\\item 49\n",
       "\\item 46\n",
       "\\item 49\n",
       "\\item 45\n",
       "\\item 51\n",
       "\\item 55\n",
       "\\item 53\n",
       "\\item 51\n",
       "\\item 57\n",
       "\\item 56\n",
       "\\item 52\n",
       "\\end{enumerate*}\n"
      ],
      "text/markdown": [
       "1. 48\n",
       "2. 49\n",
       "3. 49\n",
       "4. 49\n",
       "5. 46\n",
       "6. 48\n",
       "7. 50\n",
       "8. 51\n",
       "9. 47\n",
       "10. 39\n",
       "11. 57\n",
       "12. 46\n",
       "13. 51\n",
       "14. 56\n",
       "15. 54\n",
       "16. 46\n",
       "17. 47\n",
       "18. 47\n",
       "19. 54\n",
       "20. 49\n",
       "21. 46\n",
       "22. 49\n",
       "23. 45\n",
       "24. 51\n",
       "25. 55\n",
       "26. 53\n",
       "27. 51\n",
       "28. 57\n",
       "29. 56\n",
       "30. 52\n",
       "\n",
       "\n"
      ],
      "text/plain": [
       " [1] 48 49 49 49 46 48 50 51 47 39 57 46 51 56 54 46 47 47 54 49 46 49 45 51 55\n",
       "[26] 53 51 57 56 52"
      ]
     },
     "metadata": {},
     "output_type": "display_data"
    }
   ],
   "source": [
    "replicate(30, sum(sample(0:1, 100, replace = T))) # This repeats the experiment 30 times."
   ]
  },
  {
   "cell_type": "markdown",
   "metadata": {},
   "source": [
    "You can also sample from particular distributions with certain built-in functions. For details, check out ?Distributions."
   ]
  },
  {
   "cell_type": "code",
   "execution_count": 115,
   "metadata": {
    "collapsed": false
   },
   "outputs": [
    {
     "data": {
      "text/html": [
       "<ol class=list-inline>\n",
       "\t<li>111</li>\n",
       "\t<li>91</li>\n",
       "\t<li>120</li>\n",
       "\t<li>93</li>\n",
       "\t<li>83</li>\n",
       "\t<li>85</li>\n",
       "\t<li>79</li>\n",
       "\t<li>69</li>\n",
       "\t<li>107</li>\n",
       "\t<li>109</li>\n",
       "</ol>\n"
      ],
      "text/latex": [
       "\\begin{enumerate*}\n",
       "\\item 111\n",
       "\\item 91\n",
       "\\item 120\n",
       "\\item 93\n",
       "\\item 83\n",
       "\\item 85\n",
       "\\item 79\n",
       "\\item 69\n",
       "\\item 107\n",
       "\\item 109\n",
       "\\end{enumerate*}\n"
      ],
      "text/markdown": [
       "1. 111\n",
       "2. 91\n",
       "3. 120\n",
       "4. 93\n",
       "5. 83\n",
       "6. 85\n",
       "7. 79\n",
       "8. 69\n",
       "9. 107\n",
       "10. 109\n",
       "\n",
       "\n"
      ],
      "text/plain": [
       " [1] 111  91 120  93  83  85  79  69 107 109"
      ]
     },
     "metadata": {},
     "output_type": "display_data"
    }
   ],
   "source": [
    "floor(rnorm(10, mean = 100, sd = 15)) # Ten random IQ scores"
   ]
  },
  {
   "cell_type": "code",
   "execution_count": 116,
   "metadata": {
    "collapsed": false
   },
   "outputs": [
    {
     "data": {
      "text/html": [
       "<ol class=list-inline>\n",
       "\t<li>5.71650702040642</li>\n",
       "\t<li>3.16959243291622</li>\n",
       "\t<li>10.8236329905213</li>\n",
       "\t<li>6.39574619475752</li>\n",
       "\t<li>17.9206080353799</li>\n",
       "</ol>\n"
      ],
      "text/latex": [
       "\\begin{enumerate*}\n",
       "\\item 5.71650702040642\n",
       "\\item 3.16959243291622\n",
       "\\item 10.8236329905213\n",
       "\\item 6.39574619475752\n",
       "\\item 17.9206080353799\n",
       "\\end{enumerate*}\n"
      ],
      "text/markdown": [
       "1. 5.71650702040642\n",
       "2. 3.16959243291622\n",
       "3. 10.8236329905213\n",
       "4. 6.39574619475752\n",
       "5. 17.9206080353799\n",
       "\n",
       "\n"
      ],
      "text/plain": [
       "[1]  5.716507  3.169592 10.823633  6.395746 17.920608"
      ]
     },
     "metadata": {},
     "output_type": "display_data"
    }
   ],
   "source": [
    "rexp(5, 0.1) # Five random failure times, with mean fail time = 10"
   ]
  },
  {
   "cell_type": "markdown",
   "metadata": {},
   "source": [
    "# Visualizing data"
   ]
  },
  {
   "cell_type": "markdown",
   "metadata": {},
   "source": [
    "## Example 1: Random walk"
   ]
  },
  {
   "cell_type": "markdown",
   "metadata": {},
   "source": [
    "Our first example of visualizing data will be a simple random walk. We can model this by starting at 0, flipping a coin at each step, and adding 1 to our running total if we get heads and -1 if we get tails. We know that with the following line, we can get the vector of coin flips:"
   ]
  },
  {
   "cell_type": "code",
   "execution_count": 117,
   "metadata": {
    "collapsed": false
   },
   "outputs": [
    {
     "data": {
      "text/html": [
       "<ol class=list-inline>\n",
       "\t<li>1</li>\n",
       "\t<li>1</li>\n",
       "\t<li>1</li>\n",
       "\t<li>-1</li>\n",
       "\t<li>-1</li>\n",
       "\t<li>-1</li>\n",
       "\t<li>-1</li>\n",
       "\t<li>1</li>\n",
       "\t<li>-1</li>\n",
       "\t<li>-1</li>\n",
       "\t<li>1</li>\n",
       "\t<li>-1</li>\n",
       "\t<li>1</li>\n",
       "\t<li>1</li>\n",
       "\t<li>1</li>\n",
       "\t<li>1</li>\n",
       "\t<li>1</li>\n",
       "\t<li>1</li>\n",
       "\t<li>-1</li>\n",
       "\t<li>1</li>\n",
       "\t<li>-1</li>\n",
       "\t<li>1</li>\n",
       "\t<li>1</li>\n",
       "\t<li>1</li>\n",
       "\t<li>-1</li>\n",
       "\t<li>1</li>\n",
       "\t<li>-1</li>\n",
       "\t<li>1</li>\n",
       "\t<li>1</li>\n",
       "\t<li>1</li>\n",
       "\t<li>1</li>\n",
       "\t<li>-1</li>\n",
       "\t<li>-1</li>\n",
       "\t<li>-1</li>\n",
       "\t<li>-1</li>\n",
       "\t<li>-1</li>\n",
       "\t<li>1</li>\n",
       "\t<li>1</li>\n",
       "\t<li>1</li>\n",
       "\t<li>1</li>\n",
       "\t<li>-1</li>\n",
       "\t<li>1</li>\n",
       "\t<li>1</li>\n",
       "\t<li>1</li>\n",
       "\t<li>1</li>\n",
       "\t<li>-1</li>\n",
       "\t<li>-1</li>\n",
       "\t<li>-1</li>\n",
       "\t<li>-1</li>\n",
       "\t<li>-1</li>\n",
       "\t<li>-1</li>\n",
       "\t<li>1</li>\n",
       "\t<li>-1</li>\n",
       "\t<li>-1</li>\n",
       "\t<li>-1</li>\n",
       "\t<li>-1</li>\n",
       "\t<li>-1</li>\n",
       "\t<li>-1</li>\n",
       "\t<li>1</li>\n",
       "\t<li>-1</li>\n",
       "\t<li>-1</li>\n",
       "\t<li>-1</li>\n",
       "\t<li>1</li>\n",
       "\t<li>1</li>\n",
       "\t<li>1</li>\n",
       "\t<li>-1</li>\n",
       "\t<li>-1</li>\n",
       "\t<li>1</li>\n",
       "\t<li>1</li>\n",
       "\t<li>-1</li>\n",
       "\t<li>1</li>\n",
       "\t<li>1</li>\n",
       "\t<li>1</li>\n",
       "\t<li>-1</li>\n",
       "\t<li>-1</li>\n",
       "\t<li>1</li>\n",
       "\t<li>-1</li>\n",
       "\t<li>1</li>\n",
       "\t<li>1</li>\n",
       "\t<li>-1</li>\n",
       "\t<li>-1</li>\n",
       "\t<li>-1</li>\n",
       "\t<li>1</li>\n",
       "\t<li>1</li>\n",
       "\t<li>1</li>\n",
       "\t<li>-1</li>\n",
       "\t<li>-1</li>\n",
       "\t<li>-1</li>\n",
       "\t<li>-1</li>\n",
       "\t<li>1</li>\n",
       "\t<li>-1</li>\n",
       "\t<li>-1</li>\n",
       "\t<li>1</li>\n",
       "\t<li>-1</li>\n",
       "\t<li>1</li>\n",
       "\t<li>1</li>\n",
       "\t<li>-1</li>\n",
       "\t<li>-1</li>\n",
       "\t<li>-1</li>\n",
       "\t<li>1</li>\n",
       "</ol>\n"
      ],
      "text/latex": [
       "\\begin{enumerate*}\n",
       "\\item 1\n",
       "\\item 1\n",
       "\\item 1\n",
       "\\item -1\n",
       "\\item -1\n",
       "\\item -1\n",
       "\\item -1\n",
       "\\item 1\n",
       "\\item -1\n",
       "\\item -1\n",
       "\\item 1\n",
       "\\item -1\n",
       "\\item 1\n",
       "\\item 1\n",
       "\\item 1\n",
       "\\item 1\n",
       "\\item 1\n",
       "\\item 1\n",
       "\\item -1\n",
       "\\item 1\n",
       "\\item -1\n",
       "\\item 1\n",
       "\\item 1\n",
       "\\item 1\n",
       "\\item -1\n",
       "\\item 1\n",
       "\\item -1\n",
       "\\item 1\n",
       "\\item 1\n",
       "\\item 1\n",
       "\\item 1\n",
       "\\item -1\n",
       "\\item -1\n",
       "\\item -1\n",
       "\\item -1\n",
       "\\item -1\n",
       "\\item 1\n",
       "\\item 1\n",
       "\\item 1\n",
       "\\item 1\n",
       "\\item -1\n",
       "\\item 1\n",
       "\\item 1\n",
       "\\item 1\n",
       "\\item 1\n",
       "\\item -1\n",
       "\\item -1\n",
       "\\item -1\n",
       "\\item -1\n",
       "\\item -1\n",
       "\\item -1\n",
       "\\item 1\n",
       "\\item -1\n",
       "\\item -1\n",
       "\\item -1\n",
       "\\item -1\n",
       "\\item -1\n",
       "\\item -1\n",
       "\\item 1\n",
       "\\item -1\n",
       "\\item -1\n",
       "\\item -1\n",
       "\\item 1\n",
       "\\item 1\n",
       "\\item 1\n",
       "\\item -1\n",
       "\\item -1\n",
       "\\item 1\n",
       "\\item 1\n",
       "\\item -1\n",
       "\\item 1\n",
       "\\item 1\n",
       "\\item 1\n",
       "\\item -1\n",
       "\\item -1\n",
       "\\item 1\n",
       "\\item -1\n",
       "\\item 1\n",
       "\\item 1\n",
       "\\item -1\n",
       "\\item -1\n",
       "\\item -1\n",
       "\\item 1\n",
       "\\item 1\n",
       "\\item 1\n",
       "\\item -1\n",
       "\\item -1\n",
       "\\item -1\n",
       "\\item -1\n",
       "\\item 1\n",
       "\\item -1\n",
       "\\item -1\n",
       "\\item 1\n",
       "\\item -1\n",
       "\\item 1\n",
       "\\item 1\n",
       "\\item -1\n",
       "\\item -1\n",
       "\\item -1\n",
       "\\item 1\n",
       "\\end{enumerate*}\n"
      ],
      "text/markdown": [
       "1. 1\n",
       "2. 1\n",
       "3. 1\n",
       "4. -1\n",
       "5. -1\n",
       "6. -1\n",
       "7. -1\n",
       "8. 1\n",
       "9. -1\n",
       "10. -1\n",
       "11. 1\n",
       "12. -1\n",
       "13. 1\n",
       "14. 1\n",
       "15. 1\n",
       "16. 1\n",
       "17. 1\n",
       "18. 1\n",
       "19. -1\n",
       "20. 1\n",
       "21. -1\n",
       "22. 1\n",
       "23. 1\n",
       "24. 1\n",
       "25. -1\n",
       "26. 1\n",
       "27. -1\n",
       "28. 1\n",
       "29. 1\n",
       "30. 1\n",
       "31. 1\n",
       "32. -1\n",
       "33. -1\n",
       "34. -1\n",
       "35. -1\n",
       "36. -1\n",
       "37. 1\n",
       "38. 1\n",
       "39. 1\n",
       "40. 1\n",
       "41. -1\n",
       "42. 1\n",
       "43. 1\n",
       "44. 1\n",
       "45. 1\n",
       "46. -1\n",
       "47. -1\n",
       "48. -1\n",
       "49. -1\n",
       "50. -1\n",
       "51. -1\n",
       "52. 1\n",
       "53. -1\n",
       "54. -1\n",
       "55. -1\n",
       "56. -1\n",
       "57. -1\n",
       "58. -1\n",
       "59. 1\n",
       "60. -1\n",
       "61. -1\n",
       "62. -1\n",
       "63. 1\n",
       "64. 1\n",
       "65. 1\n",
       "66. -1\n",
       "67. -1\n",
       "68. 1\n",
       "69. 1\n",
       "70. -1\n",
       "71. 1\n",
       "72. 1\n",
       "73. 1\n",
       "74. -1\n",
       "75. -1\n",
       "76. 1\n",
       "77. -1\n",
       "78. 1\n",
       "79. 1\n",
       "80. -1\n",
       "81. -1\n",
       "82. -1\n",
       "83. 1\n",
       "84. 1\n",
       "85. 1\n",
       "86. -1\n",
       "87. -1\n",
       "88. -1\n",
       "89. -1\n",
       "90. 1\n",
       "91. -1\n",
       "92. -1\n",
       "93. 1\n",
       "94. -1\n",
       "95. 1\n",
       "96. 1\n",
       "97. -1\n",
       "98. -1\n",
       "99. -1\n",
       "100. 1\n",
       "\n",
       "\n"
      ],
      "text/plain": [
       "  [1]  1  1  1 -1 -1 -1 -1  1 -1 -1  1 -1  1  1  1  1  1  1 -1  1 -1  1  1  1 -1\n",
       " [26]  1 -1  1  1  1  1 -1 -1 -1 -1 -1  1  1  1  1 -1  1  1  1  1 -1 -1 -1 -1 -1\n",
       " [51] -1  1 -1 -1 -1 -1 -1 -1  1 -1 -1 -1  1  1  1 -1 -1  1  1 -1  1  1  1 -1 -1\n",
       " [76]  1 -1  1  1 -1 -1 -1  1  1  1 -1 -1 -1 -1  1 -1 -1  1 -1  1  1 -1 -1 -1  1"
      ]
     },
     "metadata": {},
     "output_type": "display_data"
    }
   ],
   "source": [
    "sample(c(-1,1), 100, replace = T)"
   ]
  },
  {
   "cell_type": "markdown",
   "metadata": {},
   "source": [
    "To get the running total, we can just pass the vector into the cumsum() (cumulative sum) function."
   ]
  },
  {
   "cell_type": "code",
   "execution_count": 118,
   "metadata": {
    "collapsed": false
   },
   "outputs": [
    {
     "data": {
      "text/html": [
       "<ol class=list-inline>\n",
       "\t<li>-1</li>\n",
       "\t<li>0</li>\n",
       "\t<li>-1</li>\n",
       "\t<li>-2</li>\n",
       "\t<li>-1</li>\n",
       "\t<li>0</li>\n",
       "\t<li>-1</li>\n",
       "\t<li>0</li>\n",
       "\t<li>1</li>\n",
       "\t<li>0</li>\n",
       "\t<li>-1</li>\n",
       "\t<li>-2</li>\n",
       "\t<li>-3</li>\n",
       "\t<li>-2</li>\n",
       "\t<li>-3</li>\n",
       "\t<li>-2</li>\n",
       "\t<li>-1</li>\n",
       "\t<li>-2</li>\n",
       "\t<li>-1</li>\n",
       "\t<li>0</li>\n",
       "\t<li>1</li>\n",
       "\t<li>0</li>\n",
       "\t<li>-1</li>\n",
       "\t<li>-2</li>\n",
       "\t<li>-1</li>\n",
       "\t<li>-2</li>\n",
       "\t<li>-3</li>\n",
       "\t<li>-4</li>\n",
       "\t<li>-5</li>\n",
       "\t<li>-6</li>\n",
       "\t<li>-7</li>\n",
       "\t<li>-8</li>\n",
       "\t<li>-9</li>\n",
       "\t<li>-10</li>\n",
       "\t<li>-11</li>\n",
       "\t<li>-12</li>\n",
       "\t<li>-11</li>\n",
       "\t<li>-12</li>\n",
       "\t<li>-13</li>\n",
       "\t<li>-14</li>\n",
       "\t<li>-13</li>\n",
       "\t<li>-14</li>\n",
       "\t<li>-13</li>\n",
       "\t<li>-14</li>\n",
       "\t<li>-15</li>\n",
       "\t<li>-16</li>\n",
       "\t<li>-17</li>\n",
       "\t<li>-18</li>\n",
       "\t<li>-19</li>\n",
       "\t<li>-20</li>\n",
       "\t<li>-21</li>\n",
       "\t<li>-22</li>\n",
       "\t<li>-21</li>\n",
       "\t<li>-20</li>\n",
       "\t<li>-19</li>\n",
       "\t<li>-18</li>\n",
       "\t<li>-17</li>\n",
       "\t<li>-16</li>\n",
       "\t<li>-17</li>\n",
       "\t<li>-18</li>\n",
       "\t<li>-17</li>\n",
       "\t<li>-16</li>\n",
       "\t<li>-15</li>\n",
       "\t<li>-16</li>\n",
       "\t<li>-17</li>\n",
       "\t<li>-16</li>\n",
       "\t<li>-15</li>\n",
       "\t<li>-16</li>\n",
       "\t<li>-17</li>\n",
       "\t<li>-16</li>\n",
       "\t<li>-15</li>\n",
       "\t<li>-16</li>\n",
       "\t<li>-17</li>\n",
       "\t<li>-18</li>\n",
       "\t<li>-17</li>\n",
       "\t<li>-16</li>\n",
       "\t<li>-17</li>\n",
       "\t<li>-18</li>\n",
       "\t<li>-17</li>\n",
       "\t<li>-18</li>\n",
       "\t<li>-17</li>\n",
       "\t<li>-16</li>\n",
       "\t<li>-17</li>\n",
       "\t<li>-18</li>\n",
       "\t<li>-17</li>\n",
       "\t<li>-18</li>\n",
       "\t<li>-19</li>\n",
       "\t<li>-18</li>\n",
       "\t<li>-17</li>\n",
       "\t<li>-18</li>\n",
       "\t<li>-17</li>\n",
       "\t<li>-16</li>\n",
       "\t<li>-15</li>\n",
       "\t<li>-14</li>\n",
       "\t<li>-13</li>\n",
       "\t<li>-12</li>\n",
       "\t<li>-11</li>\n",
       "\t<li>-10</li>\n",
       "\t<li>-9</li>\n",
       "\t<li>-8</li>\n",
       "</ol>\n"
      ],
      "text/latex": [
       "\\begin{enumerate*}\n",
       "\\item -1\n",
       "\\item 0\n",
       "\\item -1\n",
       "\\item -2\n",
       "\\item -1\n",
       "\\item 0\n",
       "\\item -1\n",
       "\\item 0\n",
       "\\item 1\n",
       "\\item 0\n",
       "\\item -1\n",
       "\\item -2\n",
       "\\item -3\n",
       "\\item -2\n",
       "\\item -3\n",
       "\\item -2\n",
       "\\item -1\n",
       "\\item -2\n",
       "\\item -1\n",
       "\\item 0\n",
       "\\item 1\n",
       "\\item 0\n",
       "\\item -1\n",
       "\\item -2\n",
       "\\item -1\n",
       "\\item -2\n",
       "\\item -3\n",
       "\\item -4\n",
       "\\item -5\n",
       "\\item -6\n",
       "\\item -7\n",
       "\\item -8\n",
       "\\item -9\n",
       "\\item -10\n",
       "\\item -11\n",
       "\\item -12\n",
       "\\item -11\n",
       "\\item -12\n",
       "\\item -13\n",
       "\\item -14\n",
       "\\item -13\n",
       "\\item -14\n",
       "\\item -13\n",
       "\\item -14\n",
       "\\item -15\n",
       "\\item -16\n",
       "\\item -17\n",
       "\\item -18\n",
       "\\item -19\n",
       "\\item -20\n",
       "\\item -21\n",
       "\\item -22\n",
       "\\item -21\n",
       "\\item -20\n",
       "\\item -19\n",
       "\\item -18\n",
       "\\item -17\n",
       "\\item -16\n",
       "\\item -17\n",
       "\\item -18\n",
       "\\item -17\n",
       "\\item -16\n",
       "\\item -15\n",
       "\\item -16\n",
       "\\item -17\n",
       "\\item -16\n",
       "\\item -15\n",
       "\\item -16\n",
       "\\item -17\n",
       "\\item -16\n",
       "\\item -15\n",
       "\\item -16\n",
       "\\item -17\n",
       "\\item -18\n",
       "\\item -17\n",
       "\\item -16\n",
       "\\item -17\n",
       "\\item -18\n",
       "\\item -17\n",
       "\\item -18\n",
       "\\item -17\n",
       "\\item -16\n",
       "\\item -17\n",
       "\\item -18\n",
       "\\item -17\n",
       "\\item -18\n",
       "\\item -19\n",
       "\\item -18\n",
       "\\item -17\n",
       "\\item -18\n",
       "\\item -17\n",
       "\\item -16\n",
       "\\item -15\n",
       "\\item -14\n",
       "\\item -13\n",
       "\\item -12\n",
       "\\item -11\n",
       "\\item -10\n",
       "\\item -9\n",
       "\\item -8\n",
       "\\end{enumerate*}\n"
      ],
      "text/markdown": [
       "1. -1\n",
       "2. 0\n",
       "3. -1\n",
       "4. -2\n",
       "5. -1\n",
       "6. 0\n",
       "7. -1\n",
       "8. 0\n",
       "9. 1\n",
       "10. 0\n",
       "11. -1\n",
       "12. -2\n",
       "13. -3\n",
       "14. -2\n",
       "15. -3\n",
       "16. -2\n",
       "17. -1\n",
       "18. -2\n",
       "19. -1\n",
       "20. 0\n",
       "21. 1\n",
       "22. 0\n",
       "23. -1\n",
       "24. -2\n",
       "25. -1\n",
       "26. -2\n",
       "27. -3\n",
       "28. -4\n",
       "29. -5\n",
       "30. -6\n",
       "31. -7\n",
       "32. -8\n",
       "33. -9\n",
       "34. -10\n",
       "35. -11\n",
       "36. -12\n",
       "37. -11\n",
       "38. -12\n",
       "39. -13\n",
       "40. -14\n",
       "41. -13\n",
       "42. -14\n",
       "43. -13\n",
       "44. -14\n",
       "45. -15\n",
       "46. -16\n",
       "47. -17\n",
       "48. -18\n",
       "49. -19\n",
       "50. -20\n",
       "51. -21\n",
       "52. -22\n",
       "53. -21\n",
       "54. -20\n",
       "55. -19\n",
       "56. -18\n",
       "57. -17\n",
       "58. -16\n",
       "59. -17\n",
       "60. -18\n",
       "61. -17\n",
       "62. -16\n",
       "63. -15\n",
       "64. -16\n",
       "65. -17\n",
       "66. -16\n",
       "67. -15\n",
       "68. -16\n",
       "69. -17\n",
       "70. -16\n",
       "71. -15\n",
       "72. -16\n",
       "73. -17\n",
       "74. -18\n",
       "75. -17\n",
       "76. -16\n",
       "77. -17\n",
       "78. -18\n",
       "79. -17\n",
       "80. -18\n",
       "81. -17\n",
       "82. -16\n",
       "83. -17\n",
       "84. -18\n",
       "85. -17\n",
       "86. -18\n",
       "87. -19\n",
       "88. -18\n",
       "89. -17\n",
       "90. -18\n",
       "91. -17\n",
       "92. -16\n",
       "93. -15\n",
       "94. -14\n",
       "95. -13\n",
       "96. -12\n",
       "97. -11\n",
       "98. -10\n",
       "99. -9\n",
       "100. -8\n",
       "\n",
       "\n"
      ],
      "text/plain": [
       "  [1]  -1   0  -1  -2  -1   0  -1   0   1   0  -1  -2  -3  -2  -3  -2  -1  -2\n",
       " [19]  -1   0   1   0  -1  -2  -1  -2  -3  -4  -5  -6  -7  -8  -9 -10 -11 -12\n",
       " [37] -11 -12 -13 -14 -13 -14 -13 -14 -15 -16 -17 -18 -19 -20 -21 -22 -21 -20\n",
       " [55] -19 -18 -17 -16 -17 -18 -17 -16 -15 -16 -17 -16 -15 -16 -17 -16 -15 -16\n",
       " [73] -17 -18 -17 -16 -17 -18 -17 -18 -17 -16 -17 -18 -17 -18 -19 -18 -17 -18\n",
       " [91] -17 -16 -15 -14 -13 -12 -11 -10  -9  -8"
      ]
     },
     "metadata": {},
     "output_type": "display_data"
    }
   ],
   "source": [
    "walk = cumsum(sample(c(-1,1), 100, replace = T))\n",
    "walk"
   ]
  },
  {
   "cell_type": "markdown",
   "metadata": {},
   "source": [
    "Let's see what this looks like:"
   ]
  },
  {
   "cell_type": "code",
   "execution_count": 119,
   "metadata": {
    "collapsed": false
   },
   "outputs": [
    {
     "data": {
      "image/png": "[encoded data removed]",
      "text/plain": [
       "plot without title"
      ]
     },
     "metadata": {},
     "output_type": "display_data"
    }
   ],
   "source": [
    "plot(walk)"
   ]
  },
  {
   "cell_type": "markdown",
   "metadata": {},
   "source": [
    "We can see the pattern, but there's a lot of room for improvement. First, since we are modeling a process over time, we would like to plot our data with lines, not points. The type variable will let us change how we draw our data."
   ]
  },
  {
   "cell_type": "code",
   "execution_count": 120,
   "metadata": {
    "collapsed": false
   },
   "outputs": [
    {
     "data": {
      "image/png": "[encoded data removed]",
      "text/plain": [
       "plot without title"
      ]
     },
     "metadata": {},
     "output_type": "display_data"
    }
   ],
   "source": [
    "plot(walk, type = \"l\") # \"l\" for \"lines\""
   ]
  },
  {
   "cell_type": "markdown",
   "metadata": {},
   "source": [
    "We would also like to change the vertical range of the plot, to emphasize the direction of the random walk away from zero, the mean of the walk. Unfortunately, ?plot doesn't tell us anything useful. The trick is that plot() is actually a generic function that calls one of several specialized plotting functions depending on the data it is given. We need to look at the scatter plot function, plot.scatter(), to find out that we need to set the variable ylim."
   ]
  },
  {
   "cell_type": "code",
   "execution_count": 121,
   "metadata": {
    "collapsed": false
   },
   "outputs": [
    {
     "data": {
      "image/png": "[encoded data removed]",
      "text/plain": [
       "plot without title"
      ]
     },
     "metadata": {},
     "output_type": "display_data"
    }
   ],
   "source": [
    "plot(walk, type = \"l\", ylim = c(-max(abs(walk)), max(abs(walk))))"
   ]
  },
  {
   "cell_type": "markdown",
   "metadata": {},
   "source": [
    "Our axis labels aren't very descriptive. Let's change those with the \"xlab\" and \"ylab\" variables. We can also give our plot a title with the \"main\" variable."
   ]
  },
  {
   "cell_type": "code",
   "execution_count": 122,
   "metadata": {
    "collapsed": false
   },
   "outputs": [
    {
     "data": {
      "image/png": "[encoded data removed]",
      "text/plain": [
       "Plot with title “Random Walk”"
      ]
     },
     "metadata": {},
     "output_type": "display_data"
    }
   ],
   "source": [
    "plot(walk, type = \"l\", ylim = c(-max(abs(walk)), max(abs(walk))), xlab = \"Time\", ylab = \"Position\", main = \"Random Walk\")"
   ]
  },
  {
   "cell_type": "markdown",
   "metadata": {},
   "source": [
    "Finally, let's draw a line at x = 0 to show the mean value of the random walk. The abline() function is designed to add straight lines to plots, but that's pretty much all it's good for."
   ]
  },
  {
   "cell_type": "code",
   "execution_count": 123,
   "metadata": {
    "collapsed": false
   },
   "outputs": [
    {
     "data": {
      "image/png": "[encoded data removed]",
      "text/plain": [
       "Plot with title “Random Walk”"
      ]
     },
     "metadata": {},
     "output_type": "display_data"
    }
   ],
   "source": [
    "plot(walk, type = \"l\", ylim = c(-max(abs(walk)), max(abs(walk))), xlab = \"Time\", ylab = \"Position\", main = \"Random Walk\")\n",
    "abline(h = 0, lty = \"dashed\") # lty lets us choose how to draw the line"
   ]
  },
  {
   "cell_type": "markdown",
   "metadata": {},
   "source": [
    "## Example 2: Bivariate data"
   ]
  },
  {
   "cell_type": "markdown",
   "metadata": {},
   "source": [
    "Next, we'll graph some bivariate data from the mtcars dataset."
   ]
  },
  {
   "cell_type": "code",
   "execution_count": 124,
   "metadata": {
    "collapsed": false
   },
   "outputs": [
    {
     "data": {
      "image/png": "[encoded data removed]",
      "text/plain": [
       "Plot with title “1974 Motor Trend data”"
      ]
     },
     "metadata": {},
     "output_type": "display_data"
    }
   ],
   "source": [
    "plot(mtcars$wt, mtcars$disp, xlab = \"Weight (1000 lb.)\", ylab = \"Displacement (cu. in.)\", main = \"1974 Motor Trend data\")"
   ]
  },
  {
   "cell_type": "markdown",
   "metadata": {},
   "source": [
    "Let's try to do some linear regression. The lm() function computes a least squares regression model given a \"model expression\". We'll talk about how lm() works in a lot more detail later in the course."
   ]
  },
  {
   "cell_type": "code",
   "execution_count": 125,
   "metadata": {
    "collapsed": false
   },
   "outputs": [
    {
     "data": {
      "image/png": "[encoded data removed]",
      "text/plain": [
       "Plot with title “1974 Motor Trend data”"
      ]
     },
     "metadata": {},
     "output_type": "display_data"
    }
   ],
   "source": [
    "plot(mtcars$wt, mtcars$disp, xlab = \"Weight (1000 lb.)\", ylab = \"Displacement (cu. in.)\", main = \"1974 Motor Trend data\")\n",
    "abline(lm(disp ~ wt, mtcars), new = T, lty = \"dotted\", col = \"red\")"
   ]
  },
  {
   "cell_type": "markdown",
   "metadata": {},
   "source": [
    "## Example 3: Histograms"
   ]
  },
  {
   "cell_type": "markdown",
   "metadata": {},
   "source": [
    "Let's go back to the example mentioned earlier of studying the distribution of the number of heads in 100 coin flips. We can do this by taking many samples and plotting a histogram of the results."
   ]
  },
  {
   "cell_type": "code",
   "execution_count": 126,
   "metadata": {
    "collapsed": false
   },
   "outputs": [
    {
     "data": {
      "image/png": "[encoded data removed]",
      "text/plain": [
       "Plot with title “Histogram of heads”"
      ]
     },
     "metadata": {},
     "output_type": "display_data"
    }
   ],
   "source": [
    "heads = replicate(1000, sum(sample(0:1, 100, replace = T)))\n",
    "hist(heads)"
   ]
  },
  {
   "cell_type": "markdown",
   "metadata": {},
   "source": [
    "The results look pretty normally distributed. Let's try to make the relationship clearer by making the buckets more fine-grained."
   ]
  },
  {
   "cell_type": "code",
   "execution_count": 127,
   "metadata": {
    "collapsed": false
   },
   "outputs": [
    {
     "data": {
      "image/png": "[encoded data removed]",
      "text/plain": [
       "Plot with title “Histogram of heads”"
      ]
     },
     "metadata": {},
     "output_type": "display_data"
    }
   ],
   "source": [
    "hist(heads, breaks = 30)"
   ]
  },
  {
   "cell_type": "markdown",
   "metadata": {},
   "source": [
    "By default, hist() gives *frequency* histograms. If we want to treat the results of our experiments as generating a sample probability distribution, we can set the variable \"freq\" to false, and get a *relative frequency* histogram."
   ]
  },
  {
   "cell_type": "code",
   "execution_count": 128,
   "metadata": {
    "collapsed": false
   },
   "outputs": [
    {
     "data": {
      "image/png": "[encoded data removed]",
      "text/plain": [
       "Plot with title “Histogram of heads”"
      ]
     },
     "metadata": {},
     "output_type": "display_data"
    }
   ],
   "source": [
    "hist(heads, breaks = 30, freq = F)"
   ]
  },
  {
   "cell_type": "markdown",
   "metadata": {},
   "source": [
    "We'd like to draw a normal distribution over this histogram. Since a normal distribution is not a straight line, the easiest way to do this (as far as I know) is to generate many points of the curve and pass them into the lines() function. First, we generate a bunch of evenly spaced x-values using the seq() function mentioned earlier. We can then generate the y-values on the normal density function using the dnorm() function."
   ]
  },
  {
   "cell_type": "code",
   "execution_count": 129,
   "metadata": {
    "collapsed": false
   },
   "outputs": [
    {
     "data": {
      "image/png": "[encoded data removed]",
      "text/plain": [
       "Plot with title “Histogram of heads”"
      ]
     },
     "metadata": {},
     "output_type": "display_data"
    }
   ],
   "source": [
    "hist(heads, breaks = 30, freq = F)\n",
    "xs <- seq(20, 80, 0.01)\n",
    "lines(xs, dnorm(xs, mean = 100/2, sd = sqrt(100/4)), col = \"red\")"
   ]
  },
  {
   "cell_type": "code",
   "execution_count": null,
   "metadata": {
    "collapsed": true
   },
   "outputs": [],
   "source": []
  }
 ],
 "metadata": {
  "anaconda-cloud": {},
  "kernelspec": {
   "display_name": "R",
   "language": "R",
   "name": "ir"
  },
  "language_info": {
   "codemirror_mode": "r",
   "file_extension": ".r",
   "mimetype": "text/x-r-source",
   "name": "R",
   "pygments_lexer": "r",
   "version": "3.3.2"
  }
 },
 "nbformat": 4,
 "nbformat_minor": 0
}
