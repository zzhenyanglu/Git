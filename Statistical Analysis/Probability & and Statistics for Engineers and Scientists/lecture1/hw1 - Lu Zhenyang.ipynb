{
 "cells": [
  {
   "cell_type": "markdown",
   "metadata": {},
   "source": [
    "# Intro to computational data analysis \n",
    "# homework 1\n",
    "# Student name: Zhenyang Lu\n",
    "# CNETID: zzhenyanglu"
   ]
  },
  {
   "cell_type": "markdown",
   "metadata": {},
   "source": [
    "# Question 1: \n",
    "Let B be the length of base.\n",
    "Let H be the length of height, the range of distance X between the random chosen point and the base is [0,H].  \n",
    "Area of the original triangel is B*H/2. \n",
    "A new triangle can be formed by drawing a line that's parallel to the base, assuming the random point is on this line, thus the distance between the random point and the base is X. the newly created triangle's height is h and its base is proportional to that of the original at rate of (H-X)H, so it's B(H-X)h. So the area of it is, \n",
    "                   $$\\frac{B(H-X)^2}{2H}$$\n",
    "So the F(x) = 1 - (area of small triangle)/(area of orignal), which is, \n",
    "$$F(x) = 1 - \\frac{(H-X)^2}{H^2},  0\\leq x\\leq H$$\n",
    "$$F(x) =0, otherwise $$\n",
    "\n",
    "So, PDF is the differetiation of CDF, which is \n",
    "$$f(x) = \\frac{2(H-X)}{H^2}, ,  0\\leq x\\leq H $$\n",
    "$$f(x) =0, otherwise $$"
   ]
  },
  {
   "cell_type": "markdown",
   "metadata": {},
   "source": [
    "# Question 2.1:\n",
    " (a) probability that the cost from delays will be at least $200 equals to 1 - 0.9 = 0.1"
   ]
  },
  {
   "cell_type": "code",
   "execution_count": 6,
   "metadata": {
    "collapsed": false,
    "scrolled": true
   },
   "outputs": [
    {
     "data": {
      "image/png": "[encoded data removed]",
      "text/plain": [
       "Plot with title \"CDF of Y\""
      ]
     },
     "metadata": {},
     "output_type": "display_data"
    }
   ],
   "source": [
    "# PLOT OF CDF\n",
    "         pmf=c(0.2,0.5,0.2,0.1,0,0)\n",
    "         y=c(0,1,2,3,4,5)\n",
    "         cdf=cumsum(pmf)\n",
    "         plot(y,cdf,type=\"s\", ylab=\"F(x)\",col=2,xlab=\"x\",main=\"CDF of Y\")"
   ]
  },
  {
   "cell_type": "markdown",
   "metadata": {},
   "source": [
    "(b) PMF: \n",
    "            y |   0    1    2    3\n",
    "          p(y)| 0.2  0.5  0.2  0.1"
   ]
  },
  {
   "cell_type": "markdown",
   "metadata": {},
   "source": [
    "# Question 2.2:\n",
    "(1) the CDF of f(x) is its integration:\n",
    "                                 $$F(x) = \\frac{1}{2}kx^2 ,if 8<=x<=10 $$ \n",
    "since total area of CDF is 1, so according to the integration of f(x), \n",
    "                  $$\\frac{k}{2}*10^2 - \\frac{k}{2}*8^2 = 1 $$ \n",
    "so k = 1/18. \n",
    "\n",
    "So CDF function is $$F(x) = \\frac{x^2-64}{36} , 8 \\leqslant x \\leqslant 10$$\n",
    "$$F(x) = 0, otherwise$$\n",
    "\n",
    "$$P(8.6 \\leqslant x \\leqslant 9.8) = \\frac{9.8^2-64}{36} - \\frac{8.6^2-64}{36} = 0.613333$$\n",
    "\n",
    "(2) $$P(X \\leqslant 9.8 | X \\geqslant 8.4) = P(X \\leqslant 9.8 \\cap X \\geqslant 8.6)/P(X \\geqslant 8.6),$$\n",
    "\n",
    "$$P(X \\geqslant 8.6) = \\frac{10^2-64}{36} - \\frac{8.6^2-64}{36} = 0.7233333,$$\n",
    "\n",
    "So $$P(X \\leqslant 9.8 | X \\geqslant 8.4) = 0.613333/0.7233333 = 0.8479262$$"
   ]
  },
  {
   "cell_type": "markdown",
   "metadata": {},
   "source": [
    "# Question 2.3\n",
    "\n",
    "Y=3+6X, so $$X = \\frac{Y-3}{6} $$\n",
    "\n",
    "Since X ~ U(0,1), CDF of X is F(x) = x, if 0<= x <=1 \n",
    "\n",
    "So Y=3+6X, so $$0 \\leqslant X = \\frac{Y-3}{6} \\leqslant 1 , formular 1$$\n",
    "\n",
    "So $$3 \\leqslant Y \\leqslant 9 , formular 2$$\n",
    "\n",
    "On the other side, according to Example 3.2-5 on textbook, CDF of F(x)~U(3,9) should be \n",
    "\n",
    "$$F(x) = \\frac{x-3}{9-3} =  \\frac{x-3}{6} , if 3\\leqslant x \\leqslant 9, formular 3 $$\n",
    "\n",
    "Therefore, if we substitute F(x),x for X, Y in formular 1 and 2, we can get the same form of formular 3.\n"
   ]
  },
  {
   "cell_type": "markdown",
   "metadata": {},
   "source": [
    "# Question 2.4\n",
    "\n",
    "(a) probability that the duration between 0.5 and 1 equals to F(1) - F(0.5) = 1^2/4 - 0.5^2/4 = 0.1875\n",
    "\n",
    "(b) \n",
    "PDF of F(x) is \n",
    "\n",
    "f(x) = F'(x) = x/2 for x between 0 and 2, 0 for x smaller or equal to 0 and 1 for x larger or equal to 2. \n",
    "\n",
    "(c) \n",
    "\n",
    "Y = 60X\n",
    "\n",
    "P(Y<=y) = P(60X<=y) = P(X<=(y/60)) =  F(x/60)\n",
    "\n",
    " PDF of Y equals F'(y/60) = (1/60)*f(y/60) = (1/60)*(y/60)/2, which equals \n",
    "     $$ \\frac{1}{7200}  y,  0\\leqslant y \\leqslant 120  $$\n",
    "     $$ 0, otherwise $$ \n",
    " \n",
    " CDF of Y equals integration of f(y), which is \n",
    " \n",
    " $$ \\frac{1}{14400}  y^2,  0\\leqslant y \\leqslant 120  $$  \n",
    " $$ 0 , if y < 0 $$\n",
    " $$ 1 , if y>120 $$"
   ]
  },
  {
   "cell_type": "markdown",
   "metadata": {},
   "source": [
    "# Question 2.5\n",
    "\n",
    "the histogram does not provide a reasonable approximation to the uniform(0,1) PDF as shown by the following R code. However, the approximation is more and more accurate as the sample size goes larger and larger. As you could see, if the sample size goes to 1,000,000, the histogram gets much more closer to theoretical PDF of uniform (Just show sample size 1,000 and 1,000,000 as a comparison here). "
   ]
  },
  {
   "cell_type": "code",
   "execution_count": 11,
   "metadata": {
    "collapsed": false
   },
   "outputs": [
    {
     "data": {
      "image/png": "[encoded data removed]",
      "text/plain": [
       "Plot with title \"Histogram of runif(1000)\""
      ]
     },
     "metadata": {},
     "output_type": "display_data"
    },
    {
     "data": {
      "image/png": "[encoded data removed]",
      "text/plain": [
       "Plot with title \"Histogram of runif(1e+06)\""
      ]
     },
     "metadata": {},
     "output_type": "display_data"
    }
   ],
   "source": [
    "set.seed(111)\n",
    "hist(runif(1000),freq=F)\n",
    "curve(dunif,0,1,add=T)\n",
    "# this histogram is more accurate\n",
    "hist(runif(1000000),freq=F)\n",
    "curve(dunif,0,1,add=T)"
   ]
  },
  {
   "cell_type": "markdown",
   "metadata": {},
   "source": [
    "# Question 3"
   ]
  },
  {
   "cell_type": "code",
   "execution_count": 7,
   "metadata": {
    "collapsed": false
   },
   "outputs": [
    {
     "name": "stdout",
     "output_type": "stream",
     "text": [
      "[1] 11\n",
      "[1] 35\n",
      "[1] 74\n",
      "[1] 130\n",
      "[1] 205\n",
      "[1] 301\n",
      "[1] 420\n",
      "[1] 564\n",
      "[1] 735\n",
      "[1] 935\n"
     ]
    },
    {
     "data": {
      "text/html": [
       "935"
      ],
      "text/latex": [
       "935"
      ],
      "text/markdown": [
       "935"
      ],
      "text/plain": [
       "[1] 935"
      ]
     },
     "metadata": {},
     "output_type": "display_data"
    }
   ],
   "source": [
    "#(a)\n",
    "vector1=c(1,2,3,4,5,6,7,8,9,10)\n",
    "vector2=c(11,12,13,14,15,16,17,18,19,20)\n",
    "\n",
    "dot.product <- function(v1,v2){\n",
    "    sum = 0\n",
    "    for (i in c(1:length(v1))){sum=sum+(v1[i]*v2[i]);print(sum)}   \n",
    "    return(sum)\n",
    "}\n",
    "\n",
    "dot.product(vector1,vector2)\n"
   ]
  },
  {
   "cell_type": "code",
   "execution_count": 18,
   "metadata": {
    "collapsed": false
   },
   "outputs": [
    {
     "name": "stdout",
     "output_type": "stream",
     "text": [
      "[1] \"component-wise multiplication of [1,2,3,4,5,6,7,8,9,10] and [11,12,13,14,15,16,17,18,19,20]:\"\n"
     ]
    },
    {
     "data": {
      "text/html": [
       "<ol class=list-inline>\n",
       "\t<li>11</li>\n",
       "\t<li>24</li>\n",
       "\t<li>39</li>\n",
       "\t<li>56</li>\n",
       "\t<li>75</li>\n",
       "\t<li>96</li>\n",
       "\t<li>119</li>\n",
       "\t<li>144</li>\n",
       "\t<li>171</li>\n",
       "\t<li>200</li>\n",
       "</ol>\n"
      ],
      "text/latex": [
       "\\begin{enumerate*}\n",
       "\\item 11\n",
       "\\item 24\n",
       "\\item 39\n",
       "\\item 56\n",
       "\\item 75\n",
       "\\item 96\n",
       "\\item 119\n",
       "\\item 144\n",
       "\\item 171\n",
       "\\item 200\n",
       "\\end{enumerate*}\n"
      ],
      "text/markdown": [
       "1. 11\n",
       "2. 24\n",
       "3. 39\n",
       "4. 56\n",
       "5. 75\n",
       "6. 96\n",
       "7. 119\n",
       "8. 144\n",
       "9. 171\n",
       "10. 200\n",
       "\n",
       "\n"
      ],
      "text/plain": [
       " [1]  11  24  39  56  75  96 119 144 171 200"
      ]
     },
     "metadata": {},
     "output_type": "display_data"
    }
   ],
   "source": [
    "# (b)\n",
    "print(\"component-wise multiplication of [1,2,3,4,5,6,7,8,9,10] and [11,12,13,14,15,16,17,18,19,20]:\")\n",
    "vector1=c(1,2,3,4,5,6,7,8,9,10)\n",
    "vector2=c(11,12,13,14,15,16,17,18,19,20)\n",
    "vector1*vector2"
   ]
  },
  {
   "cell_type": "code",
   "execution_count": 22,
   "metadata": {
    "collapsed": false
   },
   "outputs": [
    {
     "name": "stdout",
     "output_type": "stream",
     "text": [
      "[1] \"dot product of [1,2,3,4,5,6,7,8,9,10] and [11,12,13,14,15,16,17,18,19,20]:\"\n"
     ]
    },
    {
     "data": {
      "text/html": [
       "<table>\n",
       "<tbody>\n",
       "\t<tr><td> 11</td><td> 12</td><td> 13</td><td> 14</td><td> 15</td><td> 16</td><td> 17</td><td> 18</td><td> 19</td><td> 20</td></tr>\n",
       "\t<tr><td> 22</td><td> 24</td><td> 26</td><td> 28</td><td> 30</td><td> 32</td><td> 34</td><td> 36</td><td> 38</td><td> 40</td></tr>\n",
       "\t<tr><td> 33</td><td> 36</td><td> 39</td><td> 42</td><td> 45</td><td> 48</td><td> 51</td><td> 54</td><td> 57</td><td> 60</td></tr>\n",
       "\t<tr><td> 44</td><td> 48</td><td> 52</td><td> 56</td><td> 60</td><td> 64</td><td> 68</td><td> 72</td><td> 76</td><td> 80</td></tr>\n",
       "\t<tr><td> 55</td><td> 60</td><td> 65</td><td> 70</td><td> 75</td><td> 80</td><td> 85</td><td> 90</td><td> 95</td><td>100</td></tr>\n",
       "\t<tr><td> 66</td><td> 72</td><td> 78</td><td> 84</td><td> 90</td><td> 96</td><td>102</td><td>108</td><td>114</td><td>120</td></tr>\n",
       "\t<tr><td> 77</td><td> 84</td><td> 91</td><td> 98</td><td>105</td><td>112</td><td>119</td><td>126</td><td>133</td><td>140</td></tr>\n",
       "\t<tr><td> 88</td><td> 96</td><td>104</td><td>112</td><td>120</td><td>128</td><td>136</td><td>144</td><td>152</td><td>160</td></tr>\n",
       "\t<tr><td> 99</td><td>108</td><td>117</td><td>126</td><td>135</td><td>144</td><td>153</td><td>162</td><td>171</td><td>180</td></tr>\n",
       "\t<tr><td>110</td><td>120</td><td>130</td><td>140</td><td>150</td><td>160</td><td>170</td><td>180</td><td>190</td><td>200</td></tr>\n",
       "</tbody>\n",
       "</table>\n"
      ],
      "text/latex": [
       "\\begin{tabular}{llllllllll}\n",
       "\t  11 &  12 &  13 &  14 &  15 &  16 &  17 &  18 &  19 &  20\\\\\n",
       "\t  22 &  24 &  26 &  28 &  30 &  32 &  34 &  36 &  38 &  40\\\\\n",
       "\t  33 &  36 &  39 &  42 &  45 &  48 &  51 &  54 &  57 &  60\\\\\n",
       "\t  44 &  48 &  52 &  56 &  60 &  64 &  68 &  72 &  76 &  80\\\\\n",
       "\t  55 &  60 &  65 &  70 &  75 &  80 &  85 &  90 &  95 & 100\\\\\n",
       "\t  66 &  72 &  78 &  84 &  90 &  96 & 102 & 108 & 114 & 120\\\\\n",
       "\t  77 &  84 &  91 &  98 & 105 & 112 & 119 & 126 & 133 & 140\\\\\n",
       "\t  88 &  96 & 104 & 112 & 120 & 128 & 136 & 144 & 152 & 160\\\\\n",
       "\t  99 & 108 & 117 & 126 & 135 & 144 & 153 & 162 & 171 & 180\\\\\n",
       "\t 110 & 120 & 130 & 140 & 150 & 160 & 170 & 180 & 190 & 200\\\\\n",
       "\\end{tabular}\n"
      ],
      "text/markdown": [
       "\n",
       "|  11 |  12 |  13 |  14 |  15 |  16 |  17 |  18 |  19 |  20 | \n",
       "|  22 |  24 |  26 |  28 |  30 |  32 |  34 |  36 |  38 |  40 | \n",
       "|  33 |  36 |  39 |  42 |  45 |  48 |  51 |  54 |  57 |  60 | \n",
       "|  44 |  48 |  52 |  56 |  60 |  64 |  68 |  72 |  76 |  80 | \n",
       "|  55 |  60 |  65 |  70 |  75 |  80 |  85 |  90 |  95 | 100 | \n",
       "|  66 |  72 |  78 |  84 |  90 |  96 | 102 | 108 | 114 | 120 | \n",
       "|  77 |  84 |  91 |  98 | 105 | 112 | 119 | 126 | 133 | 140 | \n",
       "|  88 |  96 | 104 | 112 | 120 | 128 | 136 | 144 | 152 | 160 | \n",
       "|  99 | 108 | 117 | 126 | 135 | 144 | 153 | 162 | 171 | 180 | \n",
       "| 110 | 120 | 130 | 140 | 150 | 160 | 170 | 180 | 190 | 200 | \n",
       "\n",
       "\n"
      ],
      "text/plain": [
       "      [,1] [,2] [,3] [,4] [,5] [,6] [,7] [,8] [,9] [,10]\n",
       " [1,]  11   12   13   14   15   16   17   18   19   20  \n",
       " [2,]  22   24   26   28   30   32   34   36   38   40  \n",
       " [3,]  33   36   39   42   45   48   51   54   57   60  \n",
       " [4,]  44   48   52   56   60   64   68   72   76   80  \n",
       " [5,]  55   60   65   70   75   80   85   90   95  100  \n",
       " [6,]  66   72   78   84   90   96  102  108  114  120  \n",
       " [7,]  77   84   91   98  105  112  119  126  133  140  \n",
       " [8,]  88   96  104  112  120  128  136  144  152  160  \n",
       " [9,]  99  108  117  126  135  144  153  162  171  180  \n",
       "[10,] 110  120  130  140  150  160  170  180  190  200  "
      ]
     },
     "metadata": {},
     "output_type": "display_data"
    }
   ],
   "source": [
    "# (c) \n",
    "vector1=c(1,2,3,4,5,6,7,8,9,10)\n",
    "vector2=c(11,12,13,14,15,16,17,18,19,20)\n",
    "print(\"dot product of [1,2,3,4,5,6,7,8,9,10] and [11,12,13,14,15,16,17,18,19,20]:\")\n",
    "matrix(vector1,byrow=T) %*% vector2"
   ]
  },
  {
   "cell_type": "markdown",
   "metadata": {},
   "source": [
    "# Question 4"
   ]
  },
  {
   "cell_type": "code",
   "execution_count": 1,
   "metadata": {
    "collapsed": false
   },
   "outputs": [
    {
     "data": {
      "text/html": [
       "26.6636363636364"
      ],
      "text/latex": [
       "26.6636363636364"
      ],
      "text/markdown": [
       "26.6636363636364"
      ],
      "text/plain": [
       "[1] 26.66364"
      ]
     },
     "metadata": {},
     "output_type": "display_data"
    }
   ],
   "source": [
    "#(a)\n",
    "mean(mtcars[mtcars$cyl==4,]$mpg)"
   ]
  },
  {
   "cell_type": "code",
   "execution_count": 24,
   "metadata": {
    "collapsed": false
   },
   "outputs": [
    {
     "data": {
      "image/png": "[encoded data removed]",
      "text/plain": [
       "plot without title"
      ]
     },
     "metadata": {},
     "output_type": "display_data"
    }
   ],
   "source": [
    "#(b)\n",
    "barplot(table(mtcars$cyl),xlab=\"cylinder\",ylab=\"frequency\")"
   ]
  },
  {
   "cell_type": "code",
   "execution_count": 25,
   "metadata": {
    "collapsed": false
   },
   "outputs": [
    {
     "data": {
      "image/png": "[encoded data removed]",
      "text/plain": [
       "Plot with title \"1974 Motor Trend data\""
      ]
     },
     "metadata": {},
     "output_type": "display_data"
    }
   ],
   "source": [
    "#(c)\n",
    "plot(mtcars$wt, mtcars$mpg, xlab = \"Weight (1000 lb.)\", ylab = \"mileage per gallon\", main = \"1974 Motor Trend data\")\n",
    "abline(lm(mpg ~ wt, mtcars), new = T, lty = \"dotted\", col = \"red\")"
   ]
  },
  {
   "cell_type": "code",
   "execution_count": 26,
   "metadata": {
    "collapsed": false
   },
   "outputs": [
    {
     "name": "stdout",
     "output_type": "stream",
     "text": [
      "proportion of cars with Manual Transmission in mtcars 0.40625"
     ]
    }
   ],
   "source": [
    "#(d)\n",
    "cat(\"proportion of cars with Manual Transmission in mtcars\",nrow(mtcars[mtcars$am==1,])/nrow(mtcars))"
   ]
  },
  {
   "cell_type": "markdown",
   "metadata": {},
   "source": [
    "# Question 5 "
   ]
  },
  {
   "cell_type": "code",
   "execution_count": 31,
   "metadata": {
    "collapsed": false
   },
   "outputs": [
    {
     "name": "stdout",
     "output_type": "stream",
     "text": [
      "[1] \"number of gears between manual and automatic is different:\"\n",
      "[1] \"average gears of automatic\"\n"
     ]
    },
    {
     "data": {
      "text/html": [
       "3.21052631578947"
      ],
      "text/latex": [
       "3.21052631578947"
      ],
      "text/markdown": [
       "3.21052631578947"
      ],
      "text/plain": [
       "[1] 3.210526"
      ]
     },
     "metadata": {},
     "output_type": "display_data"
    },
    {
     "name": "stdout",
     "output_type": "stream",
     "text": [
      "[1] \"average gears of manual\"\n"
     ]
    },
    {
     "data": {
      "text/html": [
       "4.38461538461539"
      ],
      "text/latex": [
       "4.38461538461539"
      ],
      "text/markdown": [
       "4.38461538461539"
      ],
      "text/plain": [
       "[1] 4.384615"
      ]
     },
     "metadata": {},
     "output_type": "display_data"
    },
    {
     "name": "stdout",
     "output_type": "stream",
     "text": [
      "[1] \"number of disp between manual and automatic is different:\"\n",
      "[1] \"average disp of automatic\"\n"
     ]
    },
    {
     "data": {
      "text/html": [
       "290.378947368421"
      ],
      "text/latex": [
       "290.378947368421"
      ],
      "text/markdown": [
       "290.378947368421"
      ],
      "text/plain": [
       "[1] 290.3789"
      ]
     },
     "metadata": {},
     "output_type": "display_data"
    },
    {
     "name": "stdout",
     "output_type": "stream",
     "text": [
      "[1] \"average disp of manual\"\n"
     ]
    },
    {
     "data": {
      "text/html": [
       "143.530769230769"
      ],
      "text/latex": [
       "143.530769230769"
      ],
      "text/markdown": [
       "143.530769230769"
      ],
      "text/plain": [
       "[1] 143.5308"
      ]
     },
     "metadata": {},
     "output_type": "display_data"
    },
    {
     "name": "stdout",
     "output_type": "stream",
     "text": [
      "[1] \"number of disp between manual and automatic is different:\"\n",
      "[1] \"average horsepower of automatic\"\n"
     ]
    },
    {
     "data": {
      "text/html": [
       "160.263157894737"
      ],
      "text/latex": [
       "160.263157894737"
      ],
      "text/markdown": [
       "160.263157894737"
      ],
      "text/plain": [
       "[1] 160.2632"
      ]
     },
     "metadata": {},
     "output_type": "display_data"
    },
    {
     "name": "stdout",
     "output_type": "stream",
     "text": [
      "[1] \"average horsepower of manual\"\n"
     ]
    },
    {
     "data": {
      "text/html": [
       "126.846153846154"
      ],
      "text/latex": [
       "126.846153846154"
      ],
      "text/markdown": [
       "126.846153846154"
      ],
      "text/plain": [
       "[1] 126.8462"
      ]
     },
     "metadata": {},
     "output_type": "display_data"
    }
   ],
   "source": [
    "#1. \n",
    "print(\"number of gears between manual and automatic is different:\")\n",
    "print(\"average gears of automatic\")\n",
    "mean(mtcars[mtcars$am==0,]$gear)\n",
    "print(\"average gears of manual\")\n",
    "mean(mtcars[mtcars$am==1,]$gear)\n",
    "\n",
    "#2. \n",
    "print(\"number of disp between manual and automatic is different:\")\n",
    "print(\"average disp of automatic\")\n",
    "mean(mtcars[mtcars$am==0,]$disp)\n",
    "print(\"average disp of manual\")\n",
    "mean(mtcars[mtcars$am==1,]$disp)\n",
    "\n",
    "#3. \n",
    "print(\"number of disp between manual and automatic is different:\")\n",
    "print(\"average horsepower of automatic\")\n",
    "mean(mtcars[mtcars$am==0,]$hp)\n",
    "print(\"average horsepower of manual\")\n",
    "mean(mtcars[mtcars$am==1,]$hp)"
   ]
  },
  {
   "cell_type": "code",
   "execution_count": null,
   "metadata": {
    "collapsed": true
   },
   "outputs": [],
   "source": []
  }
 ],
 "metadata": {
  "anaconda-cloud": {},
  "kernelspec": {
   "display_name": "R",
   "language": "R",
   "name": "ir"
  },
  "language_info": {
   "codemirror_mode": "r",
   "file_extension": ".r",
   "mimetype": "text/x-r-source",
   "name": "R",
   "pygments_lexer": "r",
   "version": "3.3.2"
  }
 },
 "nbformat": 4,
 "nbformat_minor": 1
}
