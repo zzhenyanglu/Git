{
 "cells": [
  {
   "cell_type": "markdown",
   "metadata": {},
   "source": [
    "# Homework 4 \n",
    "\n",
    "## Zhenyang Lu"
   ]
  },
  {
   "cell_type": "markdown",
   "metadata": {},
   "source": [
    "# question 1\n",
    "\n",
    "(a) \n",
    "\n",
    "$f_x(X) = \\int_{0}^{1-2x} 24x dy = 24xy |^{1-2x}_0 = 24x(1-2x), 0 \\leq x \\leq \\frac{1}{2}$\n",
    "\n",
    "$f_y(Y) = \\int_{0}^{\\frac{1-y}{2}} 24x dx = 12^2 |^{(1-y)/2}_0 = 3(1-y)^2, 0 \\leq y \\leq 1$\n",
    "\n",
    "\n",
    "(b)\n",
    "\n",
    "No, they are not independent, because $f(x,y) \\neq f_y(y)*f_x(x)$\n",
    "\n",
    "\n",
    "(c)\n",
    "\n",
    "$E[X]=\\int_0^{1/2} x f_x(x)dx = \\int_0^{1/2} x*24x*(1-2x) dx = \\int_0^{1/2} (24x^2 - 48x^3)dx = 8x^3 - 12x^4 |_0^{1/2} = \\frac{1}{4}$ \n",
    "\n",
    "$E[Y]=\\int_0^{1} = y*3(1-y)^2 dy = \\int_0^1 (3y^3-6y^2+3y)dy = (\\frac{3y^4}{4} - 2y^3+\\frac{3y^2}{2})|^1_0  = \\frac{1}{4}$\n",
    "\n",
    "(d) \n",
    "\n",
    "$f_{Y|X=x} = \\frac{f(x,y)}{f_x(x)} = \\frac{24x}{24(1-2x)} = \\frac{1}{1-2x}, 0 \\leq y \\leq 1-2x$\n",
    "\n",
    "(e)\n",
    "\n",
    "$E[Y|X=x] = \\int f_{Y|X=x} *y*dy =\\int^{1-2x}_0 \\frac{y}{1-2x} dy=  \\frac{y^2}{2(1-2x)}|^{1-2x}_0 = \\frac{1}{2}-x, 0 \\leq y \\leq 1-2x$ "
   ]
  },
  {
   "cell_type": "code",
   "execution_count": 2,
   "metadata": {
    "collapsed": false
   },
   "outputs": [
    {
     "data": {
      "text/html": [
       "0.2"
      ],
      "text/latex": [
       "0.2"
      ],
      "text/markdown": [
       "0.2"
      ],
      "text/plain": [
       "[1] 0.2"
      ]
     },
     "metadata": {},
     "output_type": "display_data"
    },
    {
     "data": {
      "image/png": "[encoded data removed]",
      "text/plain": [
       "plot without title"
      ]
     },
     "metadata": {},
     "output_type": "display_data"
    }
   ],
   "source": [
    "# (f)\n",
    "\n",
    "f = function(x){1/2 - x;}\n",
    "f(0.3);\n",
    "curve(f,0,1,n=1000)"
   ]
  },
  {
   "cell_type": "markdown",
   "metadata": {},
   "source": [
    "(g)\n",
    "\n",
    "$E[E[Y|X=x]] =  \\int E[Y|X=x] fx(x)dx = \\int ^{0.5}_0 12x(1-2x)^2 dx = 12x^4 -16x^3 +6x^2|^{0.5}_0 = 0.25 $"
   ]
  },
  {
   "cell_type": "markdown",
   "metadata": {},
   "source": [
    "# Question 2\n",
    "\n",
    "(a)\n",
    "\n",
    "$P(X>Y) = \\int _0^1dx \\int^x_0 \\frac{6(x+y)^2}{7} dy =  \\int^1_0 \\frac{2}{7} (x+y)^3 dx= \\frac{2}{7} \\int_0^1 7x^3 = \\frac{1}{2} x^4 |^1_0 = 1/2$\n",
    "\n",
    "$P(X+Y \\leq 1) = \\int^{1/2}_0 dx \\int^{1-x}_0 \\frac{6}{7}(x+y)^2dy = \\int^1_0 dx*(\\frac{2(x+y)^3}{7}|^{1-x}_0) = \\frac{2}{7} \\int^1_0 (1-x^3)dx = \\frac{2}{7}(x-\\frac{x^4}{4})|^1_0 = 3/14$\n",
    "\n",
    "$P(X\\leq 1/2) = \\int^{1/2}_0 dx \\int_0^1 \\frac{6}{7}(x+y)^2 dy = \\int_0^{1/2} dx(\\frac{2}{7}(x+y)^3|^1_0) = \\int^1_0 \\frac{2}{7} (3x^2 + 3x +1)dx = \\frac{2}{7} (x^3 + 3/2x^2+x)|^{1/2}_0 = 2/7$\n",
    "\n",
    "\n",
    "(b)\n",
    "\n",
    "$f_x(x) = \\int_0^1 f(x,y)dy = \\int_0^1 \\frac{6(x+y)^2}{7} = \\frac{2}{7}(x+y)^3|^1_0 = \\frac{2}{7} (3x^2 + 3x +1)$\n",
    "\n",
    "$f_y(y) = \\int_0^1 f(x,y)dx = \\int_0^1 \\frac{6(x+y)^2}{7} = \\frac{2}{7}(x+y)^3|^1_0 = \\frac{2}{7} (3y^2 + 3y +1)$\n",
    "\n",
    "(c)\n",
    "\n",
    "they are not independent, because $f(x,y) \\neq f_y * f_x $\n",
    "\n",
    "(d)\n",
    "\n",
    "$f_{x|Y=y} = \\frac{3(x+y)^2}{(3y^2 + 3y +1)}, 0 \\leq x \\leq 1, 0 \\leq x \\leq 1$ \n",
    "\n",
    "$f_{y|X=x} = \\frac{3(x+y)^2}{(3x^2 + 3x +1)}, 0 \\leq x \\leq 1, 0 \\leq y \\leq 1$ \n",
    "\n",
    "(e)\n",
    "\n",
    "$E(XY) = \\int\\int xy f(x,y) dx dy = \\int_0^1 \\int_0^1 \\frac{6}{7} (x+y)^2 dx dy = \\frac{6}{7} \\int_0^1 (x^3/2 + (2/3)x^2+(1/4)x) dx = \\frac{6}{7} ((1/8)x^4 + (2/9)x^3+(1/8)x^2)|_0^1=\\frac{34}{84} $\n",
    "\n",
    "\n",
    "$E(X) = \\frac{2}{7} \\int_0^1(3x^3 +3x^2+x)dx = \\frac{2}{7}  ((3/4)x^4 + x^3 + (1/2)x^2)|_0^1 = \\frac {9}{14}$\n",
    "\n",
    "$E(y) = \\frac{2}{7} \\int_0^1(3y^3 +3y^2+y)dy = \\frac{2}{7}  ((3/4)y^4 + y^3 + (1/2)y^2)|_0^1 = \\frac {9}{14}$\n",
    "\n",
    "Cov(X,Y) = E(XY) - E(X)E(Y) = 34/84 - (9/14)^2 = -0.0085034\n",
    "\n",
    "\n",
    "(f) \n",
    "\n",
    "$ E(X^2) = \\int_0^1 f_x(x)*x^2 dx = \\frac{2}{7} \\int_0^1 (3x^4+3x^3 +x^2)dx = 0.4809524 $\n",
    "\n",
    "$ E(Y^2) = \\int_0^1 f_y(y)*y^2 dx = \\frac{2}{7} \\int_0^1 (3y^4+3y^3 +y^2)dy = 0.4809524 $\n",
    "\n",
    "Var(x) = E(X^2) - E(X)^2 = 0.067687\n",
    "\n",
    "Var(y) = E(Y^2) - E(Y)^2 = 0.067687\n",
    "\n",
    "Corr(x,y) = Cov(x,y)/(std(x)*std(y)) = -0.0085/0.1209524 = -0.07027558\n",
    "\n",
    "\n",
    "(g) \n",
    "\n",
    "$E[Y|X=x] = \\int f_{Y|X=x}(y) *y *dx = \\frac{1}{x^2+x+1/3} \\int y*(x+y)^2 dy = \\frac{\\frac{x^2}{2} + \\frac{2x}{3} + \\frac{1}{4}}{x^2+x+1/3}$\n",
    "\n",
    "\n",
    "(h)\n",
    "\n",
    "linear correlation is not a good measure of the non-linear dependence of two variables. Kendall's and Spearman's correlation coefficient should be used to measure non-linear variables.\n",
    "\n"
   ]
  },
  {
   "cell_type": "markdown",
   "metadata": {},
   "source": [
    "# question 3\n",
    "\n",
    "since x ~ U(-1,1),  $ f_x(x) = 1/2 $\n",
    "\n",
    "$ E(XY) = E(X^3) = \\int_0^1 x^3* \\frac{1}{2} dx = (1/8)x^4 |_{-1}^1 = 0$\n",
    "\n",
    "$ E(X) = \\int_0^1 x* \\frac{1}{2} dx = (1/4)x^2 |_{-1}^1 = 0$ \n",
    "\n",
    "$ E(Y) = E(X^2) = \\int_0^1 x^2* \\frac{1}{2} =  (1/6)x^3 |_{-1}^1 = 1/3 $\n",
    "\n",
    "So Cov(X,Y) = E(XY)-E(X)E(Y) = 0, which means $  Corr(X,Y) = E(XY) -E(X)E(Y) = 0 $ \n",
    "\n",
    "However, X and Y are not independent because $ Y=X^2 $, so if we know what X is, we immediately know what Y is for sure, and vice versa holds true as well. For example, if we know Y = 1, then we can infer that X = -1 or 1.  "
   ]
  },
  {
   "cell_type": "markdown",
   "metadata": {},
   "source": [
    "# Question 4\n",
    "\n",
    "NOTICE: \n",
    "\n",
    "S must take X and Y as arguments. \n",
    "\n",
    "P must take px and py as arguments."
   ]
  },
  {
   "cell_type": "code",
   "execution_count": 3,
   "metadata": {
    "collapsed": false
   },
   "outputs": [
    {
     "data": {
      "text/html": [
       "<ol class=list-inline>\n",
       "\t<li>0.343</li>\n",
       "\t<li>0.441</li>\n",
       "\t<li>0.189</li>\n",
       "\t<li>0.027</li>\n",
       "</ol>\n"
      ],
      "text/latex": [
       "\\begin{enumerate*}\n",
       "\\item 0.343\n",
       "\\item 0.441\n",
       "\\item 0.189\n",
       "\\item 0.027\n",
       "\\end{enumerate*}\n"
      ],
      "text/markdown": [
       "1. 0.343\n",
       "2. 0.441\n",
       "3. 0.189\n",
       "4. 0.027\n",
       "\n",
       "\n"
      ],
      "text/plain": [
       "[1] 0.343 0.441 0.189 0.027"
      ]
     },
     "metadata": {},
     "output_type": "display_data"
    },
    {
     "data": {
      "text/html": [
       "<ol class=list-inline>\n",
       "\t<li>0.0256</li>\n",
       "\t<li>0.1536</li>\n",
       "\t<li>0.3456</li>\n",
       "\t<li>0.3456</li>\n",
       "\t<li>0.1296</li>\n",
       "</ol>\n"
      ],
      "text/latex": [
       "\\begin{enumerate*}\n",
       "\\item 0.0256\n",
       "\\item 0.1536\n",
       "\\item 0.3456\n",
       "\\item 0.3456\n",
       "\\item 0.1296\n",
       "\\end{enumerate*}\n"
      ],
      "text/markdown": [
       "1. 0.0256\n",
       "2. 0.1536\n",
       "3. 0.3456\n",
       "4. 0.3456\n",
       "5. 0.1296\n",
       "\n",
       "\n"
      ],
      "text/plain": [
       "[1] 0.0256 0.1536 0.3456 0.3456 0.1296"
      ]
     },
     "metadata": {},
     "output_type": "display_data"
    }
   ],
   "source": [
    "# marginal distribution \n",
    "\n",
    "s=expand.grid(X=0:3,Y=0:4)\n",
    "p=expand.grid(px=dbinom(0:3,3,0.3),py=dbinom(0:4,4,0.6));p$pxy=p$px*p$py\n",
    "p=p$pxy\n",
    "\n",
    "marginal=function(S,P,x)\n",
    "{\n",
    "  t=cbind(S,P);\n",
    "  marginal_t = vector(\"numeric\"); \n",
    "\n",
    "  if(x==\"X\")\n",
    "  {\n",
    "    for (i in unique(t$X))\n",
    "    {\n",
    "      marginal_t= append(marginal_t,sum(t[t$X == i,]$P));\n",
    "    }\n",
    "  }\n",
    "  \n",
    "  else \n",
    "  {\n",
    "    for (i in unique(t$Y))\n",
    "      {\n",
    "        marginal_t= append(marginal_t,sum(t[t$Y == i,]$P));\n",
    "      }\n",
    "  }\n",
    "  \n",
    "  return(marginal_t);\n",
    "}\n",
    "\n",
    "marginal(s,p,'X')\n",
    "marginal(s,p,'Y')"
   ]
  },
  {
   "cell_type": "code",
   "execution_count": 9,
   "metadata": {
    "collapsed": false
   },
   "outputs": [
    {
     "data": {
      "text/html": [
       "0.9"
      ],
      "text/latex": [
       "0.9"
      ],
      "text/markdown": [
       "0.9"
      ],
      "text/plain": [
       "[1] 0.9"
      ]
     },
     "metadata": {},
     "output_type": "display_data"
    },
    {
     "data": {
      "text/html": [
       "2.4"
      ],
      "text/latex": [
       "2.4"
      ],
      "text/markdown": [
       "2.4"
      ],
      "text/plain": [
       "[1] 2.4"
      ]
     },
     "metadata": {},
     "output_type": "display_data"
    }
   ],
   "source": [
    "# marginal expected_value\n",
    "\n",
    "s=expand.grid(X=0:3,Y=0:4)\n",
    "p=expand.grid(px=dbinom(0:3,3,0.3),py=dbinom(0:4,4,0.6));p$pxy=p$px*p$py\n",
    "p=p$pxy\n",
    "\n",
    "marginal_expected_value=function(S,P,x)\n",
    "{\n",
    "  t=cbind(S,P)\n",
    "  if(x==\"X\"){return(sum(unique(t$X)*marginal(s,p,\"X\")));}\n",
    "  else{return(sum(unique(t$Y)*marginal(s,p,\"Y\")));}\n",
    "}\n",
    "\n",
    "marginal_expected_value(s,p,\"X\")\n",
    "marginal_expected_value(s,p,\"Y\")"
   ]
  },
  {
   "cell_type": "code",
   "execution_count": 10,
   "metadata": {
    "collapsed": false
   },
   "outputs": [
    {
     "data": {
      "text/html": [
       "2.16"
      ],
      "text/latex": [
       "2.16"
      ],
      "text/markdown": [
       "2.16"
      ],
      "text/plain": [
       "[1] 2.16"
      ]
     },
     "metadata": {},
     "output_type": "display_data"
    }
   ],
   "source": [
    "# joint expected_value(for the covariance calculation)\n",
    "\n",
    "s=expand.grid(X=0:3,Y=0:4)\n",
    "p=expand.grid(px=dbinom(0:3,3,0.3),py=dbinom(0:4,4,0.6));p$pxy=p$px*p$py\n",
    "p=p$pxy\n",
    "\n",
    "joint_expected_value=function(S,P)\n",
    "{\n",
    "  t=cbind(S,P);\n",
    "  sum(t$X*t$Y*t$P);\n",
    "}\n",
    "\n",
    "joint_expected_value(s,p)"
   ]
  },
  {
   "cell_type": "code",
   "execution_count": 11,
   "metadata": {
    "collapsed": false
   },
   "outputs": [
    {
     "data": {
      "text/html": [
       "0.63"
      ],
      "text/latex": [
       "0.63"
      ],
      "text/markdown": [
       "0.63"
      ],
      "text/plain": [
       "[1] 0.63"
      ]
     },
     "metadata": {},
     "output_type": "display_data"
    },
    {
     "data": {
      "text/html": [
       "0.960000000000002"
      ],
      "text/latex": [
       "0.960000000000002"
      ],
      "text/markdown": [
       "0.960000000000002"
      ],
      "text/plain": [
       "[1] 0.96"
      ]
     },
     "metadata": {},
     "output_type": "display_data"
    }
   ],
   "source": [
    "# variance \n",
    "\n",
    "s=expand.grid(X=0:3,Y=0:4)\n",
    "p=expand.grid(px=dbinom(0:3,3,0.3),py=dbinom(0:4,4,0.6));p$pxy=p$px*p$py\n",
    "p=p$pxy\n",
    "\n",
    "variance=function(S,P,x)\n",
    "{\n",
    "  t=cbind(S,P);\n",
    "\n",
    "  if(x==\"X\")\n",
    "  {\n",
    "    sum(unique(t$X)^2*marginal(s,p,\"X\")) - marginal_expected_value(S,P,\"X\")^2;\n",
    "  }\n",
    "  \n",
    "  else\n",
    "  {\n",
    "    sum(unique(t$Y)^2*marginal(s,p,\"Y\")) - marginal_expected_value(S,P,\"Y\")^2;\n",
    "  }\n",
    "}\n",
    "\n",
    "variance(s,p,\"X\")\n",
    "variance(s,p,\"Y\")\n"
   ]
  },
  {
   "cell_type": "code",
   "execution_count": 12,
   "metadata": {
    "collapsed": false
   },
   "outputs": [
    {
     "data": {
      "text/html": [
       "4.44089209850063e-16"
      ],
      "text/latex": [
       "4.44089209850063e-16"
      ],
      "text/markdown": [
       "4.44089209850063e-16"
      ],
      "text/plain": [
       "[1] 4.440892e-16"
      ]
     },
     "metadata": {},
     "output_type": "display_data"
    }
   ],
   "source": [
    "# covariance \n",
    "\n",
    "s=expand.grid(X=0:3,Y=0:4)\n",
    "p=expand.grid(px=dbinom(0:3,3,0.3),py=dbinom(0:4,4,0.6));p$pxy=p$px*p$py\n",
    "p=p$pxy\n",
    "\n",
    "covariance=function(S,P,x)\n",
    "{\n",
    "  t=cbind(S,P);\n",
    "  joint_expected_value(S,P) - marginal_expected_value(S,P,\"X\")*marginal_expected_value(S,P,\"Y\");\n",
    "}\n",
    "\n",
    "# call covariance, which is 0, because E(XY) = E(X)E(Y), which coincides with the fact that X and Y are indepedently created. \n",
    "covariance(s,p)\n"
   ]
  },
  {
   "cell_type": "code",
   "execution_count": null,
   "metadata": {
    "collapsed": true
   },
   "outputs": [],
   "source": []
  }
 ],
 "metadata": {
  "anaconda-cloud": {},
  "kernelspec": {
   "display_name": "R",
   "language": "R",
   "name": "ir"
  },
  "language_info": {
   "codemirror_mode": "r",
   "file_extension": ".r",
   "mimetype": "text/x-r-source",
   "name": "R",
   "pygments_lexer": "r",
   "version": "3.3.2"
  }
 },
 "nbformat": 4,
 "nbformat_minor": 1
}
